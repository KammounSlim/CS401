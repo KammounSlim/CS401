{
 "cells": [
  {
   "cell_type": "code",
   "execution_count": 24,
   "metadata": {},
   "outputs": [
    {
     "name": "stdout",
     "output_type": "stream",
     "text": [
      "[nltk_data] Downloading package stopwords to\n",
      "[nltk_data]     C:\\Users\\Slim\\AppData\\Roaming\\nltk_data...\n",
      "[nltk_data]   Package stopwords is already up-to-date!\n"
     ]
    }
   ],
   "source": [
    "#As always, we import everything\n",
    "import pandas as pd\n",
    "import os\n",
    "import re\n",
    "import hdf5_getters as getters\n",
    "import requests\n",
    "from bs4 import BeautifulSoup\n",
    "import numpy as np\n",
    "from collections import OrderedDict\n",
    "from tqdm import tqdm\n",
    "import nltk\n",
    "nltk.download('stopwords')\n",
    "from nltk import word_tokenize\n",
    "from nltk.corpus import stopwords as stop_words\n",
    "from textblob import Word\n",
    "import pycountry\n",
    "from textblob import TextBlob\n",
    "from textblob.sentiments import NaiveBayesAnalyzer\n",
    "from gensim import corpora, models\n",
    "import matplotlib as plt\n",
    "import json\n",
    "import pickle\n",
    "import lyricfetcher\n",
    "import csv\n",
    "import urllib\n",
    "from urllib.request import urlopen, HTTPError\n",
    "\n",
    "import warnings\n",
    "warnings.filterwarnings('ignore')"
   ]
  },
  {
   "cell_type": "markdown",
   "metadata": {},
   "source": [
    "# README"
   ]
  },
  {
   "cell_type": "markdown",
   "metadata": {},
   "source": [
    "For the data collection, we have based ourselves on the Million Song Dataset. From this huge data, we are only interested in four attributes:\n",
    "- The track id\n",
    "- The artist name\n",
    "- The year\n",
    "- The title\n",
    "\n",
    "In addition to that, we are also interested in the genre of the songs. Luckily, in the Million Song Dataset website, there is already a dataset with the track id and the genre. Thus, we downloaded the corresponding file. We have the genre information for around 191'000 songs. Moreover, we have direct access to the 4 attributes through an additional dataset of around 500'000 songs provided in the Million song website. \n",
    "\n",
    "We decide to limit our analysis on this dataset for two reasons. First, manipulating the whole million songs dataset is both time consuming and would require the use of the cluster. Second, after a fast and simple instruction, we discovered that around 150'000 of the genre id are already in the subset we have found.\n",
    "\n",
    "Next, we use some APIs to scrap and collect the lyrics on several websites. However, we could not scrape all of our dataset so far, as one scraping operation takes more than 1 second. The whole scraping of the full set would take more than 55 hours, so we will have to find a method to perform it. The success rate of the scraping code on the 200 more recent songs of the data set was 129/200, which is fair but can still be raised by doing more string processing, for instance removing the \"(live)\" or \"(album version)\" strings. For the oldest songs, the success of the scraping is near 0, as the old songs are not usually found in the lyrics websites. This is not a major problem since as shown in our analysis later, the vast majority of the songs are recent ones.\n",
    "Alternatively, we can use an additional dataset from the million song website containing bag of words data. We would like to avoid this alternative as it is a simple count of words in the songs and it removes them from the context in the songs.\n",
    "\n",
    "In our notebook, we have performed a first descriptive analysis of the merged datasets. The big proportion ( 41%) of the songs' genre is rock. Moreover, although the values of the year attribute range from 1920 to 2010, 91% of the tracks are from the 1980 to 2010. We believe this is due to the rapid growth of Rock from its birth in the fifties to achieve more than 50% of the music industry in the 70s to 80s. In our notebook, we have a plot showing this evolution. In our analysis, due to the genre unbalance, we will use a random subset of the rock music ( or the decade) to balance out the classes."
   ]
  },
  {
   "cell_type": "markdown",
   "metadata": {},
   "source": [
    "# Data Collection and Descriptive Analysis"
   ]
  },
  {
   "cell_type": "code",
   "execution_count": 2,
   "metadata": {},
   "outputs": [],
   "source": [
    "data_dir = './' + 'data'"
   ]
  },
  {
   "cell_type": "markdown",
   "metadata": {},
   "source": [
    "Using an additional dataset obtained from the million song website that contains genre information, we created genre_dataset. This dataset contains genre information for 191401 songs. The cell below contains code for putting this data into a proper-formatted dataframe. Another helpful dataset obtained from the website of million song dataset is one that contains year the track was released. In addition to year, it also contains track_id, the name of the artist, and title of the track. This dataset contains 515576 data points. Since we wanted to analyze the progression of feminism through lyrics over time, and we were also interested in how women were portrayed in different genres of music, we decided to take the intersection of these datasets (inner join on track ID), and the resulting data frame contains 152793 data points. We save it to a csv file for accessing in the future. "
   ]
  },
  {
   "cell_type": "code",
   "execution_count": 3,
   "metadata": {},
   "outputs": [
    {
     "data": {
      "text/html": [
       "<div>\n",
       "<style scoped>\n",
       "    .dataframe tbody tr th:only-of-type {\n",
       "        vertical-align: middle;\n",
       "    }\n",
       "\n",
       "    .dataframe tbody tr th {\n",
       "        vertical-align: top;\n",
       "    }\n",
       "\n",
       "    .dataframe thead th {\n",
       "        text-align: right;\n",
       "    }\n",
       "</style>\n",
       "<table border=\"1\" class=\"dataframe\">\n",
       "  <thead>\n",
       "    <tr style=\"text-align: right;\">\n",
       "      <th></th>\n",
       "      <th>year</th>\n",
       "      <th>artist_name</th>\n",
       "      <th>title</th>\n",
       "      <th>genre</th>\n",
       "    </tr>\n",
       "    <tr>\n",
       "      <th>track_id</th>\n",
       "      <th></th>\n",
       "      <th></th>\n",
       "      <th></th>\n",
       "      <th></th>\n",
       "    </tr>\n",
       "  </thead>\n",
       "  <tbody>\n",
       "    <tr>\n",
       "      <th>TRSGHLU128F421DF83</th>\n",
       "      <td>1922</td>\n",
       "      <td>alberta hunter</td>\n",
       "      <td>don't pan me</td>\n",
       "      <td>Blues</td>\n",
       "    </tr>\n",
       "    <tr>\n",
       "      <th>TRRAHXQ128F42511FF</th>\n",
       "      <td>1922</td>\n",
       "      <td>barrington levy</td>\n",
       "      <td>looking my love</td>\n",
       "      <td>Reggae</td>\n",
       "    </tr>\n",
       "    <tr>\n",
       "      <th>TRFAFTK12903CC77B8</th>\n",
       "      <td>1922</td>\n",
       "      <td>barrington levy</td>\n",
       "      <td>warm and sunny day</td>\n",
       "      <td>Reggae</td>\n",
       "    </tr>\n",
       "    <tr>\n",
       "      <th>TRTRKSF12903CFEDD7</th>\n",
       "      <td>1924</td>\n",
       "      <td>vernon dalhart</td>\n",
       "      <td>wreck of the old 97</td>\n",
       "      <td>Country</td>\n",
       "    </tr>\n",
       "    <tr>\n",
       "      <th>TRQYSYF128F935F350</th>\n",
       "      <td>1925</td>\n",
       "      <td>bessie smith</td>\n",
       "      <td>careless love blues</td>\n",
       "      <td>Blues</td>\n",
       "    </tr>\n",
       "  </tbody>\n",
       "</table>\n",
       "</div>"
      ],
      "text/plain": [
       "                    year      artist_name                title    genre\n",
       "track_id                                                               \n",
       "TRSGHLU128F421DF83  1922   alberta hunter         don't pan me    Blues\n",
       "TRRAHXQ128F42511FF  1922  barrington levy      looking my love   Reggae\n",
       "TRFAFTK12903CC77B8  1922  barrington levy   warm and sunny day   Reggae\n",
       "TRTRKSF12903CFEDD7  1924   vernon dalhart  wreck of the old 97  Country\n",
       "TRQYSYF128F935F350  1925     bessie smith  careless love blues    Blues"
      ]
     },
     "execution_count": 3,
     "metadata": {},
     "output_type": "execute_result"
    }
   ],
   "source": [
    "# Resulting Dataset\n",
    "year_artist_name_title_genre = pd.read_csv(os.path.join(data_dir + \"/year_artist_name_title_genre.csv\")).set_index('track_id')\n",
    "year_artist_name_title_genre.head()"
   ]
  },
  {
   "cell_type": "code",
   "execution_count": 5,
   "metadata": {},
   "outputs": [
    {
     "data": {
      "text/plain": [
       "year           0\n",
       "artist_name    0\n",
       "title          0\n",
       "genre          0\n",
       "dtype: int64"
      ]
     },
     "execution_count": 5,
     "metadata": {},
     "output_type": "execute_result"
    }
   ],
   "source": [
    "year_artist_name_title_genre.isna().sum()"
   ]
  },
  {
   "cell_type": "markdown",
   "metadata": {},
   "source": [
    "No missing values !"
   ]
  },
  {
   "cell_type": "markdown",
   "metadata": {},
   "source": [
    "We are interested in seeing how many songs are present in each genre. "
   ]
  },
  {
   "cell_type": "code",
   "execution_count": 6,
   "metadata": {},
   "outputs": [
    {
     "name": "stdout",
     "output_type": "stream",
     "text": [
      "Rock          62344\n",
      "Electronic    18043\n",
      "Pop           11058\n",
      "Jazz          10662\n",
      "Rap            8156\n",
      "Metal          8035\n",
      "RnB            7692\n",
      "Country        6652\n",
      "Reggae         5475\n",
      "Blues          4228\n",
      "Folk           3484\n",
      "Punk           2739\n",
      "Latin          1954\n",
      "World          1384\n",
      "New Age         887\n",
      "Name: genre, dtype: int64\n"
     ]
    },
    {
     "data": {
      "text/plain": [
       "<matplotlib.axes._subplots.AxesSubplot at 0x2b9a8956240>"
      ]
     },
     "execution_count": 6,
     "metadata": {},
     "output_type": "execute_result"
    }
   ],
   "source": [
    "print(year_artist_name_title_genre['genre'].value_counts())\n",
    "\n",
    "# Visualizing the count using bar graph\n",
    "value_count_by_genre = year_artist_name_title_genre['genre'].value_counts().plot(kind = 'bar')\n",
    "value_count_by_genre"
   ]
  },
  {
   "cell_type": "code",
   "execution_count": 7,
   "metadata": {},
   "outputs": [
    {
     "data": {
      "text/plain": [
       "40.803"
      ]
     },
     "execution_count": 7,
     "metadata": {},
     "output_type": "execute_result"
    }
   ],
   "source": [
    "# Percentage of rock songs in the dataset\n",
    "\n",
    "round(100*year_artist_name_title_genre['genre'].value_counts()['Rock']/year_artist_name_title_genre['genre'].value_counts().sum(),3)"
   ]
  },
  {
   "cell_type": "markdown",
   "metadata": {},
   "source": [
    "We see an abundance of Rock music in this dataset as close to half of the songs (40.8 %) present are labelled as Rock music. We wonder why that is. Is Rock Music more likely to get labelled? (<- this is a joke). We suspect that this is due to the fast growth of Rock music during the 1990s and 2000s. We will explore the relationship between year and genre of music further to confirm our hypothesis. \n",
    "\n",
    "Let us first have a look at the count of music by time. Since it is impossible to visualize the count for every single year, we first group years into decades. Upon quick analysis we realize that the dataset contains music up to the year 2010. We consider 2010 a part of the 2000s. "
   ]
  },
  {
   "cell_type": "code",
   "execution_count": 8,
   "metadata": {},
   "outputs": [],
   "source": [
    "# create decade column\n",
    "year_artist_name_title_genre['decade'] = (year_artist_name_title_genre['year'] // 10) * 10\n",
    "\n",
    "# include year 2010 in the 2000s decade\n",
    "year_artist_name_title_genre['decade'] = np.where(year_artist_name_title_genre.year.isin(['2010']),'2000', \n",
    "                                                  year_artist_name_title_genre['decade'])"
   ]
  },
  {
   "cell_type": "code",
   "execution_count": 9,
   "metadata": {},
   "outputs": [
    {
     "data": {
      "text/plain": [
       "91.361"
      ]
     },
     "execution_count": 9,
     "metadata": {},
     "output_type": "execute_result"
    }
   ],
   "source": [
    "round(100*(year_artist_name_title_genre['decade'].value_counts()['2000'] + \\\n",
    "year_artist_name_title_genre['decade'].value_counts()['1990'] + \\\n",
    "year_artist_name_title_genre['decade'].value_counts()['1980']) / \\\n",
    "year_artist_name_title_genre['decade'].value_counts().sum(),3)"
   ]
  },
  {
   "cell_type": "markdown",
   "metadata": {},
   "source": [
    "91% of the tracks are from the eighties to 2010"
   ]
  },
  {
   "cell_type": "code",
   "execution_count": 10,
   "metadata": {},
   "outputs": [
    {
     "name": "stdout",
     "output_type": "stream",
     "text": [
      "2000    89699\n",
      "1990    36693\n",
      "1980    13201\n",
      "1970     8340\n",
      "1960     3580\n",
      "1950      944\n",
      "1940      138\n",
      "1930      111\n",
      "1920       87\n",
      "Name: decade, dtype: int64\n"
     ]
    },
    {
     "data": {
      "text/plain": [
       "<matplotlib.axes._subplots.AxesSubplot at 0x2b9a9e33518>"
      ]
     },
     "execution_count": 10,
     "metadata": {},
     "output_type": "execute_result"
    },
    {
     "data": {
      "image/png": "[encoded data removed]",
      "text/plain": [
       "<Figure size 432x288 with 1 Axes>"
      ]
     },
     "metadata": {
      "needs_background": "light"
     },
     "output_type": "display_data"
    }
   ],
   "source": [
    "# plot count using bar plot\n",
    "value_count_by_year = year_artist_name_title_genre['decade'].value_counts().plot(kind = 'bar')\n",
    "\n",
    "print(year_artist_name_title_genre['decade'].value_counts())\n",
    "value_count_by_year"
   ]
  },
  {
   "cell_type": "markdown",
   "metadata": {},
   "source": [
    "We see that there are very few data points earlier than 1970, which makes analysis over time biased. During the next few steps as we explore the relationship between genre and decade further, we only consider the time period of 1970 to 2010. "
   ]
  },
  {
   "cell_type": "code",
   "execution_count": 11,
   "metadata": {},
   "outputs": [
    {
     "data": {
      "text/plain": [
       "<matplotlib.legend.Legend at 0x2b9a8e3ab38>"
      ]
     },
     "execution_count": 11,
     "metadata": {},
     "output_type": "execute_result"
    },
    {
     "data": {
      "image/png": "[encoded data removed]",
      "text/plain": [
       "<Figure size 432x288 with 1 Axes>"
      ]
     },
     "metadata": {
      "needs_background": "light"
     },
     "output_type": "display_data"
    }
   ],
   "source": [
    "decade_genre = year_artist_name_title_genre[['decade', 'genre']].reset_index()\n",
    "\n",
    "decade_genre = decade_genre.loc[decade_genre['decade'].isin(['1970','1980','1990','2000'])]\n",
    "\n",
    "#print(decade_genre.groupby(['decade', 'genre']).size())\n",
    "plot_decade_genre = decade_genre.groupby(['decade', 'genre']).size().unstack().plot(kind='bar', stacked = True)\n",
    "plot_decade_genre.legend(bbox_to_anchor=(1.1, 1.05) )\n"
   ]
  },
  {
   "cell_type": "markdown",
   "metadata": {},
   "source": [
    "We see that Rock music grew significantly in 40 years. Rock, Electronic, and Pop are the most popular music during the 2000s, followed by metal and Rap. The next plot considers the genres individually, and illustrates their share in the music market over the period of 1970 to 2010. "
   ]
  },
  {
   "cell_type": "code",
   "execution_count": 12,
   "metadata": {},
   "outputs": [
    {
     "data": {
      "text/plain": [
       "<matplotlib.axes._subplots.AxesSubplot at 0x2b9a8e6a668>"
      ]
     },
     "execution_count": 12,
     "metadata": {},
     "output_type": "execute_result"
    },
    {
     "data": {
      "image/png": "[encoded data removed]",
      "text/plain": [
       "<Figure size 432x288 with 1 Axes>"
      ]
     },
     "metadata": {
      "needs_background": "light"
     },
     "output_type": "display_data"
    }
   ],
   "source": [
    "#print(decade_genre.groupby(['genre', 'decade']).size())\n",
    "decade_genre.groupby(['genre', 'decade']).size().unstack().plot(kind='bar', stacked = True)"
   ]
  },
  {
   "cell_type": "code",
   "execution_count": 13,
   "metadata": {},
   "outputs": [
    {
     "data": {
      "text/plain": [
       "<matplotlib.axes._subplots.AxesSubplot at 0x2b9a8ed5d68>"
      ]
     },
     "execution_count": 13,
     "metadata": {},
     "output_type": "execute_result"
    },
    {
     "data": {
      "image/png": "[encoded data removed]",
      "text/plain": [
       "<Figure size 432x288 with 1 Axes>"
      ]
     },
     "metadata": {
      "needs_background": "light"
     },
     "output_type": "display_data"
    }
   ],
   "source": [
    "# Evolution of Rock\n",
    "\n",
    "decade_rock = year_artist_name_title_genre.groupby(['genre','decade']).size()\n",
    "(100*decade_rock['Rock']/(year_artist_name_title_genre.groupby('decade').size())).plot()\n"
   ]
  },
  {
   "cell_type": "markdown",
   "metadata": {},
   "source": [
    "The plot is a bitt hard to read. The curve represents the percentage of rock tracks in our dataset through time. We can clearly see that it has increased drastically from the 60s to 2010. We believe that the slight decrease from 90s is due to the increasing success of RNB, rap, pop and Electronic music during that period."
   ]
  },
  {
   "cell_type": "code",
   "execution_count": 14,
   "metadata": {},
   "outputs": [
    {
     "data": {
      "text/plain": [
       "decade\n",
       "1920          NaN\n",
       "1930          NaN\n",
       "1940          NaN\n",
       "1950    16.313559\n",
       "1960    33.659218\n",
       "1970    51.762590\n",
       "1980    53.435346\n",
       "1990    38.936582\n",
       "2000    39.383940\n",
       "dtype: float64"
      ]
     },
     "execution_count": 14,
     "metadata": {},
     "output_type": "execute_result"
    }
   ],
   "source": [
    "100*decade_rock['Rock']/(year_artist_name_title_genre.groupby('decade').size())"
   ]
  },
  {
   "cell_type": "markdown",
   "metadata": {},
   "source": [
    "# Using the Bag of words model from musicXmatch"
   ]
  },
  {
   "cell_type": "code",
   "execution_count": 15,
   "metadata": {},
   "outputs": [],
   "source": [
    "# We read the text file line by line \n",
    "\n",
    "with open(os.path.join(data_dir, 'mxm_dataset_train.txt')) as f:\n",
    "    lines = f.readlines()"
   ]
  },
  {
   "cell_type": "code",
   "execution_count": 16,
   "metadata": {},
   "outputs": [],
   "source": [
    "# The 5'000 most used words sorted by overall occurences are in the 18th line. \n",
    "# We split the words by ',' to have a list of words\n",
    "\n",
    "words = lines[17][1:]\n",
    "words = words.split(',')"
   ]
  },
  {
   "cell_type": "code",
   "execution_count": 17,
   "metadata": {},
   "outputs": [
    {
     "data": {
      "text/plain": [
       "['i', 'the', 'you', 'to']"
      ]
     },
     "execution_count": 17,
     "metadata": {},
     "output_type": "execute_result"
    }
   ],
   "source": [
    "words[0:4]"
   ]
  },
  {
   "cell_type": "markdown",
   "metadata": {},
   "source": [
    "Now, for the rest of the file, we have, for each line, a track id and a list of tuplets. A tuplet ( key:value) consists of:\n",
    " - a key ( a number ) which represents the identifier of the word ( 1 means the 1st word in our words list etc ).\n",
    " - a value which is the occurences of the word in the track.\n",
    " \n",
    "In the following cells, we extract this information and we change the numbered keys to \"word keys\""
   ]
  },
  {
   "cell_type": "code",
   "execution_count": 18,
   "metadata": {},
   "outputs": [],
   "source": [
    "# First, we split to have a list of tracks\n",
    "\n",
    "bow = lines[18:]\n",
    "for i in range(0,len(bow)):\n",
    "    bow[i] = bow[i].split(',')"
   ]
  },
  {
   "cell_type": "code",
   "execution_count": 69,
   "metadata": {},
   "outputs": [],
   "source": [
    "# Uncomment this cell to have a look at the split data\n",
    "# Warning, it takes a lot of space in the cell\n",
    "\n",
    "# bow[1:4]"
   ]
  },
  {
   "cell_type": "markdown",
   "metadata": {},
   "source": [
    "For each track in bow and for each tuplet in the track, extract the key ( the numbers before ':') then replace it by the corresponding word"
   ]
  },
  {
   "cell_type": "code",
   "execution_count": 19,
   "metadata": {},
   "outputs": [],
   "source": [
    "for i in range(0,len(bow)):\n",
    "    for j in range(2,len(bow[i])):\n",
    "        '''\n",
    "        For each track in bow and for each tuplet in the track, extract the key ( the numbers before ':')\n",
    "        then replace it by the corresponding word\n",
    "        '''\n",
    "        key = bow[i][j][ 0 : bow[i][j].find(':') ]\n",
    "        bow[i][j] = bow[i][j].replace(key,words[int(key)-1])\n",
    "    # The last tuplet in each track has a line skip special character.\n",
    "    # The next code will take the last tuplet with the special character\n",
    "    bow[i][len(bow[i])-1] = bow[i][len(bow[i])-1][0:len(bow[i][len(bow[i])-1])-1]"
   ]
  },
  {
   "cell_type": "code",
   "execution_count": 20,
   "metadata": {},
   "outputs": [],
   "source": [
    "# Extract the track id \n",
    "\n",
    "track_id = []\n",
    "for i in range(0, len(bow)):\n",
    "    track_id.append(bow[i][0])"
   ]
  },
  {
   "cell_type": "markdown",
   "metadata": {},
   "source": [
    "# Lyrics scrapping code"
   ]
  },
  {
   "cell_type": "code",
   "execution_count": 21,
   "metadata": {},
   "outputs": [],
   "source": [
    "def scrape_lyrics(artists_list,songs_list):\n",
    "    '''\n",
    "    Main scrapping function\n",
    "    Input: lists of songs and their artists names \n",
    "    Output: list of lyrics of the songs and list of songs for which the scrapping did not succeed\n",
    "    In case the scrapping failed, lyrics are returned as empty strings\n",
    "    \n",
    "    The lyrics are scrapped from several websites:\n",
    "    - metrolyrics\n",
    "    If failed:\n",
    "    -azlyrics\n",
    "    If failed also:\n",
    "    - lyricswikia\n",
    "    And if it also failed:\n",
    "    - through the herokuapp online API (unknown source)\n",
    "    \n",
    "    '''\n",
    "    \n",
    "    lyrics_not_found = []\n",
    "    if (len(artists_list) == 0 or len(songs_list) == 0):\n",
    "        raise ValueError('The provided artists list or songs list is empty')\n",
    "        \n",
    "    elif (len(artists_list) != len(songs_list)):\n",
    "        print(\"artist list has len: \", len(artists_list))\n",
    "        print(\"songs list has len: \", len(songs_list))\n",
    "        raise ValueError('The provided artists and songs lists have different lenghts')\n",
    "        \n",
    "    else:\n",
    "        lyrics = []\n",
    "        \n",
    "        for i in tqdm(range(len(artists_list))):\n",
    "            try:\n",
    "                lyrics_metro = str(lyricfetcher.get_lyrics('metrolyrics',artists_list[i],songs_list[i]))\n",
    "                lyrics_metro = re.sub(r'[\\[].*?[\\]]', '', lyrics_metro.replace('\\n', ' '))\n",
    "                lyrics_metro = re.sub(',', '', lyrics_metro)\n",
    "\n",
    "                if (lyrics_metro == \"\" or len(lyrics_metro.split())<3):\n",
    "                    lyrics_az = str(lyricfetcher.get_lyrics('azlyrics',artists_list[i],songs_list[i]))\n",
    "                    lyrics_az = re.sub(r'[\\[].*?[\\]]', '', lyrics_az.replace('\\n', ' '))\n",
    "                    lyrics_az = re.sub(',', '', lyrics_az)\n",
    "\n",
    "                    if (lyrics_az == \"\" or len(lyrics_az.split())<3):\n",
    "                        lyrics_wikia = str(lyricfetcher.get_lyrics('lyricswikia',artists_list[i],songs_list[i]))\n",
    "                        lyrics_wikia = re.sub(r'[\\[].*?[\\]]', '', lyrics_wikia.replace('\\n', ' '))\n",
    "                        lyrics_wikia = re.sub(',', '', lyrics_wikia)\n",
    "                        \n",
    "                        if (lyrics_wikia == \"\" or len(lyrics_wikia.split())<3):\n",
    "                            try:\n",
    "                                lyrics_herokuapp = json.load(urllib.request.urlopen('http://lyric-api.herokuapp.com/api/find/' \n",
    "                                                                                + artists_list[i].replace(' ', '%20') + '/' \n",
    "                                                                                + songs_list[i].replace(' ', '%20') + '.html'))['lyric']\n",
    "                            except HTTPError:\n",
    "                                lyrics_herokuapp = ''\n",
    "                                \n",
    "                            lyrics_herokuapp = re.sub(r'[\\[].*?[\\]]', '', lyrics_herokuapp.replace('\\n', ' '))\n",
    "                            lyrics_herokuapp = re.sub(',', '', lyrics_herokuapp)\n",
    "                            \n",
    "                            if (lyrics_herokuapp == \"\" or len(lyrics_herokuapp.split())<3):\n",
    "                                lyrics.append(\"\")\n",
    "                                raise ValueError('No lyrics OR lyrics smaller or equal to 2 words found')\n",
    "                                \n",
    "                            else:\n",
    "                                lyrics.append(lyrics_herokuapp)\n",
    "                        else:\n",
    "                            lyrics.append(lyrics_wikia)\n",
    "                    else:\n",
    "                        lyrics.append(lyrics_az)\n",
    "\n",
    "                else:\n",
    "                    lyrics.append(lyrics_metro)\n",
    "                    \n",
    "            except ValueError:\n",
    "                lyrics_not_found.append([artists_list[i],songs_list[i]])\n",
    "                continue\n",
    "    return lyrics, lyrics_not_found"
   ]
  },
  {
   "cell_type": "code",
   "execution_count": 24,
   "metadata": {},
   "outputs": [
    {
     "name": "stdout",
     "output_type": "stream",
     "text": [
      "[]\n"
     ]
    }
   ],
   "source": [
    "'''\n",
    "Gets track ids already in csv file\n",
    "Avoid scraping lyrics when already attempted (if track id already in the csv file)\n",
    "New track ids and lyrics will be added rows BELOW the actual csv file, without deleting actual lyrics\n",
    "'''\n",
    "\n",
    "lyrics_csv_filename = os.path.join(data_dir + \"/lyrics_year_genre.csv\")\n",
    "\n",
    "check_for_already_scrapped = False # Set true or false\n",
    "\n",
    "if check_for_already_scrapped:\n",
    "    with open(lyrics_csv_filename, \"r\") as f:\n",
    "        reader = csv.reader(f)\n",
    "        try:\n",
    "            track_id_csvfile = next(reader)\n",
    "        except StopIteration:\n",
    "            track_id_csvfile = []\n",
    "            \n",
    "else:\n",
    "    f = open(lyrics_csv_filename, \"w\")\n",
    "    f.truncate()\n",
    "    f.close()\n",
    "    track_id_csvfile = []\n",
    "        \n",
    "print(track_id_csvfile)"
   ]
  },
  {
   "cell_type": "code",
   "execution_count": 22,
   "metadata": {},
   "outputs": [],
   "source": [
    "'''\n",
    "Gets track ids already in csv file\n",
    "Avoid scraping lyrics when already attempted (if track id already in the csv file)\n",
    "New track ids and lyrics will be added rows BELOW the actual csv file, without deleting actual lyrics\n",
    "'''\n",
    "\n",
    "lyrics_csv_filename = os.path.join(data_dir + \"/feminism_playlist.csv\")\n"
   ]
  },
  {
   "cell_type": "code",
   "execution_count": 22,
   "metadata": {},
   "outputs": [],
   "source": [
    "# compute list 'difference' in the sense of objects that are present in one list but not in the other one\n",
    "def diff(li1, li2): \n",
    "    return (list(set(li1) - set(li2))) "
   ]
  },
  {
   "cell_type": "code",
   "execution_count": 26,
   "metadata": {},
   "outputs": [
    {
     "ename": "UnicodeDecodeError",
     "evalue": "'charmap' codec can't decode byte 0x81 in position 1070: character maps to <undefined>",
     "output_type": "error",
     "traceback": [
      "\u001b[1;31m---------------------------------------------------------------------------\u001b[0m",
      "\u001b[1;31mUnicodeDecodeError\u001b[0m                        Traceback (most recent call last)",
      "\u001b[1;32m<ipython-input-26-ef896cf0d9ea>\u001b[0m in \u001b[0;36m<module>\u001b[1;34m\u001b[0m\n\u001b[0;32m      4\u001b[0m \u001b[1;32mwith\u001b[0m \u001b[0mopen\u001b[0m\u001b[1;33m(\u001b[0m\u001b[0mdata_dir\u001b[0m\u001b[1;33m+\u001b[0m\u001b[1;34m\"/feminism_playlist.csv\"\u001b[0m\u001b[1;33m,\u001b[0m \u001b[1;34m\"rt\"\u001b[0m\u001b[1;33m)\u001b[0m \u001b[1;32mas\u001b[0m \u001b[0mf\u001b[0m\u001b[1;33m:\u001b[0m\u001b[1;33m\u001b[0m\u001b[0m\n\u001b[0;32m      5\u001b[0m     \u001b[0mreader\u001b[0m \u001b[1;33m=\u001b[0m \u001b[0mcsv\u001b[0m\u001b[1;33m.\u001b[0m\u001b[0mreader\u001b[0m\u001b[1;33m(\u001b[0m\u001b[0mf\u001b[0m\u001b[1;33m,\u001b[0m \u001b[0mdelimiter\u001b[0m\u001b[1;33m=\u001b[0m\u001b[1;34m\"\\t\"\u001b[0m\u001b[1;33m)\u001b[0m\u001b[1;33m\u001b[0m\u001b[0m\n\u001b[1;32m----> 6\u001b[1;33m     \u001b[1;32mfor\u001b[0m \u001b[0mline\u001b[0m \u001b[1;32min\u001b[0m \u001b[0mreader\u001b[0m\u001b[1;33m:\u001b[0m\u001b[1;33m\u001b[0m\u001b[0m\n\u001b[0m\u001b[0;32m      7\u001b[0m         \u001b[0mlyrics_list\u001b[0m \u001b[1;33m+=\u001b[0m \u001b[0mline\u001b[0m\u001b[1;33m\u001b[0m\u001b[0m\n\u001b[0;32m      8\u001b[0m \u001b[0mlyrics_list\u001b[0m \u001b[1;33m=\u001b[0m \u001b[0mlyrics_list\u001b[0m\u001b[1;33m[\u001b[0m\u001b[1;36m2\u001b[0m\u001b[1;33m]\u001b[0m\u001b[1;33m\u001b[0m\u001b[0m\n",
      "\u001b[1;32m~\\Anaconda3\\lib\\encodings\\cp1252.py\u001b[0m in \u001b[0;36mdecode\u001b[1;34m(self, input, final)\u001b[0m\n\u001b[0;32m     21\u001b[0m \u001b[1;32mclass\u001b[0m \u001b[0mIncrementalDecoder\u001b[0m\u001b[1;33m(\u001b[0m\u001b[0mcodecs\u001b[0m\u001b[1;33m.\u001b[0m\u001b[0mIncrementalDecoder\u001b[0m\u001b[1;33m)\u001b[0m\u001b[1;33m:\u001b[0m\u001b[1;33m\u001b[0m\u001b[0m\n\u001b[0;32m     22\u001b[0m     \u001b[1;32mdef\u001b[0m \u001b[0mdecode\u001b[0m\u001b[1;33m(\u001b[0m\u001b[0mself\u001b[0m\u001b[1;33m,\u001b[0m \u001b[0minput\u001b[0m\u001b[1;33m,\u001b[0m \u001b[0mfinal\u001b[0m\u001b[1;33m=\u001b[0m\u001b[1;32mFalse\u001b[0m\u001b[1;33m)\u001b[0m\u001b[1;33m:\u001b[0m\u001b[1;33m\u001b[0m\u001b[0m\n\u001b[1;32m---> 23\u001b[1;33m         \u001b[1;32mreturn\u001b[0m \u001b[0mcodecs\u001b[0m\u001b[1;33m.\u001b[0m\u001b[0mcharmap_decode\u001b[0m\u001b[1;33m(\u001b[0m\u001b[0minput\u001b[0m\u001b[1;33m,\u001b[0m\u001b[0mself\u001b[0m\u001b[1;33m.\u001b[0m\u001b[0merrors\u001b[0m\u001b[1;33m,\u001b[0m\u001b[0mdecoding_table\u001b[0m\u001b[1;33m)\u001b[0m\u001b[1;33m[\u001b[0m\u001b[1;36m0\u001b[0m\u001b[1;33m]\u001b[0m\u001b[1;33m\u001b[0m\u001b[0m\n\u001b[0m\u001b[0;32m     24\u001b[0m \u001b[1;33m\u001b[0m\u001b[0m\n\u001b[0;32m     25\u001b[0m \u001b[1;32mclass\u001b[0m \u001b[0mStreamWriter\u001b[0m\u001b[1;33m(\u001b[0m\u001b[0mCodec\u001b[0m\u001b[1;33m,\u001b[0m\u001b[0mcodecs\u001b[0m\u001b[1;33m.\u001b[0m\u001b[0mStreamWriter\u001b[0m\u001b[1;33m)\u001b[0m\u001b[1;33m:\u001b[0m\u001b[1;33m\u001b[0m\u001b[0m\n",
      "\u001b[1;31mUnicodeDecodeError\u001b[0m: 'charmap' codec can't decode byte 0x81 in position 1070: character maps to <undefined>"
     ]
    }
   ],
   "source": [
    "csv.field_size_limit(100000000)\n",
    "\n",
    "lyrics_list = []\n",
    "with open(data_dir+\"/feminism_playlist.csv\", \"rt\") as f:\n",
    "    reader = csv.reader(f, delimiter=\"\\t\")\n",
    "    for line in reader:\n",
    "        lyrics_list += line\n",
    "lyrics_list = lyrics_list[2]\n",
    "lyrics_list\n",
    "\n",
    "tokens = nltk.word_tokenize(lyrics_list)\n",
    "\n",
    "from nltk.stem import PorterStemmer\n",
    "\n",
    "ps = PorterStemmer()\n",
    "stemmed_tokens = [ps.stem(token) for token in tokens] \n",
    "\n",
    "len(stemmed_tokens)\n",
    "\n",
    "from nltk.corpus import stopwords \n",
    "stop_words = set(stopwords.words('english'))\n",
    "filtered_sentence = [] \n",
    "  \n",
    "for w in stemmed_tokens: \n",
    "    if w not in stop_words: \n",
    "        filtered_sentence.append(w)\n",
    "        \n",
    "filtered_sentence\n",
    "\n",
    "from collections import Counter\n",
    "counts = Counter(filtered_sentence)\n",
    "counts.most_common(100)"
   ]
  },
  {
   "cell_type": "code",
   "execution_count": null,
   "metadata": {},
   "outputs": [],
   "source": []
  },
  {
   "cell_type": "code",
   "execution_count": 26,
   "metadata": {},
   "outputs": [
    {
     "name": "stdout",
     "output_type": "stream",
     "text": [
      "['hooch', 'clientapollas', 'thais', 'witch', 'gilf', 'lolita', 'gyal', 'ass', 'butterface', 'dudette', 'crockadillapig', 'mutton', 'cock-juggling', 'harridan', 'cumdump', 'toots', 'trixie', 'changa', 'sidebook', 'hogbeast', 'buttaface', 'yummy', 'foxy', 'tramp', 'prostitot', 'sorostitute', 'mami', 'cunt', 'shwaty', 'swallower', 'dog', 'honey-bun', 'flipper', 'chank', 'third-legger', 'bint', 'doenjang', 'mompreneut', 'lass', 'cuntee', 'hormonal', 'fugly', 'hag', 'sweetie', 'breezy', 'sauerkraut', 'butterhead', 'sheila', 'muff', 'queenpin', 'shit', 'harlot', 'spinster', 'becky', 'slut-shaming', 'female', 'filly', 'biddy', 'homegirl', 'poop', 'mif', 'slut', 'lumberjack', 'floozy', 'rat', 'whinging', 'tart', 'silly', 'whore', 'chicadee', 'squaw', 'poontang', 'muffdiver', 'shrill', 'bisnotch', 'sucker', 'bimho', 'fubugly', 'heifer', 'whooty', 'millihelen', 'pussy', 'ragamuffin', 'ballbreaker', 'cronk', 'streetwalker', 'cougar', 'manizer', 'pyt', 'high-maintenance', 'biddie', 'hussy', 'manster', 'yak', 'bag', 'kitten', 'beast', 'bimbo', 'strumpet', 'gangbang', 'bubbly', 'ditsy', 'hole', 'boseulachi', 'hustler', 'ballbuster', 'vagina', 'fem-fetale', 'termagant', 'sassy', 'milf', 'assmucus', 'frigid', 'cow', 'womyn', 'savage', 'girl', 'candy', 'thespian', 'puppet', 'frump', 'harpy', 'zhyd', 'floozie', 'rasp', 'hooker', 'poon', 'jumpoff', 'hay-bag', 'heina', 'skank', 'bird', 'pillow-biter', 'virago', 'mama', 'scud', 'wifey', 'fish', 'bossy', 'matronly', 'babe', 'ditz', 'carline', 'bitch', 'lubra', 'flange', 'hoe', 'fag', 'doll', 'minger', 'beav', 'mudpout', 'tranny', 'fashionista', 'battleaxe', 'jumper', 'skintern', 'bridezilla', 'dick', 'bushpig', 'bombshell', \"ma'am\", 'fuck-bitch', 'crone', 'wench', 'rib', 'beef', 'karena', 'tickle-tail', 'vamp', 'hoochie', 'escort', 'fucktoy', 'mole', 'tabby', 'dyke', 'girly', 'feisty', 'hunny', 'judy', 'booty', 'moll', 'chica', 'hoss', 'huzzie', 'ratchet', 'thot', 'rub', 'split-tail', 'hysterical', 'butch', 'sista', 'prostitue', 'teaser', 'cock', 'munter', 'breezie', 'twat', 'crow']\n"
     ]
    }
   ],
   "source": [
    "# From https://www.telegraph.co.uk/women/life/hag-harridan-crone-16-words-use-describe-older-women/\n",
    "\n",
    "degrading_terms = [\"battleaxe\",\"bint\",\"cougar\",\"crone\",\"frump\",\n",
    "                   \"hag\",\"harridan\",\"hormonal\",\"matronly\",\"milf\",\n",
    "                   \"mutton\",\"bag\",\"shrill\",\"spinster\",\"wench\",\"witch\"]\n",
    "\n",
    "# From https://en.wikipedia.org/wiki/Category:Misogynistic_slurs\n",
    "\n",
    "degrading_terms = degrading_terms + [\"becky\",\"bitch\",\"boseulachi\",\"cock\",\"crone\",\"cunt\",\"doenjang\",\n",
    "                                     \"poop\",\"dyke\",\"hag\",\"harpy\",\"slut\",\"slut-shaming\",\"squaw\",\n",
    "                                     \"termagant\",\"tranny\",\"twat\",\"virago\",\"zhyd\"]\n",
    "\n",
    "# From https://en.wikipedia.org/wiki/Category:Slang_terms_for_women\n",
    "\n",
    "degrading_terms = degrading_terms + [\"yummy\",\"trixie\",\"butch\",\"skintern\",\"kitten\",\"ratchet\",\"moll\"]\n",
    "\n",
    "# From https://www.macmillandictionary.com/thesaurus-category/british/insulting-words-for-a-woman\n",
    "\n",
    "degrading_terms = degrading_terms + [\"witch\",\"virago\",\"frump\",\"harridan\",\"bird\",\"candy\",\"wench\",\"girly\"]\n",
    "\n",
    "# Inspiration from https://sites.google.com/site/hiphopmusiclyrics/top-10-degrading-songs-towards-women\n",
    "\n",
    "degrading_terms = degrading_terms + [\"vagina\",\"ass\",\"shit\",\"hole\",\"dick\",\"pussy\"]\n",
    "\n",
    "# From http://onlineslangdictionary.com/lists/most-vulgar-words/\n",
    "\n",
    "degrading_terms = degrading_terms + [\"cock-juggling\",\"sucker\",\"cumdump\",\"assmucus\",\"fucktoy\",\"cuntee\",\n",
    "                                     \"gangbang\",\"fugly\",\"fubugly\",\"puppet\",\"fuck-bitch\"]\n",
    "\n",
    "# From https://en.wiktionary.org/wiki/Appendix:English_sexual_slurs\n",
    "\n",
    "degrading_terms = degrading_terms + [\"ballbreaker\",\"ballbuster\",\"beef\",\"clientapollas\",\"changa\",\"crow\",\n",
    "                                     \"dog\",\"dyke\",\"fag\",\"fish\",\"minger\",\"muffdiver\",\"munter\",\"pillow-biter\",\n",
    "                                     \"skank\",\"streetwalker\",\"swallower\",\"tabby\",\"teaser\",\"thais\",\n",
    "                                     \"thespian\",\"third-legger\",\"thot\",\"tickle-tail\",\"whore\"]\n",
    "\n",
    "# From https://ht.ac.uk/category/?type=search&word=women#id=39814\n",
    "\n",
    "degrading_terms = degrading_terms + [\"carline\",\"female\",\"rib\",\"biddy\",\"judy\",\"heifer\",\"hay-bag\",\"bint\",\"tart\",\n",
    "                                     \"babe\",\"muff\",\"lubra\"]\n",
    "\n",
    "# From https://www.huffingtonpost.ca/2013/09/10/offensive-words_n_3581599.html\n",
    "\n",
    "degrading_terms = degrading_terms + [\"buttaface\",\"fashionista\",\"mompreneut\",\"wifey\",\"sidebook\",\"booty\",\"feisty\",\n",
    "                                     \"shrill\",\"sweetie\",\"honey-bun\"]\n",
    "\n",
    "# From https://www.telegraph.co.uk/women/life/ambitious-frigid-and-frumpy-25-words-we-only-use-to-describe-wom/\n",
    "\n",
    "degrading_terms = degrading_terms + [\"bombshell\",\"bossy\",\"bridezilla\",\"bubbly\",\"silly\",\"ditsy\",\"frigid\",\"hormonal\",\n",
    "                                    \"high-maintenance\",\"hysterical\",\"sassy\",\"shrill\",\"whinging\"]\n",
    "\n",
    "# From http://onlineslangdictionary.com/thesaurus/words%2Bmeaning%2Bwoman%2C%2Bwomen%2C%2Bfemale.html\n",
    "\n",
    "degrading_terms = degrading_terms + [\"candy\",\"beast\",\"beav\",\"biddie\",\"biddy\",\"bimbo\",\"bimho\",\"bint\",\"bisnotch\",\n",
    "                                     \"breezie\",\"breezy\",\"bushpig\",\"butterface\",\"butterhead\",\"chank\",\"chica\",\"chicadee\",\"hoochie\",\n",
    "                                     \"cow\",\"crockadillapig\",\"cronk\",\"ditz\",\"doll\",\"dudette\",\"fem-fetale\",\"filly\",\n",
    "                                     \"flange\",\"flipper\",\"floozie\",\"floozy\",\"foxy\",\"gilf\",\"heina\",\"gyal\",\"hoe\",\"hogbeast\",\"homegirl\",\n",
    "                                     \"hooch\",\"girl\",\"hoochie\",\"hoss\",\"hunny\",\"hussy\",\"huzzie\",\"savage\",\"jumper\",\"jumpoff\",\"karena\",\"lass\",\n",
    "                                     \"lolita\",\"lumberjack\",\"ma'am\",\"mami\",\"manizer\",\"manster\",\"mif\",\"millihelen\",\"minger\",\"mole\",\"moll\",\n",
    "                                     \"mudpout\",\"poon\",\"poontang\",\"prostitot\",\"pyt\",\"queenpin\",\"ragamuffin\",\"rasp\",\"rat\",\"rub\",\"sauerkraut\",\"scud\",\n",
    "                                     \"kitten\",\"mama\",\"shwaty\",\"sheila\",\"sista\",\"skank\",\"sorostitute\",\"split-tail\",\"toots\",\"tramp\",\"whooty\",\"womyn\",\"yak\"]\n",
    "\n",
    "# From https://www.thesaurus.com/browse/slut\n",
    "\n",
    "degrading_terms = degrading_terms + [\"harlot\",\"prostitue\",\"hooker\",\"tart\",\"floozy\",\"vamp\",\"escort\",\"strumpet\",\"hustler\"]\n",
    "\n",
    "degrading_terms = list(set(degrading_terms))\n",
    "\n",
    "print(degrading_terms)"
   ]
  },
  {
   "cell_type": "code",
   "execution_count": 27,
   "metadata": {},
   "outputs": [],
   "source": [
    "negative_score = []\n",
    "\n",
    "for i in range(0,len(bow)):\n",
    "    neg_song=0\n",
    "    for j in range(2,len(bow[i])):\n",
    "        word = bow[i][j]\n",
    "        key = word[ 0 : word.find(':') ]\n",
    "        if(key in degrading_terms):\n",
    "            occurence = word[word.find(':')+1:]\n",
    "            neg_song += int(occurence)\n",
    "    negative_score = negative_score + [bow[i][0],neg_song]\n",
    "    "
   ]
  },
  {
   "cell_type": "code",
   "execution_count": 28,
   "metadata": {},
   "outputs": [],
   "source": [
    "dist = []\n",
    "for i in range(1,len(negative_score),2):\n",
    "    dist.append(negative_score[i])"
   ]
  },
  {
   "cell_type": "code",
   "execution_count": 29,
   "metadata": {},
   "outputs": [
    {
     "data": {
      "text/plain": [
       "<matplotlib.axes._subplots.AxesSubplot at 0x1f0e0deb668>"
      ]
     },
     "execution_count": 29,
     "metadata": {},
     "output_type": "execute_result"
    },
    {
     "data": {
      "image/png": "[encoded data removed]",
      "text/plain": [
       "<Figure size 432x288 with 1 Axes>"
      ]
     },
     "metadata": {
      "needs_background": "light"
     },
     "output_type": "display_data"
    }
   ],
   "source": [
    "pd.Series(dist).plot(kind='hist', bins = 100)"
   ]
  },
  {
   "cell_type": "code",
   "execution_count": 30,
   "metadata": {},
   "outputs": [
    {
     "name": "stdout",
     "output_type": "stream",
     "text": [
      "girl\n",
      "shit\n",
      "mama\n",
      "dog\n",
      "bird\n",
      "bitch\n",
      "babe\n",
      "hole\n",
      "ass\n",
      "bag\n",
      "beast\n",
      "fish\n",
      "hoe\n",
      "dick\n",
      "whore\n",
      "rat\n",
      "lass\n",
      "doll\n",
      "sucker\n",
      "witch\n",
      "crow\n",
      "cock\n",
      "rub\n",
      "chica\n",
      "cow\n",
      "mami\n",
      "puppet\n",
      "slut\n",
      "beef\n",
      "cunt\n"
     ]
    }
   ],
   "source": [
    "for i in range(0,len(words)):\n",
    "    if(words[i] in degrading_terms):\n",
    "        print(words[i])"
   ]
  },
  {
   "cell_type": "code",
   "execution_count": 36,
   "metadata": {},
   "outputs": [],
   "source": [
    "'''\n",
    "Gets track ids already in csv file\n",
    "Avoid scraping lyrics when already attempted (if track id already in the csv file)\n",
    "New track ids and lyrics will be added rows BELOW the actual csv file, without deleting actual lyrics\n",
    "'''\n",
    "\n",
    "lyrics_csv_filename = os.path.join(data_dir + \"/feminism_playlist.csv\")"
   ]
  },
  {
   "cell_type": "code",
   "execution_count": 28,
   "metadata": {},
   "outputs": [
    {
     "name": "stderr",
     "output_type": "stream",
     "text": [
      "100%|████████████████████████████████████████████████████████████████████████████████| 104/104 [00:13<00:00,  7.67it/s]\n"
     ]
    },
    {
     "name": "stdout",
     "output_type": "stream",
     "text": [
      "[['Beyoncé', 'Diva'], ['Janelle Monáe', 'Django Jane'], ['Janelle Monáe', 'Electric Lady'], ['Shane McAnally', 'Female'], ['Cookie Dingler', 'Femme libérée'], ['Beyoncé', 'Flawless'], ['Mary Chapin Carpenter', 'Girls with Guitars'], ['Beyoncé', 'If I Were a Boy'], ['Beyoncé', 'Irreplaceable']]\n",
      "Count of not found lyrics : 9\n"
     ]
    }
   ],
   "source": [
    "#Provide BELOW the full set of tracks you would like to get in final (XXX_to_scrape)\n",
    "#-----------------------------------------------------------------------------\n",
    "artists_to_scrape = [\"Sugababes\",\n",
    "                     \"Helen Reddy\",\n",
    "                     \"Gwen Guthrie\",\n",
    "                     \"Jennifer Lopez\",\n",
    "                     \"Tinashe\",\n",
    "                    \"Sheryl Crow\",\n",
    "                    \"Lisa Stansfield\",\n",
    "                     \"Ethel Merman\",\n",
    "                     \"Hole\", \n",
    "                       \"Geri Halliwell\",\n",
    "                       \"Hole\",\n",
    "                       \"Christina Aguilera\",\n",
    "                       \"Shakira\",\n",
    "                       \"Cardi B\",\n",
    "                       \"Destiny's Child\",\n",
    "                       \"Meredith Brooks\",\n",
    "                       \"Lupe Fiasco\",\n",
    "                       \"Little Mix\",\n",
    "                       \"Iggy Azalea\",\n",
    "                       \"Lady Gaga\",\n",
    "                       \"Fifth Harmony\",\n",
    "                       \"Kelis\",\n",
    "                       \"Peaches\",\n",
    "                       \"Girls' Generation\",\n",
    "                       \"Ariana Grande\",\n",
    "                       \"Tupac Shakur\",\n",
    "                       \"Alexandra Burke\",\n",
    "                       \"La Roux\"  \n",
    "                    ]\n",
    "titles_to_scrape = [\"About a Girl\", \n",
    "                    \"Ain't No Way to Treat a Lady\",\n",
    "                    \"Ain't Nothin' Goin' On but the Rent\",\n",
    "                    \"Ain't Your Mama\",\n",
    "                    \"All Hands on Deck\", \n",
    "                    \"All I Wanna Do\", \n",
    "                    \"All Woman\",\n",
    "                    \"Anything You Can Do (I Can Do Better)\",\n",
    "                    \"Asking for It\"]\n",
    "\n",
    "titles_to_scrape += [\"Bag It Up\",\n",
    "\"Be a Man\",\n",
    "\"Beautiful\",\n",
    "\"Beautiful Liar\",\n",
    "\"Bickenhead\",\n",
    "\"Bills, Bills, Bills\",\n",
    "\"Bitch\",\n",
    "\"Bitch Bad\",\n",
    "\"Black Magic\",\n",
    "\"Black Widow\",\n",
    "\"Born This Way\",\n",
    "\"Boss\",\n",
    "\"Bossy\",\n",
    "\"Boys Wanna Be Her\",\n",
    "\"The Boys\",\n",
    "\"Break Free\",\n",
    "\"Brenda's Got a Baby\",\n",
    "\"Broken Heels\",\n",
    "\"Bulletproof (La Roux song)\"]\n",
    "\n",
    "artists_to_scrape += [\"Blondie\",\"Christina Aguilera\",\"Kelly Clarkson\",\"All Saints\",\n",
    "                      \"i5\",\"Kelly Rowland\", \"Remy Ma\",\"Demi Lovato\",\"Janet Jackson\",\"Tori Amos\",\n",
    "                     \"TLC\",]\n",
    "titles_to_scrape += [\"Call Me\", \n",
    "\"Can't Hold Us Down\",\n",
    "\"Catch My Breath\",\n",
    "\"Chick Fit\",\n",
    "\"Cinderella\", \n",
    "\"Commander\",\n",
    "\"Conceited\", \n",
    "\"Confident\", \n",
    "\"Control\", \n",
    "\"Cornflake Girl\",\n",
    "\"Creep\"]\n",
    "\n",
    "artists_to_scrape += [\"Patti Smith\",\"2Pac\",\"Hole\",\"Beyoncé\",\"Janelle Monáe\",\"Jessie J\",\"Aretha Franklin\",\n",
    "                     \"Mary J. Blige\",\"Chris Janson\",\"Babes in Toyland\", \"Janelle Monáe\", \"Madonna\",\"Christina Aguilera\",\n",
    "                     \"Drake\",\"Janet Jackson\",\"Shane McAnally\",\"Cookie Dingler\",\"Bomshel\",\"Christina Aguilera\",\n",
    "                     \"Beyoncé\",\"Queenadreena\",\"Kacey Musgraves\",\"Nina Simone\"]\n",
    "titles_to_scrape += [\"Dancing Barefoot\",\"Dear Mama\",\"Dicknail\",\"Diva\",\"Django Jane\",\n",
    "                    \"Do It like a Dude\",\n",
    "                    \"Do Right Woman, Do Right Man\",\"Doubt\",\"Drunk Girl\",\"Dust Cake Boy\",\"Electric Lady\", \n",
    "                    \"Express Yourself\", \"Fall in Line\",\"Fancy\",\"Feedback\",\"Female\",\"Femme libérée\",\"Fight Like a Girl\",\n",
    "                     \"Fighter\",\"Flawless\",\"FM Doll\",\"Follow Your Arrow\",\"Four Women\"]\n",
    "\n",
    "artists_to_scrape += [\"Lady Gaga\",\"Lykke Li\",\"Destiny's Child\",\"Maddie & Tae\",\"Alicia Keys\",\n",
    "                     \"Cyndi Lauper\",\"Mary Chapin Carpenter\",\"Ariana Grande\",\"Ashanti\",\"Little Mix\",\n",
    "                     \"Robyn\",\"Lily Allen\",\"Mary Chapin Carpenter\", \"Katy Perry\",\n",
    "                     \"David Guetta\", \"Blu Cantrell\", \"Gwen Stefani\", \"Madonna\", \"Pussycat Dolls\",\n",
    "                     \"Jordin Sparks\",\"Kelly Clarkson\",\"Kelly Clarkson\",\"Amil\",\"Christina Aguilera\",\n",
    "                     \"Icona Pop\", \"Gloria Gaynor\",\"Diana Ross\",\"Chaka Khan\", \"Beyoncé\",\"Martina McBride\",\n",
    "                     \"Destiny's Child\",\"Beyoncé\",\"Whitney Houston\",\"Little Mix\",\"Madonna\",\"No Doubt\",\"2Pac\",\"Christina Aguilera\",\n",
    "                     \"TLC\",\"Sonic Youth\",\"Vera Blue\",\"Lush\"]\n",
    "titles_to_scrape += [\"G.U.Y.\",\"Get Some\",\"Girl\",\"Girl in a Country Song\",\n",
    "                     \"Girl on Fire\",\"Girls Just Want to Have Fun\",\"Girls with Guitars\",\n",
    "                     \"God Is a Woman\",\"Good Good\",\"Hair\",\"Handle Me\",\"Hard out Here\",\n",
    "                     \"He Thinks He'll Keep Her\",\"Hey Hey Hey\",\"Hey Mama\", \n",
    "                     \"Hit 'Em Up Style (Oops!)\",\"Hollaback Girl\",\"Human Nature\",\"Hush Hush; Hush Hush\",\n",
    "                     \"I Am Woman\",\"I Do Not Hook Up\",\n",
    "                     \"I Don't Think About You\",\"I Got That\",\"I Hate Boys\",\n",
    "                     \"I Love It\", \"I Will Survive\",\"I'm Coming Out\",\"I'm Every Woman\",\n",
    "                     \"If I Were a Boy\",\"Independence Day\",\"Independent Women\",\n",
    "                     \"Irreplaceable\",\n",
    "                     \"It's Not Right but It's Okay\",\"Joan of Arc\",\"Jump\",\n",
    "                     \"Just a Girl\",\"Keep Ya Head Up\", \"Keeps Gettin' Better\", \"Kick Your Game\",\"Kool Thing\",\n",
    "                    \"Lady Powers\",\"Ladykillers\"]\n",
    "\n",
    "#-----------------------------------------------------------------------------\n",
    "\n",
    "# The line below calls the scrapping function\n",
    "lyrics, lyrics_not_found_list = scrape_lyrics(artists_to_scrape, titles_to_scrape)\n",
    "\n",
    "# Prints relevant information\n",
    "print(lyrics_not_found_list)\n",
    "print('Count of not found lyrics : ' + str(len(lyrics_not_found_list)))\n",
    "\n",
    "\n",
    "# Write to CSV. Warning: in \"a\" mode, if check_for_already_scrapped is true,\n",
    "# then the writer will write at the end of the actual CSV file\n",
    "\n",
    "with open(lyrics_csv_filename, \"a\", newline='',encoding='utf-8') as f:\n",
    "    writer = csv.writer(f)\n",
    "    writer.writerows([artists_to_scrape, titles_to_scrape,lyrics])"
   ]
  },
  {
   "cell_type": "code",
   "execution_count": 45,
   "metadata": {},
   "outputs": [
    {
     "data": {
      "text/plain": [
       "2738"
      ]
     },
     "execution_count": 45,
     "metadata": {},
     "output_type": "execute_result"
    }
   ],
   "source": [
    "csv.field_size_limit(100000000)\n",
    "\n",
    "lyrics_list = []\n",
    "with open(data_dir+\"/feminism_playlist.csv\", \"rt\", encoding = \"ISO-8859-1\") as f:\n",
    "    reader = csv.reader(f, delimiter=\"\\t\")\n",
    "    for line in reader:\n",
    "        lyrics_list += line\n",
    "lyrics_list = lyrics_list[2]\n",
    "lyrics_list\n",
    "\n",
    "tokens = nltk.word_tokenize(lyrics_list)\n",
    "\n",
    "from nltk.stem import PorterStemmer\n",
    "\n",
    "ps = PorterStemmer()\n",
    "stemmed_tokens = [ps.stem(token) for token in tokens] \n",
    "\n",
    "len(stemmed_tokens)\n",
    "\n",
    "from nltk.corpus import stopwords \n",
    "stop_words = set(stopwords.words('english'))\n",
    "filtered_sentence = [] \n",
    "  \n",
    "for w in stemmed_tokens: \n",
    "    if w not in stop_words: \n",
    "        filtered_sentence.append(w)\n",
    "        \n",
    "filtered_sentence\n",
    "\n",
    "uniquefiltered = list(set(filtered_sentence))\n",
    "\n",
    "from collections import Counter\n",
    "counts = Counter(filtered_sentence)\n",
    "counts.most_common(100)\n",
    "len(uniquefiltered)"
   ]
  },
  {
   "cell_type": "code",
   "execution_count": null,
   "metadata": {},
   "outputs": [],
   "source": [
    "positive_score = []\n",
    "\n",
    "for i in range(0,len(bow)):\n",
    "    pos_song=0\n",
    "    for j in range(2,len(bow[i])):\n",
    "        word = bow[i][j]\n",
    "        key = word[ 0 : word.find(':') ]\n",
    "        if(key in uniquefiltered):\n",
    "            occurence = word[word.find(':')+1:]\n",
    "            try:\n",
    "                 pos_song += int(occurence)\n",
    "            except:\n",
    "                continue\n",
    "    positive_score = positive_score + [bow[i][0],pos_song]\n",
    "    "
   ]
  }
 ],
 "metadata": {
  "kernelspec": {
   "display_name": "Python [default]",
   "language": "python",
   "name": "python3"
  },
  "language_info": {
   "codemirror_mode": {
    "name": "ipython",
    "version": 3
   },
   "file_extension": ".py",
   "mimetype": "text/x-python",
   "name": "python",
   "nbconvert_exporter": "python",
   "pygments_lexer": "ipython3",
   "version": "3.6.6"
  }
 },
 "nbformat": 4,
 "nbformat_minor": 2
}
