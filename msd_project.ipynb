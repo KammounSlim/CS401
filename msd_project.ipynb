{
 "cells": [
  {
   "cell_type": "code",
   "execution_count": 11,
   "metadata": {},
   "outputs": [],
   "source": [
    "#As always, we import everything\n",
    "import pandas as pd\n",
    "import os\n",
    "import re\n",
    "import hdf5_getters as getters\n",
    "import requests\n",
    "from bs4 import BeautifulSoup\n",
    "import numpy as np\n",
    "from collections import OrderedDict\n",
    "from tqdm import tqdm\n",
    "\n",
    "import nltk\n",
    "from nltk import word_tokenize\n",
    "from nltk.corpus import stopwords as stop_words\n",
    "from textblob import Word\n",
    "import pycountry\n",
    "from textblob import TextBlob\n",
    "from textblob.sentiments import NaiveBayesAnalyzer\n",
    "from gensim import corpora, models\n",
    "\n",
    "import json\n",
    "\n",
    "import warnings\n",
    "warnings.filterwarnings('ignore')"
   ]
  },
  {
   "cell_type": "markdown",
   "metadata": {},
   "source": [
    "# Introduction"
   ]
  },
  {
   "cell_type": "markdown",
   "metadata": {},
   "source": [
    "Our project consists of exploring the lyrics of many songs and finding themes and the usage of the words used in these songs over time. We use the Million Song dataset to find information about the song as well as various other datasets and sources to find lyrics data."
   ]
  },
  {
   "cell_type": "markdown",
   "metadata": {},
   "source": [
    "# Data Collection and Descriptive Analysis"
   ]
  },
  {
   "cell_type": "markdown",
   "metadata": {},
   "source": [
    "We begin by getting a list of all the files from our dataset. The Million Song dataset organises the dataset in multiple files and directories. The following code snippet gets all these files and prints the number of the files found."
   ]
  },
  {
   "cell_type": "code",
   "execution_count": 12,
   "metadata": {},
   "outputs": [],
   "source": [
    "data_dir = './' + 'data'"
   ]
  },
  {
   "cell_type": "code",
   "execution_count": 13,
   "metadata": {
    "scrolled": true
   },
   "outputs": [
    {
     "data": {
      "text/plain": [
       "10000"
      ]
     },
     "execution_count": 13,
     "metadata": {},
     "output_type": "execute_result"
    }
   ],
   "source": [
    "# all_files contain all the files in the Million song subset downloaded (10000 datapoints)\n",
    "all_files = []\n",
    "for (dirpath, dirnames, filenames) in os.walk(os.path.join(data_dir + \"/MillionSongSubset/data\")):\n",
    "    all_files.extend([dirpath + \"/\" + filename for filename in filenames if filename.endswith(\".h5\")])\n",
    "all_files_num = len(all_files)\n",
    "all_files_num"
   ]
  },
  {
   "cell_type": "markdown",
   "metadata": {},
   "source": [
    "Some helpful methods to get information from million song dataset"
   ]
  },
  {
   "cell_type": "code",
   "execution_count": 14,
   "metadata": {},
   "outputs": [],
   "source": [
    "def get_num_songs(filename):\n",
    "    \"\"\"\n",
    "    Wrapper around getter method provided with the dataset.\n",
    "    \"\"\"\n",
    "    h5 = getters.open_h5_file_read(filename)\n",
    "    track_id = getters.get_num_songs(h5)\n",
    "    h5.close()\n",
    "    return track_id"
   ]
  },
  {
   "cell_type": "code",
   "execution_count": 15,
   "metadata": {},
   "outputs": [],
   "source": [
    "def get_track_id(filename):\n",
    "    \"\"\"\n",
    "    Wrapper around getter method provided with the dataset.\n",
    "    \"\"\"\n",
    "    h5 = getters.open_h5_file_read(filename)\n",
    "    track_id = getters.get_track_id(h5)\n",
    "    h5.close()\n",
    "    return track_id"
   ]
  },
  {
   "cell_type": "code",
   "execution_count": 16,
   "metadata": {},
   "outputs": [],
   "source": [
    "def get_title(filename):\n",
    "    \"\"\"\n",
    "    Wrapper around getter method provided with the dataset.\n",
    "    \"\"\"\n",
    "    h5 = getters.open_h5_file_read(filename)\n",
    "    title = getters.get_title(h5).decode()\n",
    "    h5.close()\n",
    "    return title"
   ]
  },
  {
   "cell_type": "code",
   "execution_count": 17,
   "metadata": {},
   "outputs": [],
   "source": [
    "def get_artist_name(filename):\n",
    "    \"\"\"\n",
    "    Wrapper around getter method provided with the dataset.\n",
    "    \"\"\"\n",
    "    h5 = getters.open_h5_file_read(filename)\n",
    "    artist_name = getters.get_artist_name(h5).decode()\n",
    "    h5.close()\n",
    "    return artist_name"
   ]
  },
  {
   "cell_type": "code",
   "execution_count": 18,
   "metadata": {},
   "outputs": [],
   "source": [
    "def get_year(filename):\n",
    "    \"\"\"\n",
    "    Wrapper around getter method provided with the dataset.\n",
    "    \"\"\"\n",
    "    h5 = getters.open_h5_file_read(filename)\n",
    "    year = getters.get_year(h5)\n",
    "    h5.close()\n",
    "    return year"
   ]
  },
  {
   "cell_type": "markdown",
   "metadata": {},
   "source": [
    "Using an additional dataset obtained from the million song website that contains genre information, create genre_dataset. This dataset contains genre information for 191401 songs. "
   ]
  },
  {
   "cell_type": "code",
   "execution_count": 19,
   "metadata": {},
   "outputs": [
    {
     "data": {
      "text/plain": [
       "'\\n\\n# Create genre dataframe\\ngenre_dataset = pd.read_table(os.path.join(data_dir, \\'tagtraum_genre_annotations/genre_dataset.txt\\'),\\n                              delimiter =\\'\\t\\', names=(\\'track_id\\', \\'genre\\'), index_col = \\'track_id\\')\\n\\n\\n# remove first row \\ngenre_dataset = genre_dataset.iloc[1:]\\n# remove comma\\ngenre_dataset[\\'genre\\'] = genre_dataset[\\'genre\\'].str[:-1]\\n\\nprint(genre_dataset.shape)\\ngenre_dataset.head()\\n\\n# Another helpful dataset obtained from the website of million song dataset is one that contains year the track was released. In addition to year, it also contains track_id, the name of the artist, and title of the track. This dataset contains 515576 data points. \\n\\n# Create year dataframe \\nyear_dataset = pd.read_table(os.path.join(data_dir, \\'tracks_per_year.txt\\'),delimiter =\\'<SEP>\\',\\n                             names=(\\'year\\',\\'track_id\\', \\'artist_name\\',\\'title\\'), index_col = \\'track_id\\')\\n\\nprint(year_dataset.shape)\\nyear_dataset.head()\\n\\nyear_artist_name_title_genre = pd.merge(year_dataset, genre_dataset, left_index=True, right_index=True)\\nyear_artist_name_title_genre[[\\'artist_name\\',\\'title\\']] = year_artist_name_title_genre[[\\'artist_name\\',\\'title\\']].apply(lambda x: x.str.lower())\\n\\nprint(year_artist_name_title_genre.shape)\\nyear_artist_name_title_genre.head()\\n\\nyear_artist_name_title_genre.year.unique()\\n\\nyear_artist_name_title_genre.genre.unique()\\n\\n# End of Genre/ Year Intersection. Number of Data points available: 152793\\n\\n# The next two cells takes about 5min to run. It takes all the .h5 files from million songs dataset and extracts the track_id, title and artist_name. It then puts all of it into a dataframe. \\n\\nMerge with \\nlo_track_id = []\\nlo_title = []\\nlo_artist_name = []\\nfor file_name in all_files:\\n    track_id = get_track_id(file_name)\\n    lo_track_id.append(track_id.decode(\"utf-8\"))\\n    title = get_title(file_name)\\n    lo_title.append(title.lower())\\n    artist_name = get_artist_name(file_name)\\n    lo_artist_name.append(artist_name.lower())\\n\\nmillion_song = pd.DataFrame(\\n    {\\'track_id\\': lo_track_id,\\n     \\'artist_name\\': lo_artist_name,\\n     \\'title\\': lo_title\\n    })\\n'"
      ]
     },
     "execution_count": 19,
     "metadata": {},
     "output_type": "execute_result"
    }
   ],
   "source": [
    "'''\n",
    "\n",
    "# Create genre dataframe\n",
    "genre_dataset = pd.read_table(os.path.join(data_dir, 'tagtraum_genre_annotations/genre_dataset.txt'),\n",
    "                              delimiter ='\\t', names=('track_id', 'genre'), index_col = 'track_id')\n",
    "\n",
    "\n",
    "# remove first row \n",
    "genre_dataset = genre_dataset.iloc[1:]\n",
    "# remove comma\n",
    "genre_dataset['genre'] = genre_dataset['genre'].str[:-1]\n",
    "\n",
    "print(genre_dataset.shape)\n",
    "genre_dataset.head()\n",
    "\n",
    "# Another helpful dataset obtained from the website of million song dataset is one that contains year the track was released. In addition to year, it also contains track_id, the name of the artist, and title of the track. This dataset contains 515576 data points. \n",
    "\n",
    "# Create year dataframe \n",
    "year_dataset = pd.read_table(os.path.join(data_dir, 'tracks_per_year.txt'),delimiter ='<SEP>',\n",
    "                             names=('year','track_id', 'artist_name','title'), index_col = 'track_id')\n",
    "\n",
    "print(year_dataset.shape)\n",
    "year_dataset.head()\n",
    "\n",
    "year_artist_name_title_genre = pd.merge(year_dataset, genre_dataset, left_index=True, right_index=True)\n",
    "year_artist_name_title_genre[['artist_name','title']] = year_artist_name_title_genre[['artist_name','title']].apply(lambda x: x.str.lower())\n",
    "\n",
    "print(year_artist_name_title_genre.shape)\n",
    "year_artist_name_title_genre.head()\n",
    "\n",
    "year_artist_name_title_genre.year.unique()\n",
    "\n",
    "year_artist_name_title_genre.genre.unique()\n",
    "\n",
    "# End of Genre/ Year Intersection. Number of Data points available: 152793\n",
    "\n",
    "# The next two cells takes about 5min to run. It takes all the .h5 files from million songs dataset and extracts the track_id, title and artist_name. It then puts all of it into a dataframe. \n",
    "\n",
    "Merge with \n",
    "lo_track_id = []\n",
    "lo_title = []\n",
    "lo_artist_name = []\n",
    "for file_name in all_files:\n",
    "    track_id = get_track_id(file_name)\n",
    "    lo_track_id.append(track_id.decode(\"utf-8\"))\n",
    "    title = get_title(file_name)\n",
    "    lo_title.append(title.lower())\n",
    "    artist_name = get_artist_name(file_name)\n",
    "    lo_artist_name.append(artist_name.lower())\n",
    "\n",
    "million_song = pd.DataFrame(\n",
    "    {'track_id': lo_track_id,\n",
    "     'artist_name': lo_artist_name,\n",
    "     'title': lo_title\n",
    "    })\n",
    "'''"
   ]
  },
  {
   "cell_type": "code",
   "execution_count": 20,
   "metadata": {},
   "outputs": [
    {
     "data": {
      "text/html": [
       "<div>\n",
       "<style scoped>\n",
       "    .dataframe tbody tr th:only-of-type {\n",
       "        vertical-align: middle;\n",
       "    }\n",
       "\n",
       "    .dataframe tbody tr th {\n",
       "        vertical-align: top;\n",
       "    }\n",
       "\n",
       "    .dataframe thead th {\n",
       "        text-align: right;\n",
       "    }\n",
       "</style>\n",
       "<table border=\"1\" class=\"dataframe\">\n",
       "  <thead>\n",
       "    <tr style=\"text-align: right;\">\n",
       "      <th></th>\n",
       "      <th>year</th>\n",
       "      <th>artist_name</th>\n",
       "      <th>title</th>\n",
       "      <th>genre</th>\n",
       "    </tr>\n",
       "    <tr>\n",
       "      <th>track_id</th>\n",
       "      <th></th>\n",
       "      <th></th>\n",
       "      <th></th>\n",
       "      <th></th>\n",
       "    </tr>\n",
       "  </thead>\n",
       "  <tbody>\n",
       "    <tr>\n",
       "      <th>TRSGHLU128F421DF83</th>\n",
       "      <td>1922</td>\n",
       "      <td>alberta hunter</td>\n",
       "      <td>don't pan me</td>\n",
       "      <td>Blues</td>\n",
       "    </tr>\n",
       "    <tr>\n",
       "      <th>TRRAHXQ128F42511FF</th>\n",
       "      <td>1922</td>\n",
       "      <td>barrington levy</td>\n",
       "      <td>looking my love</td>\n",
       "      <td>Reggae</td>\n",
       "    </tr>\n",
       "    <tr>\n",
       "      <th>TRFAFTK12903CC77B8</th>\n",
       "      <td>1922</td>\n",
       "      <td>barrington levy</td>\n",
       "      <td>warm and sunny day</td>\n",
       "      <td>Reggae</td>\n",
       "    </tr>\n",
       "    <tr>\n",
       "      <th>TRTRKSF12903CFEDD7</th>\n",
       "      <td>1924</td>\n",
       "      <td>vernon dalhart</td>\n",
       "      <td>wreck of the old 97</td>\n",
       "      <td>Country</td>\n",
       "    </tr>\n",
       "    <tr>\n",
       "      <th>TRQYSYF128F935F350</th>\n",
       "      <td>1925</td>\n",
       "      <td>bessie smith</td>\n",
       "      <td>careless love blues</td>\n",
       "      <td>Blues</td>\n",
       "    </tr>\n",
       "  </tbody>\n",
       "</table>\n",
       "</div>"
      ],
      "text/plain": [
       "                    year      artist_name                title    genre\n",
       "track_id                                                               \n",
       "TRSGHLU128F421DF83  1922   alberta hunter         don't pan me    Blues\n",
       "TRRAHXQ128F42511FF  1922  barrington levy      looking my love   Reggae\n",
       "TRFAFTK12903CC77B8  1922  barrington levy   warm and sunny day   Reggae\n",
       "TRTRKSF12903CFEDD7  1924   vernon dalhart  wreck of the old 97  Country\n",
       "TRQYSYF128F935F350  1925     bessie smith  careless love blues    Blues"
      ]
     },
     "execution_count": 20,
     "metadata": {},
     "output_type": "execute_result"
    }
   ],
   "source": [
    "# Saving to csv\n",
    "\n",
    "# year_artist_name_title_genre.to_csv(os.path.join(data_dir + \"/year_artist_name_title_genre.csv\"), encoding='utf-8')\n",
    "\n",
    "# Loading\n",
    "\n",
    "year_artist_name_title_genre = pd.read_csv(os.path.join(data_dir + \"/year_artist_name_title_genre.csv\")).set_index('track_id')\n",
    "year_artist_name_title_genre.head()"
   ]
  },
  {
   "cell_type": "markdown",
   "metadata": {},
   "source": [
    "# Not Sandra's code from this point on"
   ]
  },
  {
   "cell_type": "markdown",
   "metadata": {},
   "source": [
    "# Arthur's code here"
   ]
  },
  {
   "cell_type": "code",
   "execution_count": 37,
   "metadata": {},
   "outputs": [],
   "source": [
    "import re\n",
    "import lyricfetcher\n",
    "\n",
    "def scrape_lyrics(artists_list,songs_list):\n",
    "    '''\n",
    "    \n",
    "    '''\n",
    "    lyrics_not_found = []\n",
    "    if (len(artists_list) == 0 or len(songs_list) == 0):\n",
    "        raise ListError('The provided artists list or songs list is empty')\n",
    "        \n",
    "    elif (len(artists_list) != len(songs_list)):\n",
    "        raise ListError('The provided artists and songs lists have different lenghts')\n",
    "        \n",
    "    else:\n",
    "        lyrics = []\n",
    "        \n",
    "        for i in range(len(artists_list)):\n",
    "            try:\n",
    "                lyrics_metro = re.sub('\\n|\\r', ' ', str(lyricfetcher.get_lyrics('metrolyrics',artists_list[i],songs_list[i])))\n",
    "                lyrics_metro = re.sub(',', '', lyrics_metro)\n",
    "\n",
    "                if (lyrics_metro == \"\" or len(lyrics_metro.split())<3):\n",
    "                    lyrics_az = re.sub('\\n|\\r', ' ', str(lyricfetcher.get_lyrics('azlyrics',artists_list[i],songs_list[i])))\n",
    "                    lyrics_az = re.sub(',', '', lyrics_az)\n",
    "\n",
    "                    if (lyrics_az == \"\" or len(lyrics_az.split())<3):\n",
    "                        lyrics.append(\"\")\n",
    "                        raise ValueError('No lyrics OR lyrics smaller or equal to 2 words found')\n",
    "\n",
    "                    else:\n",
    "                        lyrics.append(lyrics_az)\n",
    "\n",
    "                else:\n",
    "                    lyrics.append(lyrics_metro)\n",
    "                    \n",
    "            except ValueError:\n",
    "                lyrics_not_found.append([artists_list[i],songs_list[i]])\n",
    "                continue\n",
    "    return lyrics, lyrics_not_found"
   ]
  },
  {
   "cell_type": "code",
   "execution_count": null,
   "metadata": {},
   "outputs": [],
   "source": []
  },
  {
   "cell_type": "code",
   "execution_count": 38,
   "metadata": {},
   "outputs": [
    {
     "name": "stdout",
     "output_type": "stream",
     "text": [
      "['', '', '', '', \"What is she covering up? What is she lying about? She's hesitating... And she's using slow words I know But she's moving fast. Why is this happening now Why does this happen to me - all the time? Don't give up on me (Love) And I won't give up on you. (Love) Squeeze me 'til I can't breathe. And lets just lie here In oblivion. I can't believe in one of us I can't know - how long This love will last. Stay up in bed with me Stay up and play with me All day long. Don't give up on me (Love) And I won't give up on you. (Love) I get to wait for the baby (Love me girl) Nothing is wrong what are you scared of? Squeeze me 'til I can't breathe. And lets just lie here In oblivion. I can't believe in one of us I can't know - how long This love will last. Stay up in bed with me Stay up and play with me All day long. Don't give up on me (Love) And I won't give up on you (Love) I get to wait for the baby (Love me girl) Love me girl.\", \"Too much too much is never enough I had you and I gave you up No idea where my mind was for months I woke up I cashed in all of my luck Walked hand and hand with your trust And everybody was kissing on fire And we all got burnt It'd be safer to hate her Than to love her and to lose her It'd be safer to hate her all around Caught you having a laugh Did you catch me have the last? I've been smiling like this for days Just to make up for my mistakes In the dark I watch everyone disappear And I am beginning to let myself down I am pushing everyone that was in out It'd be safer to hate her Than to love her and to lose her It'd be safer to hate her all around And nobody knows what it's like To live and die on the inside Nobody knows what it's like To be one of a kind When we die do we feel alive? When we die do we feel alive? It'd be safer to hate her Than to love her and to lose her It'd be safer to hate her all around And nobody knows what it's like To live and die on the inside And nobody knows\", \"So this is the end of you and me We had a good run and I'm setting you free To do as you want to do as you please Without me Remember when you were my boat and I was your sea? Together we'd float so delicately But that was back when we could talk about anything 'Cause I don't know who I am When you're running circles in my head And I don't know just who you are When you're sleeping in someone else's bed Three whole words and eight letters late And that would have worked on me yesterday We're not the same I wish that could change But it can't And I'll say your name and in the same breath I'll say something that I'll grow to regret So keep your hands on your chest and sing with me That we don't wanna believe 'Cause I don't know who I am When you're running circles in my head And I don't know just who you are When you're sleeping in someone else's bed So it's true what they say If you love someone you should set them free Oh it's true what they say When you throw it away I don't know who you are I don't know who you are Oh 'cause I don't know who you are When you sleep with somebody else 'Cause I don't know who I am When you're sleeping with him It's true what they say when you throw it away\", \"If one drink can make tonight slip my mind then I Should drink up so I can forget that I have lived my life You are an example of better things to come So I'll wait on some other escape that leads me nowhere fast I've gotta ask You've got nothing to lose Except for me and you And I don't want that attitude When you know I can do I'll do better than you If one can drink can make tonight slip your mind then you Should drink up so you can convince yourself that I'm cute We are an example of why not to fall in love It takes a turn and then it hurts More than you could dream of When you've got nothing to lose Except for me and you And I don't want that attitude When you know I can do I'll do better than you And you've got nothing to prove Oh no wait yes you do You wear it so well that we think it's true You can't stay I want you gone You're pulling the carpet I was standing on You can't stay I want you gone You're pulling the carpet I was standing on You can't stay I want you gone You're pulling the carpet I was standing on Here's the exits exits exits You've got nothing to lose Except for me and you And I don't want that attitude When you know I can do I'll do better than you We are an example of (Why not to fall in why not to fall in love) We are an example of (Why not to fall in why not to fall in love)\", \"It's worse worse than you think If truth be told I'll tell you that you're lovesick I am sweet so everybody takes a bite Dig in I'm the catalyst of your demise. Words are cheap so I'll sell you a line Like the way you acted that night Second best is what what you want then It won't cost that much but me. I've got you hanging on every word I say But that don't mean a thing And you love the way I take your breath away So I'll take your breath away. Have you had had your day? Move close and I'll push you away. Play it safe For the sake of keeping some face Play it safe In the name of keeping your place. Do what what I tell you to With arms we'll carry this through Can't wait can't wait to see you. I've got you hanging on every word I say But that don't mean a thing And you love the way I take your breath away So I'll take take take. Oh I only have eyes for you And it's so true. Oh I only have eyes for you It's the truth it's the truth. So true. So true. So true. So true. And I only have eyes for you And I only have eyes for you. I've got you hanging on every word I say But that don't mean a thing And you love the way I take your breath away So I'll take take take. Oh I only have eyes for you And it's so true. Oh I only have eyes for you It's the truth it's the truth. So true.\", \"If I could have a minute please Then I'd bring you to your knees This contagious chemistry is killing me Oh you'll never disappear Until I give permission dear 'Cause you're always gonna always be needy to please Dearest enemy I fear that You will just rush me along the way Somewhere between the fake smiles and your free drinks Please don't smother me I swear that I need some room to breathe while with you All up down and over me You're not a name you're just a face It's contagious so catch it This love is dirtier than you think Don't believe your eyes Believe your ears trust me This'll sink lower than you think Don't believe your eyes Believe your ears trust me Dearest Enemy you should listen to the streets Because they tell you all you need to know 'Bout who and what you are No smoke without a fire With that I'll name drop you a liar It suits your skin and bones You've known all along It's exactly what you are It's contagious so catch it This love is dirtier than you think Don't believe your eyes Believe your ears trust me This'll sink lower than you think Don't believe your eyes Believe your ears trust me This is the first and the last time I swear There's more where that came from She said do you know what that means? 'Cause I know what that means This is the first and the last time I swear It's a numbers game and you were there Do you know what this means? 'Cause we know what this means No (Oh!) Who'd you think I was? Yeah And oh (Oh!) This leads to the only lead you were working on And oh (Oh!) And you were hopeless at best yeah And oh forget the rest Hotel rooms cheap thrill dress Lack of common sense Could make this happen If I could have a minute please Then I'd being you to your knees This contagious contagious chemistry Dearest Enemy You should have never trusted me You bitch\", \"You're not on my list of things to do 'cause I've already done you. And I am protective it's so cute but only when it suits you. Is this all in vain? Can these words explain Desperate minds mean desperate measures You've got to get this one together You're young and in love That should be enough. At least you'll have nice thoughts of me when I am cheating on you In your dreams. I've told you before my closet's clean and that these bones don't belong to me. Try this one for size try me one more time. You hold me down by keeping me around. Desperate minds mean desperate measures You've got to get this one together You're young and in love That should be enough. Desperate minds mean desperate measures You've got to get this one together You're young and in love That should be enough. You hold me down by keeping me around. And no one takes me home. no one takes me home. You hold me down by keeping me around. And no one takes me home. no one takes me home. Desperate minds mean desperate measures You've got to get this one together You're young and in love That should be enough. (Young and in love that should be enough.)\", \"You've got a lot to say For the one that walked away I give you take It's the way it's always been Oh how do I know If I should stay or just go? The bottom line is this way That I'll never know Stay with me Stay with me stay with me Stay with me oh Whoa whoa whoa Whoa whoa whoa You've got a lot to say For the one that pushed me away I give you take Some things they never change Just change Stay with me Stay with me stay with me Stay with me I never knew that I could be this way I never knew that I could walk away These things take time to grow It's been said that time heals wounds But no I won't be controlled And so the story goes Stay with me Stay with me stay with me Stay with me And now I know that I can be this way And now I know that I can walk away\", \"Is this hard to swallow You keep your thoughts by your pillow Just so you can adore them Just so we can ignore them I'd rather lead not follow I'd rather stay and not go home My moves have got so old or so I've been told But now you've lost it all We're running out of time We've got things on our mind And things we just don't like Who do you want to see? Who do you want to be tonight? Forgetting the promises you make Is how your your promises easily break Oh you sit on your fence And I'll dig under it I'll count my losses And I'll count my sins I hope you've cleared your mind We're running out of time We've got things on our mind And things we just don't like Who do you want to see? Who do you want to be tonight? We're running out of time We've got things on our mind And things we just don't like Who do you want to see? Who do you want to be tonight? We were young and we were blind We ignored the warning signs How were we to know? How were we to know? We were close but still so far We grew apart and out of touch All I wanted was... All I wanted was to say... We're running out of time We've got things on our mind And things we just don't like Who do you want to see? Who do you want to be tonight? We're running out of time We've got things on our mind And things we just don't like Who do you want to see? Who do you want to be tonight? Tonight tonight tonight tonight\", \"Calm down she said Consider this a warning A souvenir for the morning A headache that you can't fix I said I can talk my my way out of anything But I am struggling in this emergency This one's on your side I said this one's on your Ambulance I'm calling you now Accidents bring the house down Come on come on you don't know me Come on come on you owe me nothing Dry your eyes and stick them on ice Give your chest a rest it's been cold your whole life I'll have you know the tables are about to turn And you're going to get what what what you deserve Ambulance I'm calling you now Accidents bring the house down Come on come on you don't know me Come on come on you owe me nothing Is this in it my love? Turn it up turn it up I want to hear you scream Oh is this in it my love? Turn it up turn it up I want to hear you scream So sing I am my own worst enemy That's what she said to me And I am living out your dream So sing I am my own worst enemy So we can just breathe a little more safely Ambulance I'm calling you now Accidents bring the house down Come on come on you don't know me Come on come on you owe me nothing Is this in it my love? Turn it up turn it up I want to hear you scream Oh is this in it my love? Turn it up turn it up I want to hear you scream sing I've got real big plans and such bad thoughts I've got real big plans and such bad thoughts I've got real big plans and such bad thoughts I've got real big plans Real big plans and such bad thoughts I've got real big plans and such bad thoughts I've got real big plans and such bad thoughts I've got real big plans I've got real big plans and such bad thoughts I've got real big plans and such bad thoughts I've got real big plans and such bad thoughts I've got real big plans and such bad thoughts I've got real big plans and such bad thoughts I've got real big plans and such bad thoughts I've got real big plans and such bad thoughts I've got real big plans and such bad thoughts I've got real big plans and such bad thoughts I've got real big plans and such bad thoughts I've got real big plans and such bad thoughts I've got real big plans and such bad thoughts\", '', '', \"I'm tired of playing on the team It seems I don't get time out anymore What a change if we set the pace face to face No one even trying to score Oh oh I can feel the magic of your touch And when you move in close a little bit means so much Ooh yeah you've got to understand baby Time out is what I'm here for One on one I wanna play that game tonight One on one I know I wanna play that One on one I wanna play that game tonight One on one so slow You can't tell me you don't miss me girl I think I might know you too well Wonder what you'd say if you knew that I was coming tonight Want to? I want you can't you tell One on one I wanna play that game tonight One on one I know I wanna play that One on one I wanna play that game tonight One on one so slow That's all you need to know now 'Cause if it's really right there's nothing else One on one I want to play that game tonight...\", \"Everybody's high on consolation Everybody's trying to tell me what is right for me yeah My daddy tried to bore me with a sermon But it's plain to see that they can't comfort me Sorry Charlie for the imposition I think I got (it got it) I got the strength to carry on yeah I need a drink and a quick decision Now it's up to me ooh what will be She's gone she's gone Oh I oh I I better learn how to face it She's gone she's gone Oh I oh I I'd pay the devil to replace her She's gone and she's gone Oh why what went wrong? Get up in the morning look in the mirror I'm worn as a toothbrush hanging in the stand yeah My face ain't looking any younger Now I can see love's taken a toll on me She's gone she's gone Oh I oh I I better learn how to face it She's gone and she's gone Oh I oh I I'd pay the devil to replace her She's gone she's gone Oh why what went wrong? Think I'll spend eternity in the city Let the carbon and monoxide choke my thoughts away yeah And pretty bodies help dissolve the memories They can never be what she was (was) to me She's gone she's gone Oh I oh I I better learn how to face it She's gone she's gone Oh I oh I I'd pay the devil to replace her She's gone and she's gone Oh I what went wrong? She's gone Oh I I better learn how to face that She's gone she's gone I can't believe that she's gone Oh I I'd pay the devil to replace her She's gone Oh I I I better learn how to face that She's gone she's gone I can't believe that she's gone Oh I I pay the devil to replace her She's gone she's gone She's gone she's gone She's gone she's gone She's gone she's gone She's gone she's gone She's gone she's gone She's gone she's gone She's gone she's gone\", \"When we first met it wasn't what you said And still I loved you like mad I loved you like mad When we first met they were playing that song And then it stuck into my head stuck into my head When we first kissed it made it to my list And I couldn't stop myself think of nothing else When we parked the car they were playing that song And we turned it up to ten and started up again Every time I hear it play I think of you and those summer days Oh I can still remember When I heard it on the radio Oh but now we are September Come on forget what we know When you broke my heart there was nothing you could say And still I loved you like mad I loved you like mad Now that I think back it wasn't what we had They were just playing that song made it last so long Every time I hear it play I think of you and those summer days Oh I can still remember When I heard it on the radio Oh but now we are September Come on forget what we know Oh I can still remember When I heard it on the radio Oh but now we are September Come on forget what we know Oh I can still remember When I heard it on the radio Oh but now we are September Come on forget what we know\"]"
     ]
    },
    {
     "name": "stdout",
     "output_type": "stream",
     "text": [
      "\n",
      "[['xenia beliayeva', 'analog effekt'], ['year long disaster', 'stranger in my room'], ['year long disaster', 'she told us all'], ['year long disaster', 'cyclone'], ['zpu', 'revoluciã³n'], ['the bird and the bee', 'maneater'], ['the bird and the bee', 'private eyes']]\n",
      "Count of not found lyrics : 7\n"
     ]
    }
   ],
   "source": [
    "# Test on subset\n",
    "\n",
    "\n",
    "lyrics, lyrics_not_found_list = scrape_lyrics(year_artist_name_title_genre['artist_name'].tail(20),year_artist_name_title_genre['title'].tail(20))\n",
    "\n",
    "print(lyrics)\n",
    "print(lyrics_not_found_list)\n",
    "print('Count of not found lyrics : ' + str(len(lyrics_not_found_list)))\n",
    "\n",
    "import csv\n",
    "\n",
    "with open(os.path.join(data_dir + \"/lyrics.csv\"), \"w\", newline='') as f:\n",
    "    writer = csv.writer(f)\n",
    "    writer.writerows([year_artist_name_title_genre.index.values.tolist(),lyrics])"
   ]
  },
  {
   "cell_type": "code",
   "execution_count": null,
   "metadata": {},
   "outputs": [],
   "source": []
  },
  {
   "cell_type": "markdown",
   "metadata": {},
   "source": [
    "This function links gets the genres for a single track given its id."
   ]
  },
  {
   "cell_type": "code",
   "execution_count": null,
   "metadata": {},
   "outputs": [],
   "source": [
    "def get_song_genres(track_id):\n",
    "    \"\"\"\n",
    "    Get's the genres of a song given it's ID in a single string, separated by &.\n",
    "    \"\"\"\n",
    "    if track_id in genre_dataset.index:\n",
    "        return \"&\".join(genre_dataset.loc[[track_id]].values[0][0].split(' and '))\n",
    "    else:\n",
    "        return None"
   ]
  },
  {
   "cell_type": "markdown",
   "metadata": {},
   "source": [
    "Before starting our data collection, we make sure that all files correspond to only one song as they should."
   ]
  },
  {
   "cell_type": "code",
   "execution_count": null,
   "metadata": {},
   "outputs": [],
   "source": [
    "for filename in tqdm(all_files): # tqdm for a nice progress bar\n",
    "    assert get_num_songs(filename) == 1 # check whether each file correctly corresponds to a single song."
   ]
  },
  {
   "cell_type": "markdown",
   "metadata": {},
   "source": [
    "The following snippet reads the Million Song dataset in its entirety and uses the genre dataset to link the two. It gets all the fields we need as we discussed above and also gets the genres of each track. This information is then put into a dataframe. \n",
    "\n",
    "For convenience, we save this data in a new `.csv` file."
   ]
  },
  {
   "cell_type": "code",
   "execution_count": null,
   "metadata": {},
   "outputs": [],
   "source": [
    "# The dataframe is saved into a file for convenience.\n",
    "\"\"\"\n",
    "data = pd.DataFrame([])\n",
    "\n",
    "for filename in tqdm(all_files):\n",
    "    track_id = get_track_id(filename).decode()\n",
    "    genres = get_song_genres(track_id)\n",
    "    if genres:\n",
    "        to_add = [('track_id', track_id), ('genres', genres), ('artist_name', get_artist_name(filename)), ('title', get_title(filename)), ('year', get_year(filename)), ('lyrics', \"\")]\n",
    "        data = data.append(pd.DataFrame(OrderedDict(to_add), index=[0]))\n",
    "\n",
    "data.set_index('track_id', inplace=True)\n",
    "data.to_csv('data/data.csv')\n",
    "\"\"\"\n",
    "\n",
    "data = pd.read_csv('data/data.csv').set_index('track_id')"
   ]
  },
  {
   "cell_type": "markdown",
   "metadata": {},
   "source": [
    "Finally, we need to obtain lyrics data for our tracks. For this, we have found two datasets. Both of these contain artist, track title and lyrics data which we read in the following code snippets. We try to get the lyrics from both datasets, but it's possible that neither of them contains the lyrics for some on our tracks. For this reason, we will also look at genius.com which is a website containing many lyrics."
   ]
  },
  {
   "cell_type": "code",
   "execution_count": null,
   "metadata": {},
   "outputs": [],
   "source": [
    "lyrics_df1 = pd.read_csv('lyrics/songdata1.csv')\n",
    "lyrics_df1.set_index(['artist', 'song'], inplace=True)"
   ]
  },
  {
   "cell_type": "code",
   "execution_count": null,
   "metadata": {},
   "outputs": [],
   "source": [
    "lyrics_df2_raw = pd.read_csv('lyrics/songdata2.csv', na_filter=False)\n",
    "lyrics_df2 = lyrics_df2_raw[['song', 'artist', 'lyrics']].set_index(['artist', 'song'])"
   ]
  },
  {
   "cell_type": "code",
   "execution_count": null,
   "metadata": {},
   "outputs": [],
   "source": [
    "def get_lyrics_csv1(artist_name, title):\n",
    "    \"\"\"\n",
    "    Gets lyrics for an artist and title pair from the first dataset.\n",
    "    \"\"\"\n",
    "    if (artist_name, title) in lyrics_df1.index:\n",
    "        return lyrics_df1.loc[artist_name, title].values[0][1]\n",
    "    else:\n",
    "        return None"
   ]
  },
  {
   "cell_type": "code",
   "execution_count": null,
   "metadata": {},
   "outputs": [],
   "source": [
    "def get_lyrics_csv2(artist_name, title):\n",
    "    \"\"\"\n",
    "    Gets lyrics for an artist and title pair from the second dataset.\n",
    "    In this file, the artist and title fields have hyphens instead of spaces\n",
    "    and are exclusively in lower case, so we change our data to match this\n",
    "    format when looking for songs.\n",
    "    \"\"\"\n",
    "    index_artist_name = artist_name.lower().replace(' ', '-')\n",
    "    index_title = title.lower().replace(' ', '-')\n",
    "    if (index_artist_name, index_title) in lyrics_df2.index:\n",
    "        lyrics = lyrics_df2.loc[index_artist_name, index_title].values[0][0]\n",
    "        if len(lyrics) == 0:\n",
    "            return None\n",
    "        else:\n",
    "            return lyrics\n",
    "    else:\n",
    "        return None"
   ]
  },
  {
   "cell_type": "code",
   "execution_count": null,
   "metadata": {},
   "outputs": [],
   "source": [
    "def get_lyrics(artist_name, title):\n",
    "    \"\"\"\n",
    "    Gets the lyrics for an artist name and title from both datasets.\n",
    "    If lyrics are not found in either of them, returns an empty string.\n",
    "    \"\"\"\n",
    "    lyrics = get_lyrics_csv1(artist_name, title)\n",
    "    if lyrics:\n",
    "        return lyrics\n",
    "    \n",
    "    lyrics = get_lyrics_csv2(artist_name, title)\n",
    "    if lyrics:\n",
    "        return lyrics\n",
    "    \n",
    "    return \"\""
   ]
  },
  {
   "cell_type": "markdown",
   "metadata": {},
   "source": [
    "We make a new dataframe that contains lyrics information for our previous data. If the lyrics are not found in either of the lyrics datasets, we generate the genius.com url to search for that song's lyrics."
   ]
  },
  {
   "cell_type": "code",
   "execution_count": null,
   "metadata": {},
   "outputs": [],
   "source": [
    "#Match lyrics\n",
    "data_lyrics = data.copy()\n",
    "urls = {}\n",
    "i = 1\n",
    "for index, row in data.iterrows():\n",
    "    lyrics = get_lyrics(row['artist_name'], row['title'])\n",
    "    \n",
    "    # We generate an URL to lookup in Genius if we haven't found any lyrics\n",
    "    # in the first two datasets.\n",
    "    if lyrics == \"\":\n",
    "        # To create the URL to find the song on genius, the title and artist names\n",
    "        # need to be processed to match the general format of Genius' songs URL.\n",
    "        # For instance, spaces are replaced by hyphens and additional information\n",
    "        # between parenthesis is removed.\n",
    "        url = (row['artist_name'].lower().replace(' ', '-') + '-' + re.sub(r'\\([^)]*\\)', '', row['title']).rstrip().lower().replace(' ', '-') + '-lyrics').capitalize().replace(\"'\", '')\n",
    "        urls[index] = 'https://genius.com/' + url\n",
    "        \n",
    "    print(i, end='\\r')\n",
    "    i += 1\n",
    "    data_lyrics.loc[index, 'lyrics'] = re.sub(r'[\\[].*?[\\]]', '', lyrics.replace('\\n', ' '))"
   ]
  },
  {
   "cell_type": "markdown",
   "metadata": {},
   "source": [
    "The genius.com URLs are collected in a file so that they can be fed into a scrapper."
   ]
  },
  {
   "cell_type": "code",
   "execution_count": null,
   "metadata": {},
   "outputs": [],
   "source": [
    "with open('data/urls', 'w') as urls_files:\n",
    "    for index, url in urls.items():\n",
    "        print(index, url, file=urls_files)"
   ]
  },
  {
   "cell_type": "markdown",
   "metadata": {},
   "source": [
    "At this point, we run our scrapper which is using `scrapy`. This is not done in this notebook but instead you can find the scrapper code in the `scrapper` folder in this repository. We obtain a file that contains the track ids as well as their lyrics found on genius.com.\n",
    "\n",
    "The resulting file is then read and its data is added to our data."
   ]
  },
  {
   "cell_type": "code",
   "execution_count": null,
   "metadata": {},
   "outputs": [],
   "source": [
    "import json\n",
    "with open('data/missing_lyrics.json') as lyrics_file:\n",
    "    lyrics_json = json.load(lyrics_file)\n",
    "    for item in lyrics_json:\n",
    "        for index, lyrics in item.items():\n",
    "            # Returned lyrics are modified to remove newline cahracters as well as some\n",
    "            # special lyrics structures as we have seen before.\n",
    "            data_lyrics.loc[index, 'lyrics'] = re.sub(r'[\\[].*?[\\]]', '', lyrics.replace('\\n', ' '))"
   ]
  },
  {
   "cell_type": "markdown",
   "metadata": {},
   "source": [
    "We then detect the language of the lyrics if any. It is possible that some of the lyrics do not contain any features that allow language detection, in this case we do not assign a language to that lyrics."
   ]
  },
  {
   "cell_type": "code",
   "execution_count": null,
   "metadata": {},
   "outputs": [],
   "source": [
    "#Find the corresponding language for the lyrics\n",
    "from langdetect import detect\n",
    "\n",
    "for index, row in data_lyrics.iterrows():\n",
    "    lyrics = data_lyrics.loc[index, 'lyrics']\n",
    "    language = None\n",
    "    if lyrics.strip() != \"\":\n",
    "        try:\n",
    "            language = detect(lyrics)\n",
    "        except:\n",
    "            language = \"\"\n",
    "    if language != \"\":\n",
    "        data_lyrics.loc[index, 'lang'] = language"
   ]
  },
  {
   "cell_type": "markdown",
   "metadata": {},
   "source": [
    "Now let's see how many songs are there with lyrics in the Million Song Subset."
   ]
  },
  {
   "cell_type": "code",
   "execution_count": null,
   "metadata": {},
   "outputs": [],
   "source": [
    "data_lyrics = data_lyrics[data_lyrics.lyrics != '']"
   ]
  },
  {
   "cell_type": "code",
   "execution_count": null,
   "metadata": {},
   "outputs": [],
   "source": [
    "data_lyrics.shape"
   ]
  },
  {
   "cell_type": "code",
   "execution_count": null,
   "metadata": {},
   "outputs": [],
   "source": [
    "data_lyrics"
   ]
  },
  {
   "cell_type": "markdown",
   "metadata": {},
   "source": [
    "We save the resulting data in a file for convenience. This is the final state of our data and contains verything we need."
   ]
  },
  {
   "cell_type": "code",
   "execution_count": null,
   "metadata": {},
   "outputs": [],
   "source": [
    "data_lyrics.to_csv('data/data_lyrics.csv')"
   ]
  },
  {
   "cell_type": "markdown",
   "metadata": {},
   "source": [
    "# Analysis"
   ]
  },
  {
   "cell_type": "markdown",
   "metadata": {},
   "source": [
    "To obtain our analysis, we will follow the following steps."
   ]
  },
  {
   "cell_type": "markdown",
   "metadata": {},
   "source": [
    "### Lyrics Processing"
   ]
  },
  {
   "cell_type": "markdown",
   "metadata": {},
   "source": [
    "We would like to be able to extract different themes from our lyrics. Other than being able to see the evolution of some words over time and depending of the genres of the song, it's interesting to see the themes or sentiments that the song's lyrics portray. For this, we will use Natural Language Processing (NLP) libraries to extract this information about each track."
   ]
  },
  {
   "cell_type": "markdown",
   "metadata": {},
   "source": [
    "From the lyrics that we have, we apply the bag-of-words model and only keep the interesting (meaningful) words. That is, we remove the stop words and lemmatize each word to avoid, for instance, having both 'sleep' and 'sleeping'."
   ]
  },
  {
   "cell_type": "markdown",
   "metadata": {},
   "source": [
    "We start by downloading `nltk` packages that will be of use for us. [ntlk](http://www.nltk.org/) is a well known framework for natural language processing in Python."
   ]
  },
  {
   "cell_type": "code",
   "execution_count": null,
   "metadata": {},
   "outputs": [],
   "source": [
    "nltk.download('stopwords')\n",
    "nltk.download('punkt')\n",
    "nltk.download('averaged_perceptron_tagger')\n",
    "nltk.download('wordnet')"
   ]
  },
  {
   "cell_type": "markdown",
   "metadata": {},
   "source": [
    "Now, we define a few functions to do all our natural language analysis steps."
   ]
  },
  {
   "cell_type": "markdown",
   "metadata": {},
   "source": [
    "First, we define a function that tokenizes lyrics. As we have seen in class, working on a list of tokens instead of a string of characters is much better for machine learning and natural language processing techniques that we will use. For this we use TextBlob which we will also use later on for sentiment analysis since it gives a nice way to obtain tagged tokens."
   ]
  },
  {
   "cell_type": "code",
   "execution_count": null,
   "metadata": {},
   "outputs": [],
   "source": [
    "def tokenize(text):\n",
    "    return TextBlob(text)"
   ]
  },
  {
   "cell_type": "markdown",
   "metadata": {},
   "source": [
    "Next we will define a function that removes stopwords from our tokens. This function uses standard stop words list from `nltk`."
   ]
  },
  {
   "cell_type": "code",
   "execution_count": null,
   "metadata": {},
   "outputs": [],
   "source": [
    "def get_language_full_name(isocode):\n",
    "    return pycountry.languages.get(alpha_2=isocode).name.lower()"
   ]
  },
  {
   "cell_type": "code",
   "execution_count": null,
   "metadata": {},
   "outputs": [],
   "source": [
    "stop_words_languages = {}\n",
    "# Other than the stopwords for a given language which we obtain from\n",
    "# nltk, we also add a list of common first names which we remove from\n",
    "# the lyrics to ease topic detection later on. This list was found in\n",
    "# https://www.cs.cmu.edu/Groups/AI/areas/nlp/corpora/names/.\n",
    "names_pd = pd.read_csv('data/common_names.csv')\n",
    "\n",
    "names = []\n",
    "for name in names_pd.values:\n",
    "    names.append(name[0])"
   ]
  },
  {
   "cell_type": "markdown",
   "metadata": {},
   "source": [
    "Even if we only have English lyrics, the code below can support the stopwords from multiple languages. "
   ]
  },
  {
   "cell_type": "code",
   "execution_count": null,
   "metadata": {},
   "outputs": [],
   "source": [
    "def remove_stopwords(blob, language):\n",
    "    if language not in stop_words_languages:\n",
    "        stop_words_languages[language] = set(stop_words.words(get_language_full_name(language)))\n",
    "        if language == 'en':\n",
    "            # Additional stopwords not caught by nltk's list.\n",
    "            stop_words_languages[language] |= set(['na', 'gon', 'la', 'nt', 'i', '', \"'\"])\n",
    "            stop_words_languages[language] |= set(names)\n",
    "        \n",
    "    tokens = []\n",
    "    for word, tag in blob.tags:\n",
    "        lower = word.lower().replace(\"'\", '')\n",
    "        if lower not in stop_words_languages[language]:\n",
    "            tokens.append((lower, tag))\n",
    "    return tokens"
   ]
  },
  {
   "cell_type": "markdown",
   "metadata": {},
   "source": [
    "In the next function, we lemmatize the tokens that are left so that words that variants of words that are essentially the same (conjugated verbs for examples) are counted as the same token."
   ]
  },
  {
   "cell_type": "code",
   "execution_count": null,
   "metadata": {},
   "outputs": [],
   "source": [
    "def lemmatize(tokens):\n",
    "    lemmas = []\n",
    "    lemma = None\n",
    "    for token, tag in tokens:\n",
    "        if tag[0] == \"V\": #if the word is a verb\n",
    "            lemma = Word(token).lemmatize(\"v\")\n",
    "        else:\n",
    "            lemma = Word(token).lemmatize()\n",
    "        lemmas.append(lemma)\n",
    "    return lemmas"
   ]
  },
  {
   "cell_type": "markdown",
   "metadata": {},
   "source": [
    "The next function combines the functions defined above to get the final tokens that we will consider for our topic detection task."
   ]
  },
  {
   "cell_type": "code",
   "execution_count": null,
   "metadata": {},
   "outputs": [],
   "source": [
    "def get_final_tokens(lyrics):\n",
    "    \"\"\"\n",
    "    Combines our functions to get the final list of tokens.\n",
    "    \"\"\"\n",
    "    texts = []\n",
    "    for lyric in lyrics:\n",
    "        texts.append(lemmatize(remove_stopwords(tokenize(lyric), 'en')))\n",
    "    return texts"
   ]
  },
  {
   "cell_type": "markdown",
   "metadata": {},
   "source": [
    "For our data visualisation, we also need to have raw frequencies of the words that we use. While later on we will use different ways to obtain such information for our ML techniques, here for the visualisation we want a quick and simple count of the appearence of our tokens over the whole corpus passed as parameters. This way we can easily obtain the frequency of words appearing in all the lyrics for a given genre in a given year for example. The function defined below does precisely that."
   ]
  },
  {
   "cell_type": "code",
   "execution_count": null,
   "metadata": {},
   "outputs": [],
   "source": [
    "def get_word_freq(texts):\n",
    "    \"\"\"\n",
    "    Gets the raw word count of each word appearing in\n",
    "    the lyrics given by texts.\n",
    "    \"\"\"\n",
    "    word_count = {}\n",
    "    for text in texts:\n",
    "        for token in text:\n",
    "            if token not in word_count:\n",
    "                word_count[token] = 1\n",
    "            else:\n",
    "                word_count[token] += 1\n",
    "    return word_count"
   ]
  },
  {
   "cell_type": "markdown",
   "metadata": {},
   "source": [
    "To find the general sentiment of a song's lyrics, we use [TextBlob](https://textblob.readthedocs.io/en/dev/). This library has already a built-in sentiment analyser, which gives us inforation whether the song is 'positive' or 'negative'. The following function is used to do just that and takes as parameter a single lyrics string."
   ]
  },
  {
   "cell_type": "code",
   "execution_count": null,
   "metadata": {},
   "outputs": [],
   "source": [
    "def get_sentiment(lyrics):\n",
    "    \"\"\"\n",
    "    Gets the sentiment polarity of a lyrics given as string.\n",
    "    \"\"\"\n",
    "    blob = TextBlob(lyrics)\n",
    "    return blob.sentiment.polarity"
   ]
  },
  {
   "cell_type": "markdown",
   "metadata": {},
   "source": [
    "Now that we have everything needed defined, we begin by getting our data (from the file written to in the previous section) into a dataframe. We only keep the lyrics that we detected to be in english since all our NLP and ML techniques wouldn't work on lyrics from different languages.\n",
    "\n",
    "We construct a genres list that will be used later in our data visualisation as well as a dictionary that links the genres to a list of indices of particular songs."
   ]
  },
  {
   "cell_type": "code",
   "execution_count": null,
   "metadata": {},
   "outputs": [],
   "source": [
    "lyrics_df = pd.read_csv('data/data_lyrics.csv')\n",
    "lyrics_df.set_index(['track_id'], inplace=True)\n",
    "\n",
    "lyrics_df = lyrics_df[lyrics_df.lang == 'en']\n",
    "genres_list = ['all'] # Added a special genre, 'all' which will capture all songs\n",
    "genres_indices = {}\n",
    "for index, row in lyrics_df.iterrows():\n",
    "    genre = row['genres']\n",
    "    genre = genre.replace('&', ',') # Replaced for later on when we use it in HTML\n",
    "    genres_indices.setdefault(genre, []).append(index)\n",
    "    genres_indices.setdefault('all', []).append(index)\n",
    "    if genre not in genres_list:\n",
    "        genres_list.append(genre)"
   ]
  },
  {
   "cell_type": "markdown",
   "metadata": {},
   "source": [
    "We call our functions on the lyrics of each song and insert these tokens as a new column in the dataframe."
   ]
  },
  {
   "cell_type": "code",
   "execution_count": null,
   "metadata": {},
   "outputs": [],
   "source": [
    "lyrics_df['tokens'] = get_final_tokens(lyrics_df.lyrics.values)"
   ]
  },
  {
   "cell_type": "markdown",
   "metadata": {},
   "source": [
    "Now we add yet another column that is the sentiment of the lyrics of a particular song, obtained using the method described above. We scale the sentiment between 0 and 1 for our final visualisation. "
   ]
  },
  {
   "cell_type": "code",
   "execution_count": null,
   "metadata": {},
   "outputs": [],
   "source": [
    "all_lyrics = lyrics_df.lyrics.values\n",
    "sentiments = []\n",
    "for lyric in all_lyrics:\n",
    "    sentiment = get_sentiment(lyric)\n",
    "    sentiment = (sentiment + 1) / 2.0\n",
    "    sentiments.append(sentiment)\n",
    "lyrics_df['sentiment'] = sentiments"
   ]
  },
  {
   "cell_type": "markdown",
   "metadata": {},
   "source": [
    "Now we collect all our remaining data and output it into files that we will use for our visualisation. We first begin by aggregating the word frequencies by genre and year of release (songs without a year of release are dropped). Each word results in a file where each datapoint corresponds to a year and the frequency of the word in the particular genre and the particular year.\n",
    "\n",
    "The sentiment files are done in the same way, except that there is one file per genre.\n",
    "\n",
    "Moreover, a list of all words appearing for every genre is also created for our final data visualisation."
   ]
  },
  {
   "cell_type": "code",
   "execution_count": null,
   "metadata": {},
   "outputs": [],
   "source": [
    "# We will collect here a list of words for each genre\n",
    "# for our visualisation's autocomplete feature.\n",
    "genres_words = {}\n",
    "to_save = {}\n",
    "for genre, indices in genres_indices.items():\n",
    "    curr_df = lyrics_df.loc[indices]\n",
    "    genres_words[genre] = []\n",
    "    \n",
    "    # create the directory for words in each genre\n",
    "    directory_words = 'data/final_data/words/' + genre\n",
    "    if not os.path.exists(directory_words):\n",
    "        os.makedirs(directory_words)\n",
    "    \n",
    "    # create the directory for sentiments\n",
    "    directory_sentiments = 'data/final_data/sentiments'\n",
    "    if not os.path.exists(directory_sentiments):\n",
    "        os.makedirs(directory_sentiments)\n",
    "    \n",
    "    for year in curr_df[curr_df.year != 0].year.sort_values().unique():\n",
    "        curr_year_df = curr_df[curr_df.year == year]\n",
    "        # get the frequencies of words in the current genre and year\n",
    "        freqs = get_word_freq(curr_year_df.tokens.values)\n",
    "        # get the word count over this data for proportion calculation\n",
    "        word_count = sum(freqs.values())\n",
    "        \n",
    "        # get the sentiment values and calculate the proportion\n",
    "        sentiments = curr_year_df.sentiment.values\n",
    "        sentiment_avg = sum(sentiments) / float(len(sentiments))\n",
    "        filepath = directory_sentiments + '/' + genre + '.csv'\n",
    "        if not os.path.exists(filepath):\n",
    "            with open(filepath, 'a') as output_file:\n",
    "                print('year,value', file=output_file)\n",
    "        with open(filepath, 'a') as output_file:\n",
    "            print(str(year) + ',' + str(sentiment_avg), file=output_file)\n",
    "            \n",
    "        # save word data (proportions as well)\n",
    "        for word, freq in freqs.items():\n",
    "            # remove undesirable characters from filenames\n",
    "            for ch in ['/', '*', '\"', ':', '\\\\']:\n",
    "                word = word.replace(ch, '-')\n",
    "            if word != \"\":\n",
    "                filepath = directory_words + '/' + word + '.csv'\n",
    "                # saved in a directory to later output in a file\n",
    "                # this is done so that we don't append to the file\n",
    "                # before we know that there is more than one value.\n",
    "                # having a single value in our visualisation doesn't\n",
    "                # show anything but potentially makes other graphs \n",
    "                # look bad because of scaling.\n",
    "                to_save.setdefault((filepath, word, genre), []).append(str(year) + ',' + str(freq/float(word_count)))\n",
    "\n",
    "# save word data to files\n",
    "for filepath_word, lines in to_save.items():\n",
    "    filepath, word, genre = filepath_word\n",
    "    if len(lines) > 1: # save only if more than one datapoint\n",
    "        if word not in genres_words[genre]:\n",
    "            genres_words[genre].append(word)\n",
    "        with open(filepath, 'w') as output_file:\n",
    "            print('year,value', file=output_file)\n",
    "            for line in lines:\n",
    "                print(line, file=output_file)"
   ]
  },
  {
   "cell_type": "markdown",
   "metadata": {},
   "source": [
    "Finnaly, the list of genres that we created earlier will be of use for our data visualisation as an auto-complete feature when searching for genres. The same is the case for the lists of words per genre. This information is saved in files as defined below."
   ]
  },
  {
   "cell_type": "code",
   "execution_count": null,
   "metadata": {},
   "outputs": [],
   "source": [
    "for genre, words in genres_words.items():\n",
    "    with open('data/final_data/words/' + genre + '/allWords.json', 'w') as output_file:\n",
    "        json.dump(words, output_file)"
   ]
  },
  {
   "cell_type": "code",
   "execution_count": null,
   "metadata": {},
   "outputs": [],
   "source": [
    "with open('data/final_data/allGenres.json', 'w') as output_file:\n",
    "    json.dump(genres_list, output_file)"
   ]
  },
  {
   "cell_type": "markdown",
   "metadata": {},
   "source": [
    "### Topics Analysis"
   ]
  },
  {
   "cell_type": "markdown",
   "metadata": {},
   "source": [
    "And finally, to find the topics of our songs we use [Mallet](http://mallet.cs.umass.edu/topics.php).\n",
    "\n",
    "This method doesn't create a list of themes with clear names, but rather assumes that a topic is a collection of words, thus we will need to manually assign a name for each topic.\n",
    "\n",
    "The LDA model will output, for each song, a list of topics with different weights.\n",
    "\n",
    "The following code just outputs the collection of tokens with corresponding track ids."
   ]
  },
  {
   "cell_type": "code",
   "execution_count": null,
   "metadata": {},
   "outputs": [],
   "source": [
    "path = r'mallet/lyrics' \n",
    "if not os.path.exists(path):\n",
    "    os.makedirs(path)"
   ]
  },
  {
   "cell_type": "code",
   "execution_count": null,
   "metadata": {},
   "outputs": [],
   "source": [
    "for index, row in lyrics_df.iterrows():\n",
    "    with open(path + '/' + index + '.txt', \"w\") as text_file:\n",
    "        tokens = ''\n",
    "        for token in row.tokens:\n",
    "            tokens += token + ' '\n",
    "        text_file.write(tokens)"
   ]
  },
  {
   "cell_type": "code",
   "execution_count": null,
   "metadata": {},
   "outputs": [],
   "source": [
    "#if the number of topics is modified, you need to change it as well in the second command below\n",
    "num_topics = 20"
   ]
  },
  {
   "cell_type": "markdown",
   "metadata": {},
   "source": [
    "To process the output, just run the following command in Mallet's directory:\n",
    "\n",
    "`bin/mallet import-dir --input mallet/* --output lyrics.mallet --remove-stopwords --keep-sequence`\n",
    "\n",
    "We keep the `--remove-stopwords` just to be sure to remove all the stopwords."
   ]
  },
  {
   "cell_type": "markdown",
   "metadata": {},
   "source": [
    "And then this command :\n",
    "\n",
    "\n",
    "`bin/mallet train-topics --input lyrics.mallet --num-topics 20 --num-iterations 1000 --optimize-interval 10 --output-topic-keys topics_composition.txt --output-doc-topics songs_composition.txt?`\n",
    "\n",
    "The output should be in the folder `data` for the next operations."
   ]
  },
  {
   "cell_type": "markdown",
   "metadata": {},
   "source": [
    "We then load the prediction of the LDA model on the lyrics and add it to the lyrics dataset."
   ]
  },
  {
   "cell_type": "code",
   "execution_count": null,
   "metadata": {},
   "outputs": [],
   "source": [
    "songs_composition = pd.read_csv('data/songs_composition.txt', header=None, sep='\\t')"
   ]
  },
  {
   "cell_type": "code",
   "execution_count": null,
   "metadata": {},
   "outputs": [],
   "source": [
    "def df_get_id(filenames):\n",
    "    \"\"\"\n",
    "    Get the id of a song from the corresponding filename.\n",
    "    We need this because Mallet outputs the filepath and not the original ID.\n",
    "    \"\"\"\n",
    "    ids = []\n",
    "    for filename in filenames:\n",
    "        id_ = filename[1].split('/')[-1].split('.')[0]\n",
    "        ids.append(id_)\n",
    "    return ids\n",
    "\n",
    "def df_get_topics(df_topics):\n",
    "    \"\"\"\n",
    "    Get a single list of topics from the topics columns from\n",
    "    Mallets output file.\n",
    "    \"\"\"\n",
    "    list_topics = []\n",
    "    for row in df_topics:\n",
    "        topics = {}\n",
    "        for i in range(num_topics):\n",
    "            topics[i] = row[i + 2]\n",
    "        list_topics.append(topics)\n",
    "    return list_topics"
   ]
  },
  {
   "cell_type": "code",
   "execution_count": null,
   "metadata": {
    "scrolled": true
   },
   "outputs": [],
   "source": [
    "songs_composition['track_id'] = df_get_id(songs_composition.values)\n",
    "songs_composition['topics'] = df_get_topics(songs_composition.values)\n",
    "id_topics = songs_composition[['track_id', 'topics']]\n",
    "\n",
    "id_topics = id_topics.set_index('track_id')\n",
    "# We add the topics column to the lyrics dataset and name it result\n",
    "result = pd.concat([id_topics, lyrics_df], axis=1, join='inner')"
   ]
  },
  {
   "cell_type": "markdown",
   "metadata": {},
   "source": [
    "Now that we have the topics coefficient for each song, we can retrieve interesting information.\n",
    "The goal is to have for a given genre, the coefficient of a given topic for a given year.\n",
    "For instance to kown what is the importance of the Gangsta topics in the pop genre in the year 2007."
   ]
  },
  {
   "cell_type": "code",
   "execution_count": null,
   "metadata": {
    "scrolled": true
   },
   "outputs": [],
   "source": [
    "topics_genres = {}\n",
    "topics_all = {}\n",
    "\n",
    "# We iterate through the dataset\n",
    "for index, row in result.iterrows():\n",
    "    genre = row['genres']\n",
    "    genre = genre.replace('&', ',')\n",
    "    topics = row['topics']\n",
    "    year = row['year']\n",
    "    \n",
    "    # Add genre if not in topics_genres\n",
    "    if genre not in  topics_genres:\n",
    "        topics_genres[genre] = {}\n",
    "    \n",
    "    for topic in topics:\n",
    "        # Add topic if not in topics_genres[genres]\n",
    "        # This is where we add the topic value for a given genre\n",
    "        if not topic in topics_genres[genre]:\n",
    "            topics_genres[genre][topic] = {}\n",
    "        # Add year for this topic and initialize it\n",
    "        if not year in topics_genres[genre][topic]:\n",
    "            topics_genres[genre][topic][year] = []\n",
    "            topics_genres[genre][topic][year].append(0)\n",
    "            topics_genres[genre][topic][year].append(0)\n",
    "        # Sum the topic of this song for this year\n",
    "        topics_genres[genre][topic][year][0] += topics[topic]\n",
    "        # Increase the number of songs for this genre/topic/year \n",
    "        # in order to have a mean \n",
    "        topics_genres[genre][topic][year][1] += 1\n",
    "        \n",
    "        # Same as before but for all genre (special case)\n",
    "        if topic not in topics_all:\n",
    "            topics_all[topic] = {}\n",
    "        \n",
    "        if not year in topics_all[topic]:\n",
    "            topics_all[topic][year] = []\n",
    "            topics_all[topic][year].append(0)\n",
    "            topics_all[topic][year].append(0)\n",
    "        topics_all[topic][year][0] += topics[topic]\n",
    "        topics_all[topic][year][1] += 1"
   ]
  },
  {
   "cell_type": "code",
   "execution_count": null,
   "metadata": {},
   "outputs": [],
   "source": [
    "# Compute the mean for this genre/topic/year combination\n",
    "results = {}\n",
    "for genre in topics_genres:\n",
    "    results[genre] = {}\n",
    "    for topic in topics_genres[genre]:\n",
    "        results[genre][topic] = {}\n",
    "        for year in topics_genres[genre][topic]:\n",
    "            if year:\n",
    "                mean = topics_genres[genre][topic][year][0] / topics_genres[genre][topic][year][1] \n",
    "                results[genre][topic][year] = mean\n",
    "results\n",
    "\n",
    "# Same as above\n",
    "results_all = {}\n",
    "for topic in topics_all:\n",
    "    results_all[topic] = {}\n",
    "    for year in topics_all[topic]:\n",
    "        if year:\n",
    "            mean = topics_all[topic][year][0] / topics_all[topic][year][1] \n",
    "            results_all[topic][year] = mean"
   ]
  },
  {
   "cell_type": "code",
   "execution_count": null,
   "metadata": {},
   "outputs": [],
   "source": [
    "# Save the final result\n",
    "path = 'data/final_data/topics'\n",
    "for genre in results:\n",
    "    for topic in results[genre]:\n",
    "        directory = path + '/' + genre + '/'\n",
    "        if not os.path.exists(directory):\n",
    "            os.makedirs(directory)\n",
    "        with open((directory + str(topic) + '.csv'), 'w') as csvfile:\n",
    "            print('year,value', file=csvfile)\n",
    "            for year in sorted(results[genre][topic].keys()):\n",
    "                csvfile.write(str(year) + ',' + str(results[genre][topic][year]) + '\\n')\n",
    "\n",
    "path = 'data/final_data/topics'\n",
    "directory = path + '/' + 'all' + '/'\n",
    "if not os.path.exists(directory):\n",
    "    os.makedirs(directory)\n",
    "    \n",
    "for topic in results_all:\n",
    "    with open((directory + str(topic) + '.csv'), 'w') as csvfile:\n",
    "        print('year,value', file=csvfile)\n",
    "        for year in sorted(results_all[topic].keys()):\n",
    "            csvfile.write(str(year) + ',' + str(results_all[topic][year]) + '\\n')"
   ]
  },
  {
   "cell_type": "markdown",
   "metadata": {},
   "source": [
    "# Visualization"
   ]
  },
  {
   "cell_type": "markdown",
   "metadata": {},
   "source": [
    "As we have planned, we have a data visualisation website that displays our data as plots over the time of different distributions of topics, words or sentiments, separated by genre or not. The visualisation is available at the end of our data story [here](http://adelamare.eu/ADA/Project/). It is also available standalone [here](http://adelamare.eu/ADA/Project/fullViz.html)."
   ]
  }
 ],
 "metadata": {
  "kernelspec": {
   "display_name": "Python 3",
   "language": "python",
   "name": "python3"
  },
  "language_info": {
   "codemirror_mode": {
    "name": "ipython",
    "version": 3
   },
   "file_extension": ".py",
   "mimetype": "text/x-python",
   "name": "python",
   "nbconvert_exporter": "python",
   "pygments_lexer": "ipython3",
   "version": "3.6.7"
  }
 },
 "nbformat": 4,
 "nbformat_minor": 2
}
