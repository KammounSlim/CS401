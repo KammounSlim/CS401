{
 "cells": [
  {
   "cell_type": "code",
   "execution_count": 106,
   "metadata": {},
   "outputs": [],
   "source": [
    "#As always, we import everything\n",
    "import pandas as pd\n",
    "import os\n",
    "import re\n",
    "import hdf5_getters as getters\n",
    "import requests\n",
    "from bs4 import BeautifulSoup\n",
    "import numpy as np\n",
    "from collections import OrderedDict\n",
    "from tqdm import tqdm\n",
    "import csv\n",
    "import urllib\n",
    "from urllib.request import urlopen, HTTPError\n",
    "import nltk\n",
    "from nltk import word_tokenize\n",
    "from nltk.corpus import stopwords as stop_words\n",
    "from textblob import Word\n",
    "import pycountry\n",
    "from textblob import TextBlob\n",
    "from textblob.sentiments import NaiveBayesAnalyzer\n",
    "from gensim import corpora, models\n",
    "import matplotlib\n",
    "import json\n",
    "\n",
    "import warnings\n",
    "warnings.filterwarnings('ignore')"
   ]
  },
  {
   "cell_type": "markdown",
   "metadata": {},
   "source": [
    "# Introduction"
   ]
  },
  {
   "cell_type": "markdown",
   "metadata": {},
   "source": [
    "Our project consists of exploring the lyrics of many songs and finding themes and the usage of the words used in these songs over time. We use the Million Song dataset to find information about the song as well as various other datasets and sources to find lyrics data."
   ]
  },
  {
   "cell_type": "markdown",
   "metadata": {},
   "source": [
    "# Data Collection and Descriptive Analysis"
   ]
  },
  {
   "cell_type": "markdown",
   "metadata": {},
   "source": [
    "We begin by getting a list of all the files from our dataset. The Million Song dataset organises the dataset in multiple files and directories. The following code snippet gets all these files and prints the number of the files found."
   ]
  },
  {
   "cell_type": "code",
   "execution_count": 3,
   "metadata": {},
   "outputs": [],
   "source": [
    "data_dir = './' + 'data'"
   ]
  },
  {
   "cell_type": "code",
   "execution_count": 4,
   "metadata": {
    "scrolled": true
   },
   "outputs": [
    {
     "data": {
      "text/plain": [
       "0"
      ]
     },
     "execution_count": 4,
     "metadata": {},
     "output_type": "execute_result"
    }
   ],
   "source": [
    "# all_files contain all the files in the Million song subset downloaded (10000 datapoints)\n",
    "all_files = []\n",
    "for (dirpath, dirnames, filenames) in os.walk(os.path.join(data_dir + \"/MillionSongSubset/data\")):\n",
    "    all_files.extend([dirpath + \"/\" + filename for filename in filenames if filename.endswith(\".h5\")])\n",
    "all_files_num = len(all_files)\n",
    "all_files_num"
   ]
  },
  {
   "cell_type": "markdown",
   "metadata": {},
   "source": [
    "Some helpful methods to get information from million song dataset"
   ]
  },
  {
   "cell_type": "code",
   "execution_count": 5,
   "metadata": {},
   "outputs": [],
   "source": [
    "def get_num_songs(filename):\n",
    "    \"\"\"\n",
    "    Wrapper around getter method provided with the dataset.\n",
    "    \"\"\"\n",
    "    h5 = getters.open_h5_file_read(filename)\n",
    "    track_id = getters.get_num_songs(h5)\n",
    "    h5.close()\n",
    "    return track_id"
   ]
  },
  {
   "cell_type": "code",
   "execution_count": 6,
   "metadata": {},
   "outputs": [],
   "source": [
    "def get_track_id(filename):\n",
    "    \"\"\"\n",
    "    Wrapper around getter method provided with the dataset.\n",
    "    \"\"\"\n",
    "    h5 = getters.open_h5_file_read(filename)\n",
    "    track_id = getters.get_track_id(h5)\n",
    "    h5.close()\n",
    "    return track_id"
   ]
  },
  {
   "cell_type": "code",
   "execution_count": 7,
   "metadata": {},
   "outputs": [],
   "source": [
    "def get_title(filename):\n",
    "    \"\"\"\n",
    "    Wrapper around getter method provided with the dataset.\n",
    "    \"\"\"\n",
    "    h5 = getters.open_h5_file_read(filename)\n",
    "    title = getters.get_title(h5).decode()\n",
    "    h5.close()\n",
    "    return title"
   ]
  },
  {
   "cell_type": "code",
   "execution_count": 8,
   "metadata": {},
   "outputs": [],
   "source": [
    "def get_artist_name(filename):\n",
    "    \"\"\"\n",
    "    Wrapper around getter method provided with the dataset.\n",
    "    \"\"\"\n",
    "    h5 = getters.open_h5_file_read(filename)\n",
    "    artist_name = getters.get_artist_name(h5).decode()\n",
    "    h5.close()\n",
    "    return artist_name"
   ]
  },
  {
   "cell_type": "code",
   "execution_count": 9,
   "metadata": {},
   "outputs": [],
   "source": [
    "def get_year(filename):\n",
    "    \"\"\"\n",
    "    Wrapper around getter method provided with the dataset.\n",
    "    \"\"\"\n",
    "    h5 = getters.open_h5_file_read(filename)\n",
    "    year = getters.get_year(h5)\n",
    "    h5.close()\n",
    "    return year"
   ]
  },
  {
   "cell_type": "markdown",
   "metadata": {},
   "source": [
    "Using an additional dataset obtained from the million song website that contains genre information, create genre_dataset. This dataset contains genre information for 191401 songs. "
   ]
  },
  {
   "cell_type": "code",
   "execution_count": 10,
   "metadata": {},
   "outputs": [
    {
     "data": {
      "text/plain": [
       "'\\n\\n# Create genre dataframe\\ngenre_dataset = pd.read_table(os.path.join(data_dir, \\'tagtraum_genre_annotations/genre_dataset.txt\\'),\\n                              delimiter =\\'\\t\\', names=(\\'track_id\\', \\'genre\\'), index_col = \\'track_id\\')\\n\\n\\n# remove first row \\ngenre_dataset = genre_dataset.iloc[1:]\\n# remove comma\\ngenre_dataset[\\'genre\\'] = genre_dataset[\\'genre\\'].str[:-1]\\n\\nprint(genre_dataset.shape)\\ngenre_dataset.head()\\n\\n# Another helpful dataset obtained from the website of million song dataset is one that contains year the track was released. In addition to year, it also contains track_id, the name of the artist, and title of the track. This dataset contains 515576 data points. \\n\\n# Create year dataframe \\nyear_dataset = pd.read_table(os.path.join(data_dir, \\'tracks_per_year.txt\\'),delimiter =\\'<SEP>\\',\\n                             names=(\\'year\\',\\'track_id\\', \\'artist_name\\',\\'title\\'), index_col = \\'track_id\\')\\n\\nprint(year_dataset.shape)\\nyear_dataset.head()\\n\\nyear_artist_name_title_genre = pd.merge(year_dataset, genre_dataset, left_index=True, right_index=True)\\nyear_artist_name_title_genre[[\\'artist_name\\',\\'title\\']] = year_artist_name_title_genre[[\\'artist_name\\',\\'title\\']].apply(lambda x: x.str.lower())\\n\\nprint(year_artist_name_title_genre.shape)\\nyear_artist_name_title_genre.head()\\n\\nyear_artist_name_title_genre.year.unique()\\n\\nyear_artist_name_title_genre.genre.unique()\\n\\n# End of Genre/ Year Intersection. Number of Data points available: 152793\\n\\n# The next two cells takes about 5min to run. It takes all the .h5 files from million songs dataset and extracts the track_id, title and artist_name. It then puts all of it into a dataframe. \\n\\nMerge with \\nlo_track_id = []\\nlo_title = []\\nlo_artist_name = []\\nfor file_name in all_files:\\n    track_id = get_track_id(file_name)\\n    lo_track_id.append(track_id.decode(\"utf-8\"))\\n    title = get_title(file_name)\\n    lo_title.append(title.lower())\\n    artist_name = get_artist_name(file_name)\\n    lo_artist_name.append(artist_name.lower())\\n\\nmillion_song = pd.DataFrame(\\n    {\\'track_id\\': lo_track_id,\\n     \\'artist_name\\': lo_artist_name,\\n     \\'title\\': lo_title\\n    })\\n'"
      ]
     },
     "execution_count": 10,
     "metadata": {},
     "output_type": "execute_result"
    }
   ],
   "source": [
    "'''\n",
    "\n",
    "# Create genre dataframe\n",
    "genre_dataset = pd.read_table(os.path.join(data_dir, 'tagtraum_genre_annotations/genre_dataset.txt'),\n",
    "                              delimiter ='\\t', names=('track_id', 'genre'), index_col = 'track_id')\n",
    "\n",
    "\n",
    "# remove first row \n",
    "genre_dataset = genre_dataset.iloc[1:]\n",
    "# remove comma\n",
    "genre_dataset['genre'] = genre_dataset['genre'].str[:-1]\n",
    "\n",
    "print(genre_dataset.shape)\n",
    "genre_dataset.head()\n",
    "\n",
    "# Another helpful dataset obtained from the website of million song dataset is one that contains year the track was released. In addition to year, it also contains track_id, the name of the artist, and title of the track. This dataset contains 515576 data points. \n",
    "\n",
    "# Create year dataframe \n",
    "year_dataset = pd.read_table(os.path.join(data_dir, 'tracks_per_year.txt'),delimiter ='<SEP>',\n",
    "                             names=('year','track_id', 'artist_name','title'), index_col = 'track_id')\n",
    "\n",
    "print(year_dataset.shape)\n",
    "year_dataset.head()\n",
    "\n",
    "year_artist_name_title_genre = pd.merge(year_dataset, genre_dataset, left_index=True, right_index=True)\n",
    "year_artist_name_title_genre[['artist_name','title']] = year_artist_name_title_genre[['artist_name','title']].apply(lambda x: x.str.lower())\n",
    "\n",
    "print(year_artist_name_title_genre.shape)\n",
    "year_artist_name_title_genre.head()\n",
    "\n",
    "year_artist_name_title_genre.year.unique()\n",
    "\n",
    "year_artist_name_title_genre.genre.unique()\n",
    "\n",
    "# End of Genre/ Year Intersection. Number of Data points available: 152793\n",
    "\n",
    "# The next two cells takes about 5min to run. It takes all the .h5 files from million songs dataset and extracts the track_id, title and artist_name. It then puts all of it into a dataframe. \n",
    "\n",
    "Merge with \n",
    "lo_track_id = []\n",
    "lo_title = []\n",
    "lo_artist_name = []\n",
    "for file_name in all_files:\n",
    "    track_id = get_track_id(file_name)\n",
    "    lo_track_id.append(track_id.decode(\"utf-8\"))\n",
    "    title = get_title(file_name)\n",
    "    lo_title.append(title.lower())\n",
    "    artist_name = get_artist_name(file_name)\n",
    "    lo_artist_name.append(artist_name.lower())\n",
    "\n",
    "million_song = pd.DataFrame(\n",
    "    {'track_id': lo_track_id,\n",
    "     'artist_name': lo_artist_name,\n",
    "     'title': lo_title\n",
    "    })\n",
    "'''"
   ]
  },
  {
   "cell_type": "code",
   "execution_count": 44,
   "metadata": {},
   "outputs": [
    {
     "data": {
      "text/html": [
       "<div>\n",
       "<style scoped>\n",
       "    .dataframe tbody tr th:only-of-type {\n",
       "        vertical-align: middle;\n",
       "    }\n",
       "\n",
       "    .dataframe tbody tr th {\n",
       "        vertical-align: top;\n",
       "    }\n",
       "\n",
       "    .dataframe thead th {\n",
       "        text-align: right;\n",
       "    }\n",
       "</style>\n",
       "<table border=\"1\" class=\"dataframe\">\n",
       "  <thead>\n",
       "    <tr style=\"text-align: right;\">\n",
       "      <th></th>\n",
       "      <th>year</th>\n",
       "      <th>artist_name</th>\n",
       "      <th>title</th>\n",
       "      <th>genre</th>\n",
       "    </tr>\n",
       "    <tr>\n",
       "      <th>track_id</th>\n",
       "      <th></th>\n",
       "      <th></th>\n",
       "      <th></th>\n",
       "      <th></th>\n",
       "    </tr>\n",
       "  </thead>\n",
       "  <tbody>\n",
       "    <tr>\n",
       "      <th>TRSGHLU128F421DF83</th>\n",
       "      <td>1922</td>\n",
       "      <td>alberta hunter</td>\n",
       "      <td>don't pan me</td>\n",
       "      <td>Blues</td>\n",
       "    </tr>\n",
       "    <tr>\n",
       "      <th>TRRAHXQ128F42511FF</th>\n",
       "      <td>1922</td>\n",
       "      <td>barrington levy</td>\n",
       "      <td>looking my love</td>\n",
       "      <td>Reggae</td>\n",
       "    </tr>\n",
       "    <tr>\n",
       "      <th>TRFAFTK12903CC77B8</th>\n",
       "      <td>1922</td>\n",
       "      <td>barrington levy</td>\n",
       "      <td>warm and sunny day</td>\n",
       "      <td>Reggae</td>\n",
       "    </tr>\n",
       "    <tr>\n",
       "      <th>TRTRKSF12903CFEDD7</th>\n",
       "      <td>1924</td>\n",
       "      <td>vernon dalhart</td>\n",
       "      <td>wreck of the old 97</td>\n",
       "      <td>Country</td>\n",
       "    </tr>\n",
       "    <tr>\n",
       "      <th>TRQYSYF128F935F350</th>\n",
       "      <td>1925</td>\n",
       "      <td>bessie smith</td>\n",
       "      <td>careless love blues</td>\n",
       "      <td>Blues</td>\n",
       "    </tr>\n",
       "  </tbody>\n",
       "</table>\n",
       "</div>"
      ],
      "text/plain": [
       "                    year      artist_name                title    genre\n",
       "track_id                                                               \n",
       "TRSGHLU128F421DF83  1922   alberta hunter         don't pan me    Blues\n",
       "TRRAHXQ128F42511FF  1922  barrington levy      looking my love   Reggae\n",
       "TRFAFTK12903CC77B8  1922  barrington levy   warm and sunny day   Reggae\n",
       "TRTRKSF12903CFEDD7  1924   vernon dalhart  wreck of the old 97  Country\n",
       "TRQYSYF128F935F350  1925     bessie smith  careless love blues    Blues"
      ]
     },
     "execution_count": 44,
     "metadata": {},
     "output_type": "execute_result"
    }
   ],
   "source": [
    "# Saving to csv\n",
    "\n",
    "# year_artist_name_title_genre.to_csv(os.path.join(data_dir + \"/year_artist_name_title_genre.csv\"), encoding='utf-8')\n",
    "\n",
    "# Loading\n",
    "\n",
    "year_artist_name_title_genre = pd.read_csv(os.path.join(data_dir + \"/year_artist_name_title_genre.csv\")).set_index('track_id')\n",
    "year_artist_name_title_genre.head()"
   ]
  },
  {
   "cell_type": "markdown",
   "metadata": {},
   "source": [
    "# Descriptive Analysis"
   ]
  },
  {
   "cell_type": "code",
   "execution_count": 12,
   "metadata": {},
   "outputs": [
    {
     "data": {
      "text/plain": [
       "Rock          62344\n",
       "Electronic    18043\n",
       "Pop           11058\n",
       "Jazz          10662\n",
       "Rap            8156\n",
       "Metal          8035\n",
       "RnB            7692\n",
       "Country        6652\n",
       "Reggae         5475\n",
       "Blues          4228\n",
       "Folk           3484\n",
       "Punk           2739\n",
       "Latin          1954\n",
       "World          1384\n",
       "New Age         887\n",
       "Name: genre, dtype: int64"
      ]
     },
     "execution_count": 12,
     "metadata": {},
     "output_type": "execute_result"
    }
   ],
   "source": [
    "year_artist_name_title_genre['genre'].value_counts()"
   ]
  },
  {
   "cell_type": "code",
   "execution_count": 55,
   "metadata": {},
   "outputs": [
    {
     "data": {
      "text/plain": [
       "<matplotlib.axes._subplots.AxesSubplot at 0x11e0e7080>"
      ]
     },
     "execution_count": 55,
     "metadata": {},
     "output_type": "execute_result"
    },
    {
     "data": {
      "image/png": "[encoded data removed]",
      "text/plain": [
       "<Figure size 432x288 with 1 Axes>"
      ]
     },
     "metadata": {
      "needs_background": "light"
     },
     "output_type": "display_data"
    }
   ],
   "source": [
    "# Value count by Genre \n",
    "value_count_by_genre = year_artist_name_title_genre['genre'].value_counts().plot(kind = 'bar')\n",
    "value_count_by_genre\n"
   ]
  },
  {
   "cell_type": "code",
   "execution_count": 58,
   "metadata": {},
   "outputs": [
    {
     "name": "stdout",
     "output_type": "stream",
     "text": [
      "2000    87300\n",
      "1990    36693\n",
      "1980    13201\n",
      "1970     8340\n",
      "1960     3580\n",
      "2010     2399\n",
      "1950      944\n",
      "1940      138\n",
      "1930      111\n",
      "1920       87\n",
      "Name: decade, dtype: int64\n"
     ]
    },
    {
     "data": {
      "text/plain": [
       "<matplotlib.axes._subplots.AxesSubplot at 0x120ab8d68>"
      ]
     },
     "execution_count": 58,
     "metadata": {},
     "output_type": "execute_result"
    },
    {
     "data": {
      "image/png": "[encoded data removed]",
      "text/plain": [
       "<Figure size 432x288 with 1 Axes>"
      ]
     },
     "metadata": {
      "needs_background": "light"
     },
     "output_type": "display_data"
    }
   ],
   "source": [
    "# value \n",
    "year_artist_name_title_genre['decade'] = (year_artist_name_title_genre['year'] // 10) * 10\n",
    "#year_artist_name_title_genre = year_artist_name_title_genre.sort_index(axis = 1)\n",
    "value_count_by_year = year_artist_name_title_genre['decade'].value_counts().plot(kind = 'bar')\n",
    "\n",
    "print(year_artist_name_title_genre['decade'].value_counts())\n",
    "value_count_by_year"
   ]
  },
  {
   "cell_type": "markdown",
   "metadata": {},
   "source": [
    "# Notes from meeting:\n",
    "Question for TA: \n",
    "\n",
    "Current situation: Using the genre dataset (200k +) and year dataset (500k+) from Million song website, we were able to have a dataframe with 150k + data points with trackID, title, genre, artist, and year information. And using the million song subset (10000), we were able to find all 10000 in the 150k+ dataframe. \n",
    "\n",
    "We are currently in the process of obtaining the lyrics for all of these songs using an existing API. \n",
    "\n",
    "0. Do you think it's necessary for us to download the entire dataset to maybe get more data to work with? \n",
    "\n",
    "Some quick descriptive analysis shows that we have predominantly songs in Rock, and by decades, since the dataset only contains songs from 1920s to the year 2010. \n",
    "\n",
    "\n",
    "1. about feminism playlist: how many training points do we need to have classified ourselves (either manual labelling or scraping the internet) for us to train a valid model to start classifying our dataset (pro, neutral, anti)?\n",
    "\n",
    "next step?\n",
    "\n",
    "1. get the lyrics (see how many we get) \n",
    "2. check the year distribution of the 10000 data points \n",
    "3. Narrower timeframe (1970s to 2000s, 2010) \n",
    "\n",
    "Next step for this weekend (milestone2): \n",
    "separate year and genre data\n",
    "for year, work with 500k points and see point distribution. Consider working with a narrower timeframe (eg. 1970s to 2010, and maybe take subsets from 2000s). \n",
    "for genre, work with subsets of rock, and pop, electronic, jazz, rap etc. \n",
    "_____\n",
    "\n",
    "lyrics: \n",
    "scrape lyrics for the 500k+ points now from year \n",
    "in addition to the genre/ year intersection\n",
    "\n",
    "look for \"bad\" key words to classify songs: use bag of word\n",
    "use RAP lyrics as a reference (see the most frequently occurring words) \n",
    "=> find corpus of words related to women, and classify them as positive, neutral, negative \n",
    "\n",
    "\n",
    "Milestone 2: \n",
    "- we still need the lyrics \n",
    "simply analysis: \n",
    "correlation between year and genre \n",
    "\n",
    "-# of bad words per genre, and find out which genre is disrepecting the ladies the most (counting the bad words) \n",
    "bag of words \n"
   ]
  },
  {
   "cell_type": "markdown",
   "metadata": {},
   "source": [
    "# Arthur's code here"
   ]
  },
  {
   "cell_type": "code",
   "execution_count": 115,
   "metadata": {},
   "outputs": [],
   "source": [
    "import re\n",
    "import lyricfetcher\n",
    "\n",
    "def scrape_lyrics(artists_list,songs_list):\n",
    "    '''\n",
    "    \n",
    "    '''\n",
    "    lyrics_not_found = []\n",
    "    if (len(artists_list) == 0 or len(songs_list) == 0):\n",
    "        raise ValueError('The provided artists list or songs list is empty')\n",
    "        \n",
    "    elif (len(artists_list) != len(songs_list)):\n",
    "        raise ValueError('The provided artists and songs lists have different lenghts')\n",
    "        \n",
    "    else:\n",
    "        lyrics = []\n",
    "        \n",
    "        for i in tqdm(range(len(artists_list))):\n",
    "            try:\n",
    "                lyrics_metro = str(lyricfetcher.get_lyrics('metrolyrics',artists_list[i],songs_list[i]))\n",
    "                lyrics_metro = re.sub(r'[\\[].*?[\\]]', '', lyrics_metro.replace('\\n', ' '))\n",
    "                lyrics_metro = re.sub(',', '', lyrics_metro)\n",
    "\n",
    "                if (lyrics_metro == \"\" or len(lyrics_metro.split())<3):\n",
    "                    lyrics_az = str(lyricfetcher.get_lyrics('azlyrics',artists_list[i],songs_list[i]))\n",
    "                    lyrics_az = re.sub(r'[\\[].*?[\\]]', '', lyrics_az.replace('\\n', ' '))\n",
    "                    lyrics_az = re.sub(',', '', lyrics_az)\n",
    "\n",
    "                    if (lyrics_az == \"\" or len(lyrics_az.split())<3):\n",
    "                        lyrics_wikia = str(lyricfetcher.get_lyrics('lyricswikia',artists_list[i],songs_list[i]))\n",
    "                        lyrics_wikia = re.sub(r'[\\[].*?[\\]]', '', lyrics_wikia.replace('\\n', ' '))\n",
    "                        lyrics_wikia = re.sub(',', '', lyrics_wikia)\n",
    "                        \n",
    "                        if (lyrics_wikia == \"\" or len(lyrics_wikia.split())<3):\n",
    "                            try:\n",
    "                                lyrics_herokuapp = json.load(urllib.request.urlopen('http://lyric-api.herokuapp.com/api/find/' \n",
    "                                                                                + artists_list[i].replace(' ', '%20') + '/' \n",
    "                                                                                + songs_list[i].replace(' ', '%20') + '.html'))['lyric']\n",
    "                            except HTTPError:\n",
    "                                lyrics_herokuapp = ''\n",
    "                                \n",
    "                            lyrics_herokuapp = re.sub(r'[\\[].*?[\\]]', '', lyrics_herokuapp.replace('\\n', ' '))\n",
    "                            lyrics_herokuapp = re.sub(',', '', lyrics_herokuapp)\n",
    "                            \n",
    "                            if (lyrics_herokuapp == \"\" or len(lyrics_herokuapp.split())<3):\n",
    "                                lyrics.append(\"\")\n",
    "                                raise ValueError('No lyrics OR lyrics smaller or equal to 2 words found')\n",
    "                                \n",
    "                            else:\n",
    "                                lyrics.append(lyrics_herokuapp)\n",
    "                        else:\n",
    "                            lyrics.append(lyrics_wikia)\n",
    "                    else:\n",
    "                        lyrics.append(lyrics_az)\n",
    "\n",
    "                else:\n",
    "                    lyrics.append(lyrics_metro)\n",
    "                    \n",
    "            except ValueError:\n",
    "                lyrics_not_found.append([artists_list[i],songs_list[i]])\n",
    "                continue\n",
    "    return lyrics, lyrics_not_found"
   ]
  },
  {
   "cell_type": "code",
   "execution_count": 117,
   "metadata": {},
   "outputs": [
    {
     "name": "stdout",
     "output_type": "stream",
     "text": [
      "[]\n"
     ]
    }
   ],
   "source": [
    "'''\n",
    "Gets track ids already in csv file\n",
    "Avoid scraping lyrics when already attempted (if track id already in the csv file)\n",
    "New track ids and lyrics will be added rows BELOW the actual csv file, without deleting actual lyrics\n",
    "'''\n",
    "\n",
    "lyrics_csv_filename = os.path.join(data_dir + \"/lyrics_year_genre.csv\")\n",
    "\n",
    "with open(lyrics_csv_filename, \"r\") as f:\n",
    "    reader = csv.reader(f)\n",
    "    try:\n",
    "        track_id_csvfile = next(reader)\n",
    "    except StopIteration:\n",
    "        track_id_csvfile = []\n",
    "        \n",
    "print(track_id_csvfile)"
   ]
  },
  {
   "cell_type": "code",
   "execution_count": 118,
   "metadata": {},
   "outputs": [],
   "source": [
    "def diff(li1, li2): \n",
    "    return (list(set(li1) - set(li2))) "
   ]
  },
  {
   "cell_type": "code",
   "execution_count": 125,
   "metadata": {},
   "outputs": [],
   "source": [
    "#Provide here the full set of tracks you would like to get in final\n",
    "artists_to_scrape = year_artist_name_title_genre['artist_name'].tail(200)\n",
    "titles_to_scrape = year_artist_name_title_genre['title'].tail(200)\n",
    "track_ids_to_scrape = year_artist_name_title_genre.index.values.tolist()[-200:]\n",
    "\n",
    "assert(len(artists_to_scrape)==len(titles_to_scrape) & len(artists_to_scrape)==len(track_ids_to_scrape))\n",
    "\n",
    "# print(len(track_id_csvfile), len(track_ids_to_scrape), len(artists_to_scrape), len(track_ids_to_scrape), len(year_artist_name_title_genre['artist_name']))\n",
    "\n",
    "# Don't input anything below\n",
    "track_ids_to_scrape = diff(track_ids_to_scrape, track_id_csvfile)\n",
    "artists_to_scrape = year_artist_name_title_genre.loc[track_ids_to_scrape]['artist_name']\n",
    "titles_to_scrape = year_artist_name_title_genre.loc[track_ids_to_scrape]['title']"
   ]
  },
  {
   "cell_type": "code",
   "execution_count": 126,
   "metadata": {},
   "outputs": [
    {
     "name": "stdout",
     "output_type": "stream",
     "text": [
      "0 200 200 200 152793\n"
     ]
    }
   ],
   "source": [
    "print(len(track_id_csvfile), len(track_ids_to_scrape), len(artists_to_scrape), len(titles_to_scrape), len(year_artist_name_title_genre['artist_name']))\n",
    "# print(year_artist_name_title_genre['title'])"
   ]
  },
  {
   "cell_type": "code",
   "execution_count": 127,
   "metadata": {},
   "outputs": [
    {
     "name": "stderr",
     "output_type": "stream",
     "text": [
      "\n",
      "\n",
      "  0%|                                                                                          | 0/200 [00:00<?, ?it/s]\n",
      "\n",
      "  0%|▍                                                                                 | 1/200 [00:00<03:12,  1.03it/s]\n",
      "\n",
      "  2%|█▏                                                                                | 3/200 [00:01<02:31,  1.30it/s]\n",
      "\n",
      "  2%|██                                                                                | 5/200 [00:02<02:13,  1.46it/s]\n",
      "\n",
      "  3%|██▍                                                                               | 6/200 [00:03<02:52,  1.12it/s]\n",
      "\n",
      "  4%|██▊                                                                               | 7/200 [00:04<02:41,  1.19it/s]\n",
      "\n",
      "  4%|███▎                                                                              | 8/200 [00:05<02:28,  1.30it/s]\n",
      "\n",
      "  4%|███▋                                                                              | 9/200 [00:05<02:22,  1.34it/s]\n",
      "\n",
      "  5%|████                                                                             | 10/200 [00:07<02:48,  1.13it/s]\n",
      "\n",
      "  6%|████▊                                                                            | 12/200 [00:07<02:17,  1.37it/s]\n",
      "\n",
      "  6%|█████▎                                                                           | 13/200 [00:09<03:26,  1.10s/it]\n",
      "\n",
      "  7%|█████▋                                                                           | 14/200 [00:10<02:58,  1.04it/s]\n",
      "\n",
      "  8%|██████                                                                           | 15/200 [00:11<03:11,  1.03s/it]\n",
      "\n",
      "  8%|██████▍                                                                          | 16/200 [00:13<03:54,  1.28s/it]\n",
      "\n",
      "  8%|██████▉                                                                          | 17/200 [00:15<04:27,  1.46s/it]\n",
      "\n",
      "  9%|███████▎                                                                         | 18/200 [00:17<04:40,  1.54s/it]\n",
      "\n",
      " 10%|███████▋                                                                         | 19/200 [00:19<04:58,  1.65s/it]\n",
      "\n",
      " 10%|████████                                                                         | 20/200 [00:19<04:05,  1.36s/it]\n",
      "\n",
      " 10%|████████▌                                                                        | 21/200 [00:21<04:00,  1.35s/it]\n",
      "\n",
      " 11%|████████▉                                                                        | 22/200 [00:23<04:54,  1.66s/it]\n",
      "\n",
      " 12%|█████████▎                                                                       | 23/200 [00:23<03:51,  1.31s/it]\n",
      "\n",
      " 12%|█████████▋                                                                       | 24/200 [00:25<03:53,  1.33s/it]\n",
      "\n",
      " 12%|██████████▏                                                                      | 25/200 [00:26<03:55,  1.35s/it]\n",
      "\n",
      " 13%|██████████▌                                                                      | 26/200 [00:27<03:48,  1.31s/it]\n",
      "\n",
      " 14%|██████████▉                                                                      | 27/200 [00:28<03:09,  1.10s/it]\n",
      "\n",
      " 14%|███████████▎                                                                     | 28/200 [00:29<03:12,  1.12s/it]\n",
      "\n",
      " 14%|███████████▋                                                                     | 29/200 [00:31<03:40,  1.29s/it]\n",
      "\n",
      " 15%|████████████▏                                                                    | 30/200 [00:32<03:38,  1.29s/it]\n",
      "\n",
      " 16%|████████████▌                                                                    | 31/200 [00:33<03:02,  1.08s/it]\n",
      "\n",
      " 16%|████████████▉                                                                    | 32/200 [00:34<03:22,  1.20s/it]\n",
      "\n",
      " 16%|█████████████▎                                                                   | 33/200 [00:36<04:01,  1.44s/it]\n",
      "\n",
      " 17%|█████████████▊                                                                   | 34/200 [00:38<03:59,  1.44s/it]\n",
      "\n",
      " 18%|██████████████▏                                                                  | 35/200 [00:38<03:11,  1.16s/it]\n",
      "\n",
      " 18%|██████████████▌                                                                  | 36/200 [00:40<03:54,  1.43s/it]\n",
      "\n",
      " 18%|██████████████▉                                                                  | 37/200 [00:41<03:10,  1.17s/it]\n",
      "\n",
      " 20%|████████████████▏                                                                | 40/200 [00:42<02:32,  1.05it/s]\n",
      "\n",
      " 20%|████████████████▌                                                                | 41/200 [00:43<02:41,  1.02s/it]\n",
      "\n",
      " 21%|█████████████████                                                                | 42/200 [00:44<02:21,  1.12it/s]\n",
      "\n",
      " 22%|█████████████████▍                                                               | 43/200 [00:45<02:22,  1.11it/s]\n",
      "\n",
      " 22%|█████████████████▊                                                               | 44/200 [00:46<02:31,  1.03it/s]\n",
      "\n",
      " 22%|██████████████████▏                                                              | 45/200 [00:48<03:08,  1.22s/it]\n",
      "\n",
      " 23%|██████████████████▋                                                              | 46/200 [00:48<02:42,  1.06s/it]\n",
      "\n",
      " 24%|███████████████████                                                              | 47/200 [00:51<04:01,  1.58s/it]\n",
      "\n",
      " 24%|███████████████████▍                                                             | 48/200 [00:53<03:56,  1.55s/it]\n",
      "\n",
      " 24%|███████████████████▊                                                             | 49/200 [00:55<04:19,  1.72s/it]\n",
      "\n",
      " 25%|████████████████████▎                                                            | 50/200 [00:56<04:02,  1.62s/it]\n",
      "\n",
      " 26%|████████████████████▋                                                            | 51/200 [00:58<04:23,  1.77s/it]\n",
      "\n",
      " 26%|█████████████████████▍                                                           | 53/200 [01:01<03:52,  1.58s/it]\n",
      "\n",
      " 27%|█████████████████████▊                                                           | 54/200 [01:02<03:49,  1.57s/it]\n",
      "\n",
      " 28%|██████████████████████▎                                                          | 55/200 [01:03<03:18,  1.37s/it]\n",
      "\n",
      " 28%|██████████████████████▋                                                          | 56/200 [01:04<03:16,  1.37s/it]\n",
      "\n",
      " 28%|███████████████████████                                                          | 57/200 [01:06<03:13,  1.35s/it]\n",
      "\n",
      " 29%|███████████████████████▍                                                         | 58/200 [01:06<02:38,  1.12s/it]\n",
      "\n",
      " 30%|███████████████████████▉                                                         | 59/200 [01:09<03:35,  1.53s/it]\n",
      "\n",
      " 30%|████████████████████████▋                                                        | 61/200 [01:10<02:53,  1.25s/it]\n",
      "\n",
      " 31%|█████████████████████████                                                        | 62/200 [01:10<02:12,  1.04it/s]\n",
      "\n",
      " 32%|█████████████████████████▌                                                       | 63/200 [01:11<01:45,  1.30it/s]\n",
      "\n",
      " 32%|█████████████████████████▉                                                       | 64/200 [01:13<02:31,  1.12s/it]\n",
      "\n",
      " 32%|██████████████████████████▎                                                      | 65/200 [01:14<02:55,  1.30s/it]\n",
      "\n",
      " 33%|██████████████████████████▋                                                      | 66/200 [01:16<02:49,  1.27s/it]\n",
      "\n",
      " 34%|███████████████████████████▌                                                     | 68/200 [01:17<02:31,  1.15s/it]\n",
      "\n",
      " 34%|███████████████████████████▉                                                     | 69/200 [01:19<02:38,  1.21s/it]\n",
      "\n",
      " 35%|████████████████████████████▎                                                    | 70/200 [01:20<02:34,  1.19s/it]\n",
      "\n",
      " 36%|████████████████████████████▊                                                    | 71/200 [01:22<03:07,  1.45s/it]\n",
      "\n",
      " 36%|█████████████████████████████▏                                                   | 72/200 [01:22<02:34,  1.21s/it]\n",
      "\n",
      " 36%|█████████████████████████████▌                                                   | 73/200 [01:23<02:13,  1.05s/it]\n",
      "\n",
      " 37%|█████████████████████████████▉                                                   | 74/200 [01:25<02:37,  1.25s/it]\n",
      "\n"
     ]
    },
    {
     "name": "stderr",
     "output_type": "stream",
     "text": [
      " 38%|██████████████████████████████▍                                                  | 75/200 [01:26<02:34,  1.24s/it]\n",
      "\n",
      " 38%|██████████████████████████████▊                                                  | 76/200 [01:27<02:08,  1.04s/it]\n",
      "\n",
      " 38%|███████████████████████████████▏                                                 | 77/200 [01:27<01:58,  1.04it/s]\n",
      "\n",
      " 39%|███████████████████████████████▌                                                 | 78/200 [01:29<02:06,  1.04s/it]\n",
      "\n",
      " 40%|███████████████████████████████▉                                                 | 79/200 [01:30<02:09,  1.07s/it]\n",
      "\n",
      " 40%|████████████████████████████████▍                                                | 80/200 [01:31<02:11,  1.09s/it]\n",
      "\n",
      " 40%|████████████████████████████████▊                                                | 81/200 [01:33<02:49,  1.42s/it]\n",
      "\n",
      " 41%|█████████████████████████████████▏                                               | 82/200 [01:34<02:12,  1.12s/it]\n",
      "\n",
      " 42%|█████████████████████████████████▌                                               | 83/200 [01:35<02:16,  1.17s/it]\n",
      "\n",
      " 42%|██████████████████████████████████                                               | 84/200 [01:37<02:41,  1.39s/it]\n",
      "\n",
      " 42%|██████████████████████████████████▍                                              | 85/200 [01:39<02:54,  1.51s/it]\n",
      "\n",
      " 43%|██████████████████████████████████▊                                              | 86/200 [01:41<03:11,  1.68s/it]\n",
      "\n",
      " 44%|███████████████████████████████████▏                                             | 87/200 [01:42<02:52,  1.52s/it]\n",
      "\n",
      " 44%|███████████████████████████████████▋                                             | 88/200 [01:43<02:37,  1.41s/it]\n",
      "\n",
      " 44%|████████████████████████████████████                                             | 89/200 [01:45<02:55,  1.58s/it]\n",
      "\n",
      " 45%|████████████████████████████████████▍                                            | 90/200 [01:46<02:39,  1.45s/it]\n",
      "\n",
      " 46%|████████████████████████████████████▊                                            | 91/200 [01:48<02:47,  1.54s/it]\n",
      "\n",
      " 46%|█████████████████████████████████████▎                                           | 92/200 [01:49<02:44,  1.52s/it]\n",
      "\n",
      " 46%|█████████████████████████████████████▋                                           | 93/200 [01:51<02:35,  1.45s/it]\n",
      "\n",
      " 47%|██████████████████████████████████████                                           | 94/200 [01:52<02:24,  1.37s/it]\n",
      "\n",
      " 48%|██████████████████████████████████████▍                                          | 95/200 [01:52<01:52,  1.07s/it]\n",
      "\n",
      " 48%|██████████████████████████████████████▉                                          | 96/200 [01:53<01:45,  1.01s/it]\n",
      "\n",
      " 48%|███████████████████████████████████████▎                                         | 97/200 [01:54<01:32,  1.12it/s]\n",
      "\n",
      " 49%|███████████████████████████████████████▋                                         | 98/200 [01:55<01:42,  1.00s/it]\n",
      "\n",
      " 50%|████████████████████████████████████████                                         | 99/200 [01:56<01:47,  1.06s/it]\n",
      "\n",
      " 50%|████████████████████████████████████████                                        | 100/200 [01:57<01:28,  1.13it/s]\n",
      "\n",
      " 51%|████████████████████████████████████████▊                                       | 102/200 [01:57<01:12,  1.35it/s]\n",
      "\n",
      " 52%|█████████████████████████████████████████▏                                      | 103/200 [01:59<01:38,  1.02s/it]\n",
      "\n",
      " 52%|█████████████████████████████████████████▌                                      | 104/200 [02:00<01:47,  1.12s/it]\n",
      "\n",
      " 52%|██████████████████████████████████████████                                      | 105/200 [02:01<01:34,  1.00it/s]\n",
      "\n",
      " 53%|██████████████████████████████████████████▍                                     | 106/200 [02:03<01:53,  1.20s/it]\n",
      "\n",
      " 54%|██████████████████████████████████████████▊                                     | 107/200 [02:03<01:34,  1.02s/it]\n",
      "\n",
      " 54%|███████████████████████████████████████████▏                                    | 108/200 [02:05<01:58,  1.29s/it]\n",
      "\n",
      " 55%|███████████████████████████████████████████▌                                    | 109/200 [02:06<01:38,  1.08s/it]\n",
      "\n",
      " 56%|████████████████████████████████████████████▍                                   | 111/200 [02:07<01:26,  1.03it/s]\n",
      "\n",
      " 56%|█████████████████████████████████████████████▏                                  | 113/200 [02:09<01:17,  1.12it/s]\n",
      "\n",
      " 57%|█████████████████████████████████████████████▌                                  | 114/200 [02:11<01:43,  1.20s/it]\n",
      "\n",
      " 57%|██████████████████████████████████████████████                                  | 115/200 [02:12<01:54,  1.35s/it]\n",
      "\n",
      " 58%|██████████████████████████████████████████████▍                                 | 116/200 [02:13<01:34,  1.13s/it]\n",
      "\n",
      " 58%|██████████████████████████████████████████████▊                                 | 117/200 [02:15<01:54,  1.38s/it]\n",
      "\n",
      " 59%|███████████████████████████████████████████████▏                                | 118/200 [02:16<01:54,  1.40s/it]\n",
      "\n",
      " 60%|███████████████████████████████████████████████▌                                | 119/200 [02:17<01:32,  1.15s/it]\n",
      "\n",
      " 60%|████████████████████████████████████████████████                                | 120/200 [02:18<01:19,  1.00it/s]\n",
      "\n",
      " 60%|████████████████████████████████████████████████▍                               | 121/200 [02:19<01:40,  1.27s/it]\n",
      "\n",
      " 61%|████████████████████████████████████████████████▊                               | 122/200 [02:20<01:28,  1.13s/it]\n",
      "\n",
      " 62%|█████████████████████████████████████████████████▏                              | 123/200 [02:21<01:08,  1.12it/s]\n",
      "\n",
      " 62%|█████████████████████████████████████████████████▌                              | 124/200 [02:21<01:02,  1.22it/s]\n",
      "\n",
      " 62%|██████████████████████████████████████████████████                              | 125/200 [02:22<00:58,  1.28it/s]\n",
      "\n",
      " 63%|██████████████████████████████████████████████████▍                             | 126/200 [02:23<01:01,  1.20it/s]\n",
      "\n",
      " 64%|██████████████████████████████████████████████████▊                             | 127/200 [02:25<01:19,  1.09s/it]\n",
      "\n",
      " 64%|███████████████████████████████████████████████████▏                            | 128/200 [02:26<01:31,  1.27s/it]\n",
      "\n",
      " 64%|███████████████████████████████████████████████████▌                            | 129/200 [02:28<01:31,  1.29s/it]\n",
      "\n",
      " 65%|████████████████████████████████████████████████████                            | 130/200 [02:29<01:40,  1.44s/it]\n",
      "\n",
      " 66%|████████████████████████████████████████████████████▍                           | 131/200 [02:30<01:27,  1.27s/it]\n",
      "\n",
      " 66%|████████████████████████████████████████████████████▊                           | 132/200 [02:32<01:27,  1.28s/it]\n",
      "\n",
      " 66%|█████████████████████████████████████████████████████▏                          | 133/200 [02:33<01:29,  1.33s/it]\n",
      "\n",
      " 67%|█████████████████████████████████████████████████████▌                          | 134/200 [02:34<01:24,  1.27s/it]\n",
      "\n",
      " 68%|██████████████████████████████████████████████████████                          | 135/200 [02:34<01:00,  1.07it/s]\n",
      "\n",
      " 68%|██████████████████████████████████████████████████████▍                         | 136/200 [02:35<00:52,  1.22it/s]\n",
      "\n",
      " 68%|██████████████████████████████████████████████████████▊                         | 137/200 [02:36<00:49,  1.28it/s]\n",
      "\n",
      " 69%|███████████████████████████████████████████████████████▏                        | 138/200 [02:36<00:45,  1.36it/s]\n",
      "\n",
      " 70%|███████████████████████████████████████████████████████▌                        | 139/200 [02:36<00:37,  1.64it/s]\n",
      "\n",
      " 70%|████████████████████████████████████████████████████████                        | 140/200 [02:38<00:57,  1.05it/s]\n",
      "\n",
      " 70%|████████████████████████████████████████████████████████▍                       | 141/200 [02:39<00:50,  1.18it/s]\n",
      "\n",
      " 72%|█████████████████████████████████████████████████████████▏                      | 143/200 [02:40<00:43,  1.32it/s]\n",
      "\n",
      " 72%|██████████████████████████████████████████████████████████                      | 145/200 [02:42<00:43,  1.26it/s]\n",
      "\n",
      " 73%|██████████████████████████████████████████████████████████▍                     | 146/200 [02:42<00:37,  1.44it/s]\n",
      "\n"
     ]
    },
    {
     "name": "stderr",
     "output_type": "stream",
     "text": [
      " 74%|██████████████████████████████████████████████████████████▊                     | 147/200 [02:43<00:45,  1.18it/s]\n",
      "\n",
      " 74%|███████████████████████████████████████████████████████████▏                    | 148/200 [02:44<00:44,  1.17it/s]\n",
      "\n",
      " 74%|███████████████████████████████████████████████████████████▌                    | 149/200 [02:46<00:51,  1.01s/it]\n",
      "\n",
      " 75%|████████████████████████████████████████████████████████████                    | 150/200 [02:47<00:59,  1.20s/it]\n",
      "\n",
      " 76%|████████████████████████████████████████████████████████████▍                   | 151/200 [02:48<00:58,  1.19s/it]\n",
      "\n",
      " 76%|█████████████████████████████████████████████████████████████▏                  | 153/200 [02:50<00:53,  1.13s/it]\n",
      "\n",
      " 77%|█████████████████████████████████████████████████████████████▌                  | 154/200 [02:52<00:58,  1.28s/it]\n",
      "\n",
      " 78%|██████████████████████████████████████████████████████████████▍                 | 156/200 [02:54<00:49,  1.12s/it]\n",
      "\n",
      " 78%|██████████████████████████████████████████████████████████████▊                 | 157/200 [02:55<00:48,  1.13s/it]\n",
      "\n",
      " 79%|███████████████████████████████████████████████████████████████▏                | 158/200 [02:57<00:59,  1.42s/it]\n",
      "\n",
      " 80%|███████████████████████████████████████████████████████████████▌                | 159/200 [02:59<01:03,  1.54s/it]\n",
      "\n",
      " 80%|████████████████████████████████████████████████████████████████                | 160/200 [03:00<01:03,  1.58s/it]\n",
      "\n",
      " 80%|████████████████████████████████████████████████████████████████▍               | 161/200 [03:01<00:46,  1.19s/it]\n",
      "\n",
      " 81%|████████████████████████████████████████████████████████████████▊               | 162/200 [03:02<00:52,  1.38s/it]\n",
      "\n",
      " 82%|█████████████████████████████████████████████████████████████████▏              | 163/200 [03:04<00:49,  1.34s/it]\n",
      "\n",
      " 82%|█████████████████████████████████████████████████████████████████▌              | 164/200 [03:05<00:51,  1.43s/it]\n",
      "\n",
      " 82%|██████████████████████████████████████████████████████████████████              | 165/200 [03:06<00:47,  1.36s/it]\n",
      "\n",
      " 83%|██████████████████████████████████████████████████████████████████▍             | 166/200 [03:07<00:37,  1.12s/it]\n",
      "\n",
      " 84%|██████████████████████████████████████████████████████████████████▊             | 167/200 [03:07<00:26,  1.23it/s]\n",
      "\n",
      " 84%|███████████████████████████████████████████████████████████████████▏            | 168/200 [03:09<00:40,  1.27s/it]\n",
      "\n",
      " 84%|███████████████████████████████████████████████████████████████████▌            | 169/200 [03:10<00:34,  1.10s/it]\n",
      "\n",
      " 85%|████████████████████████████████████████████████████████████████████            | 170/200 [03:12<00:37,  1.25s/it]\n",
      "\n",
      " 86%|████████████████████████████████████████████████████████████████████▊           | 172/200 [03:12<00:27,  1.02it/s]\n",
      "\n",
      " 86%|█████████████████████████████████████████████████████████████████████▏          | 173/200 [03:13<00:23,  1.13it/s]\n",
      "\n",
      " 87%|█████████████████████████████████████████████████████████████████████▌          | 174/200 [03:14<00:26,  1.01s/it]\n",
      "\n",
      " 88%|██████████████████████████████████████████████████████████████████████          | 175/200 [03:16<00:32,  1.29s/it]\n",
      "\n",
      " 88%|██████████████████████████████████████████████████████████████████████▍         | 176/200 [03:18<00:30,  1.26s/it]\n",
      "\n",
      " 89%|███████████████████████████████████████████████████████████████████████▏        | 178/200 [03:19<00:25,  1.15s/it]\n",
      "\n",
      " 90%|███████████████████████████████████████████████████████████████████████▌        | 179/200 [03:20<00:22,  1.09s/it]\n",
      "\n",
      " 90%|████████████████████████████████████████████████████████████████████████        | 180/200 [03:21<00:18,  1.06it/s]\n",
      "\n",
      " 90%|████████████████████████████████████████████████████████████████████████▍       | 181/200 [03:23<00:22,  1.18s/it]\n",
      "\n",
      " 91%|████████████████████████████████████████████████████████████████████████▊       | 182/200 [03:25<00:24,  1.39s/it]\n",
      "\n",
      " 92%|█████████████████████████████████████████████████████████████████████████▏      | 183/200 [03:27<00:26,  1.57s/it]\n",
      "\n",
      " 92%|█████████████████████████████████████████████████████████████████████████▌      | 184/200 [03:28<00:26,  1.63s/it]\n",
      "\n",
      " 92%|██████████████████████████████████████████████████████████████████████████      | 185/200 [03:31<00:30,  2.06s/it]\n",
      "\n",
      " 93%|██████████████████████████████████████████████████████████████████████████▍     | 186/200 [03:32<00:21,  1.54s/it]\n",
      "\n",
      " 94%|██████████████████████████████████████████████████████████████████████████▊     | 187/200 [03:34<00:21,  1.65s/it]\n",
      "\n",
      " 94%|███████████████████████████████████████████████████████████████████████████▏    | 188/200 [03:35<00:17,  1.45s/it]\n",
      "\n",
      " 95%|████████████████████████████████████████████████████████████████████████████    | 190/200 [03:36<00:12,  1.28s/it]\n",
      "\n",
      " 96%|████████████████████████████████████████████████████████████████████████████▍   | 191/200 [03:37<00:09,  1.06s/it]\n",
      "\n",
      " 96%|████████████████████████████████████████████████████████████████████████████▊   | 192/200 [03:38<00:08,  1.09s/it]\n",
      "\n",
      " 96%|█████████████████████████████████████████████████████████████████████████████▏  | 193/200 [03:40<00:09,  1.30s/it]\n",
      "\n",
      " 97%|█████████████████████████████████████████████████████████████████████████████▌  | 194/200 [03:41<00:08,  1.34s/it]\n",
      "\n",
      " 98%|██████████████████████████████████████████████████████████████████████████████  | 195/200 [03:42<00:05,  1.19s/it]\n",
      "\n",
      " 98%|██████████████████████████████████████████████████████████████████████████████▍ | 196/200 [03:43<00:04,  1.00s/it]\n",
      "\n",
      " 98%|██████████████████████████████████████████████████████████████████████████████▊ | 197/200 [03:44<00:03,  1.10s/it]\n",
      "\n",
      " 99%|███████████████████████████████████████████████████████████████████████████████▏| 198/200 [03:46<00:02,  1.27s/it]\n",
      "\n",
      "100%|████████████████████████████████████████████████████████████████████████████████| 200/200 [03:46<00:00,  1.06it/s]\n",
      "\n"
     ]
    },
    {
     "name": "stdout",
     "output_type": "stream",
     "text": [
      "['', \"I'm tired of playing on the team It seems I don't get time out anymore What a change if we set the pace face to face No one even trying to score Oh oh I can feel the magic of your touch And when you move in close a little bit means so much Ooh yeah you've got to understand baby Time out is what I'm here for One on one I wanna play that game tonight One on one I know I wanna play that One on one I wanna play that game tonight One on one so slow You can't tell me you don't miss me girl I think I might know you too well Wonder what you'd say if you knew that I was coming tonight Want to? I want you can't you tell One on one I wanna play that game tonight One on one I know I wanna play that One on one I wanna play that game tonight One on one so slow That's all you need to know now 'Cause if it's really right there's nothing else One on one I want to play that game tonight...\", \"Die letzte Chance nicht erkannt Die nächste dann sinnlos vergeigt Gibt Erfolg dir wirklich Recht Nur weil er Dir niemals widersprechen wird  Weiß der Kopf mal wieder nich was die Hände tun Oder kreicht es im Gehirn nur: Rausrausrausrausrausrausraus Sind die ganzen Übeltäter wirklich eingesperrt Wo ist dein Zuhaus?  Die letzte Chance nicht erkannt Die nächste dann sinnlos vergeigt Gibt Erfolg dir wirklich Recht Nur weil er Dir niemals widersprechen wird  An die 25 Jahre Nur in Sack gehauen Und die Meute deiner Sippe Schreit nur: Losloslosloslosloslos Enttäuschte Nasen bluten und sie fragen dich Bist du es auch wert?  Du sitzt am Hafenrand Und fühlst dich gut dabei Wer will's dir nehmen? Ich doch nicht! Ich doch nicht!  Du hast dir Sekt gekauft Und auch Lametta Es gibt so vieles Was noch warten kann \", \"I can't believe my eyes Connects your sexiness body The way you do it with your hands up I just wanna be all over Let me rock with you Don't let nothin' interrupt this groove Goin' at it like we 'bout to She know when you like you're my girl You probably sayin' that's a damn shame I don't even know your name I know it won't probably matter tonight 'Cause you been all on me I'm like okay So guess we can take this here home So we can make a love song I can be the best part of you wakin' up Shawdy now how that you hear that sound okay Ah ha yeah I see you wanna take it slow Go in drop it to the floor real low ooh You know I want you back 'cause I been all on that ass And you ain't lookin' at me sideways And the DJ is playin' the last song And it's comin' down to our last call baby This slow jam is specially dedicated We've been away for the night to end come on You probably sayin' that's a damn shame I don't even know your name I know it won't probably matter tonight You been all on me I'm like okay So guess we can take this here home So we can make a love song I can be the best part of you wakin' up Shawdy now how that you hear that sound okay Ooh yeah 'cause outside with maybe if you ready to run Ooh love that I got you opened up Curious of mine to know what's on your mind girl Girl we been at it so long I can't wait just want to make sure were on the same page Come on come on come on I be on some other shit when I look at talk And I know you You probably sayin' that's a damn shame I don't even know your name I know it won't probably matter tonight You been all on me I'm like okay So guess we can take this here home So we can make a love song I can be the best part of you wakin' up Shawdy now how that you hear that sound okay You probably say that's a damn shame I don't even know your name I know it won't probably matter tonight You been all on me I'm like okay So guess we can take this here home So we can make a love song I can be the best part of you wakin' up Shawdy now how that you hear that sound okay\", '', \"When I come home you won't be there any more When I come home you won't be there any more And you will tear off your clothes and kiss the floor When I come home home home When I see land you will conjure up a storm When I see land you will conjure up a storm And I will tie your hand to the highest mast When I see land land land  And we will hustle hustle hustle to be free Free from all the happy thoughts and smiles across the sea In favour of the mean mean moves And back doors to the heart from where we always always fall apart  And you will slide on the back of my bike And you will slide on the back seat of my bike And I will ride you home drunken in the rain And you will win again and again Now it's your turn you will tie me to the tree Now it's your turn you will tie me to the tree And you will sing and sing forever you and me But in the dark I wonder what you see  And we will hustle hustle hustle to be free Free from all the happy thoughts and smiles across the sea In favour of the mean mean moves And back doors to the heart from where we always always fall apart And we will hustle hustle hustle to be free Free from all the happy thoughts and smiles across the sea In favour of the mean mean moves And back doors to the heart from where we always always fall apart \", \"An open eye awakened cold On a path of ruin that once was gold Black mountains blocking the sun  Enveloped in decay what's devoid of life The land is barren stone tonight The shadows screaming discourse  But you can see it in the eyes The onyx stones I cannot fail Embrace the world I aimed to change  A garden looms ahead of rocky soil With spirits swirling in a dance There is inherent mystery in a stone unturned Serpents feign their sleeping covered  The sound of weeping grants relief from the sting A method ringing Hesitation in engaging pursuit The eye glows red the action ensues  Coated in mold lungs resonate the sounds of the mire Behold transformation alive behind these eyes  In the moment there's a time for reflection To bathe in the pressing instants conviction I've come to terms with the very real change Within the tombs the climate anew  Coated in mold lungs resonate the sounds of the mire Behold transformation alive behind these eyes  There's ash within the rain falling with autumn tears The lanterns of the night burning sulfur eyes Halting glaciers freeze the embers dance the stars Fusing of worlds worlds once apart  An open eye awakened cold On a path of ruin that once was gold Black mountains blocking the sun  Enveloped in decay what's devoid of life The land is barren stone tonight The shadows are screaming discourse  But you can see it in the eyes The onyx stones I cannot fail Embrace the world I aimed to change  A garden looms ahead of rocky soil With spirits swirling in a dance There is inherent mystery in a stone unturned Serpents feign their sleeping covered  In the somber dusk Revealed is the shadow's scheme Silencing reason \", '   The game bout to change Usher Woah man (yall are somethin else) Yeah A lotta women You know they say yall do it better than us (and I learned from the best man) Because we only see what youre doin But I see ya. Where we at? This right here is for my triple Gs with the double DDs Go get em girls (haha yeah man) You know who you are Where we at? (Over here lookin how we lookin) Aint that right? (Huh yeah) Go get em girls (I see you)   I profess Im a lover minor scholar of anatomy Doctor of feminine chemistry Got a healthy fascination for a multitude relation with plenty women thats ? And it happens every once in a while I go too deep that I gotta shut it down She keep on comin by wont quit on callin its safe to say that shes fallin She pleadin she dont want me to leave I had to tell her   No no no She keep on begging for more No no no She said you dont love me no more Thats when I be like   Lovin me baby thats a no-no (no-no) Im better when I touch and go Im trying to add yo name to my hall of fame Not just a player Im a pro lover (lover)   As a quick pro call we can both come and go This aint about fidelity (uh-uh) Thought I was a pimp player hustler baller (huh) Woah man she a G (yeah) and do it better than me (do it better than us man) When it happens then every once in awhile She gon cook just to hook you for a while Cant escape take your pick either way youre a trip cause Man if she layin for it that means you payin for it   No no no She keep on begging for more No no no She said you dont love me no more Thats when I be like   Lovin me baby thats a no-no (no-no) Im better when I touch and go Im trying to add yo name to my hall of fame Not just a player Im a pro lover (lover)   Tick-tock better hurry times runnin out So you better be sure before we lay down Knock-knock Daddys home open up girl I can tell that its been awhile youve been waiting Come through it so many times (with women that I do it) Aint tryin to make you mine (but I like the feeling) Thats gon be honest baby we dont go through drama here baby Cause when you give it up you gon get addicted and go crazy and lose your mind   How many of you like that (keep on asking me for more) (More more more)   Lovin me baby thats a no-no (no-no) Im better when I touch and go Im trying to add yo name to my hall of fame Not just a player Im a pro lover (lover)  Not just a player Im a pro lover (lover) Not just a player Im a pro lover (lover)   Better ask somebody (Players real Gs feel me on this one) Aint that right girl yeah (Not just a player Im a pro lover) Lover (not just a player Im a pro) I know you got it baby Biggest player in the world Yeah you know who you are ', 'An ancient business a modern piece of glasswork Down on the corner that you walk each day in passing The elderly sales clerk won\\'t eye us with suspicion The whole immortal corporation\\'s given its permission The little stairway a little piece of carpet A pair of mirrors that are facing one another Out in both directions a thousand little Julias That come together in the middle of Manhattan You waited since lunch It all comes at once Around the corner the house that modern art built I ask for modern art to keep it out the closets The people who might own it the sins of pride and envy And on the second floor the Richard Serra skatepark You waited since lunch It all comes at once Sit on the park wall ask all the right questions \"Why are the horses racing taxis in the winter?\" Look up at the buildings imagine who might live there Imagining your Wolfords in a bowl upon the sink there You waited since lunch It all comes at once', \"We're coming for you we sail on a sea of hope We'll come find you we see by your guiding light No other feeling no other needed to stick with a feeling That we'll be up close and warm with you when the day gets dark Crossing borders as we move forwards The swaying actions a motion circular All upon a suspended moment As we move close a resounding chorus rings out That steady rhythm's the sound of our beating hearts No other feeling no other needed to stick with a feeling That we'll be up close and warm with you when the day gets dark Crossing borders as we move forwards The swaying actions a motion circular All upon a suspended moment As we move close a resounding chorus rings out Come on grab it stir up for us we're on fire Come on grab it stir up for us we're on fire Come on grab it stir up for us we're on fire Come on grab it stir up for us we're on fire Come on grab it stir up for us we're on fire Come on grab it stir up for us we're on fire Come on grab it stir up for us we're on fire Come on grab it stir up for us we're on fire Come on grab it stir up for us we're on fire\", \"When we first met it wasn't what you said And still I loved you like mad I loved you like mad When we first met they were playing that song And then it stuck into my head stuck into my head When we first kissed it made it to my list And I couldn't stop myself think of nothing else When we parked the car they were playing that song And we turned it up to ten and started up again Every time I hear it play I think of you and those summer days Oh I can still remember When I heard it on the radio Oh but now we are September Come on forget what we know When you broke my heart there was nothing you could say And still I loved you like mad I loved you like mad Now that I think back it wasn't what we had They were just playing that song made it last so long Every time I hear it play I think of you and those summer days Oh I can still remember When I heard it on the radio Oh but now we are September Come on forget what we know Oh I can still remember When I heard it on the radio Oh but now we are September Come on forget what we know Oh I can still remember When I heard it on the radio Oh but now we are September Come on forget what we know\", '', '', \" \\r Fucked up And the system falls Shut up You're nothing but a whore I say go yeah  I never knew you could be anything But a fiend boy Cry anarchy The devil's coming for you it's true  Try and run away Fuck the system I never knew you could be anybody  Try and run away Start the riots I never knew you could be anybody yeah  Lights out We ain't gonna stay here Left out You're not one of them I say go yeah  I never knew you could be anything But the scene boy You ain't gonna win You're such a fool it's true yeah  Try and run away Fuck the system I never knew you could be anybody  Try and run away Start the riots I never knew you could be anybody  Run away Fuck the system That's all it is That's all it is yeah  Run away Fuck the system That's all it is Animosity  Red light Skyscrapers Panic stricken You're all falling  C'mon let's go You're not innocent C'mon let's go You're not innocent  C'mon let's go You're not innocent C'mon let's go Yeah  C'mon let's go you're not innocent C'mon let's go yeah C'mon let's go you're not innocent C'mon let's go yeah  Run away Fuck the system That's all it is That's all it is  Run away Fuck the system That's all it is Animosity  Animosity animosity Animosity animosity \", '', '', '', '', '', \"There's no use in crying All my tears won't drown my pain Streaming from your sorrow I can't grieve you again I watched you let yourself die And now it's too late to save you this time You bury me alive And everybody's gotta breath somehow Don't leave me die Too consumed by your own emptiness and lies All I did was love you Now I hate the nightmare you've become I can't let you fool me I won't need you again I watched you let yourself die And now it's too late to save you this time You bury me alive And everybody's gotta breath somehow Don't leave me die Too consumed by your own emptiness and lies You bury me alive And everybody's gotta breath somehow Don't leave me die Too consumed by your own emptiness and lies I can't feel this love we used to hold All I see is black and cold As I try to pull you down To the ground the ground Everybody's gotta breath somehow Don't leave me die You're too consumed by all your emptiness You bury me alive And everybody's gotta breath somehow Don't leave me die Too consumed by your own emptiness and lies You bury me alive And everybody's gotta breath somehow Don't leave me die Too consumed by your own emptiness and lies\", '14 Meter unter ihm ruht die Stadt Eingesoffen im Frieden und er wartet zu lang  Und dann braucht er einen Fachmann einen Forscher oder so Der ihm sagt woher er kommt 35 Stunden wachen und dann 13 Stunden Schlaf Scheint ihm nicht normal  Hört er selber dieses Pochen ein Fünkchen zu schnell Null Kontrolle eigenartig die Sonne bricht auf einmal wieder durch  Wie ein Eisbrecher im Sommer der vor Langeweile sinkt Und das Wasser steht im bis zum Hals Sortiert er seine Sachen für den ganz speziellen Tag Koffer gepackt  Hier gestrandet ohne Checkung Falscher Planet - Eltern weg Sie holen mich. Sie holen mich. Sie holen mich. Sie holen mich. Sie holen mich! Sie holen mich! Sie holen mich! Sie holen mich! Sie holen mich! Sie holen mich! Sie holen mich! Sie holen mich! ', \" \\r Your sword's grown old and rusty Burnt beneath the rising sun It's locked up like a trophy Forgetting all the things it's done  And though it's been a long time You're right back where you started from I see it in your eyes That now you're giving up the gun  When I was 17 I had wrists like steel And I felt complete  And now my body fades Behind a brass charade And I'm obsolete  But if the chance remained To see those better days I'd cut the cannons down  My ears are blown to bits From all the rifle hits But still I crave that sound  Your sword's grown old and rusty Burnt beneath the rising sun It's locked up like a trophy Forgetting all the things it's done  And though it's been a long time You're right back where you started from I see it in your eyes That now you're giving up the gun  I heard you play guitar Down at a seedy bar Where skinheads used to fight  Your Tokugawa smile And your garbage style Used to save the night  You felt the coming wave Told me we'd all be brave You said you wouldn't flinch  But in the years that passed Since I saw you last You haven't moved an inch  Your sword's grown old and rusty Burnt beneath the rising sun It's locked up like a trophy Forgetting all the things it's done  And though it's been a long time You're right back where you started from I see it in your eyes That now you're giving up the gun  I see you shine in your way Go on go on go on I see you shine in your way Go on go on go on I see you shine in your way Go on go on go on I see you shine in your way Go on go on go on I see you shine in your way Go on go on go on I see you shine in your way Go on go on go on I see you shine in your way Go on go on go on I see you shine in your way Go on go on go on  Your sword's grown old and rusty Burnt beneath the rising sun It's locked up like a trophy Forgetting all the things it's done  And though it's been a long time You're right back where you started from I see it in your eyes That now you're giving up the gun \", \"On my way to Italy from the Gulf of Mexico Riding on a tanker feeling mighty low My good gal's behind me no loving for so long I'm going back to Texas for that's where I belong  Nights are so lonely on the ocean To much time to dream of yesterday If only I could carry out my notion And hit the trail for Texas right away  On my way to Italy from the Gulf of Mexico Riding on a tanker feeling mighty low My good gal's behind me no loving for so long  I'm going back to Texas for that's where I belong  I never thought I was leaving I could get so blue out on the sea But I'll bet you after all this grieving It's that good old Texas soil for me  On my way to Italy from the Gulf of Mexico Riding on a tanker feeling mighty low My good gal's behind me no loving for so long I'm going back to Texas for that's where I belong \", ' \\r Holiday O A Holiday! And the best one of the year Dozing off underneath my sheets While I cover both my ears  But if I wait for a holiday could it stop my fear? To go away on a summer’s day never seemed so clear  Holiday still so far away Our republic on the beach I can’t forget just how bad it gets When I’m counting on my teeth  But if I wait for a holiday Could it stop my fear? To go away on a summer’s day Never seemed so clear  A vegetarian since the invasion She’d never seen the word BOMBS She’d never seen the word BOMBS blown up To 96 point Futura She’d never seen an AK In a yellowy Day Glo display A t-shirt so lovely it turned all the history books grey  I’ve got wheels I’ve got cutter spray And a healthy sense of worth Half of me is the gasoline But the other half’s the surf  So if I wait for a holiday could it stop my fear? To go away on a summer’s day never seemed so clear ', 'Der Sonntag kam er stand an ihrer Seite Seit Jahren war es nun das erste Mal Er blieb nicht stehen bereiste die Karibik Für kurze Zeit der Mystik schwer verfallen  Sei Willkommen In deinem Haus  Ein Blick zurück er starrte auf die Reisen Ein alter Zorn prallt mit voller Wucht Er schaut sie an und schreckt zusammen Ihre Augen sind schon Kilometer fort  Wirst du bleiben? Wirst du? Wirst du?  Am Ende vom Jahr nimmt er deine Hand und geht mit dir ins Watt Hört sich traurig an Ist es auch! Und am Ende vom Jahr nimmt er deine Hand und geht mit dir ins Watt Hört sich traurig an Ist es auch!  Die Trauermärsche enden an den Gleisen Im Schachtbahnhof war noch gut Betrieb Ein Schrei gehört sind das etwa Eulen? Man hofft sie fliegen irgendwann davon  Wirst du bleiben?  Und am Ende vom Jahr nimmt er deine Hand und geht mit dir ins Watt Hört sich traurig an Ist es auch! Und am Ende vom Jahr nimmt er deine Hand und geht mit dir ins Watt Hört sich traurig an Ist es auch! ', 'Angekommen im kleinen Schloss in Schweden Die Lage bedrückt aber eigentlich abzusehen Feudale Güter lindern deinen Schmerz Ohnmacht und Scheitern ist Normalität  Auf der Linken ein Denkmal für den Krieg Man neigte sein Haupt und liebte zurück Frommes Suhlen in den Landesfarben Der Tod ist getarnt als fixe Idee  War das der Teufel oder irgendein Gott der dir in den Kopf gerotzt hat!  Diese Affen sprechen von Stolz Mein Gott was für ein Thema Jeden Morgen wird dir erst schlecht  Selbst bei mittlerem Seegang  Hinter dir die Enkel der Henker Ersoffen im Glauben und tosender Wut Es dröhnt steigt aus dem Ähter  Du wirst in Schweden begraben sein  War das der Teufel oder irgendein Gott der dir in den Kopf gerotzt hat!  Diese Affen sprechen von Stolz Mein Gott was für ein Thema Jeden Morgen wird dir erst schlecht  Selbst bei mittlerem Seegang Diese Affen sprechen von Stolz Mein Gott was für ein Thema Jeden Morgen wird dir erst schlecht  Selbst bei mittlerem Seegang ', \"Chocolate makes you happy And it keeps you awake As you unbutton your top pants button Bewildered by the pain Oh oh oh Chocolate makes you happy As you deign to sing along When you thrust two fingers down your throat And wash away what's wrong Oh oh oh Out of your mind with happiness Incredibly dumb incredibly ugly To have died the one you await for All that you sign all that you sign And wait for Out of your mind with whorishness Incredibly young incredibly filthy Oh to curse both your life and death Oh to curse life oh to curse life and death Chocolate makes you happy And it keeps you awake As you unbutton your top pants button Bewildered by the pain Oh oh oh Chocolate makes you happy Like a credit to the race As you ruminate in the arms of coco On the fatness of your face Oh oh oh Out of you mind with slavishness Rough close and cold Rough close and cold To have die that one you await for All that you sign blush wish and pray for Out of you mind embarrassment Out of you mind Out of your mind Out of your mind Out of Chocolate makes you happy And it keeps you awake As you unbutton your elaborate garter Bewildered by desire \", \"My fist enters in your temple like an obelisk It's blackness darkness abyss of joblessness Everything you do is small my shit is monstrous I murder devils and any of their accomplices My brain function on other levels of consciousness My brain function on other levels of pompousness You're listening to the bass and treble of godlessness My thirty-eight will spit hate and level the populous My esophogus breed the evil that just demolishes Whether or not you're a believer in the Apocalypse Y'all shit is sweeter than two faggots that's locking lips It ain't a rapper competing with my obnoxiousness It ain't nobody that's equal to my accomplishments The Desert Eagle is legal and it astonishes The AR15 diesel and blow your mom to bits It's hard to catch me I'm Thurman Munson and Carlton Fisk  Music is motivation for me to just go insane Man I see it on paper I know that I should be caged And I'm trapped but I escaped it By trapping in that trap for that paper Music is motivation for me to just go insane Man I see it on paper I know that I should be caged And I'm trapped but I escaped it By trapping in that trap for that paper  Y'all know the flow is precise You don't owe me your life But that could change one roll of the dice And then money try to go for his knife I'mma levitate his body to the sky until he's homies with Christ Don't even fuck around son is a goon Son is bipolar alcoholic son is consumed I breathe life into the sun and the moon I breathe life into the most barren bloodiest womb Y'all don't know y'all getting stalked in the shower Populism is rebellion over corporate power Politics is just the talk of the hour It's a matter of time before they hit another office or tower I don't care I put the gun to your ribs And the Desert E big it'll separate mothers from kids I walked around from Philly slums to the bridge Been around the world eighty times nobody can fuck with the kid Yeah\", '', \" \\r I don't want to waste an entire album on you I've been there done that (yeah) I don't want to put all the anger you caused me back on you Though I know I'd be justified but I'm in another place I don't want to put any negative vibes into this universe I've done it enough (oh ooo) And I don't want to tell who what when where why and how  Cause who cares No nobody cares  But I hope you soon find out how to love Once upon a time you wanted to learn I thought I could teach you but you were more afraid  than willing So when it comes don't push it away One day you will find it is the greatest gift  And I hope you don't take advantage of it again  Hold her when she wants to be held Don't yell at her when she's only trying to love you  Take her to her favorite place  more often than not Don't take her kindness for weakness 'Cause I'm sure she'll love you alot Support her in all that she does Don't tear her down lift her up 'Cause that is the worst thing you can do to someone you love Put her high on a pedestal and tell her when she looks beautiful Tell her when she looks beautiful  I used to think that I could not bear you to be with anyone but me But I been there done that (yeah) And since then I have come to think silly of that whole mentality I still want to find love too No it won't be with you I wish for everyone to one day find happiness and love Including you (yeah) And I don't want to go into details 'cause I've said enough And its not my intent to hurt you no  But I hope you soon find out how to love Once upon a time you wanted to learn I thought I could teach you but you were more afraid  than willing So when it comes don't push it away One day you will find it is the greatest gift (gift) And I hope you don't take advantage of it again  Hold her when she wants to be held Don't yell at her when she's only trying to love you  Take her to her favorite place  more often than not Don't take her kindness for weakness 'Cause I'm sure she'll love you alot Support her in all that she does Don't tear her down lift her up 'Cause that is the worst thing you can do to someone you love Put her high on a pedestal and tell her when she looks beautiful Tell her when she looks beautiful  Tell her when she looks beautiful  Tell her when she looks beautiful \", \"If I'm the first to go then make it quick Then make it quick then make it quick We're so young so naïve  If I'm the first to go then make it quick Then make it quick then make it quick We're so young we're so young so naïve  It's all for nothing nothing at all Liars can't be martyrs don't you know? Let me give it to your plain and simple You walk a fine line you walk a fine line You speak of change you speak of progress Well I'll believe it when I see it for myself Let me spell it out a little more clearly You walk a fine line you walk a fine line.  Can't you see the irony in What you do to me? You get so close (so close) Make me feel so terribly alone  Can't you see the irony in What you do to me? You get so close (so close) Make me feel so terribly alone  If I'm the first to go then make it quick Then make it quick then make it quick We're so young so naïve  If I'm the first to go then make it quick Then make it quick then make it quick We're so young we're so young so naïve  It's safe to say that we're heading to the crossroads We are the galleries of the centuries If you knew the truth it really would've killed you If you knew the truth if you only knew We've been caught up in the moment And our beds are crowded where we sleep I hate to say it but we're never making progress I hate to say it I hate to say it  Can't you see the irony in What you do to me? You get so close (so close) Make me feel so terribly alone  Can't you see the irony in What you do to me? You get so close (so close) Make me feel so terribly alone  There's no other name by which I am saved I will not be afraid To trust in Him  There's no other name by which I am saved I will not be afraid To trust in Him  This is a race To a lost cause This is a race To a lost cause This is a race To the skies This is a race To the skies \", \" \\r Do you see me I stand before your eyes here in pieces let me in your mind when did love fade why are we at war where did we fall where did we go wrong have we lost it all?  Oh I let you go to feel the light outside Oh I without you I just feel I just feel so alive  I can define where the well ran dry I remember every tear I cried memories of lies wasted all this time now we've lost it all  Oh I let you go to feel the light outside Oh I without you I just feel so alive There must be more to life Than I just left behind Oh I without you I just feel I just feel so alive  I step into sunlight fueled by rage and delight There's no place for weakness Ill forget your sweet kiss  Oh I let you go to feel the light outside Oh I without you I just feel so alive There must be more to life Than I just left behind Oh I without you I just feel I just feel so alive. \", '', '', '', '', \"Try to breathe smile as we make our peace Make our peace with God Himself. Smile as we make our peace. As we...  As we swiped the guardrail we said our prayers  As we lost our focus we're nearly there. So take my hand now don't be shy I know you've done this before.  As we swiped the guardrail we said our prayers As we swiped the guardrail we said our prayers.  Despite your valor I'd say you're losing control No nothing is impossible (you look so innocent asleep you can't do anything to me). Despite your valor I'd say you're falling apart Just wait this is your favorite part (you look so innocent asleep you can't do anything to me).  Burning halos like crosses don't you dare cross us.   Try to speak tremble as we set you free Set you free from life itself Tremble as we set you free. As we...  I can tear the guilt out of every sin Let me hold the door as you stumble in. So take my hand now don't be shy. I know you've done this before.  As we swiped the guardrail we said our prayers As we swiped the guardrail we said our prayers.  Despite your valor I'd say you're losing control No nothing is impossible (you look so innocent asleep you can't do anything to me).  Despite your valor I'd say you're falling apart Just wait this is your favorite part (you look so innocent asleep you can't do anything to me).  Burning halos like crosses don't you dare cross us.   I warned you... I warned you...  As we swiped the guardrail we said our prayers As we swiped the guardrail we said our prayers.  Despite your valor I'd say you're losing control No nothing is impossible (you look so innocent asleep you can't do anything to me). Despite your valor I'd say you're falling apart  Just wait this is your favorite part (you look so innocent asleep you can't do anything to me).  Burning halos like crosses don't you dare cross us. \", \"Everybody's high on consolation Everybody's trying to tell me what is right for me yeah My daddy tried to bore me with a sermon But it's plain to see that they can't comfort me Sorry Charlie for the imposition I think I got (it got it) I got the strength to carry on yeah I need a drink and a quick decision Now it's up to me ooh what will be She's gone she's gone Oh I oh I I better learn how to face it She's gone she's gone Oh I oh I I'd pay the devil to replace her She's gone and she's gone Oh why what went wrong? Get up in the morning look in the mirror I'm worn as a toothbrush hanging in the stand yeah My face ain't looking any younger Now I can see love's taken a toll on me She's gone she's gone Oh I oh I I better learn how to face it She's gone and she's gone Oh I oh I I'd pay the devil to replace her She's gone she's gone Oh why what went wrong? Think I'll spend eternity in the city Let the carbon and monoxide choke my thoughts away yeah And pretty bodies help dissolve the memories They can never be what she was (was) to me She's gone she's gone Oh I oh I I better learn how to face it She's gone she's gone Oh I oh I I'd pay the devil to replace her She's gone and she's gone Oh I what went wrong? She's gone Oh I I better learn how to face that She's gone she's gone I can't believe that she's gone Oh I I'd pay the devil to replace her She's gone Oh I I I better learn how to face that She's gone she's gone I can't believe that she's gone Oh I I pay the devil to replace her She's gone she's gone She's gone she's gone She's gone she's gone She's gone she's gone She's gone she's gone She's gone she's gone She's gone she's gone She's gone she's gone\", \"This is not me I was never cut out for this scenery I'm just a paper boy Your crushed paper toy And nothing has changed Only paper landscapes ripped and rearranged By an angry girl This torn paper world  If only I knew that your spark Would set fire to my paper heart Paper heart  I live by the sea Not the one you're thinking But the sea inside of me  To you unseen But you shake the ground You rearrange the sunsets and terrorize this town And it's you I blame When I crash paper planes  If only I knew that your spark Would set fire to my paper heart Paper heart  If only I knew from the start You'd tear right through my paper heart Paper heart  This is not me I was never cut out for this scenery I'm just a paper boy \", \"You're my heavy drug* You're my heavy drug You're my heavy drug You're my heavy drug. I need your love I need your love I need your love.\", \" \\r The street light won't stop shining through the window By the pullout couch where I've been sleeping I don't know what you've been told but I'm alright You signed your name a million times in cursive On the cover of every book you own Miss me more miss me less I never know Your parents kept on with the poems you wrote When you were eight years old in the garage I did too and when I think of you I'm like a child The street light won't stop shining through the window By the pullout couch where I've been sleeping I don't care if I sleep again it's okay \", '', '', '', \"We came from nowhere with a certain dedication and devotion We were beholden to the way in which we lived with such emotion And so we mingled with the people you'll no see us you'll not know us On and on On and on until the end On and on On and on until the end On and on On and on they'll be no end We have band So we go now Come with us now So we go now Come with us\", '', \"Just tell me where to go and I'll take off my clothes for you (Yeah) (You know we had to do it again right?) You're in total control and you're running the show I'll do whatever you tell me baby Baby I can come by and pick you up We'll make love into the night it's never enough Oh babe I know what you like And I would make love to you forever and ever Into the night (forever and ever we'll make love into the night) Your wish is my command so I'll cancel my plans tonight (Yeah) (Oh baby yeah) I'll make you understand that I'm the only one who can handle your body right And I'm a show you tonight (Ooh wee baby I'm coming) Baby I can come by and pick you up We'll make love into the night it's never enough Oh babe I know what you like And I would make love to you forever and ever Into the night (forever and ever we'll make love into the night) If you ever wanna know (if you ever wanna know) Who I love (who I love) That's you (that's you) that's you (that's you) It's you (it's you) yes you (Yes you) Oh and I ain't never leaving baby you gotta believe me You're the one I love and girl ask who I love Cause that's you (that's you) that's you (that's you) Yes you (Yes you) yeah you Baby I can come by and pick you up We'll make love into the night it's never enough Oh babe I know what you like And I would make love to you forever and ever Into the night (forever and ever we'll make love into the night) (Ay jill) You gonna wanna tell everybody Bout how I got you all coming when I call You know I break you off And if these walls could talk they would tell everybody Bout how I put it down You know I shut you down Got you up off the ground yes I can't be wasted And if I let you on my spaceship You'll have to let me taste it Hop on it I'm a give you a ride Cause we gonna make love all through the night\", '', '', '', \"So this is the end of you and me We had a good run and I'm setting you free To do as you want to do as you please Without me Remember when you were my boat and I was your sea? Together we'd float so delicately But that was back when we could talk about anything 'Cause I don't know who I am When you're running circles in my head And I don't know just who you are When you're sleeping in someone else's bed Three whole words and eight letters late And that would have worked on me yesterday We're not the same I wish that could change But it can't And I'll say your name and in the same breath I'll say something that I'll grow to regret So keep your hands on your chest and sing with me That we don't wanna believe 'Cause I don't know who I am When you're running circles in my head And I don't know just who you are When you're sleeping in someone else's bed So it's true what they say If you love someone you should set them free Oh it's true what they say When you throw it away I don't know who you are I don't know who you are Oh 'cause I don't know who you are When you sleep with somebody else 'Cause I don't know who I am When you're sleeping with him It's true what they say when you throw it away\", '', \"When you were somewhere I was loving being nowhere My inside outside Kept on looking for a new high  But now that storm has gone You know it's never coming back You know me  But it feels like Everybody wants you Out of my life And it feels like Nobody knows the truth Only me and you I'm not running  Back then I would Try to get with everyone that I could You chained me I'm caught Gave me everything that you've got  The situation changed I'm just a player in your game You know this  But it feels like Everybody wants you Out of my life And it feels like Nobody knows the truth Only me and you I'm not running  I don't want us to break down But all the people are so loud I'm just hoping we're strong enough to take it   I'm not running (Feels like) (Everybody wants you) Out of my life And it feels like Nobody knows the truth Only me and you  But it feels like Everybody wants you Out of my life And it feels like Nobody knows the truth Only me and you I'm not running I'm not running \", \"You won't believe what I tell you White coats and clever minds will choose You get a lot from this Loose tongue and arrogance It's not appropriate Don't think that this is it Now I can talk no one gets off (I know how you like to) Now I can talk no one gets off Now I can talk no one gets off (I know how you like to) Now I can talk no one gets off A longer sentence brings no more Than one that I had said before It's hard to compromise When I see through your eyes It's just a common view I guess it's lost on you Now I can talk no one gets off (I know how you like to) Now I can talk no one gets off Now I can talk no one gets off (I know how you like to) Now I can talk no one gets off ... Now I can talk no one gets off (I know how you like to) Now I can talk no one gets off Now I can talk no one gets off (I know how you like to) Now I can talk no one gets off\", \"Why do I see stars at night? Everyone else sees the light And how did I come this far? I'm sure that I can't fly  Why did you say that to me? 80 miles out on the sea And I am built with parts of you and you are built with parts of me  I think it's strange that the weather doesn't change When you are beside me When you are beside of me I make my plans but they don't stay the same You are beside me when You are beside me  Oh Sailor Oh sailor  Take the wheel Oh sailor don't measure how I feel  Dance around the fire Dance around the flame We settle on the wire We settle on my name  Take me with you when you go now that I know what I know cross the waves blow the windy tides  Goes so slow \", 'I\\'m a fucking thunderstorm you\\'s a light shower You a bitch you shoot and miss like Dwight Howard You can\\'t battle the god I\\'m too precise coward That\\'s like Khalid Muhammad saying he\\'s White Power This the machete that your organs getting sliced out with The blind motherfucker in the village Bryce Howard My brain only function proper in the night hours You might own a fucking label but the mic ours My shit hi-tech lord like a plastic bomb An asshole I punch people with glasses on Anybody disagreeable we mashing on I only fuck with green and gold god magic wand An encore is the only thing that you clapping on I\\'m a pitbull pussy you a papillon A bitch get a 40 from me not a glass of Dom I\\'m the G-29 in the assassin\\'s palm  All I hear is danger all I see is danger All you hear is \"run run here come danger\" Shatter dreams like Freddy your thoughts rearrange ya Stare death dead in the eyes it\\'ll change ya All I hear is danger all I see is danger All you hear is \"run run here come danger\" Shatter dreams like Freddy your thoughts rearrange ya Stare death dead in the eyes it\\'ll change ya  It\\'s a righteous kill I don\\'t do nothing but write and kill Drink 40s smoke el push the white and krill I move strong and fast I have a bison\\'s will I\\'m the motherfucking champ I\\'m the fightin\\' Phils I\\'m from the city of the syrup and Vicodin pills From the city the most fearless of fighters was filmed The city where we have the most street veterans still The Moors Nuwaubians Five Percenters will build I\\'m from Philly motherfucker the rawest it comes I make your body disappear I\\'m a sorcerer\\'s tongue You live your whole life in fear that the torture will come I hope my music is revered like a portrait of Pun I\\'m paranoid god here in my fortress with guns I had a void god filled it with whores and with blunts I ain\\'t have a choice god I was born in the slums I ain\\'t have a voice god till I slaughtered the drums   Yeah the four-fifth is a melon popper Hollow tips spin your body like a helicopter Anything can move god if you sell it proper And I\\'ve been through more viewings than a teleprompter This is horrorcore beat got hella monsters My team\\'s got more Gs than a spelling proctor Y\\'all ain\\'t never moved D y\\'all are petty choppers I got a vicious left hook call me Eddie Thomas But I\\'m raw with the right hand Like Jack Johnson fighting against the white man Yeah I\\'m about to shorten your life span Evil shit can be good if it\\'s in the right hands I make motherfuckers burn you a slight tan I keep a motherfucking urn on my nightstand So wait your motherfucking turn like a hype man I bury you with the snitches under the white sand ', ' \\r In the night I have traveled All alone just to see Where I left all the memories I had grown to count as me  Through the days though uncertain I can live secretly Just for you just for you Just for you  And I strain to see Will it ever be you and me?  Singing oh oh We sing oh oh  It was cold on the last day I was trying not to see In a place so familiar Yet resisting all of me  I am one I am only Who I hope that I can be All for you all for you All for you  And I strain to see Will it ever be you and me?  Singing oh oh We sing oh oh Singing oh oh We sing oh oh  If you could only see how good I could be in your arms tonight If you could only see how good We could be moving on  We sing oh oh We sing oh oh We sing oh oh We sing oh oh  We sing oh oh We sing oh oh We sing oh oh We sing oh oh  We sing oh oh We sing oh oh ', \"You're not even far away I know I'll see you soon enough It's love to miss someone so much It sounds so crazy but you're my baby  And I know sometimes we gotta go I gotta hit the road you gotta work over load I'm thinkin' 'bout you you're thinkin' 'bout me I'm half of you and you're half of me  And I never thought it would be so hard (When we're apart) I tried to block it out but I can't help but think about you With you and me I only feel one thing  And I never thought it would be so hard (When we're apart) No I never thought it could be so hard But you ain't even far (You ain't even far)  No you ain't even far (You ain't even far) So why is it so hard? No I never thought it would be so hard And you ain't even far  How I wish the time could stop so We wouldn't waste it nothing but patience No more waitin' for you to come home to me Nobody takin' the time that belongs to me  And you know that whenever I leave With you is where I wish that I could be (Yeah yeah oh oh yeah yeah)  And I never thought it would be so hard (When we're apart) I tried to block it out but I can't help but think about you With you and me I only feel one thing  And I never thought it would be so hard (When we're apart) No I never thought it could be so hard But you ain't even far (You ain't even far)  No you ain't even far (You ain't even far) So why is it so hard? No I never thought it would be so hard And you ain't even far  Ain't tryin' to complain baby I'm wrecking my brain Got my cell under the pillow Wanna see your name come on (Yeah yeah oh oh yeah yeah) Yeah yeah oh  And I don't care what nobody says I would see you everyday if I had my way (How I miss your face the way your lips taste) And you ain't even far Who would've thought it would be so hard  And I never thought it would be so hard ooh (When we're apart) I tried to block it out but I can't help but think about it With you and me I only feel one thing  And I never thought it would be so hard (Never I never knew it would be so hard) No I never thought it could be so hard (Ooh yeah and you ain't even far)  No you ain't even far (You ain't even far) So why is it so hard? No I never thought it would be so hard And you ain't even far \", \"It's worse worse than you think If truth be told I'll tell you that you're lovesick I am sweet so everybody takes a bite Dig in I'm the catalyst of your demise. Words are cheap so I'll sell you a line Like the way you acted that night Second best is what what you want then It won't cost that much but me. I've got you hanging on every word I say But that don't mean a thing And you love the way I take your breath away So I'll take your breath away. Have you had had your day? Move close and I'll push you away. Play it safe For the sake of keeping some face Play it safe In the name of keeping your place. Do what what I tell you to With arms we'll carry this through Can't wait can't wait to see you. I've got you hanging on every word I say But that don't mean a thing And you love the way I take your breath away So I'll take take take. Oh I only have eyes for you And it's so true. Oh I only have eyes for you It's the truth it's the truth. So true. So true. So true. So true. And I only have eyes for you And I only have eyes for you. I've got you hanging on every word I say But that don't mean a thing And you love the way I take your breath away So I'll take take take. Oh I only have eyes for you And it's so true. Oh I only have eyes for you It's the truth it's the truth. So true.\", \"You were warned what was happening When you still fall short  Can't separate from the smiling face Can't separate from the warm embrace Can't separate from can't separate from Can't separate from can't separate from  From all the lies and all this means We've been around and oh we've seen The centerfolds and empty screens We've been around you're all asleep  From all the lies and all this means We've been around and oh we've seen The centerfolds and empty screens We've been around we've been around  Ask me why I'll tell you why It's time to go pack your things and say goodbye I said before your grass is dead Previously green don't ask me why  Why all the lies and all this means? We've been around and oh we've seen The centerfolds and empty screens We've been around what do you mean?  Through all the lies and all this means We've been around and oh we've seen The centerfolds and empty screens We've been around we've been around  From all the lies and all this means We've been around and oh we've seen The centerfolds and empty screens We've been around you're all I see  From all the lies and all this means We've been around and oh we've seen The centerfolds and empty screens We've been around what do you mean?  From all the lies and all this means We've been around and oh we've seen The centerfolds and empty screens We've been around we've been around \", \" \\r Boys don't cry they just want to die Stumbling coughing grin or lie Will you look into my eyes? Will you be my new dress?  Box up all of your things with tape Write your address hope it won't be late Can I still be your pessimist?  Boys don't cry they just want to die Stumbling coughing grin or lie Will you look into my eyes? Will you be my new dress? \", \" \\r Where are you going? Can I come with you? I don't feel right when you're not here  Where are you going Can I come with you? It just don't feel right when you're not here  I know you're bad That's why I like you That's why I like you  Where are you going? Can I come with you? I don't feel right when you're not here  Where are you going? Can I come with you? It just don't feel right when you're not here  I know you're bad That's why I like you That's why I like you  I know you're bad That's why I like you That's why I like you \", '', '', \" I'm taking my own life I might as well Guess where I'm going cause the Devil's inside I'm taking my own life that's where I'm going Except they might not sell weed in Hell  See I always have respect cause I always talk fact The .38 and the 50 caliber hot black I always left with nothing but I always brought back I always been a hustler I probably go off that Y'all don't wanna go to work with the boy There's only two words that describe me: search and destroy I don't think you wanna get murked by the boy My shit is military y'alls is like a nursery toy It's hurting you boys My team ain't even hungry we famished I murder everybody fuck collateral damage I'm animal savage with Hannibal's habits I'll mangle your cabbage I walked into the parish and I strangled the faggots I hang with the baddest brothers put their trust into Jesus Run with brothers who's forty guzzlers Islamic extremists Ugly and ignorant is how they perceive us I don't care I'm trying to deal with my personal demons   Y'all don't wanna go that route Broke motherfucker need to throw his throwback out If you see me drinking something good I stole that stout If you see me drinking in the hood then roll back out On the real I don't want no one to bother me cousin Rapping just a little fucking bit of part of me cousin I'm just trying to have a drink at the bar with my cousin I ain't mean to be rude god pardon me cousin I stay strapped lord gun in the tuck Young boys act wild lord funny as fuck I scrap southpaw sonning you fucks Look at you lord on the floor bummy as fuck what? My life been defined by death So I guess if everybody dead mine is next My father dropped a jewel on me time forgets It's not as easily the mind forgets Y'all know what I mean?   Drag you to Hell I'm evil dead you can call me Sam Raimi These motherfuckers want a verse but they can't pay me Fuck a funeral home put em in the sand maybe Y'all are acting like you're big like you're mad gravy Y'all don't wanna beef with the god Don't have the brain power to compete with the god Y'all should retreat from the god before you get turned to meat Something to eat for the god peace to the gods I carry heavy shit big guns John Rambo I'mma spot Russia like Pakistani commandos How you go to war when you're standing in sandals? Now you're dead and your family handling candles Don't even call for a truce I'm about to end this Whole motherfucker when I call for the troops Reservoir dog walk with the troops And I burn this motherfucker down to the ground down to its roots \", \"You've got a lot to say For the one that walked away I give you take It's the way it's always been Oh how do I know If I should stay or just go? The bottom line is this way That I'll never know Stay with me Stay with me stay with me Stay with me oh Whoa whoa whoa Whoa whoa whoa You've got a lot to say For the one that pushed me away I give you take Some things they never change Just change Stay with me Stay with me stay with me Stay with me I never knew that I could be this way I never knew that I could walk away These things take time to grow It's been said that time heals wounds But no I won't be controlled And so the story goes Stay with me Stay with me stay with me Stay with me And now I know that I can be this way And now I know that I can walk away\", '', \"Initiate radar  Your eyes say it all all They're fixed upon an object of desire You can't control no But gravity compels you to ignite and explode oh  'Til our time and space combine You'll fantasize the unknown oh  Girl it's taking off the ground You know how I put it down Have you seen your stars baby?  This is big bang so unpredictable Sex love and drama who's in control? Mars vs Venus yeah when the worlds collide  This is the big bang step in the ring of fire Sex love and drama who can take desire? Mars vs Venus  Seduce and analyze yeah Objective is to conquer deep inside Make paradise  Girl it's taking off the ground You know how I put it down Have you seen your stars? Oh  This is big bang so unpredictable Sex love and drama who's in control? Mars vs Venus when the worlds collide  This is the big bang step in the ring of fire Sex love and drama who can take desire? Mars vs Venus  This is big bang so unpredictable Sex love and drama who's in control? Mars vs Venus when the worlds collide  This is the big bang step in the ring of fire Sex love and drama who can take desire? Mars vs Venus  Oh pitch black glossed amidst the galaxy between the sheets Warmth that only you and I generate when we collide Hold that don't make my emotions peak If I let go then I'll be weak your control is my defeat  I repeat never never never Never will I give up no no no no I ain't giving up now  This is big bang so unpredictable Sex love and drama who's in control? Mars vs Venus when the worlds collide  This is the big bang step in the ring of fire Sex love and drama who can take desire? Mars vs Venus  This is big bang so unpredictable Sex love and drama who's in control? Mars vs Venus when the worlds collide  This is the big bang step in the ring of fire Sex love and drama who can take desire? Mars vs Venus  When the worlds collide I don't know if I will win But I know I wanna do it again Mars vs Venus When the worlds collide I don't know if I will win But I know that I wanna do it again yeah  I don't know if I'll ever win Mars vs Venus \", \"White Wizzard's here to rock you all In a raging metal storm Riding on the second wave Of a new electric storm Rebel souls and rivet heads Will make the hammer fall Break the chains and go insane Heavy metal is the law Let's go Hail rock and roll Metallic overload We're gonna spin your soul Out of control In '79 we were left for dead A new movement was born Neal Kay saved the day Air guitar's in a crazy swarm Lightning strikes the same place twice It's coming back again The earth will quake to make your ear ache Now crank the amps to ten Let's go Hail rock and roll Metallic overload We're gonna spin your soul Out of control The anthems sound a new rebirth A sonic blast across the earth Motorbikes and muscle cars Will own the roads again Leather spiked denim warriors Dirty women dressed to sin So get on your feet and march in the street Shout at the devil proud Storm the gates in a bloody rage Stand up and scream out loud Let's go Hail rock and roll Metallic overload We're gonna spin your soul Let's go Hail rock and roll Metallic overload We're gonna spin your soul Out of control\", '', \"Heeding the call of my resilient foes Absorbing the sound of the melodies silent All of my dreams turning scarlet My screams startling allies in the pale of the moon  I'm contemplating what I've seen The bright of the morning that survived the night Dreams remembered in fragments  Shards of glass reflect Shards of glass reflecting the pale of the moon In the pale of the moon  I dance amongst damned this dance of the dead The melodies guiding me playing unheard Dead in the pale of the suffering moon  With this revelation I feel even more at the brink of risk These things in the darkness that I cannot see nor resist Dancing with fire resting in the ash that coats my skin Brings me to life again  Awaken screaming in the darkest of the night The fire heats the sky lifting me into a conscious nightmare Revealing that the window's still intact the murals not defiled The window to the soul has not been broken  Warmth outstanding candlelight the flicker on the wall A better sense of the apathy in the corner of the room The door creaks barely heard as I shiver in my skin The candle dancing violent now as if it somehow has heard  This is vengeance this is beauty somehow defiled This is the culmination of their desire to enter me  What I've seen how quickly white fades to gray Within what fathers the wiles of the devil A farce of this dark memory The wiles of the devil the wiles of the devil Heeding the call  Now I'm a flurry spinning about the room The glass cutting into my feet As I embrace the fall into the floor Descend remember the sound of the whisper In your ear your ear  Now I'm a flurry spinning about the room The glass cutting into my feet As I embrace the fall it crumbles away Descend remember the sound of the whisper In your ear  I stare at the walls alive moving about to a beat I must resist Refusing every advance slipping hopeful back to sleep My eyes shut I sense the cold with whispers in my ear \", '', \"Yeah Ooh yeah  You've got a key to unlock this town Put hearts in overdrive We sweat it out in the devil's playground It makes me feel alive The way you walked into the room Got me howling at the moon I ain't too proud to beg  Tangled up in your love Knock me down till I come out on top Tangled up Tangled up in your spell And it sure feels like heaven and hell You got me tangled up  There's no rule that I have to follow It's crazy how I feel You make me live like no tomorrow Tonight is a done deal You got me coming on too soon Got me howling at the moon And now you make me pay  Tangled up in your love Knock me down till I come out on top Tangled up Tangled up in your spell And it sure feels like heaven and hell You got me tangled up  Whoa tangled up Whoa  And every night when I'm alone There's a chance that I don't make it home 'Cause I just need to feel you near When it's clear I'll be there for you   Tangled up in your love Knock me down till I come out on top Tangled up Tangled up in your spell And it sure feels like heaven and hell You got me  Tangled up in your love Knock me down till I come out on top Tangled up Tangled up in your spell And it sure feels like heaven and hell You got me tangled up babe  Whoa tangled up Whoa tangled up Tangled up \", \"This night is alive with the smell of insane It's reaching for me and it's calling my name I beg for silence to drown out their weep How did this asylum become where I sleep  So ashamed of waking All my life you failed to keep me safe My whole world's forsaken Won't let you destroy my faith again  All my questions get no answers Locked up tight from the world outside me Mommy come get me out tonight All my questions have no answers I can feel the fear inside me Mommy come get me out tonight  So close I almost could taste my own grave My moment of selfishness caused by your pain Almost threw this life you gave me away In this institution for you now I pray  So ashamed of waking All my life you failed to keep me safe My whole world's forsaken Won't let you destroy my faith again  All my questions get no answers Locked up tight from the world outside me Mommy come get me out tonight All my questions have no answers I can feel the fear inside me Mommy come get me out tonight  Forgive me With wings adorn me So I can fly   All my questions get no answers Locked up tight from the world outside me Mommy come get me out tonight  All my questions have no answers I can feel the fear inside me Mommy come get me out tonight  Mommy come get me out tonight \", \"You've got the power I'm well aware of all your plans To make me to break me. Don't speak with caution tell me everything you want in me. I'm waiting I'm waiting.   You can call me a sinner You can call me a lover You can call me whatever makes you...  Confident (you're gonna learn you're lesson) But powerless (you better pay attention).  Your bravery (you thought that this was over) Is at your expense (I never said that I was through with you).  You've got the secrets that always keep me up at night Distracted distracted.  Retract the claws that you've embedded into jealousy. It's vicious so tasteless.   You can call me a sinner You can call me a lover You can call me whatever makes you...   Confident (you're gonna learn you're lesson) But powerless (you better pay attention). Your bravery (you thought that this was over) Is at your expense (I never said that I was through with you).  Confident (you're gonna learn you're lesson) But powerless (you better pay attention). Your bravery (you thought that this was over) Is at your expense (I never said that I was through with you).   Where are those principles? Those concrete thoughts that make you still believe. Don't make things difficult. It's in there somewhere it's in there somewhere.   Confident (you're gonna learn you're lesson) But powerless (you better pay attention). Your bravery (you thought that this was over) Is at your expense (I never said that I was through with you).  Confident (you're gonna learn you're lesson) But powerless (you better pay attention). Your bravery (you thought that this was over) Is at your expense (I never said that I was through with you). \", \"There goes my baby (oo girl look at you) You don't know how good it feels to call you my girl There goes my baby Loving everything you do Oo girl look at you Bet you ain't know that I be checking you out When you be putting your heels on I swear your body's so perfect baby How you work it baby yea I love the way that you be poking it out Girl give me something to feel on So please believe we gone be twerking it out By the end of the night baby I've been waiting all day to wrap my hands Around your waist and kiss your face Wouldn't trade this feeling for nothing Not even for a minute And I'll sit here long as it takes To get you all alone But as soon as you come walking my way You gon hear me say There goes my baby (oo girl look at you) You don't know how good it feels to call you my girl There goes my baby Loving everything you do Oo girl look at you I get the chills whenever I see your face And you in the place girl Feel like I'm in a movie baby I'm like oowee baby oh Like waterfalls your hair falls down to your waist Can I get a taste girl No need to keep this baby I ain't ashamed of calling your name girl I've been waiting all day to wrap my hands Around your waist and kiss your face Wouldn't trade this feeling for nothing Not even for a minute And I'll sit here long as it takes To get you all alone But as soon as you come walking my way You gon hear me say There goes my baby (oo girl look at you) You don't know how good it feels to call you my girl There goes my baby Loving everything you do Oo girl look at you And girl I feel like it's our first time Everytime we get together Baby loving you feels better than Everything anything Put on my heart you don't need a ring And I promise our time away won't change my love There goes my baby (oo girl look at you) You don't know how good it feels to call you my girl There goes my baby Loving everything you do Oo girl look at you There goes my baby (oo girl look at you) You don't know how good it feels to call you my girl There goes my baby Loving everything you do Oo girl look at you\", \"Rock on live free or die Rock on live free or die Patriots of freedoms fight We the people shining the light Illuminate our dreams in neon nights Free to be who you want to be From sea to shining sea United force in truth and destiny Rock on and live to fly free And you'll be Fly high high in the sky Live free or die Fly high high in the sky Live free or die Yeah live free or die Yeah live free or die Yeah live free or die Yeah live free or die Fly the flag and fly it proud Scream for freedom shout it out loud We are the keepers of the dream Land of the brave home of the free The light of lady liberty A beacon of hope  to you and me Rock on and live to fly free And you'll be Fly high high in the sky Live free or die Fly high high in the sky Live free or die Yeah live free or die Yeah live free or die Yeah live free or die Yeah live free or die Fly high high in the sky Live free or die Fly high high in the sky Live free or die Yeah live free or die Yeah live free or die Yeah live free or die Yeah live free or die\", \"We wanna know We wanna know We wanna know What it's all about We wanna know What it's all about We wanna know Know now We wanna know What it's all about Does it all add up? When we're out of love And you're done talking And I'm done talking And you're done talking And I'm done talking Will we find something? Will we find something? We wanna know\", \"I've fought another day Lose another chance to break away From all I cannot bear. I suffer through the shame Wishing hope would just abandon me Till this is over. My loveless life I'm lost in you tonight Waiting for you to turn around Only to tear the whole world down. Time and time again Take it all and take the fall for you. Fear is all I hold Bound and beaten down All the pain I can't escape today Is always with me My loveless life I'm lost in you tonight Waiting for you to turn around Only to tear the whole world down. My darkest night Your arms that hold me tight Waiting for you to turn around Only to tear the whole world down. All my love is lost All my hope is gone All my love is lost All my hope is gone My loveless life I'm lost in you tonight Waiting for you to turn around Only to tear the whole world down. My darkest night Your arms that hold me tight Waiting for you to turn around Only to tear the whole world down.\", '', \"She'll only come out at night The lean and hungry type Nothing is new I've seen her here before Watching and waiting Ooh she's sitting with you  But her eyes are on the door  So many have paid to see  What you think you're getting for free The woman is wild a she-cat tamed  By the purr of a jaguar Money's the matter If you're in it for love  You ain't gonna get too far  Whoa oh here she comes Watch out boy she'll chew you up Whoa oh here she comes She's a maneater  Whoa oh here she comes Watch out boy she'll chew you up Whoa oh here she comes She's a maneater  I wouldn't if I were you I know what she can do She's deadly man and  She could really rip your world apart Mind over matter Ooh the beauty is there but a beast is in the heart  Whoa oh here she comes Watch out boy she'll chew you up Whoa oh here she comes She's a maneater  Whoa oh here she comes Watch out boy she'll chew you up Whoa oh here she comes She's a maneater \", \"It's on this road that I'm drawn back to you As the miles remember me as I go It's in the silence of a night's dream That I recall the words of devotion we spoke And I can't remember where our bodies roamed I can't remember all alone How our love got lost out in the cold But you're the only song I hear In this great wandering mess of my years You're the only one I know Who brings me back to the middle You're the only song I hear In this great wandering mess of my years You're the only one I know Who brings me back to the middle I separated all I thought I knew In a pile of books collapsed upon my floor I memorized the words in code and true But I can't carry them with me no more And I can't remember where our bodies roamed I can't remember all alone How our love got lost out in the cold But you're the only song I hear In this great wandering mess of my years You're the only one I know Who brings me back to the middle You're the only song I hear In this great wandering mess of my years You're the only one I know Who brings me back to the middle Don't tell me you've been swept away I can't believe it about you I won't believe it about you no Don't tell me you've been swept away I can't believe it about you I won't believe it about you 'Cause you're the only song I hear In this great wandering mess of my years You're the only one I know Who brings me back to the middle You're the only song I hear In this great wandering mess of my years You're the only one I know Who brings me back to the middle And you will draw me near When the sky opens and we appear You'll bring me once again Back to the middle\", '', '', '', \" He's a fighter and fighter... You don't make fighters. Vinnie's a born fighter and I could see that when he was a kid he was little he was different from other kids.  Yeah Pazienza I'm here baby. The Way of the Assassin is found in death. Meditation on inevitable death should be performed daily. Every day when one's body and mind are at peace one should meditate upon being ripped apart by arrows rifles spears and swords being carried away by surging waves being thrown into the midst of a great fire being struck by lightning being shaken to death by a great earthquake falling from thousand-foot cliffs dying of disease or committing seppuku at the death of one's master. And every day without fail one should consider himself as dead. This is the substance of the Way of the Assassin.\", \"We won't We won't stay where there's no one We won't play ring-a-rose son We're not here for duration We've no patience Don't Baby please don't With away the dark days They're the ones that make it all worthwhile Hero know We'll survive If he lays Down his life From the birth To the grave One by one We'll be saved We won't We won't stay where there's no one We won't play ring-a-rose son We're not here for duration We've no patience Don't Baby please don't With away the dark days They're the ones that make it all worthwhile Looking out the window Thinking for a while now Barking dog lie down Please come come and find me When you know what we know When you've been we're we've been We you've seen what we saw When you see what we've seen Hero knows We're released Heading on Go in peace\", '', \"Out on desert sands The race it shall begin To the death and locked in Wheels start to spin The checkered flag will fall As death may come to all Mechanical beasts in battle Road warriors to the end The engine's thrust into the night Battle royal the ultimate fight Bullets and octane start to fly Every man but one shall die Gasoline and flames Across the sandy plains Rockets start to fly In the desert sky Exploding overload On the crimson killing road Tonight there are no rules In the final bloody duel A race to the death For the power and the glory oh oh oh  Road villains in black Charging the attack Steel beasts enraged There's no turning back Blades slice into skulls The armored saint shall fall Swinging chains and swords A deadly free for all The engine's thrust into the night Battle royal the ultimate fight Bullets and octane start to fly Every man but one shall die Gasoline and flames Across the sandy plains Rockets start to fly In the desert sky Exploding overload On the crimson killing road Tonight there are no rules In the final bloody duel A race to the death For the power and the glory oh oh oh Oh oh oh oh oh ooohh\", 'I feel reinvigorated don\\'t fuck with the boss I\\'d rather cut my own throat before suffering loss Anybody fucking with me get hung on the cross I have anger in me don\\'t make me summon the source I go to war with the Glock I go to war with anybody motherfucker I\\'m a sorcerer ock Fucking everything whether the bitch is gorgeous or not I murder everything that\\'s just some of my torturous plot If you righteous and you under attack Like the Anbar Awakening and Sons of Iraq The fifty cal is like a thunderous clap If you think that you safe and nothing wrong that\\'s a presumptuous act It ain\\'t no tomorrow I don\\'t got a dime saved And if you did it\\'s in the Wall Street crime wave It ain\\'t nothing worse in the world than a mind slave Going to war with my people how I define brave  I\\'m a monster Ain\\'t no one can fuck with the kid I\\'m a monster My jail brothers stuck with a bid I\\'m a monster Everything I do is precise I\\'m a monster Pazienza ruin your life I\\'m a monster Ain\\'t no one can fuck with the kid I\\'m a monster My jail brothers stuck with a bid I\\'m a monster Everything I do is precise I\\'m a monster Pazienza ruin your life  Yeah you know that Vinnie he been nice Y\\'all don\\'t belong inside of the ring like you Kimb\\' Slice I ain\\'t gonna take all of your skin just a thin slice They call me John \"The Beast\" Mugabi when Vin fights Vin Laden Taliban Hamas and Al-Qaeda You a snitch cop lover you fuck with a traitor I\\'m a motherfucking brick you constructed of paper I dumped the motherfucking clip now you dust and you vapour I was there when all the planets was born Before the Continental Drift and when Atlantis was formed When Gandhi told the Indians to stand and be strong And took the British out with intellect in spite of their brawn   Everything Pazienza do is hard body I don\\'t care if you Blood Ñeta or Godbody I was devilish before the power of God got me I just think I let the fucking sword of Allah chop em Mossberg nine thirty-five is amazing The Prada high-tops the same colour as raisin He a rat not even his mother can save him That\\'s what you get for being brothers with Satan The thirty-eight practical the Glock is for fair And this for jail brothers something they can knock on the tier Yeah I\\'ll stick a knife in your esophagus queer I\\'m an animal every rhyme will demolish you queers Gas high but you can get the D for a real price This Sig Sauer 1911 is real nice I\\'ll stick through the wrist with a steel spike And now maybe you\\'ll overstand the pain of the real Christ ', \"So many days I can't stop myself From fighting this monster that eats me alive So many times I've fought and I've tried To live for a moment without fearing my mind I hate this yet live this and it's bringing me down I feel like I'm standing on uneven ground The balance to life has been skewered so violent I'm so sick of this death-instinct silence  So despondent and so somber so frail So scared to begin for the fear I will fail I'm alone in this pattern and I can't call for grace I'm left in this mess that is such a disgrace I fear for my mind more than I fear for life The one thing worth saving is the love I deny For I feel so hollow and I yearn to relent The control for some peace and freedom from this torment  There's no one to save me and I can't save myself I would give my whole being for some kind of help But no one can stop this god damn monster so great All hope is now lost and it's too late I numb to forget to quiet the noise I'm deafened by silence I can't live with myself I numb to forgive for myself can't forget That I could've been someone without any regret  You lying man who tells a tale Of flawless love and peace of mind Of parting seas and curing blind Your lies my faith there's no remorse You spin your tale with brutal force Your lies my faith my breathing grace I ran from life I erased my faith I am so blind And seeing eyes are not the kind \", \"Memories fade into the silence Haunting me tonight With hopes last breath I take this moment in It will be the last When morning breaks and sunlight takes the pain away Ever after never came and I'm still waiting For a life that never was And all the dreams that I laid to rest Are ghosts that keep me After all that I've become I am only one I am only one I close my eyes And bleed this empty heart Of all that longs to die When faces lie and love will falter I'm left with only time And time will break the dreams that take the pain away Ever after never came and I'm still waiting For a love I'll never have And all the dreams that I laid to rest Are ghosts that keep me After all that I've become I am only one I am only one I'm on my own here and No one's left to be the hero This fairy tale got wrong As night will fall My heart will die alone Ever after never came and I'm still waiting For my heart to beat again And all the dreams I've laid to rest Are ghosts that keep me After all that I've become I am only one I am only one I am only one\", \"Are we alone? Is there more than we believe in? Haunting these walls Shadows crawling out revealing Fear in me Stays in me The nightmares inside here My dark fears All in my head again The nightmares I might hear All my tears pull me through hell again I wake in the night And I pray that I've been dreaming There's nowhere to hide From this nightmare calling to me Fear in me Stays in me The nightmares inside here My dark fears All in my head again The nightmares I might hear All my tears pull me through hell again The nightmares inside here My dark fears All in my head again The nightmares I might hear All my tears pull me through hell again The nightmares inside here My dark fears All in my head again The nightmares I might hear All my tears pull me through hell again\", \"I see you You see me Watch you blowing the lines  When you're making a scene Oh girl you've got to know What my head overlooks The senses will show to my heart When it's watching for lies You can't escape my  Private eyes They're watching you They see your every move Private eyes They're watching you Private eyes They're watching you Watching you Watching you Watching you  You play with words  You play with love You can twist it around  Baby that ain't enough 'Cause girl I'm gonna know If you're letting me in or  Letting me go Don't lie  When you're hurting inside 'Cause you can't escape my  Private eyes They're watching you They see your every move Private eyes They're watching you Private eyes They're watching you Watching you Watching you Watching you  Why you try to put up a front for me I'm a spy but on your side you see Slip on into any disguise I'll still know you Look into my Private eyes  They're watching you They see your every move Private eyes They're watching you Private eyes They're watching you Watching you Watching you Watching you \", '', \"Pushing forth chasing fantasies That justify euphoric dreams Seeking better than I have ever seen The pristine city in the crystal sea Where the faultless dwell  There is a storm descending in a not so perfect world Not so perfect after all There is a storm descending in a not so perfect world Not so perfect after all  Here they are People screaming as the towers crumble down Romance stifling is the storm Lightning overhead displaying what we'll never control  Is this the best that they have found perfection Within the walls that crumbled down? Is this the best that they have found perfection Within the walls that crumbled down?  With need to suffer the need for despair To break down the common bond between The man and this ancient earth The search for our own perfect son  Lightning strikes the clock at the center of the town Just as the Isle of Atlas invades With each strike the elders wince Their faults exposed to a swarm of angry nomads  So the scholars moved to say that this city can't fall The scholars moved to say that this city can't fall into hell  If this was the perfect land the depravity I've viewed within Can't bridge the gap to justify my actions in this journey A storm reveals the hell that dwells within a faulted pretense Hearing from the heart  Hearing from the heart of a broken perfect man Claiming the buildings were constructed on the sand And the land was never fertile the walkways never gold His eyes slipping away  Is this the best that they have found perfection Within the walls that crumbled down? Is this the best that they have found perfection Within the walls that crumbled down? \", \"I don't wanna notice I don't wanna see Even I don't give up Even I won't give up You're breaking the surface So what's left of me? Tell me when is enough Tell me I should give up It's not the way you move It's your words Though they soothe They're not telling the truth Didn't I know you? Didn't I try to carry on While just believing in you? Didn't I give up everything? Tell me now if there's A reason for anything My heart it was open You stepped through the door It is tearing me up Giving in giving up Left here always hoping One day there'd be more Even I don't give up But tell me when is enough I see the strings you pull I'm not blind And I'm not fooled Well you know it's true Didn't I know you? Didn't I try to carry on While just believing in you? Didn't I give up everything? Tell me now if there's A reason for anything And here we are one glance away I wanted you you couldn't stay Every part of me Still reaching out reaching in And will I be here till the day You've found another To back away from? I won't make the same mistake again no Didn't I know you? Didn't I try to carry on While just believing in you? Didn't I give up everything? Tell me now if there's A reason for anything Didn't I know you? Didn't I try to carry on While just believing in you? Didn't I give up everything? Tell me now if there's A reason for anything 'Cause even I don't give up Even I don't give up Even I don't give up Even I don't give up I don't wanna notice I don't wanna see Even I don't give up Even I won't give up\", \"I'm out for whatever you wanna call it cash or paper My only purpose to kill perfect assassinator I'm on the path of Islam you on the path of Vader My nickname Buck 50 cousin pass the razor The 750i turn you from a fan to hater Feeling myself like I'm a chronic masturbator I ain't the type of motherfucker you should ask a favour I'm the type of motherfucker that'll blast my neighbour I look at anybody as weak that has a saviour The Israeli Galil will turn your ass to vapour I got an Ingram MAC-11 and it has a laser I got a thing for MAC-11s not a passive nature Everything I write is war on the pad and paper I don't listen to rap no more my passion's Slayer My heart is cold as the temperature of a massive glacier I put a giant hole inside you like a massive crater  Everywhere I go to ball Paz is strapped I be loading it up I be cocking it back I ain't in my right mind I ain't stopping at that I will hit his lifeline in the back of his cap See I'm faster than a motherfucker grabbing his gat Beating me is just illogical imagining that I'm a G you is just a pacifist rat I make bodies disappear like a magical act Yeah I'm just giving the fans another anthem This is just another example of my expansion I make your top drop like the new Phantom I like to pop shots with my new cannon The left hook wild vicious I'm a champion You ain't wilding out cousin that's a tantrum Wild assault rifles thirty fucking handguns I'm holding all of you motherfuckers for ransom\", \"An apple for a brain A bee for a best man A panda is yourself And you holding Butter's hand Oh yeah yeah yeah When and why is it us? Bearing thy cross of shame Lu lu lu lu lu Lu lu lu lu lu Sha la la la la la la Sha la la la la la la So hideous for a boy So hideous on a boy I wanted to forget So ugly for a boy Dispraise for what I am A cartoon with no friends Oh yeah yeah yeah Lu lu lu lu lu Lu lu lu lu lu Sha la la la la la la Sha la la la la la la When and why is it us? Bearing thy cross of shame So hideous for a boy So hideous on a boy I wanted to forget Pandapple spoke to me Pandapple called my name So ugly for a boy \", \"If I could have a minute please Then I'd bring you to your knees This contagious chemistry is killing me Oh you'll never disappear Until I give permission dear 'Cause you're always gonna always be needy to please Dearest enemy I fear that You will just rush me along the way Somewhere between the fake smiles and your free drinks Please don't smother me I swear that I need some room to breathe while with you All up down and over me You're not a name you're just a face It's contagious so catch it This love is dirtier than you think Don't believe your eyes Believe your ears trust me This'll sink lower than you think Don't believe your eyes Believe your ears trust me Dearest Enemy you should listen to the streets Because they tell you all you need to know 'Bout who and what you are No smoke without a fire With that I'll name drop you a liar It suits your skin and bones You've known all along It's exactly what you are It's contagious so catch it This love is dirtier than you think Don't believe your eyes Believe your ears trust me This'll sink lower than you think Don't believe your eyes Believe your ears trust me This is the first and the last time I swear There's more where that came from She said do you know what that means? 'Cause I know what that means This is the first and the last time I swear It's a numbers game and you were there Do you know what this means? 'Cause we know what this means No (Oh!) Who'd you think I was? Yeah And oh (Oh!) This leads to the only lead you were working on And oh (Oh!) And you were hopeless at best yeah And oh forget the rest Hotel rooms cheap thrill dress Lack of common sense Could make this happen If I could have a minute please Then I'd being you to your knees This contagious contagious chemistry Dearest Enemy You should have never trusted me You bitch\", 'Every dollar counts And every morning hurts We mostly work to live Until we live to work She said \"You know There\\'s nowhere else to go\" But changing roles It struck me that the two of us could run Worlds away from cars And all the stars and bars Where a little bit of condensation means so much And a little bit of change is all your little fingers touch I said \"You know There\\'s nowhere else to go\" But changing roles It struck me that the two of us could run Honey with you Is the only honest way to go And I could take two But I really couldn\\'t ever know Honey with you And a little battered radio We could try So lead my feet away Cuz all they\\'ll do is stay And I don\\'t think your eyes Have ever looked surprised She said \"You know There\\'s nowhere else to go\" But with her fund It struck me that the two of us could run Honey with you Is the only honest way to go And I could take two But I really couldn\\'t ever know Honey with you And a little battered radio We could try', '', \"I keep my eyes to the sky ears to the ground Gotta learn to fly at the speed of sound If this is all I have I'm not gonna lose it And when the siren screams I go for broke  Ready to roar ready or not Ready to give it all I've got Gotta live to win get up get out get even Ready to roar ready or not Ready to give it one more shot Let the game begin need something to believe in Ready to roar!  I guess I'm living too fast to paint the town red I'll be having a blast waking the dead It's like a mystery to some kind of frightening To rev it up like a Usain Bolt of lightning  Ready to roar ready or not Ready to give it all I've got Gotta live to win get up get out get even Ready to roar ready or not Ready to give it one more shot Let the game begin need something to believe in Ready to roar!  Ready to roar ready or not Ready to give it all I've got Gotta live to win get up get out get even Ready to roar ready or not Ready to give it one more shot Let the game begin need something to believe in Ready to roar! Ready to roar! \", \"(*Prod. by Bronze Nazareth) Life this role of life*  This is Rock of Gibraltar rap The Springfield M14 show you where the coffin's at You motherfuckers don't belong in rap Fuck with me you got a better chance taking an abortion back You lack flavour put some sauce on that I went to the Great Wall put my fist through and walked through that Where this motherfucker's fortune at? I'm a levitate his body make it spin like a Laundromat Motherfucker I was born to rap I've been making records wild long never did a song that's whack How many have accomplished that? I was wild as a young boy shouldn't have put moms through that Vinnie Paz been to Nam and back I ain't never put the guns down cousin so my palms is black You a bitch I ain't involved with that I got a big trunk and that's where Vinnie keep all of his corpses at  Life this role of life  Silverback Gorilla walk through the minefield We don't see eye to eye how you define real Y'all are wondering if I'm out of my mind still I just need some liquor and pills and I'm chill I run with Puerto Rocks Morenos and vagabonds And Paz will shoot this motherfucker up like Barrie Bonds I'm like a military doctor Vinnie carry arms I kick in the door like BI did And the automatic weapons look like TI crib Vinnie fat you'll never see my ribs I don't call it loading bullets I refer to it as feed my kids All I think about is slaughtering y'all This little motherfucker named Charles Hamilton is harder than y'all It's in the garbage with y'all Listen to all you Myspace rappers I'm a father to y'all   I write in the rain turn beautiful night into pain I turn life into a frightening game I don't have love in me it's just ice in my veins My fist Hammer of Thor I Tyson the game This rap shit deep in my heart Y'all was sleep from the start But that just led to unbelievable art And on top of that the god is unbelievably smart My bare fists turn trees into bark Y'all don't want any improvement at all Y'all are devils y'all are torturing the rule of law My mind is a computer of war And it's typically the biggest motherfucker that'll usually fall Give me one take cousin the god out A forty of  and I ride out The forty Glock popping your eyes out Now you never get a chance to see what the god 'bout \", '', \"Revolving doors the words unspoken The walls alive their stories ringing litmus True valor of the soldier questioned in a time of war  Now the jury leaves expressing righteous dignity Scratching planks within their eyes Without even a moment their deliberation ends A momentary judgment of a sick and dying man  Escaping through an iron door The boulders coming faster now The healing hands of saints surrender As they see the head that glows disdain The looks of disappointment stain The once opaque within these walls  They bring the stones To shatter the scenes Making flaccid sculptures form Mere fragments remain  The gospel's wondrous beauty Now in pieces on the floor With the demons running rampant In the eyes of unforgiving sons  Without hesitation There is need for retreat The walls are crumbling down When they see me leave  They soak the bridge in gasoline And we descend together \", '', \" \\r Failure to include an explanation Our lives breathe no excuse of this It's our fault if we don't amount to anything How frequently we point the blame to our failures Is this what we call freedom or liberation? A distance far too great for words Our focus is based off of what we say I had it all As actions are a footnote of the past I wanted something real Hoping you would stay As our voices fade We'll find out what this means I hear your calling reveal your heart When pride fades You need no explanation here's my heart And I am yours There is no greater gift then this Our anger flows in every breath When man made passion starts to fade In fear will you be standing here? When voices fade on passion Will your hearts still burn through failure? \", \"What is she covering up? What is she lying about? She's hesitating... And she's using slow words I know But she's moving fast. Why is this happening now Why does this happen to me - all the time? Don't give up on me (Love) And I won't give up on you. (Love) Squeeze me 'til I can't breathe. And lets just lie here In oblivion. I can't believe in one of us I can't know - how long This love will last. Stay up in bed with me Stay up and play with me All day long. Don't give up on me (Love) And I won't give up on you. (Love) I get to wait for the baby (Love me girl) Nothing is wrong what are you scared of? Squeeze me 'til I can't breathe. And lets just lie here In oblivion. I can't believe in one of us I can't know - how long This love will last. Stay up in bed with me Stay up and play with me All day long. Don't give up on me (Love) And I won't give up on you (Love) I get to wait for the baby (Love me girl) Love me girl.\", 'In vier mal fünf Metern Stapelt sich der Schrott Hier draußen ist kaum einer Warum auch? Ein Leben ohne Zeugen Das Haus wie ein Karton Ausversehen hier gestrandet Wie der Scheiß in diesem Raum  Ein Rad ein Seil ein Mantel zwei Bücher über Krieg Auf dem Sofatisch mit Sesseln Alles ramponiert Linke Wand ein altes Bild Das über allem thront Wie ein wunderbarer Fehler Im fast perfekten Jahr  Denn alles was hier  Ist ist nur Strandgut oder Rest Nimm es mit!  Schmeiß es weg! Damit hier nichts übrig bleibt Denn alles was hier  Ist ist nur Strandgut oder Rest Nimm es mit!  Schmeiß es weg! Damit hier nichts übrig bleibt  Jetzt denken sie an Kinder Haternichhaternichhaternichhaternichhaternich Hier können sie nicht finden Geschweige denn eine Frau Dann genommen was gefunden Und ab ins Pensionat Man könnte jetzt wohl fragen Ist es dass auch wert  Denn alles was hier  Ist ist nur Strandgut oder Rest Nimm es mit!  Schmeiß es weg! Damit hier nichts übrig bleibt Denn alles was hier  Ist ist nur Strandgut oder Rest Nimm es mit!  Schmeiß es weg! Damit hier nichts übrig bleibt  Alles notiert wertlos wertlos ein Knacken vermutlich ein Mensch Alles liegt hier draußen Von Nebel ganz verdeckt Ein grenzenloses Leben Vom Menschen ganz weit weg  Denn alles was hier  Ist ist nur Strandgut oder Rest Nimm es mit!  Schmeiß es weg! Damit hier nichts übrig bleibt Denn alles was hier  Ist ist nur Strandgut oder Rest Nimm es mit!  Schmeiß es weg! Damit hier nichts übrig bleibt ', \"Some people drink champagne out under the stars While others drink wine leaning over a bar But all that I need dear to make me feel fine Is to know that your love will forever be mine I'd give an ocean of diamonds or a world filled with flowers To hold you closely for just a few hours Hear you whisper softly that you love me too Would change all the dark clouds to the bluest of blue Well I don't drink their champagne I don't drink their wine So if you refuse me my poor heart will pine And I'll be so lonely till the day that I die And as long as I live dear you'll still hear me cry I'd give an ocean of diamonds or a world filled with flowers To hold you closely for just a few hours Hear you whisper softly that you love me too Would change all the dark clouds to the bluest of blue Would change all the dark clouds to the bluest of blue\", \"Yeah C'mon Now listen  Life's a gamble I won't get caught I fight to the end Run the bluff and call the shots I'm on track again  But I can't control it Heads are rolling I take my chances There's only one way out  Going All in tripping all night in the city of sin All in holding on tight the timing is right All in they'll do anything to get under my skin Calling back on the strip I'm going all in All in  Gloves are off my game's dead on I take what I need Place my bets and seal my fate In the take of greed  And I Can't control it Bones are rolling Stakes get higher  Going All in tripping all night in the city of sin All in holding on tight the timing is right All in they'll do anything to get under my skin Calling back on the strip  C'mon boys Bet steal and borrow Like no tomorrow Yeah  Can't control it Heads are rolling And I take my chances  Going All in tripping all night in the city of sin All in holding on tight play the cards right All in they'll do anything to get under my skin Calling yeah back on the strip Living to win  All in tripping all night in the city of sin All in holding on tight I'm going All in All in All in All in All in \", 'Unfortunately we are not licensed to display the full lyrics for this song at the moment. Hopefully we will be able to in the future. Until then... how about a random page? ', '', \" \\r Innocent love I need to go somewhere I need somewhere to come down I need some way to make you smile Innocent love I need to go somewhere I need somewhere to come down I need some way to make you smile   We're not happy 'til we're running away Clouds in your eyes With nothing but the foggiest day  One of a kind I need to keep you here I need to picture you still I need to clear the fog One of a kind I need to keep you here I need to picture you still I need to clear the fog   \", '', \"I see you breathing I feel your love inside of me You found me broken But now I'm all I wanna be You saved my world when it began to fall apart Now here's a message from the bottom of my heart  You gave me a life to die for When all I had was make-believe A life to die for Now I know what it means Living an endless encore With angels singing by my side A life to die for A love like yours makes me wanna live  I thanked you no really It's just as real as it can be The bad days are over And it's as far as I can see I don't think I ever would have made it on my own I was hardly breathing by the time you came along  You gave me a life to die for When all I had was make-believe A life to die for Now I know what it means Living an endless encore With angels singing by my side A life to die for A love like yours makes me wanna live  Am I asleep or awake? Oh yeah Is it a mirror about to break? But I feel no pain It's as real as rain I won't let it slip away  You gave me a life to die for When all I had was make-believe A life to die for Now I know what it means Living an endless encore With angels singing by my side A life to die for Loving you makes me wanna live  (A life to die for) Yeah (A life to die for) Makes me wanna live \", \" \\r You speak in tongues I can't resist You run me 'round I cannot think We're driving to your parent's house just for a visit and I'm sleeping in your brother's bed Won't you sneak into my room and crawl under the covers talk nonsense in your sleep  You come unguarded once again And I can't wait to let you in We're driving to your parent's house just for a visit and I'm sleeping in your brother's bed Won't you sneak into my room and crawl under the covers talk nonsense in your sleep  You've got some charm I must admit Don't let me wreck myself again I'm driving to your parent's house just for a visit and I'm sleeping in your brother's bed Won't you sneak into my room and crawl under the covers talk nonsense in your sleep \", \"We've made a costly mistake tonight We Fed ourselves to the lions den We lowered our guard and fell on our swords and you call this a war  You've taken so much more than pride (You've got to be kidding me..) You've taken so much more than pride (Everything in time will burn..)  This is do or die Look a promise in the eye I hope to God you're comfortable enough to live a lie This is do or die Look a promise in the eye I hope to God you're strong enough to live with compromise.  I watched the stars take the form of men Look to the west it's burning. There's nothing left it's quiet Everything is gone.  We've made a costly mistake tonight There's a heavy price for this treason So we covered our eyes and forgot our names And you call this a war.  You've taken so much more...  This is do or die...  I watched the stars...  What a disaster with no one at fault Everyone screaming 'God save us all.'  Come one courageous child You have to trust in this (You have to trust in this) Fight what you've always wanted You have to trust in this (You have to trust in this) (x2) \", '', ' \\r Unsentimental Traveling around Sure of myself Sure of it now You were standing so close to me Like the future was supposed to be In the aisles of the grocery In the blocks uptown  I remember Remember well But if I\\'d forgotten Could you tell  In the shadow of your first attack I was questioning and looking back You said \"Baby we don\\'t speak of that.\" Like a real aristocrat.  Compound to compound Lazy and safe Wanted to leave it Wanted to wait When the taxi door was open wide I pretended I was horrified By the uniform and gloves outside Of the courtyard gate  You\\'re not a victim But neither am I Nostalgic for garbage Desperate for time I could blame it on your mother\\'s hair Or the colors that your father wears But I know that I was never fair You were always fine  Unsentimental Traveling around Sure of myself Sure of it now You were standing so close to me Like the future was supposed to be In the aisles of the grocery In the blocks uptown  I remember Remember it well And if I\\'d forgotten Could you tell  In the shadow of your first attack I was questioning and looking back You were standing on another track Like a real aristocrat ', \" \\r I'll be in heaven when I walk out of my door tonight Driving to nowhere I'm slipping through a tunnel of light I'll be your school boy but the music's far too loud and I'm afraid of it So we scream as loud as we can now just to hear a funny sound a funny sound Driving home at daylight Or is the witching hour trying to take me there? Or is the witching hour trying to take me away now? Driving home at daylight Or is the witching hour trying to take me there? Or is the witching hour trying to take me away now? I'll be in heaven when I walk out of my door tonight Driving to nowhere I'm slipping through a tunnel of light Driving home at daylight Or is the witching hour trying to take me there? Or is the witching hour trying to take me away now? Driving home at daylight Or is the witching hour trying to take me there? Or is the witching hour trying to take me away now? Oh if I could only get to you Oh if I could only get to you Oh if I could only get to you Oh if I could only get to you Oh if I could only get to you Oh if I could only get to you Oh if I could only get to you Oh if I could only get to you \", \"I can't keep my eyes open And you just wanna talk. Can't this wait till the morning Just wait till the morning Where bright lights abound And a conquering spirit returns  To this hollowed out cavity.  I can't keep my eyes open And you just wanna talk. Can't this wait till the morning Just wait till the morning Where bright lights abound And a conquering spirit returns To this hollowed out cavity.  So hold your breath Hold your hands tight to your chest. It's like heaven and hell meeting  Under your bed once again. So hold your breath Hold your hands tight to your chest. It's like heaven and hell meeting Under your bed once again.   I can't keep my eyes open And you just wanna talk. Can't this wait till the morning Just wait till the morning Where bright lights abound And a conquering spirit returns  To this hollowed out cavity. \", \"Some people wake up late I wake up mad late All the time hungover it's a sad state I love liquor she my bitch and her ass great But I don't remember anything from our last date I wipe the sleep from my eyes and I peep my phone Twenty texts thirty calls just leave me alone My head pounding like crazy I need some Patron That's the hair of the dog god need a bone Kiss my mama on the cheek she look beautiful (Vinnie you're a mess what I'm gonna do with you?) I know you cooking something (Yeah I made some food for you Managut bragol and some brigutte too) I told you wild times ma I don't fuck with pork Please pass the lucatelli and a bunch of salt The phone ring it's the police but who would've thought? This motherfucking pig telling me I'm due in court Every time I feel this shit is going my way Something come along and fuck up my day I had a rhyme in my mind now there's nothing to say And cousin that just fucked up my day Driving down the block someone cut in my way That shit went and fucked up my day Rap critics they always got something to say I would never let that fuck up my day I don't know where the fuck I'm at today I drank a couple of bottles I guess I have to pay This bitch laying next me she look like Cassius Clay Gotta get outta here before she asks me to stay I don't know how I got here in the first place She had a banging body but she had the worst face I guess I act like an animal I deserve hate She must've lured me in with white like she was third base It ain't hard to convince me to do some dumb shit Especially when I'm on that get high and drunk shit That's why Vinnie always end up with a dumb bitch The only thing I'm never on is on some punk shit I'm on the other side of town and I'm walking dolo Panerai watch Gucci kicks lots of Polo Goons ran up on the kid put the gat to my dome I was caught slipping I left the ratchet at home\", '', '', '', '', '', ' \\r I had a feeling once That you and I Could tell each other everything For two months  But even with an oath With truth on our side When you turn away from me It\\'s not right  I think you\\'re a Contra I think you\\'re a Contra I think you\\'re a Contra I think you\\'re a Contra  My revolution thoughts Your little arrows of desire I want to trace them to the source And the wire  But it\\'s not useful now Since we\\'ve both made up our minds You\\'re going to watch out for yourself And so will I  I think you\\'re a Contra And I think that you\\'ve lied Don\\'t call me a Contra Til you\\'ve tried  You wanted good schools And friends with pools You\\'re not a Contra  You wanted Rock and Roll Complete control Well I don\\'t know  Never pick sides Never choose between two But I just wanted you I just wanted you  You said \"Never pick sides Never choose between two\" But I just wanted you I just wanted you  I think you\\'re a Contra And I think that you\\'ve lied Don\\'t call me a Contra Til you\\'ve tried ', '', '', \"Wouldn't ever gag you with a spoon my only true love Never really heard you speak that way it's unworthy of... Funny how that little college girl called language corrupt Funny how the other private schools had no Hapa Club Someone took a trip before you came to ski in the Alps Your father moved across the country Just to sunburn his scalp Contra Costa Contra Mundum contradict what I say Living like the French Connection but we'll die in LA Blasted from a disconnected light switch Through the condo that they'll never finish Bounced across a Saudi satellite dish And through your brain to California English No one sits inside a freezing flat and stays there 'til May Leafing through a stack of A-Zs to surf the UK Waiting with the wind against your face And gel in your hair Shivering in little undershirts but don't seem to care Blasted from a disconnected light switch Through the condo that they'll never finish Bounced across a Saudi satellite dish And through your brain to California English Sweet carob rice cake She don't care how the sweets taste Fake Philly cheese steak But she use real toothpaste Cuz if that Tom's don't work If it just makes you worse Would you loose all of you faith in the good Earth And if it's all a curse And we're just getting worse Baby please don't lose your faith in the good earth Blasted from a disconnected light switch Through the condo that they'll never finish Bounced across a Saudi satellite dish And through your brain to California English\", \"Yeah what up taylor gang? Star power Star year you know what it is? Ink my whole body I don't give a motherfuck Ink my ink my whole body I don't give a motherfuck Ink ink my whole body I don't give a motherfuck Ink ink my whole body ink ink my whole body Got so many tats you can't even count 'em up In the shop every week I can't seem to get enough My aunt said my skin to clean to mark it up But I'ma ink my whole body I don't give a motherfuck I'm blowin' purp no shirt Windows down screamin' cash rules showin' off my tattoos Hoes spazzin' when they see me Run up on me star struck askin' can they read me ? See nothin' told 'em sleazy Hear you man gotta a star tat and tried to be me I make it look easy people say I'm crazy Body marked up like the walls in the 80's Speakers scream loud like a car full of babies Chain so sick they think my charm came with rabies All I hear these days is I think you goin' overboard with it I ain't addicted I'm committed it's wizzle man Ink my whole body I don't give a motherfuck Ink my ink my whole body I don't give a motherfuck Ink ink my whole body I don't give a motherfuck Ink ink my whole body ink ink my whole body Got stars over here little star over there Stars everywhere cause nigga it's star year The name star power my jewelry star bright Tat on my face say I'm livin the star life And by the way you know it's taylor gang Soon as you see us I'm inked up from my feet up I keep blunts flickin' new tats itchin' Black chuck coppin' new shit droppin' Star power I'm the one they call young Body marked up like a subway in Harlem Niggas say that's hard white people think it's awesome Chest neck tatted whole sleeve on my arm done Sleeve on my arm done they say I look like tiger man I put some lime in the swisher sweet and twist it all up Can't wear a shirt the bitches lift it up I'm tattin' my body 'til I filled it all up Ink my whole body I don't give a motherfuck Ink my ink my whole body I don't give a motherfuck Ink ink my whole body I don't give a motherfuck Ink ink my whole body ink ink my whole body Ink my whole body I don't give a motherfuck Ink my ink my whole body I don't give a motherfuck Ink ink my whole body I don't give a motherfuck Ink ink my whole body ink ink my whole body\", \" \\r Rally your daughters We'll end it all now Kick down the door sons Fill the street with our blood yeah  So you want to get higher I am your one Happy tune the parents And kick me kick me I'm bored  You don't want it Teenage riot in you You don't see it Teenage riot in you  You can't hear it Teenage riot in you Don't stop it Teenage riot in you  Save the sheep from perfume Give them your heart Kiss them they want it And tear down their cheap house  You don't want it Teenage riot in you You don't see it Teenage riot in you  You can't hear it Teenage riot in you So don't stop it Teenage riot in you  Fear the Gospel yeah Fear the Gospel Fear the Gospel yeah Fear the Gospel  I got to stop it I don't need it I can't bleed it I can't see it  Nut I feel it I can't stop it I got to have it Teenage riot in you  Don't stop the Teenage riot in you You can't stop the Teenage riot in you  Don't want the Teenage riot in you Can't stop the Teenage riot in you \", \"I'm handing over my transgressions My deep and dark confessions.  I'm telling you the truth for the first time it's the truth. And I'm well aware of consequences Don't give me second chances Do what you gotta do do what you gotta do.  You shouldn't test me. You caught me paying attention I finally figured it out. And when your head's full And it's not easy to sleep You'll feel that heavy chill strike you like a stone in your bed.  I'm taking all the sins I carry To a hidden sanctuary Down a spiraling cascade through a spiraling cascade. And when you walk through all the fences To every house you lived in  You fall asleep alone you fall asleep alone.  You shouldn't test me. You caught me paying attention I finally figured it out. And when your head's full  And it's not easy to sleep You'll feel that heavy chill strike you like a stone in your bed.  It's only natural to get ahead of ourselves. We fight with hand grenades because we've got nothing left.  I am a champion survival lives in blood. You speak of treachery like you've got nothing to love.  You caught me paying attention Well I finally figured it out.  You need to be more impressive...  I can tell by the way that you're shaking You've seen this before and you can't wait till it's over. While you're scared to death I can offer you wisdom  Baby we're growing up and we're still building character. I can tell by the way that you're shaking You've seen this before and you can't wait till it's over.  While you're scared to death I can offer you wisdom Baby we're growing up and we're still building character. \", \" \\r Love makers tremble with fear Backstabbers probably hear  Walk Walk  Backstabbers tremble with fear Love makers 'll probably hear  Walk Walk Walk Walk  Why must the people cry Why must the people cry for me Why must the people cry Why must the people cry for me Why must the people cry Why must the people cry for me Why must the people cry Why must the people cry for me Why must the people cry Why must the people cry for me Why must the people cry Why must the people cry for me \", \" \\r Lilac I miss you were my little lilac O lilac I trust you can't remember most so rest your head now Your head now Lilac i feel your last you last lies come straight from her eyes To my eyes Tonight should you rise above I regret love I regret love And you have ghost hands on that can't hold you up And you have ghost hands on I can't hold you up I gotta let you live I gotta let you... I gotta let you live I gotta let you... Lilac I miss you were my little my lilac My lilac I trust you can't remember most so rest your head now Your head now And you have ghost hands on that can't hold you up And you have ghosts hands on I can't hold you up I can't hold you up... \", '', \"If you listen to me then you know my father was G And the apple don't fall too far from the tree Me and you is different as we could possibly be Me and you is just different philosophically I don't think it's anybody as obnoxious as me I don't think that anybody else could parted the sea I don't think that you wanna discuss the horror with me If I was you I'd move a little bit more farther from me It ain't nobody living more of a sergeant than me It ain't nobody alive more of a prophet than me It ain't nobody living possibly rocking with me On the stage in the studio or boxing with me Every second I'm awake there is a toxin in me Anti-depressants Suboxone Oxycontin in me Only a stupid motherfucker have a problem with me Cause he don't know I got the fucking problem-solver with me  I was washed in the blood of the lamb Whoever touches my hand gonna leave enough blood in the sand I was washed in the blood of the lamb Whoever fuck with my fam suffering a motherfucker should scram I was washed in the blood of the lamb Whoever touches my hand gonna leave enough blood in the sand I was washed in the blood of the lamb Whoever fuck with my fam suffering a motherfucker should scram  I slaughter anything I get my hands on Inside the Church of Anton with bloody pants on I was in the land of Israel and heard ram's horn I was in the sand with Ishmael and fought the sandstorm I'm just waiting for the raven to thaw Cause I don't argue with Mesopotamian law I submit my will and faith into the grace of Allah And the Mayan calendar say it's erasing us all The four-fifth you should see this thing it's berserk And y'all are royalty inside a fucking kingdom of dirt How are y'all original when y'all ain't think of it first? I just wish I could put everything I think into verse But instead I decide to drink in a Russian bar I'm Rasputin I'm influencing a Russian Tsar I'm Dave Lombardo on drums leave the percussion scarred I drink the bottle to the bottom put my trust in God \", \"If one drink can make tonight slip my mind then I Should drink up so I can forget that I have lived my life You are an example of better things to come So I'll wait on some other escape that leads me nowhere fast I've gotta ask You've got nothing to lose Except for me and you And I don't want that attitude When you know I can do I'll do better than you If one can drink can make tonight slip your mind then you Should drink up so you can convince yourself that I'm cute We are an example of why not to fall in love It takes a turn and then it hurts More than you could dream of When you've got nothing to lose Except for me and you And I don't want that attitude When you know I can do I'll do better than you And you've got nothing to prove Oh no wait yes you do You wear it so well that we think it's true You can't stay I want you gone You're pulling the carpet I was standing on You can't stay I want you gone You're pulling the carpet I was standing on You can't stay I want you gone You're pulling the carpet I was standing on Here's the exits exits exits You've got nothing to lose Except for me and you And I don't want that attitude When you know I can do I'll do better than you We are an example of (Why not to fall in why not to fall in love) We are an example of (Why not to fall in why not to fall in love)\", '', \"You're not on my list of things to do 'cause I've already done you. And I am protective it's so cute but only when it suits you. Is this all in vain? Can these words explain Desperate minds mean desperate measures You've got to get this one together You're young and in love That should be enough. At least you'll have nice thoughts of me when I am cheating on you In your dreams. I've told you before my closet's clean and that these bones don't belong to me. Try this one for size try me one more time. You hold me down by keeping me around. Desperate minds mean desperate measures You've got to get this one together You're young and in love That should be enough. Desperate minds mean desperate measures You've got to get this one together You're young and in love That should be enough. You hold me down by keeping me around. And no one takes me home. no one takes me home. You hold me down by keeping me around. And no one takes me home. no one takes me home. Desperate minds mean desperate measures You've got to get this one together You're young and in love That should be enough. (Young and in love that should be enough.)\", '', \"I get uptight When I see you creeping around to someone else No it ain't right There's no mistake in your eye of comedy It's a drag She used to care But things have changed She used to tear But things have changed I don't wanna wake up On my own Forget the loser who's the stranger in my room I don't wanna wake up In this way Turn into this street for selfish game Ha go Now you think you now what's going on inside my head The answers to your questions somehow lie inside my bed As you Christine had changed She used to care But shit has changed I don't wanna wake up On my own Forget the loser who's the stranger in my room I don't wanna wake up In this way Turn into this street for selfish game I don't wanna wake up On my own Forget the loser who's the stranger in my room I don't wanna wake up In this way Turn into this street for selfish game Who's the stranger Who's the stranger In my room \", \"Sur le radeau t'es seul t'es beau tu rames au fil de l'eau. À quatre la vie est plus belle l'amour l'amitié c'est tout pareil. On t'aimait Scarabée on t'aimait Scarabée. Au fil de l'eau on croit que la vie est éternelle. On meurt parfois de chanter seul À quatre à quatre les murs font prison. On t'aimait Scarabée on t'aimait Scarabée. (Cordes solo) Au fil du temps t'es seul t'es grand et tu souris aux gens. Du ciel la vie est plus belle l'amour l'amitié c'est tout pareil. On t'aimait Scarabée on t'aimait Scarabée. (Cordes solo) Dans le soleil tu sais que la vie est éternelle. Y'a plus de combat on n'est plus seul on n'est plus seul au ciel. Ça fait rien il fait beau.\", \"Here in a box I hide the letters Written postmarked with your name Secrets I wish I could only share With a heart that feels feels the same And here we fall to pieces In front of each other but we know Somehow we're greater Than our lonely fears Here's where the notes were torn and crumbled Before feelings could reach the page Try to replace some sober thought From emotion fists held up with rage And here we fall to pieces In front of each other but we know Somehow we're so much greater Than Here we fall to pieces In front of each other but we know Somehow we're greater Than our lonely fears Though I'm a simple mind I know I can see the picture drawn out here You are the reason I have found To keep believing in these years And though the road is long The trying keeps us holding on this way And make no mistake this is love Love love love this is love love And here we fall to pieces In front of each other but we know Somehow we're so much greater Than Here we fall to pieces In front of each other but we know Somehow we're greater Than our lonely fears\", \"Yeah Woah  You lose yourself in the heat of the moment You waste the day and blame it on the night Move on and out the heartache is over There's someone for everyone It's only in your mind  Heaven can wait take a chance on another Your broken heart must be brave again It's not too late for a love to recover So don't lose your faith Heaven can wait  Lay down the rules set your eye on the future You've done your time depending on a lie Bury the past all the small town rumors Only the strong survive and you deserve the right  Heaven can wait take a chance on another Your broken heart must be brave again It's not too late for a love to recover So don't lose your faith Heaven can wait  Shake off the pain forget the grand illusion Don't play the fool again (Don't play the fool again) Let's show the world you're ready Cause heaven can wait You're still in the game Come on   Heaven can wait take a chance on another Your broken heart must be brave again It's not too late for a love to recover So don't lose your faith Heaven can wait Heaven can wait Heaven can wait Heaven can wait \", '', \"We made band With our own hands To expand To touch the sand Let me hear it in the cans Sitting down here with an empty box (Answers for everyone) Plug goes in the hole (Derailed onto a final path) Still don't know if it's going to work Guess everyone's got a goal (Been in these shoes? We made these shoes) Swimming away with an idea (What makes the ball roll?) Pin it down (We really really don't know) Pin that tail on the donkey (We were thrown together) Pin him down to the ground We made band With our own hands To expand To touch the sand Let me hear it in the cans Stop and let's think for a moment (Answers for everyone) Where do we go from here? (Derailed onto a final path) All this consternation Might just turn to fear (Been in these shoes? We made these shoes) Chipping away at the routine (What makes the ball roll?) Take it down (We really really don't know) Need to get some focus Need to make some sound (We were thrown together) We made band With our own hands To expand To touch the sand Let me hear it in the cans\", \"Tonight I'll wait for you The raindrops are falling The kindle is burning For you I'll be waiting here. If all of the days have no more light And all of our dreams are lost tonight The stars cannot fall And everything turns to grey I will stay. Graceful and loving Tearful and soothing Can't breathe without you There's no life without you here. If all of the days have no more light And all of our dreams are lost tonight The stars cannot fall And everything turns to grey I will stay. Oh oh oh. Oh oh oh. If all of our days have no more light And all of our dreams to lost tonight The stars cannot fall And everything turns to grey If all of our days have turned to night And all of our dreams are lost in lies The stars cannot fall And everything turns to grey I will stay.\", '', \" \\r Butterflies in the sky I feel just like that Thirty five thousand feet I feel just like that  Skydivin' freefallin' I feel just like that I feel just like that I feel just like that  One across the first car I feel just like that Ferris wheel at the top I feel just like that  Carousel spinnin' round I feel just like that I feel just like that I feel just like that  I can't catch my breath It's too intense tense I need just a minute Give me just a minute It's out of control This is out of control  Got me thinkin' 'bout the future I feel just like that Wanna trust lose control I feel just like that  Apprehension out the door I feel just like that I feel just like that I feel just like that  Don't care what anybody says I feel just like that Let's run away together now I feel just like that  Whatever you wanna do I feel just like that I feel just like that I feel just like that  I can't catch my breath It's too intense tense I need just a minute Give me just a minute It's out of control This is out of control  Tell me if you feel   (Just like that that) On top of the world   (Just like that that)  Higher Now I can get higher Just look at me now Nothing can bring me down  Butterflies in the sky I feel just like that Thirty five thousand feet I feel just like that  Skydivin' freefallin' I feel just like that I feel just like that I feel just like that  One across the first car I feel just like that Ferris wheel at the top I feel just like that  Carousel spinnin' round I feel just like that I feel just like that I feel just like that  I can't catch my breath It's too intense tense I need just a minute Give me just a minute It's out of control This is out of control baby  It's out of control It's out of control baby Ooh ooh yeah ooh ooh It's out of control baby It's out of control baby  I can't catch my breath It's too intense tense I need just a minute Give me just a minute It's out of control This is out of control  I can't catch my breath It's too intense tense I need just a minute Give me just a minute It's out of control This is out of control  Butterflies in the sky I feel just like that Thirty five thousand feet I feel just like that  Skydivin' freefallin' I feel just like that I feel just like that I feel just like that \", 'Schmatzend enden Schritte Auf ausgelatschtem Grund Nur kurz muss er verschnaufen Ein König auf der Flucht Ein Mantel schützt vor Nebel Das ändert auch nicht viel Er schießt auf einen Globus Und findet so sein Ziel  Na und? Ich will hier raus!  Man lachte als er den Zug betrat Wohin willst du gehen? Wohin? Warum gehst du weg? Und wie wird es da? Er zog die Schultern hoch und sagt: Erst einmal scheiß auf den Sinn Ich gehe jetzt erstmal los Dann weiß ich wo ich bin  Und zwar in Sumatra Wo dir alles auf die Rübe fällt In Afrika Sind die Menschen wirklich glücklich oder?!  Festgeklebt im Laken So seltsam es auch ist Geboren als ein König Gestorben als Tourist Schatten glühen nach In ihren Teleskopen Chronisten schreiben eifrig An Geschichten mit den Worten  Die Nacht von Sumatra Wo dir alles auf die Rübe fällt In Afrika Sind die Menschen wirklich glücklich oder?!  In Sumatra  Wo dir alles auf die Rübe fällt In Afrika Sind die Menschen wirklich glücklich oder?!  Sind die Menschen wirklich glücklich oder?! ', 'Ein Schultag zu Ende - Nasenbluten Eine Mutter schweigt - Vielleicht auch gut 500 neue Freunde - Keiner da Bedrohung diffus - Beinah\\' real Und dann die Nacht  Ausgeliefert liegt er da Im Jugendzimmer die Atmung verflacht Er dürfte nicht mal hier sein schreibt er seinem Freund Der ihn nicht versteht denkt er sich und fühlt sich wirklich  Aufgelöst in der ganzen Welt  Und Angst vor allem Fremden wie soll denn sowas gehen? Eingesperrt sind wir immer noch Es beruhigt uns sogar dass es so ist  Das Tippen scheint jetzt lauter fast ein Rauschen Die Schreie sagen: \"Alles ist tot\" Sie packte ihre Sachen und schrieb noch einen Brief Der nicht viel verriet außer auch ihr Wille ist nun  Aufgelöst in der ganzen Welt  Und Angst vor allem Fremden wie soll denn sowas gehen? Eingesperrt sind wir immer noch Es beruhigt uns sogar dass es so ist  Er wäre lieber zu Tisch als zu Hause Oder einfach im Urlaub selbst wenn es da pisst Aktenordner Frau und Kinder schweigen viel zu viel Ein Ende naht weiß er selbst und meint er wäre  Aufgelöst in der ganzen Welt  Und Angst vor allem Fremden wie soll denn sowas gehen? Eingesperrt sind wir immer noch Es beruhigt uns sogar dass es so ist Aufgelöst in der ganzen Welt  Und Angst vor allem Fremden wie soll denn sowas gehen? Eingesperrt sind wir immer noch Es beruhigt uns sogar dass es so ist ', '', '', '', \" \\r Calming down with my hand in the sand Come away come away To begin let's get closer Doesn't he love me? Just you wait by the withered trees Glass in my knees Because I'm losing comfort Doesn't it feel right? Just to be close When you're blowing your hair in the perfect waves You're trying your best just to push me away I can't ever tell since you were never there to begin My angel in loneliness My angel lonely My angel in loneliness My angel lonely Passing by I should have known  White glow Step in the white glow Make me make me  Just to be close When you're blowing your hair in the perfect waves You're trying your best just to push me away I can't ever tell since you were never there to begin My angel in loneliness My angel lonely My angel in loneliness My angel lonely \", '', \"Trick of the light turn of the tide A rift in a valley full moon in July Red summer sun mourning a cold April sky That lonely October so cruel to deny A wish for a fountain lost in the winds A kick from a new life about to begin A south facing island that floods in the spring Will call to October new life it will bring It will bring it will bring it will bring A drop in the ocean short of the line Cursing a feeling caught up by the night Repairing the ruin reducing the sting That falling October will bring Hope that is dreaming love that is torn Dancing like dust in the eye of the storm Truth will be lost when the mocking bird dies October returns with its cold winter skies Awe can't be touched faith can be blind Fooled by a past that the world left behind Hidden in rocks that are lost to the shore Of silent October you choose to ignore\", '', \"What do you want? Deep underground Hear the mice make a sound As they scramble around Gathering ground Of the seasons abound All the things that you found Calvary fall And artillery fall And then infantry fall Do you think the battles won? (When on the road) Are the Spartans overcome? (What did you see?) Are they sighing in their sleep? (Why wont you tell tell me?) This is not a dry run Howl of the hound Leaving thoughts to be proud Through the feet of the crowd Deep underground Mice make a sound Scramble around March as before We are here we applaud Want you want we adore Do you think the battles won? (When on the road) Are the Spartans overcome? (What did you see?) Are they sighing in their sleep? (Why wont you tell tell me?) This is not a dry run (We're on a rock) (And it's gonna roll) Do you think the battles won? (It gathers pace) (It's all you stole) Are the Spartans overcome? (And when they rise) (What did you see?) Are they sighing in their sleep? (Why wont you tell tell me?) This is not a dry run\", \" \\r There is a man that live next door In my neighborhood In my neighborhood And he gets me down...  He gets in so late at night Always a fuss and fight Always a fuss and fight All through the night  I've got to get away from here This is not a place for me to stay I've got to take my family We'll find a quiet place  Hear the pots and pans they fall Bang against my wall Bang against my wall No rest at all  He gets in so late at night Always a fuss and fight Always a fuss and fight All through the night  I've got to get away from here This is not a place for me to stay I've got to take my family We'll find a quiet place \", \"Calm down she said Consider this a warning A souvenir for the morning A headache that you can't fix I said I can talk my my way out of anything But I am struggling in this emergency This one's on your side I said this one's on your Ambulance I'm calling you now Accidents bring the house down Come on come on you don't know me Come on come on you owe me nothing Dry your eyes and stick them on ice Give your chest a rest it's been cold your whole life I'll have you know the tables are about to turn And you're going to get what what what you deserve Ambulance I'm calling you now Accidents bring the house down Come on come on you don't know me Come on come on you owe me nothing Is this in it my love? Turn it up turn it up I want to hear you scream Oh is this in it my love? Turn it up turn it up I want to hear you scream So sing I am my own worst enemy That's what she said to me And I am living out your dream So sing I am my own worst enemy So we can just breathe a little more safely Ambulance I'm calling you now Accidents bring the house down Come on come on you don't know me Come on come on you owe me nothing Is this in it my love? Turn it up turn it up I want to hear you scream Oh is this in it my love? Turn it up turn it up I want to hear you scream sing I've got real big plans and such bad thoughts I've got real big plans and such bad thoughts I've got real big plans and such bad thoughts I've got real big plans Real big plans and such bad thoughts I've got real big plans and such bad thoughts I've got real big plans and such bad thoughts I've got real big plans I've got real big plans and such bad thoughts I've got real big plans and such bad thoughts I've got real big plans and such bad thoughts I've got real big plans and such bad thoughts I've got real big plans and such bad thoughts I've got real big plans and such bad thoughts I've got real big plans and such bad thoughts I've got real big plans and such bad thoughts I've got real big plans and such bad thoughts I've got real big plans and such bad thoughts I've got real big plans and such bad thoughts I've got real big plans and such bad thoughts\", '', \"You're too young you're never gonna know what hit me When I fell down in silence No one thinks what I'm doing is the right way forward You'll see it's not just a dream now You think you know you don't know You're too young you're never gonna know what hit me When I fell down in silence No one thinks what I'm doing is the right way forward You'll see it's not just a dream now You think you know you don't know You think you know you don't know You think you know you don't know You think you know you don't Know oh oh oh It's what you get when you try to educate a black sheep You can't you won't you never will I'm gonna show you what it takes to see the future It's hard but not impossible You think you know you don't know You think you know you don't know You think you know you don't know You think you know you don't Know oh oh oh You think you know oh oh oh Know oh oh oh Know oh oh oh Know oh... Oh oh oh ohhhh (repeat) And I believe this costume party is over Before it gets started And I believe this costume party is over And I believe this costume party is over Before it gets started And I believe this costume party is over over over now\", \"It won't go away These aching memories still dance around me Spilling over everything with beauty I see your face in everything before me Your voice is hunting me. Oh I belong with you now Oh please give in to me And stay forever Don't leave me behind. So afraid of dreaming The story is repeating screaming Monsters I'm bleeding I'm losing light in myself Come back into me 'cause only you can save me. I belong with you now Oh please give in to me And stay forever Don't leave me behind. I belong with you now Oh please give in to me And stay forever Don't leave me behind.\", \"I wanna be in Wonderland I wanna get down in the sand She's got that magic touch I don't need to mess around Could you lend a hand? 'Cause people don't understand She lives on her own Down in Wonderland I fell down a hole Into another town Living underground Looking for that sound She got everything on a string And everything else in between It don't matter which way or how Gonna have to get there somehow Could you lend a hand? 'Cause people don't understand She lives on her own Down in Wonderland I fell down a hole Into another town Living underground Looking for that sound Oh oh she's got every little thing Hanging from a string Oh she got every little thing Hanging from a string Oh she got every little thing Hanging from a string Oh she got every little thing Hanging from a string Could you lend a hand? 'Cause people don't understand She lives on her own Down in Wonderland I fell down a hole Into another town Living underground Looking for that sound\", \"We are renegades we shoot to kill We shoot to kill we shoot... There's no stopping us no holding us back.  This is the trick of our trade this is exactly what we do best.  It's just a matter of time it's just a matter of time What goes around comes around. It's just a matter of time it's just a matter of time  What goes around comes around.  We are renegades we shoot to kill We shoot to kill we shoot... There's no stopping us no holding us back. This is the trick of our trade this is exactly what we do best.  We are renegades we shoot to kill We shoot to kill we shoot... There's no stopping us no holding us back. This is the trick of our trade this is exactly what we do best.   Move as fast as you can move as fast as you can Outrun outrun what you've become. Move as fast as you can move as fast as you can Outrun outrun what you've become.   Forgiveness sweet forgiveness you know I won't forget this one. Wait patiently till morning comes. My God my God what have I done? Forgiveness sweet forgiveness you know I won't forget this one.  Wait patiently till morning comes. My God my God what have I done?  We drew these lines to cross them. We knew exactly what to do. We broke our own defenses.  Hold fast hold fast.  We are renegades we shoot to kill We shoot to kill we shoot... There's no stopping us no holding us back. This is the trick of our trade this is exactly what we do best.  We are renegades we shoot to kill We shoot to kill we shoot... There's no stopping us no holding us back. This is the trick of our trade this is exactly what we do best. \", \"In a few weeks I will get time To realise it's right before my eyes And I can take it if it's what I want to do I am leaving this is starting to feel like It's right before my eyes And I can taste it it's my sweet beginning And I can tell just what you want You don't want to be alone You don't want to be alone And I can't say it's what you know But you've known it the whole time Yeah you've known it the whole time Maybe next year I'll have no time To think about the questions to address Am I the one to try to stop the fire? I wouldn't test you I'm not the best you could have attained Why try anything? I will get there just remember I know And I can tell just what you want You don't want to be alone You don't want to be alone And I can't say it's what you know But you've known it the whole time Yeah you've known it the whole time And I can tell just what you want You don't want to be alone You don't want to be alone And I can't say it's what you know But you've known it the whole time Yeah you've known it the whole time\", \"I got somethin' MCs Can Kiss I got somethin' MCs Can Kiss When I start to rap I start to rap I sta-sta-sta-sta-start l-li-like this I got somethin' MCs Can Kiss I got somethin' MCs Can Kiss When I start to rap I start to rap I sta-sta-sta-sta-start l-li-like this I got somethin' MCs Can Kiss I got somethin' MCs Can Kiss Now don't say don't say don't say this I got somethin' MCs Can Kiss Yeah I got something MCs Can Kiss It's a nice bum cheek and it goes like this You fuck with the wrong bitch (Is the battle over here?) I don't care I quit There's two kinds of MCs out there There's the ones who rap and the ones who don't care And frankly I don't give a fuck You might be dope on the mic but your music sucks (uh!) Not me I got some dope beats I'm an entertainer not a lyricist I'm so far from all you girls out there If I get popular I know that ain't fair I got 9 million plays and 12 hundred friends Don't hate the player man hate the game I never force anyone to listen my music Never send a bulletin never post the shit I'm a musical youth and I rules the nation Something is wrong with this generation They just want to play games like GTA Eating some junk food smoke weed all day And when the freaks come out at night They dancing hot and they getting high Guess who's making big bucks on this? I got something MCs Can Kiss I got somethin' MCs Can Kiss I got somethin' MCs Can Kiss When I start to rap I start to rap I start st-start st-start l-li-like this Now for all the girls who got work out there I wanna see you wave your hands like you just don't care You're looking all dressed up in your fancy clothes We got you dancing as the music goes The club is spinning round to the cowbell sound (?) Stomp your feet and shake the ground Make way for the ladies who are ready to play We gonna party like it's Saturday I got somethin' MCs Can Kiss I got somethin' MCs Can Kiss When I start to rap I start to rap I sta-sta-sta-sta-start l-li-like this I got somethin' MCs Can Kiss I got somethin' MCs Can Kiss When I start to rap I start to rap I sta-sta-sta-sta-start l-li-like this Yeah Uffie's going just a little higher Jump jump 'til you get tired One for the ladies two for my DJ Three to get ready we gotta let the beat play Four to the floor you can kiss my ass I'm the least working girl in showbusiness Yeah and I come home at six Well you're sleepy don't quit let's do this on the beat (?) I don't have any job to attend in the morning No boss on my shoulders to check how I'm doing And maybe that's why I don't do so much Unless I go too early cause I was on the rush Of making my own dough of doing my homework To travel the whole world to try all kinds of stuff I even tried out to play saxophone And you'll be the first one to hear how it sound\", '', \"Out in the city âE' On streets of fire I feel the power of the night Fire and octane âE' Leather and metal I'm burning under neon lights I'm shifting gears to ride the sky My metal heart will never die Forged in the fires of hell âE' My pistons fly 40 deuces running high Dark dirty women âE' Whiskey and cold gin Getting high and never coming down My engines fire âE' Fueled by desire Like lightning striking all around  Set 'em up and knock 'em down Rock the night away Deal the cards âE' Roll the bones Lady luck will find her way Buy the ticket âE' Take the ride âE' Pedal to the floor Gonzo lust for life âE' Kick ass! Alive forever more! Out on the pavement âE' I'm burning rubber Good Time Overdriving to the sky Into the sunrise âE' I'm riding shotgun Devil driving âE' Never gonna die\", \"Is this hard to swallow You keep your thoughts by your pillow Just so you can adore them Just so we can ignore them I'd rather lead not follow I'd rather stay and not go home My moves have got so old or so I've been told But now you've lost it all We're running out of time We've got things on our mind And things we just don't like Who do you want to see? Who do you want to be tonight? Forgetting the promises you make Is how your your promises easily break Oh you sit on your fence And I'll dig under it I'll count my losses And I'll count my sins I hope you've cleared your mind We're running out of time We've got things on our mind And things we just don't like Who do you want to see? Who do you want to be tonight? We're running out of time We've got things on our mind And things we just don't like Who do you want to see? Who do you want to be tonight? We were young and we were blind We ignored the warning signs How were we to know? How were we to know? We were close but still so far We grew apart and out of touch All I wanted was... All I wanted was to say... We're running out of time We've got things on our mind And things we just don't like Who do you want to see? Who do you want to be tonight? We're running out of time We've got things on our mind And things we just don't like Who do you want to see? Who do you want to be tonight? Tonight tonight tonight tonight\", '', '', ' \\r Touch my face wipe my cheek Talk to her go to sleep Dream of nothing wake up tired Talk to no one not today  I feel like drifting now I’m going to drift into your eye  Touch my face wipe my cheek Talk to her go to sleep Dream of nothing wake up tired Talk to no one not today  I feel like drifting now I’m going to drift into your eye ', '', '', '', \"I get on my bike and I ride and I ride and I'll never be found again Skin like paper holding a vapor clinging to a dream I had  Clinging to a dream so true falling for a ghost like you Clinging to a dream so true falling for a ghost like you  Found love in a graveyard Found love in a graveyard Found love in a graveyard Found love in a graveyard  I'm broken hearted dearly departed Dearly departed I'm broken hearted  She was my ghost I know she needed me the most But we're not alone we were living in a funeral home She was my ghost I know she needed me the most But we're not alone we were living in a funeral home  Found love in a graveyard Found love in a graveyard Found love in a graveyard Found love in a graveyard  I'm broken hearted dearly departed Dearly departed I'm broken hearted  She was my ghost She is my unholy adventure She was my ghost She is my unholy adventure  Dearly departed I'm broken hearted Dearly departed I'm broken hearted \", '', ' \\r Sitting on the cigarette butt front porch I could ask you \"are you dead like me?\" Call me what you will but call me again It\\'s true I don\\'t talk too much  Because our lips won\\'t last forever And that\\'s exactly why I\\'d rather live in dreams and I\\'d rather die Because our lips won\\'t last forever And that\\'s exactly why I\\'d rather live in dreams and I\\'d rather die  Pretty face could you make the jump with me? I\\'m dying just to let things go Do you remember the lightening storm? It was the first time that I really felt you  Because our lips won\\'t last forever And that\\'s exactly why I\\'d rather live in dreams and I\\'d rather die Because our lips won\\'t last forever And that\\'s exactly why I\\'d rather live in dreams and I\\'d rather die  We\\'ve got eyes on the back of our heads We\\'ve got eyes on the back of our heads We\\'ve got eyes on the back of our heads We\\'ve got eyes on the back of our heads ', '', \"Usher Baby I just wanna get your attention I really wanna be your love in your head Coz when I got you don't wanna get some yeah But girl that's only if you ain't scared And I won't knock or ring no bells You just float bottom up in the air I'll get you hot I know you oh so well And when I'm walking all that I wanna hear Is you say Daddy's home home for me And I know you've been waiting for this love in your day You know your daddy's home (daddy's home) And it's time to play (so it's time to play) So you ain't got to give my loving away So all my ladies say hey hey hey daddy Hey hey hey daddy So all my ladies say hey hey hey daddy Hey hey hey daddy I ain't gotta do a lot of flexin Shorty you already know what it is And girl tonight we'll gonna do a lot of sexin' Can't nobody do your body like this Ohh I won't knock or ring no bells You just float bottom up in the air Said I'll get you hot I know you oh so well And when I'm walking all that I wanna hear Is you say Daddy's home home for me And I know you've been waiting for this love in your day You know your daddy's home (daddy's home) It's time to play (so it's time to play) So you ain't got to give my loving away So all my ladies say hey hey hey daddy (daddy know what you like) Hey hey hey daddy So all my ladies say hey hey hey daddy Hey hey hey daddy Poke it on out poke it out right there I'm a fall back while you work that chair Do that damn thing let the neighbors hear Poke it on out poke it out right there I'm a fall back let you work that chair Do that damn thing all I wanna hear Is you say Daddy's home home for me And I know you've been waiting for this love in your day You know your daddy's home (daddy's home) It's time to play (so it's time to play) So you ain't got to give my loving away Daddy's home home for me And I know you've been waiting for this love in your day You know your daddy's home (daddy's home) It's time to play (so it's time to play) So you ain't got to give my loving away So all my ladies say hey hey hey daddy Hey hey hey daddy (call me daddy babe) So all my ladies say hey hey hey daddy Hey hey hey daddy Hey daddy know what you like yeah\", '', \"How ferocious are we a head full of poison And a pen to bleed dry like the valley of bones.  We have gathered our sins and soaked them in wine. We have cheated this world made it out with our head on our shoulders now...  Why can't we call this even? Why do you care that I  Would need another reason To tell you lies?  Keep moving like we never had a choice I'm burning this citadel to the ground. Wake up as our broken bodies collide  If we're going down we're going down with a fight.  Keep moving on keep dreaming on.  We we're sly as hell and lived like the wolves But our crooked smiles have disappeared.  We have gathered our sins and soaked them in wine. We have cheated this world made it out with our head on our shoulders now...  Why can't we call this even? Why do you care that I  Would need another reason To tell you lies?  Keep moving like we never had a choice I'm burning this citadel to the ground. Wake up as our broken bodies collide  If we're going down we're going down with a fight.  Keep moving on keep dreaming on. Keep moving on keep dreaming on.  I fall asleep with twisted dreams  What'd you do because I just can't seem to shake this? I fall asleep with twisted dreams What'd you do because I can't move on without this? I fall asleep with twisted dreams  What'd you do because I just can't seem to shake this? I fall asleep with twisted dreams What'd you do because I can't move on without this?  Keep moving like we never had a choice  I'm burning this citadel to the ground. Wake up as our broken bodies collide If we're going down we're going down with a fight.  Keep moving on keep dreaming on.  Keep moving on keep dreaming on. \", \"Forged in flames Of devils fire A bond in demons blood Iron melts In sun and steel Await the crimson flood Raining blood Shall wash the skies Foreseeing her return Crushing all False prophets' lies The crosses start to burn Into the sun\", '', \"Milly passes from the swing Runs home for her tea Wants to twist her wedding ring And sink in her settee In the dark she asks aloud If they can really see But if you hold it carefully it breaks (Eventually)  On a fairground ride they met A boy who held her hand For a moment he'd forget And she would understand But the bells inside her head Were all that she could hear But if you hold it carefully it breaks (Eventually)  We don't give up easily Drowning out the tide Drawing black and bleeding sea At least we stopped and tried And the crows flock overhead Moving restlessly And when you hold it over me it breaks (Eventually) \", \"Don't be alarmed It's not the end of the world If we're breaking the rules it's fine I disregard this kind of problem all the time It's not as if it's gonna kill anyone If there's no victim then there's no crime Just draw another if you think we've crossed the line Rules don't stop me Forget about it Rules don't stop me We'll get around it Rules don't stop me Forget about it Don't stop me don't stop me Although it may seem unconventional sometimes Indiscretion is worth a try If you just play along I promise we'll be fine So leave your hang-ups back at the door When you and I are down on the floor Will you know what to do about it You know what to do about it Rules don't stop me Forget about it Rules don't stop me We'll get around it Rules don't stop me Forget about it Don't stop me don't stop me It's not as bad as they say If this is such a mistake Why does it seem to make you so damn happy? This is no time to behave Let's both get carried away If there's a price to be paid It won't stop me Rules don't stop me Forget about it Rules don't stop me We'll get around it Rules don't stop me Forget about it Don't stop me don't stop me They don't stop me they don't stop me\", \"There's a card up my sleeve It's a quicker solution and it's easier than honesty. There's a look on your face Like you've just seen a murder and you're terrified beyond belief. You think you figured this out With the lights all down low and a stare that will chill the bone. Like a halfway house Empty your pockets unload all your failures.  Walk away like nothing happened Whispering 'it's gonna make sense in the end... It's now or never are we ever gonna get this right? It's now or never are we ever gonna get this right? Cover up those fair intentions After this we will never be the same again. It's now or never are we ever gonna get this right?  Like an avalanche I will bring you to your knees And the pressure will break your bones Silencing your screams.  What can wash away my sins? Nothing but the blood. Blood for blood. \", \"I am hoping that today I'll learn how to live my life But I can't can't can't see past this crowd But I know that I can feel it yeah I can feel it.  I'm always looking for an answer something to tell me who I am And I'm always looking to the mirror there's no one there so I'll pretend.  I don't want to be like everyone else They by the same rules they've got it all figured out. Follow me through the crowd right now follow me through the crowd right now.  But I know that I can feel it yeah I can feel it.  I'm always looking for an answer something to tell me who I am. And I'm always looking to the mirror there's no one there so I'll pretend. There's no one there so I'll pretend.  Let's all make out that we're somebody else Let's all make out that we're somebody else. Let's all make out that we're somebody else Let's all make out that we're somebody else.  I'm always looking for an answer something to tell me who I am. And I'm always looking to the mirror there's no one there so I'll pretend.  I'm always looking for an answer something to tell me who I am. (Let's all make out that we're somebody else Let's all make out that we're somebody else) And I'm always looking to the mirror there's no one there so I'll pretend. (Let's all make out that we're somebody else Let's all make out that we're somebody else) \", '', \"Too much too much is never enough I had you and I gave you up No idea where my mind was for months I woke up I cashed in all of my luck Walked hand and hand with your trust And everybody was kissing on fire And we all got burnt It'd be safer to hate her Than to love her and to lose her It'd be safer to hate her all around Caught you having a laugh Did you catch me have the last? I've been smiling like this for days Just to make up for my mistakes In the dark I watch everyone disappear And I am beginning to let myself down I am pushing everyone that was in out It'd be safer to hate her Than to love her and to lose her It'd be safer to hate her all around And nobody knows what it's like To live and die on the inside Nobody knows what it's like To be one of a kind When we die do we feel alive? When we die do we feel alive? It'd be safer to hate her Than to love her and to lose her It'd be safer to hate her all around And nobody knows what it's like To live and die on the inside And nobody knows\", \" \\r You don't know I've got nothing to say anymore It's a shame I know we're both perfectly in loathe Lets not say you never give me anything I don't care I was what I was right there Do I really need to tell you That I've got a twisted twin soul for you I've got a palm I'm reaching for you Do I really need to tell you That I've got a twisted twin soul for you I've got a palm I'm reaching for you In your eyes I've got nothing to see anymore To convince me enough to compromise my heart Let's not say its just a game again Cause we both know we're both perfectly in loathe Do I really need to tell you That I've got a twisted twin soul for you I've got a palm I'm reaching for you Do I really need to tell you That I've got a twisted soul for you I've got a palm I'm reaching for you \"]"
     ]
    },
    {
     "name": "stdout",
     "output_type": "stream",
     "text": [
      "\n",
      "[['ub40', \"you're gonna need me\"], ['villa nah', 'ways to be'], ['woodhands', 'i should have gone with my friends'], ['vulgaires machins', \"l'escorte\"], ['wayne fontana / the mindbenders', 'pamela pamela'], ['villa nah', 'envelope'], ['voodoo circle', 'spewing lies'], ['we are standard', 'bye bye bye'], ['war of ages', 'instrumental'], ['vinnie paz', 'pistolvania feat. freeway & jakk frost'], ['turin brakes', 'radio silence'], ['vinnie paz', 'paul and paz feat. paul wall & block mccloud'], ['year long disaster', 'she told us all'], ['trilucid', 'departures'], ['zpu', 'revoluciã³n'], ['wizack twizack', 'slow budget'], ['wizack twizack', 'spirit molecule'], [\"vex'd\", 'heart space (feat. anneka)'], ['u-n-i', 'supreme 2.0'], ['we are the fallen', 'sleep well_ my angel'], ['vinnie paz', 'street wars feat. clipse & block mccloud'], ['wayne shorter', 'endangered species'], ['treaty of paris', 'colleen'], ['u-n-i', 'hammertime'], ['u-n-i', 'the grudge'], ['villa nah', 'autumn gone'], ['twin tigers', 'feathers'], ['xenia beliayeva', 'analog effekt'], [\"vex'd\", 'disposition (feat. jest)'], ['twin tigers', 'red fox run'], ['turin brakes', 'will power'], ['vinnie paz', 'same story (my dedication) feat. liz fullerton'], ['villa nah', 'remains of love'], ['year long disaster', 'cyclone'], ['unter null', 'obligatory club hit to appease the masses'], ['villa nah', 'all the days'], [\"vex'd\", 'shinju bridge'], ['turin brakes', 'mirror'], ['triangulo de amor bizarro', 'la malicia de las especies protegidas'], ['ub40', 'close to me'], ['william orbit', 'g155'], ['villa nah', 'way of the future'], ['villa nah', 'kiss and tell'], ['unnatural helpers', 'sunshine / pretty girls'], ['white belt yellow tag', \"you're not invincible\"], ['vince neil', 'tattoos & tequila'], ['vinnie paz', 'brick wall feat. ill bill & demoz'], ['villa nah', 'emerald hills'], ['we are the fallen / bethanie', 'burn'], [\"vex'd\", 'slug trawl depths'], ['we are standard', 'the present'], ['we were promised jetpacks', 'with the benefit of hindsight'], ['turbostaat', 'fã¼nfwã¼rstchengriff'], ['vinnie paz', 'nosebleed feat. r.a. the rugged man'], ['u-n-i', 'hollywood hiatus'], ['vinnie paz', 'end of days feat. block mccloud'], ['velvet acid christ', 'zombie sex'], [\"vex'd\", 'out of the hills'], ['u-n-i', 'halftime'], ['turin brakes', 'the invitation'], ['u-n-i', 'black sky'], ['woe of tyrants', 'the venus orbit'], ['villa nah', 'running on'], ['unicorn kid', 'dreamcatcher'], ['ub40', 'a love i can feel'], ['twin tigers', 'gray waves'], ['ub40', \"easy snappin'\"], ['turbostaat', 'tã¤ufers modell'], ['usher featuring will.i.am', 'omg'], ['vinnie paz', 'no spiritual surrender feat. sick jacken'], ['u-n-i', 'land of the kings']]\n",
      "Count of not found lyrics : 71\n"
     ]
    }
   ],
   "source": [
    "lyrics, lyrics_not_found_list = scrape_lyrics(artists_to_scrape, titles_to_scrape)\n",
    "\n",
    "print(lyrics)\n",
    "print(lyrics_not_found_list)\n",
    "print('Count of not found lyrics : ' + str(len(lyrics_not_found_list)))\n",
    "\n",
    "with open(lyrics_csv_filename, \"a\", newline='') as f:\n",
    "    writer = csv.writer(f)\n",
    "    writer.writerows([track_ids_to_scrape,lyrics])"
   ]
  },
  {
   "cell_type": "code",
   "execution_count": 113,
   "metadata": {},
   "outputs": [
    {
     "name": "stdout",
     "output_type": "stream",
     "text": [
      "404\n"
     ]
    }
   ],
   "source": [
    "lyrics_metro = str(lyricfetcher.get_lyrics('metrolyrics','barringtonlevy',\"dontpanme\"))\n",
    "print(lyrics_metro)"
   ]
  },
  {
   "cell_type": "markdown",
   "metadata": {},
   "source": [
    "This function links gets the genres for a single track given its id."
   ]
  },
  {
   "cell_type": "code",
   "execution_count": null,
   "metadata": {},
   "outputs": [],
   "source": [
    "def get_song_genres(track_id):\n",
    "    \"\"\"\n",
    "    Get's the genres of a song given it's ID in a single string, separated by &.\n",
    "    \"\"\"\n",
    "    if track_id in genre_dataset.index:\n",
    "        return \"&\".join(genre_dataset.loc[[track_id]].values[0][0].split(' and '))\n",
    "    else:\n",
    "        return None"
   ]
  },
  {
   "cell_type": "markdown",
   "metadata": {},
   "source": [
    "Before starting our data collection, we make sure that all files correspond to only one song as they should."
   ]
  },
  {
   "cell_type": "code",
   "execution_count": null,
   "metadata": {},
   "outputs": [],
   "source": [
    "for filename in tqdm(all_files): # tqdm for a nice progress bar\n",
    "    assert get_num_songs(filename) == 1 # check whether each file correctly corresponds to a single song."
   ]
  },
  {
   "cell_type": "markdown",
   "metadata": {},
   "source": [
    "The following snippet reads the Million Song dataset in its entirety and uses the genre dataset to link the two. It gets all the fields we need as we discussed above and also gets the genres of each track. This information is then put into a dataframe. \n",
    "\n",
    "For convenience, we save this data in a new `.csv` file."
   ]
  },
  {
   "cell_type": "code",
   "execution_count": null,
   "metadata": {},
   "outputs": [],
   "source": [
    "# The dataframe is saved into a file for convenience.\n",
    "\"\"\"\n",
    "data = pd.DataFrame([])\n",
    "\n",
    "for filename in tqdm(all_files):\n",
    "    track_id = get_track_id(filename).decode()\n",
    "    genres = get_song_genres(track_id)\n",
    "    if genres:\n",
    "        to_add = [('track_id', track_id), ('genres', genres), ('artist_name', get_artist_name(filename)), ('title', get_title(filename)), ('year', get_year(filename)), ('lyrics', \"\")]\n",
    "        data = data.append(pd.DataFrame(OrderedDict(to_add), index=[0]))\n",
    "\n",
    "data.set_index('track_id', inplace=True)\n",
    "data.to_csv('data/data.csv')\n",
    "\"\"\"\n",
    "\n",
    "data = pd.read_csv('data/data.csv').set_index('track_id')"
   ]
  },
  {
   "cell_type": "markdown",
   "metadata": {},
   "source": [
    "Finally, we need to obtain lyrics data for our tracks. For this, we have found two datasets. Both of these contain artist, track title and lyrics data which we read in the following code snippets. We try to get the lyrics from both datasets, but it's possible that neither of them contains the lyrics for some on our tracks. For this reason, we will also look at genius.com which is a website containing many lyrics."
   ]
  },
  {
   "cell_type": "code",
   "execution_count": null,
   "metadata": {},
   "outputs": [],
   "source": [
    "lyrics_df1 = pd.read_csv('lyrics/songdata1.csv')\n",
    "lyrics_df1.set_index(['artist', 'song'], inplace=True)"
   ]
  },
  {
   "cell_type": "code",
   "execution_count": null,
   "metadata": {},
   "outputs": [],
   "source": [
    "lyrics_df2_raw = pd.read_csv('lyrics/songdata2.csv', na_filter=False)\n",
    "lyrics_df2 = lyrics_df2_raw[['song', 'artist', 'lyrics']].set_index(['artist', 'song'])"
   ]
  },
  {
   "cell_type": "code",
   "execution_count": null,
   "metadata": {},
   "outputs": [],
   "source": [
    "def get_lyrics_csv1(artist_name, title):\n",
    "    \"\"\"\n",
    "    Gets lyrics for an artist and title pair from the first dataset.\n",
    "    \"\"\"\n",
    "    if (artist_name, title) in lyrics_df1.index:\n",
    "        return lyrics_df1.loc[artist_name, title].values[0][1]\n",
    "    else:\n",
    "        return None"
   ]
  },
  {
   "cell_type": "code",
   "execution_count": null,
   "metadata": {},
   "outputs": [],
   "source": [
    "def get_lyrics_csv2(artist_name, title):\n",
    "    \"\"\"\n",
    "    Gets lyrics for an artist and title pair from the second dataset.\n",
    "    In this file, the artist and title fields have hyphens instead of spaces\n",
    "    and are exclusively in lower case, so we change our data to match this\n",
    "    format when looking for songs.\n",
    "    \"\"\"\n",
    "    index_artist_name = artist_name.lower().replace(' ', '-')\n",
    "    index_title = title.lower().replace(' ', '-')\n",
    "    if (index_artist_name, index_title) in lyrics_df2.index:\n",
    "        lyrics = lyrics_df2.loc[index_artist_name, index_title].values[0][0]\n",
    "        if len(lyrics) == 0:\n",
    "            return None\n",
    "        else:\n",
    "            return lyrics\n",
    "    else:\n",
    "        return None"
   ]
  },
  {
   "cell_type": "code",
   "execution_count": null,
   "metadata": {},
   "outputs": [],
   "source": [
    "def get_lyrics(artist_name, title):\n",
    "    \"\"\"\n",
    "    Gets the lyrics for an artist name and title from both datasets.\n",
    "    If lyrics are not found in either of them, returns an empty string.\n",
    "    \"\"\"\n",
    "    lyrics = get_lyrics_csv1(artist_name, title)\n",
    "    if lyrics:\n",
    "        return lyrics\n",
    "    \n",
    "    lyrics = get_lyrics_csv2(artist_name, title)\n",
    "    if lyrics:\n",
    "        return lyrics\n",
    "    \n",
    "    return \"\""
   ]
  },
  {
   "cell_type": "markdown",
   "metadata": {},
   "source": [
    "We make a new dataframe that contains lyrics information for our previous data. If the lyrics are not found in either of the lyrics datasets, we generate the genius.com url to search for that song's lyrics."
   ]
  },
  {
   "cell_type": "code",
   "execution_count": null,
   "metadata": {},
   "outputs": [],
   "source": [
    "#Match lyrics\n",
    "data_lyrics = data.copy()\n",
    "urls = {}\n",
    "i = 1\n",
    "for index, row in data.iterrows():\n",
    "    lyrics = get_lyrics(row['artist_name'], row['title'])\n",
    "    \n",
    "    # We generate an URL to lookup in Genius if we haven't found any lyrics\n",
    "    # in the first two datasets.\n",
    "    if lyrics == \"\":\n",
    "        # To create the URL to find the song on genius, the title and artist names\n",
    "        # need to be processed to match the general format of Genius' songs URL.\n",
    "        # For instance, spaces are replaced by hyphens and additional information\n",
    "        # between parenthesis is removed.\n",
    "        url = (row['artist_name'].lower().replace(' ', '-') + '-' + re.sub(r'\\([^)]*\\)', '', row['title']).rstrip().lower().replace(' ', '-') + '-lyrics').capitalize().replace(\"'\", '')\n",
    "        urls[index] = 'https://genius.com/' + url\n",
    "        \n",
    "    print(i, end='\\r')\n",
    "    i += 1\n",
    "    data_lyrics.loc[index, 'lyrics'] = re.sub(r'[\\[].*?[\\]]', '', lyrics.replace('\\n', ' '))"
   ]
  },
  {
   "cell_type": "markdown",
   "metadata": {},
   "source": [
    "The genius.com URLs are collected in a file so that they can be fed into a scrapper."
   ]
  },
  {
   "cell_type": "code",
   "execution_count": null,
   "metadata": {},
   "outputs": [],
   "source": [
    "with open('data/urls', 'w') as urls_files:\n",
    "    for index, url in urls.items():\n",
    "        print(index, url, file=urls_files)"
   ]
  },
  {
   "cell_type": "markdown",
   "metadata": {},
   "source": [
    "At this point, we run our scrapper which is using `scrapy`. This is not done in this notebook but instead you can find the scrapper code in the `scrapper` folder in this repository. We obtain a file that contains the track ids as well as their lyrics found on genius.com.\n",
    "\n",
    "The resulting file is then read and its data is added to our data."
   ]
  },
  {
   "cell_type": "code",
   "execution_count": null,
   "metadata": {},
   "outputs": [],
   "source": [
    "import json\n",
    "with open('data/missing_lyrics.json') as lyrics_file:\n",
    "    lyrics_json = json.load(lyrics_file)\n",
    "    for item in lyrics_json:\n",
    "        for index, lyrics in item.items():\n",
    "            # Returned lyrics are modified to remove newline cahracters as well as some\n",
    "            # special lyrics structures as we have seen before.\n",
    "            data_lyrics.loc[index, 'lyrics'] = re.sub(r'[\\[].*?[\\]]', '', lyrics.replace('\\n', ' '))"
   ]
  },
  {
   "cell_type": "markdown",
   "metadata": {},
   "source": [
    "We then detect the language of the lyrics if any. It is possible that some of the lyrics do not contain any features that allow language detection, in this case we do not assign a language to that lyrics."
   ]
  },
  {
   "cell_type": "code",
   "execution_count": null,
   "metadata": {},
   "outputs": [],
   "source": [
    "#Find the corresponding language for the lyrics\n",
    "from langdetect import detect\n",
    "\n",
    "for index, row in data_lyrics.iterrows():\n",
    "    lyrics = data_lyrics.loc[index, 'lyrics']\n",
    "    language = None\n",
    "    if lyrics.strip() != \"\":\n",
    "        try:\n",
    "            language = detect(lyrics)\n",
    "        except:\n",
    "            language = \"\"\n",
    "    if language != \"\":\n",
    "        data_lyrics.loc[index, 'lang'] = language"
   ]
  },
  {
   "cell_type": "markdown",
   "metadata": {},
   "source": [
    "Now let's see how many songs are there with lyrics in the Million Song Subset."
   ]
  },
  {
   "cell_type": "code",
   "execution_count": null,
   "metadata": {},
   "outputs": [],
   "source": [
    "data_lyrics = data_lyrics[data_lyrics.lyrics != '']"
   ]
  },
  {
   "cell_type": "code",
   "execution_count": null,
   "metadata": {},
   "outputs": [],
   "source": [
    "data_lyrics.shape"
   ]
  },
  {
   "cell_type": "code",
   "execution_count": null,
   "metadata": {},
   "outputs": [],
   "source": [
    "data_lyrics"
   ]
  },
  {
   "cell_type": "markdown",
   "metadata": {},
   "source": [
    "We save the resulting data in a file for convenience. This is the final state of our data and contains verything we need."
   ]
  },
  {
   "cell_type": "code",
   "execution_count": null,
   "metadata": {},
   "outputs": [],
   "source": [
    "data_lyrics.to_csv('data/data_lyrics.csv')"
   ]
  },
  {
   "cell_type": "markdown",
   "metadata": {},
   "source": [
    "# Analysis"
   ]
  },
  {
   "cell_type": "markdown",
   "metadata": {},
   "source": [
    "To obtain our analysis, we will follow the following steps."
   ]
  },
  {
   "cell_type": "markdown",
   "metadata": {},
   "source": [
    "### Lyrics Processing"
   ]
  },
  {
   "cell_type": "markdown",
   "metadata": {},
   "source": [
    "We would like to be able to extract different themes from our lyrics. Other than being able to see the evolution of some words over time and depending of the genres of the song, it's interesting to see the themes or sentiments that the song's lyrics portray. For this, we will use Natural Language Processing (NLP) libraries to extract this information about each track."
   ]
  },
  {
   "cell_type": "markdown",
   "metadata": {},
   "source": [
    "From the lyrics that we have, we apply the bag-of-words model and only keep the interesting (meaningful) words. That is, we remove the stop words and lemmatize each word to avoid, for instance, having both 'sleep' and 'sleeping'."
   ]
  },
  {
   "cell_type": "markdown",
   "metadata": {},
   "source": [
    "We start by downloading `nltk` packages that will be of use for us. [ntlk](http://www.nltk.org/) is a well known framework for natural language processing in Python."
   ]
  },
  {
   "cell_type": "code",
   "execution_count": null,
   "metadata": {},
   "outputs": [],
   "source": [
    "nltk.download('stopwords')\n",
    "nltk.download('punkt')\n",
    "nltk.download('averaged_perceptron_tagger')\n",
    "nltk.download('wordnet')"
   ]
  },
  {
   "cell_type": "markdown",
   "metadata": {},
   "source": [
    "Now, we define a few functions to do all our natural language analysis steps."
   ]
  },
  {
   "cell_type": "markdown",
   "metadata": {},
   "source": [
    "First, we define a function that tokenizes lyrics. As we have seen in class, working on a list of tokens instead of a string of characters is much better for machine learning and natural language processing techniques that we will use. For this we use TextBlob which we will also use later on for sentiment analysis since it gives a nice way to obtain tagged tokens."
   ]
  },
  {
   "cell_type": "code",
   "execution_count": null,
   "metadata": {},
   "outputs": [],
   "source": [
    "def tokenize(text):\n",
    "    return TextBlob(text)"
   ]
  },
  {
   "cell_type": "markdown",
   "metadata": {},
   "source": [
    "Next we will define a function that removes stopwords from our tokens. This function uses standard stop words list from `nltk`."
   ]
  },
  {
   "cell_type": "code",
   "execution_count": null,
   "metadata": {},
   "outputs": [],
   "source": [
    "def get_language_full_name(isocode):\n",
    "    return pycountry.languages.get(alpha_2=isocode).name.lower()"
   ]
  },
  {
   "cell_type": "code",
   "execution_count": null,
   "metadata": {},
   "outputs": [],
   "source": [
    "stop_words_languages = {}\n",
    "# Other than the stopwords for a given language which we obtain from\n",
    "# nltk, we also add a list of common first names which we remove from\n",
    "# the lyrics to ease topic detection later on. This list was found in\n",
    "# https://www.cs.cmu.edu/Groups/AI/areas/nlp/corpora/names/.\n",
    "names_pd = pd.read_csv('data/common_names.csv')\n",
    "\n",
    "names = []\n",
    "for name in names_pd.values:\n",
    "    names.append(name[0])"
   ]
  },
  {
   "cell_type": "markdown",
   "metadata": {},
   "source": [
    "Even if we only have English lyrics, the code below can support the stopwords from multiple languages. "
   ]
  },
  {
   "cell_type": "code",
   "execution_count": null,
   "metadata": {},
   "outputs": [],
   "source": [
    "def remove_stopwords(blob, language):\n",
    "    if language not in stop_words_languages:\n",
    "        stop_words_languages[language] = set(stop_words.words(get_language_full_name(language)))\n",
    "        if language == 'en':\n",
    "            # Additional stopwords not caught by nltk's list.\n",
    "            stop_words_languages[language] |= set(['na', 'gon', 'la', 'nt', 'i', '', \"'\"])\n",
    "            stop_words_languages[language] |= set(names)\n",
    "        \n",
    "    tokens = []\n",
    "    for word, tag in blob.tags:\n",
    "        lower = word.lower().replace(\"'\", '')\n",
    "        if lower not in stop_words_languages[language]:\n",
    "            tokens.append((lower, tag))\n",
    "    return tokens"
   ]
  },
  {
   "cell_type": "markdown",
   "metadata": {},
   "source": [
    "In the next function, we lemmatize the tokens that are left so that words that variants of words that are essentially the same (conjugated verbs for examples) are counted as the same token."
   ]
  },
  {
   "cell_type": "code",
   "execution_count": null,
   "metadata": {},
   "outputs": [],
   "source": [
    "def lemmatize(tokens):\n",
    "    lemmas = []\n",
    "    lemma = None\n",
    "    for token, tag in tokens:\n",
    "        if tag[0] == \"V\": #if the word is a verb\n",
    "            lemma = Word(token).lemmatize(\"v\")\n",
    "        else:\n",
    "            lemma = Word(token).lemmatize()\n",
    "        lemmas.append(lemma)\n",
    "    return lemmas"
   ]
  },
  {
   "cell_type": "markdown",
   "metadata": {},
   "source": [
    "The next function combines the functions defined above to get the final tokens that we will consider for our topic detection task."
   ]
  },
  {
   "cell_type": "code",
   "execution_count": null,
   "metadata": {},
   "outputs": [],
   "source": [
    "def get_final_tokens(lyrics):\n",
    "    \"\"\"\n",
    "    Combines our functions to get the final list of tokens.\n",
    "    \"\"\"\n",
    "    texts = []\n",
    "    for lyric in lyrics:\n",
    "        texts.append(lemmatize(remove_stopwords(tokenize(lyric), 'en')))\n",
    "    return texts"
   ]
  },
  {
   "cell_type": "markdown",
   "metadata": {},
   "source": [
    "For our data visualisation, we also need to have raw frequencies of the words that we use. While later on we will use different ways to obtain such information for our ML techniques, here for the visualisation we want a quick and simple count of the appearence of our tokens over the whole corpus passed as parameters. This way we can easily obtain the frequency of words appearing in all the lyrics for a given genre in a given year for example. The function defined below does precisely that."
   ]
  },
  {
   "cell_type": "code",
   "execution_count": null,
   "metadata": {},
   "outputs": [],
   "source": [
    "def get_word_freq(texts):\n",
    "    \"\"\"\n",
    "    Gets the raw word count of each word appearing in\n",
    "    the lyrics given by texts.\n",
    "    \"\"\"\n",
    "    word_count = {}\n",
    "    for text in texts:\n",
    "        for token in text:\n",
    "            if token not in word_count:\n",
    "                word_count[token] = 1\n",
    "            else:\n",
    "                word_count[token] += 1\n",
    "    return word_count"
   ]
  },
  {
   "cell_type": "markdown",
   "metadata": {},
   "source": [
    "To find the general sentiment of a song's lyrics, we use [TextBlob](https://textblob.readthedocs.io/en/dev/). This library has already a built-in sentiment analyser, which gives us inforation whether the song is 'positive' or 'negative'. The following function is used to do just that and takes as parameter a single lyrics string."
   ]
  },
  {
   "cell_type": "code",
   "execution_count": null,
   "metadata": {},
   "outputs": [],
   "source": [
    "def get_sentiment(lyrics):\n",
    "    \"\"\"\n",
    "    Gets the sentiment polarity of a lyrics given as string.\n",
    "    \"\"\"\n",
    "    blob = TextBlob(lyrics)\n",
    "    return blob.sentiment.polarity"
   ]
  },
  {
   "cell_type": "markdown",
   "metadata": {},
   "source": [
    "Now that we have everything needed defined, we begin by getting our data (from the file written to in the previous section) into a dataframe. We only keep the lyrics that we detected to be in english since all our NLP and ML techniques wouldn't work on lyrics from different languages.\n",
    "\n",
    "We construct a genres list that will be used later in our data visualisation as well as a dictionary that links the genres to a list of indices of particular songs."
   ]
  },
  {
   "cell_type": "code",
   "execution_count": null,
   "metadata": {},
   "outputs": [],
   "source": [
    "lyrics_df = pd.read_csv('data/data_lyrics.csv')\n",
    "lyrics_df.set_index(['track_id'], inplace=True)\n",
    "\n",
    "lyrics_df = lyrics_df[lyrics_df.lang == 'en']\n",
    "genres_list = ['all'] # Added a special genre, 'all' which will capture all songs\n",
    "genres_indices = {}\n",
    "for index, row in lyrics_df.iterrows():\n",
    "    genre = row['genres']\n",
    "    genre = genre.replace('&', ',') # Replaced for later on when we use it in HTML\n",
    "    genres_indices.setdefault(genre, []).append(index)\n",
    "    genres_indices.setdefault('all', []).append(index)\n",
    "    if genre not in genres_list:\n",
    "        genres_list.append(genre)"
   ]
  },
  {
   "cell_type": "markdown",
   "metadata": {},
   "source": [
    "We call our functions on the lyrics of each song and insert these tokens as a new column in the dataframe."
   ]
  },
  {
   "cell_type": "code",
   "execution_count": null,
   "metadata": {},
   "outputs": [],
   "source": [
    "lyrics_df['tokens'] = get_final_tokens(lyrics_df.lyrics.values)"
   ]
  },
  {
   "cell_type": "markdown",
   "metadata": {},
   "source": [
    "Now we add yet another column that is the sentiment of the lyrics of a particular song, obtained using the method described above. We scale the sentiment between 0 and 1 for our final visualisation. "
   ]
  },
  {
   "cell_type": "code",
   "execution_count": null,
   "metadata": {},
   "outputs": [],
   "source": [
    "all_lyrics = lyrics_df.lyrics.values\n",
    "sentiments = []\n",
    "for lyric in all_lyrics:\n",
    "    sentiment = get_sentiment(lyric)\n",
    "    sentiment = (sentiment + 1) / 2.0\n",
    "    sentiments.append(sentiment)\n",
    "lyrics_df['sentiment'] = sentiments"
   ]
  },
  {
   "cell_type": "markdown",
   "metadata": {},
   "source": [
    "Now we collect all our remaining data and output it into files that we will use for our visualisation. We first begin by aggregating the word frequencies by genre and year of release (songs without a year of release are dropped). Each word results in a file where each datapoint corresponds to a year and the frequency of the word in the particular genre and the particular year.\n",
    "\n",
    "The sentiment files are done in the same way, except that there is one file per genre.\n",
    "\n",
    "Moreover, a list of all words appearing for every genre is also created for our final data visualisation."
   ]
  },
  {
   "cell_type": "code",
   "execution_count": null,
   "metadata": {},
   "outputs": [],
   "source": [
    "# We will collect here a list of words for each genre\n",
    "# for our visualisation's autocomplete feature.\n",
    "genres_words = {}\n",
    "to_save = {}\n",
    "for genre, indices in genres_indices.items():\n",
    "    curr_df = lyrics_df.loc[indices]\n",
    "    genres_words[genre] = []\n",
    "    \n",
    "    # create the directory for words in each genre\n",
    "    directory_words = 'data/final_data/words/' + genre\n",
    "    if not os.path.exists(directory_words):\n",
    "        os.makedirs(directory_words)\n",
    "    \n",
    "    # create the directory for sentiments\n",
    "    directory_sentiments = 'data/final_data/sentiments'\n",
    "    if not os.path.exists(directory_sentiments):\n",
    "        os.makedirs(directory_sentiments)\n",
    "    \n",
    "    for year in curr_df[curr_df.year != 0].year.sort_values().unique():\n",
    "        curr_year_df = curr_df[curr_df.year == year]\n",
    "        # get the frequencies of words in the current genre and year\n",
    "        freqs = get_word_freq(curr_year_df.tokens.values)\n",
    "        # get the word count over this data for proportion calculation\n",
    "        word_count = sum(freqs.values())\n",
    "        \n",
    "        # get the sentiment values and calculate the proportion\n",
    "        sentiments = curr_year_df.sentiment.values\n",
    "        sentiment_avg = sum(sentiments) / float(len(sentiments))\n",
    "        filepath = directory_sentiments + '/' + genre + '.csv'\n",
    "        if not os.path.exists(filepath):\n",
    "            with open(filepath, 'a') as output_file:\n",
    "                print('year,value', file=output_file)\n",
    "        with open(filepath, 'a') as output_file:\n",
    "            print(str(year) + ',' + str(sentiment_avg), file=output_file)\n",
    "            \n",
    "        # save word data (proportions as well)\n",
    "        for word, freq in freqs.items():\n",
    "            # remove undesirable characters from filenames\n",
    "            for ch in ['/', '*', '\"', ':', '\\\\']:\n",
    "                word = word.replace(ch, '-')\n",
    "            if word != \"\":\n",
    "                filepath = directory_words + '/' + word + '.csv'\n",
    "                # saved in a directory to later output in a file\n",
    "                # this is done so that we don't append to the file\n",
    "                # before we know that there is more than one value.\n",
    "                # having a single value in our visualisation doesn't\n",
    "                # show anything but potentially makes other graphs \n",
    "                # look bad because of scaling.\n",
    "                to_save.setdefault((filepath, word, genre), []).append(str(year) + ',' + str(freq/float(word_count)))\n",
    "\n",
    "# save word data to files\n",
    "for filepath_word, lines in to_save.items():\n",
    "    filepath, word, genre = filepath_word\n",
    "    if len(lines) > 1: # save only if more than one datapoint\n",
    "        if word not in genres_words[genre]:\n",
    "            genres_words[genre].append(word)\n",
    "        with open(filepath, 'w') as output_file:\n",
    "            print('year,value', file=output_file)\n",
    "            for line in lines:\n",
    "                print(line, file=output_file)"
   ]
  },
  {
   "cell_type": "markdown",
   "metadata": {},
   "source": [
    "Finnaly, the list of genres that we created earlier will be of use for our data visualisation as an auto-complete feature when searching for genres. The same is the case for the lists of words per genre. This information is saved in files as defined below."
   ]
  },
  {
   "cell_type": "code",
   "execution_count": null,
   "metadata": {},
   "outputs": [],
   "source": [
    "for genre, words in genres_words.items():\n",
    "    with open('data/final_data/words/' + genre + '/allWords.json', 'w') as output_file:\n",
    "        json.dump(words, output_file)"
   ]
  },
  {
   "cell_type": "code",
   "execution_count": null,
   "metadata": {},
   "outputs": [],
   "source": [
    "with open('data/final_data/allGenres.json', 'w') as output_file:\n",
    "    json.dump(genres_list, output_file)"
   ]
  },
  {
   "cell_type": "markdown",
   "metadata": {},
   "source": [
    "### Topics Analysis"
   ]
  },
  {
   "cell_type": "markdown",
   "metadata": {},
   "source": [
    "And finally, to find the topics of our songs we use [Mallet](http://mallet.cs.umass.edu/topics.php).\n",
    "\n",
    "This method doesn't create a list of themes with clear names, but rather assumes that a topic is a collection of words, thus we will need to manually assign a name for each topic.\n",
    "\n",
    "The LDA model will output, for each song, a list of topics with different weights.\n",
    "\n",
    "The following code just outputs the collection of tokens with corresponding track ids."
   ]
  },
  {
   "cell_type": "code",
   "execution_count": null,
   "metadata": {},
   "outputs": [],
   "source": [
    "path = r'mallet/lyrics' \n",
    "if not os.path.exists(path):\n",
    "    os.makedirs(path)"
   ]
  },
  {
   "cell_type": "code",
   "execution_count": null,
   "metadata": {},
   "outputs": [],
   "source": [
    "for index, row in lyrics_df.iterrows():\n",
    "    with open(path + '/' + index + '.txt', \"w\") as text_file:\n",
    "        tokens = ''\n",
    "        for token in row.tokens:\n",
    "            tokens += token + ' '\n",
    "        text_file.write(tokens)"
   ]
  },
  {
   "cell_type": "code",
   "execution_count": null,
   "metadata": {},
   "outputs": [],
   "source": [
    "#if the number of topics is modified, you need to change it as well in the second command below\n",
    "num_topics = 20"
   ]
  },
  {
   "cell_type": "markdown",
   "metadata": {},
   "source": [
    "To process the output, just run the following command in Mallet's directory:\n",
    "\n",
    "`bin/mallet import-dir --input mallet/* --output lyrics.mallet --remove-stopwords --keep-sequence`\n",
    "\n",
    "We keep the `--remove-stopwords` just to be sure to remove all the stopwords."
   ]
  },
  {
   "cell_type": "markdown",
   "metadata": {},
   "source": [
    "And then this command :\n",
    "\n",
    "\n",
    "`bin/mallet train-topics --input lyrics.mallet --num-topics 20 --num-iterations 1000 --optimize-interval 10 --output-topic-keys topics_composition.txt --output-doc-topics songs_composition.txt?`\n",
    "\n",
    "The output should be in the folder `data` for the next operations."
   ]
  },
  {
   "cell_type": "markdown",
   "metadata": {},
   "source": [
    "We then load the prediction of the LDA model on the lyrics and add it to the lyrics dataset."
   ]
  },
  {
   "cell_type": "code",
   "execution_count": null,
   "metadata": {},
   "outputs": [],
   "source": [
    "songs_composition = pd.read_csv('data/songs_composition.txt', header=None, sep='\\t')"
   ]
  },
  {
   "cell_type": "code",
   "execution_count": null,
   "metadata": {},
   "outputs": [],
   "source": [
    "def df_get_id(filenames):\n",
    "    \"\"\"\n",
    "    Get the id of a song from the corresponding filename.\n",
    "    We need this because Mallet outputs the filepath and not the original ID.\n",
    "    \"\"\"\n",
    "    ids = []\n",
    "    for filename in filenames:\n",
    "        id_ = filename[1].split('/')[-1].split('.')[0]\n",
    "        ids.append(id_)\n",
    "    return ids\n",
    "\n",
    "def df_get_topics(df_topics):\n",
    "    \"\"\"\n",
    "    Get a single list of topics from the topics columns from\n",
    "    Mallets output file.\n",
    "    \"\"\"\n",
    "    list_topics = []\n",
    "    for row in df_topics:\n",
    "        topics = {}\n",
    "        for i in range(num_topics):\n",
    "            topics[i] = row[i + 2]\n",
    "        list_topics.append(topics)\n",
    "    return list_topics"
   ]
  },
  {
   "cell_type": "code",
   "execution_count": null,
   "metadata": {
    "scrolled": true
   },
   "outputs": [],
   "source": [
    "songs_composition['track_id'] = df_get_id(songs_composition.values)\n",
    "songs_composition['topics'] = df_get_topics(songs_composition.values)\n",
    "id_topics = songs_composition[['track_id', 'topics']]\n",
    "\n",
    "id_topics = id_topics.set_index('track_id')\n",
    "# We add the topics column to the lyrics dataset and name it result\n",
    "result = pd.concat([id_topics, lyrics_df], axis=1, join='inner')"
   ]
  },
  {
   "cell_type": "markdown",
   "metadata": {},
   "source": [
    "Now that we have the topics coefficient for each song, we can retrieve interesting information.\n",
    "The goal is to have for a given genre, the coefficient of a given topic for a given year.\n",
    "For instance to kown what is the importance of the Gangsta topics in the pop genre in the year 2007."
   ]
  },
  {
   "cell_type": "code",
   "execution_count": null,
   "metadata": {
    "scrolled": true
   },
   "outputs": [],
   "source": [
    "topics_genres = {}\n",
    "topics_all = {}\n",
    "\n",
    "# We iterate through the dataset\n",
    "for index, row in result.iterrows():\n",
    "    genre = row['genres']\n",
    "    genre = genre.replace('&', ',')\n",
    "    topics = row['topics']\n",
    "    year = row['year']\n",
    "    \n",
    "    # Add genre if not in topics_genres\n",
    "    if genre not in  topics_genres:\n",
    "        topics_genres[genre] = {}\n",
    "    \n",
    "    for topic in topics:\n",
    "        # Add topic if not in topics_genres[genres]\n",
    "        # This is where we add the topic value for a given genre\n",
    "        if not topic in topics_genres[genre]:\n",
    "            topics_genres[genre][topic] = {}\n",
    "        # Add year for this topic and initialize it\n",
    "        if not year in topics_genres[genre][topic]:\n",
    "            topics_genres[genre][topic][year] = []\n",
    "            topics_genres[genre][topic][year].append(0)\n",
    "            topics_genres[genre][topic][year].append(0)\n",
    "        # Sum the topic of this song for this year\n",
    "        topics_genres[genre][topic][year][0] += topics[topic]\n",
    "        # Increase the number of songs for this genre/topic/year \n",
    "        # in order to have a mean \n",
    "        topics_genres[genre][topic][year][1] += 1\n",
    "        \n",
    "        # Same as before but for all genre (special case)\n",
    "        if topic not in topics_all:\n",
    "            topics_all[topic] = {}\n",
    "        \n",
    "        if not year in topics_all[topic]:\n",
    "            topics_all[topic][year] = []\n",
    "            topics_all[topic][year].append(0)\n",
    "            topics_all[topic][year].append(0)\n",
    "        topics_all[topic][year][0] += topics[topic]\n",
    "        topics_all[topic][year][1] += 1"
   ]
  },
  {
   "cell_type": "code",
   "execution_count": null,
   "metadata": {},
   "outputs": [],
   "source": [
    "# Compute the mean for this genre/topic/year combination\n",
    "results = {}\n",
    "for genre in topics_genres:\n",
    "    results[genre] = {}\n",
    "    for topic in topics_genres[genre]:\n",
    "        results[genre][topic] = {}\n",
    "        for year in topics_genres[genre][topic]:\n",
    "            if year:\n",
    "                mean = topics_genres[genre][topic][year][0] / topics_genres[genre][topic][year][1] \n",
    "                results[genre][topic][year] = mean\n",
    "results\n",
    "\n",
    "# Same as above\n",
    "results_all = {}\n",
    "for topic in topics_all:\n",
    "    results_all[topic] = {}\n",
    "    for year in topics_all[topic]:\n",
    "        if year:\n",
    "            mean = topics_all[topic][year][0] / topics_all[topic][year][1] \n",
    "            results_all[topic][year] = mean"
   ]
  },
  {
   "cell_type": "code",
   "execution_count": null,
   "metadata": {},
   "outputs": [],
   "source": [
    "# Save the final result\n",
    "path = 'data/final_data/topics'\n",
    "for genre in results:\n",
    "    for topic in results[genre]:\n",
    "        directory = path + '/' + genre + '/'\n",
    "        if not os.path.exists(directory):\n",
    "            os.makedirs(directory)\n",
    "        with open((directory + str(topic) + '.csv'), 'w') as csvfile:\n",
    "            print('year,value', file=csvfile)\n",
    "            for year in sorted(results[genre][topic].keys()):\n",
    "                csvfile.write(str(year) + ',' + str(results[genre][topic][year]) + '\\n')\n",
    "\n",
    "path = 'data/final_data/topics'\n",
    "directory = path + '/' + 'all' + '/'\n",
    "if not os.path.exists(directory):\n",
    "    os.makedirs(directory)\n",
    "    \n",
    "for topic in results_all:\n",
    "    with open((directory + str(topic) + '.csv'), 'w') as csvfile:\n",
    "        print('year,value', file=csvfile)\n",
    "        for year in sorted(results_all[topic].keys()):\n",
    "            csvfile.write(str(year) + ',' + str(results_all[topic][year]) + '\\n')"
   ]
  },
  {
   "cell_type": "markdown",
   "metadata": {},
   "source": [
    "# Visualization"
   ]
  },
  {
   "cell_type": "markdown",
   "metadata": {},
   "source": [
    "As we have planned, we have a data visualisation website that displays our data as plots over the time of different distributions of topics, words or sentiments, separated by genre or not. The visualisation is available at the end of our data story [here](http://adelamare.eu/ADA/Project/). It is also available standalone [here](http://adelamare.eu/ADA/Project/fullViz.html)."
   ]
  }
 ],
 "metadata": {
  "kernelspec": {
   "display_name": "Python 3",
   "language": "python",
   "name": "python3"
  },
  "language_info": {
   "codemirror_mode": {
    "name": "ipython",
    "version": 3
   },
   "file_extension": ".py",
   "mimetype": "text/x-python",
   "name": "python",
   "nbconvert_exporter": "python",
   "pygments_lexer": "ipython3",
   "version": "3.6.7"
  }
 },
 "nbformat": 4,
 "nbformat_minor": 2
}
