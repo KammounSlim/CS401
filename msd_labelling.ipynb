{
 "cells": [
  {
   "cell_type": "code",
   "execution_count": 1,
   "metadata": {},
   "outputs": [],
   "source": [
    "#As always, we import everything\n",
    "import pandas as pd\n",
    "import numpy as np \n",
    "\n",
    "import os\n",
    "import re\n",
    "\n",
    "import seaborn as sns\n",
    "\n",
    "import sklearn\n",
    "\n",
    "from sklearn.feature_extraction.text import TfidfVectorizer\n",
    "from sklearn.feature_selection import chi2\n",
    "\n",
    "from sklearn.metrics import confusion_matrix\n",
    "from sklearn import metrics\n",
    "from sklearn.model_selection import train_test_split\n",
    "\n",
    "from sklearn import svm\n",
    "from sklearn.svm import LinearSVC\n",
    "from sklearn.linear_model import LogisticRegression\n",
    "from sklearn.ensemble import RandomForestClassifier\n",
    "from sklearn.model_selection import cross_val_score\n",
    "from sklearn.naive_bayes import MultinomialNB\n",
    "\n",
    "import matplotlib.pyplot as plt\n",
    "import warnings\n",
    "warnings.filterwarnings('ignore')"
   ]
  },
  {
   "cell_type": "code",
   "execution_count": 2,
   "metadata": {},
   "outputs": [],
   "source": [
    "data_dir = './' + 'data'"
   ]
  },
  {
   "cell_type": "markdown",
   "metadata": {},
   "source": [
    "# README"
   ]
  },
  {
   "cell_type": "code",
   "execution_count": 3,
   "metadata": {
    "scrolled": true
   },
   "outputs": [],
   "source": [
    "# Load the dataframes\n",
    "\n",
    "year_artist_name_title_genre = pd.read_csv(os.path.join(data_dir + \"/year_artist_name_title_genre.csv\")).set_index('track_id')\n",
    "\n",
    "train_lyrics_dataframe = pd.read_csv(data_dir + '/train_lyrics.csv').drop('Unnamed: 0', axis = 1)\n",
    "msd_lyrics_dataframe = pd.read_csv(data_dir + '/msd_lyrics.csv').drop('Unnamed: 0', axis = 1)\n",
    "\n",
    "msd_lyrics = msd_lyrics_dataframe['Lyrics']\n",
    "\n",
    "train_lyrics = train_lyrics_dataframe['Lyrics']\n",
    "\n",
    "frames = [train_lyrics, msd_lyrics]\n",
    "\n",
    "final_lyrics = pd.concat(frames).reset_index().drop('index', axis = 1)"
   ]
  },
  {
   "cell_type": "code",
   "execution_count": 4,
   "metadata": {},
   "outputs": [],
   "source": [
    "final_lyrics = final_lyrics.dropna().reset_index().drop('index',axis=1)"
   ]
  },
  {
   "cell_type": "code",
   "execution_count": 5,
   "metadata": {},
   "outputs": [
    {
     "data": {
      "text/html": [
       "<div>\n",
       "<style scoped>\n",
       "    .dataframe tbody tr th:only-of-type {\n",
       "        vertical-align: middle;\n",
       "    }\n",
       "\n",
       "    .dataframe tbody tr th {\n",
       "        vertical-align: top;\n",
       "    }\n",
       "\n",
       "    .dataframe thead th {\n",
       "        text-align: right;\n",
       "    }\n",
       "</style>\n",
       "<table border=\"1\" class=\"dataframe\">\n",
       "  <thead>\n",
       "    <tr style=\"text-align: right;\">\n",
       "      <th></th>\n",
       "      <th>Lyrics</th>\n",
       "    </tr>\n",
       "  </thead>\n",
       "  <tbody>\n",
       "    <tr>\n",
       "      <th>0</th>\n",
       "      <td>Red One Sugababes Girls bring the fun of life ...</td>\n",
       "    </tr>\n",
       "    <tr>\n",
       "      <th>1</th>\n",
       "      <td>I guess it was yourself you were involved with...</td>\n",
       "    </tr>\n",
       "    <tr>\n",
       "      <th>2</th>\n",
       "      <td>Bill collectors at my door What can you do for...</td>\n",
       "    </tr>\n",
       "    <tr>\n",
       "      <th>3</th>\n",
       "      <td>I ain't cooking all day (I ain't your mama!) I...</td>\n",
       "    </tr>\n",
       "    <tr>\n",
       "      <th>4</th>\n",
       "      <td>All hands on deck All in front all in the back...</td>\n",
       "    </tr>\n",
       "  </tbody>\n",
       "</table>\n",
       "</div>"
      ],
      "text/plain": [
       "                                              Lyrics\n",
       "0  Red One Sugababes Girls bring the fun of life ...\n",
       "1  I guess it was yourself you were involved with...\n",
       "2  Bill collectors at my door What can you do for...\n",
       "3  I ain't cooking all day (I ain't your mama!) I...\n",
       "4  All hands on deck All in front all in the back..."
      ]
     },
     "execution_count": 5,
     "metadata": {},
     "output_type": "execute_result"
    }
   ],
   "source": [
    "final_lyrics.head()"
   ]
  },
  {
   "cell_type": "code",
   "execution_count": 6,
   "metadata": {},
   "outputs": [
    {
     "data": {
      "text/html": [
       "<div>\n",
       "<style scoped>\n",
       "    .dataframe tbody tr th:only-of-type {\n",
       "        vertical-align: middle;\n",
       "    }\n",
       "\n",
       "    .dataframe tbody tr th {\n",
       "        vertical-align: top;\n",
       "    }\n",
       "\n",
       "    .dataframe thead th {\n",
       "        text-align: right;\n",
       "    }\n",
       "</style>\n",
       "<table border=\"1\" class=\"dataframe\">\n",
       "  <thead>\n",
       "    <tr style=\"text-align: right;\">\n",
       "      <th></th>\n",
       "      <th>Category</th>\n",
       "      <th>Lyrics</th>\n",
       "    </tr>\n",
       "  </thead>\n",
       "  <tbody>\n",
       "    <tr>\n",
       "      <th>0</th>\n",
       "      <td>Feminist</td>\n",
       "      <td>Red One Sugababes Girls bring the fun of life ...</td>\n",
       "    </tr>\n",
       "    <tr>\n",
       "      <th>1</th>\n",
       "      <td>Feminist</td>\n",
       "      <td>I guess it was yourself you were involved with...</td>\n",
       "    </tr>\n",
       "    <tr>\n",
       "      <th>2</th>\n",
       "      <td>Feminist</td>\n",
       "      <td>Bill collectors at my door What can you do for...</td>\n",
       "    </tr>\n",
       "    <tr>\n",
       "      <th>3</th>\n",
       "      <td>Feminist</td>\n",
       "      <td>I ain't cooking all day (I ain't your mama!) I...</td>\n",
       "    </tr>\n",
       "    <tr>\n",
       "      <th>4</th>\n",
       "      <td>Feminist</td>\n",
       "      <td>All hands on deck All in front all in the back...</td>\n",
       "    </tr>\n",
       "  </tbody>\n",
       "</table>\n",
       "</div>"
      ],
      "text/plain": [
       "   Category                                             Lyrics\n",
       "0  Feminist  Red One Sugababes Girls bring the fun of life ...\n",
       "1  Feminist  I guess it was yourself you were involved with...\n",
       "2  Feminist  Bill collectors at my door What can you do for...\n",
       "3  Feminist  I ain't cooking all day (I ain't your mama!) I...\n",
       "4  Feminist  All hands on deck All in front all in the back..."
      ]
     },
     "execution_count": 6,
     "metadata": {},
     "output_type": "execute_result"
    }
   ],
   "source": [
    "def label_lyrics (row):\n",
    "    if row['labels'] == 1 :\n",
    "        return 'Feminist'\n",
    "    elif row['labels'] == 0:\n",
    "        return 'Neutral'\n",
    "    else :\n",
    "        return 'Sexist'\n",
    "\n",
    "\n",
    "train_lyrics_dataframe['Category'] = train_lyrics_dataframe.apply(label_lyrics, axis=1)\n",
    "\n",
    "col = ['Category', 'Lyrics']\n",
    "train_lyrics_dataframe = train_lyrics_dataframe[col]\n",
    "train_lyrics_dataframe.head()"
   ]
  },
  {
   "cell_type": "code",
   "execution_count": 7,
   "metadata": {},
   "outputs": [
    {
     "name": "stdout",
     "output_type": "stream",
     "text": [
      "{'Feminist': 0, 'Sexist': 1, 'Neutral': 2}\n",
      "{0: 'Feminist', 1: 'Sexist', 2: 'Neutral'}\n"
     ]
    },
    {
     "data": {
      "text/html": [
       "<div>\n",
       "<style scoped>\n",
       "    .dataframe tbody tr th:only-of-type {\n",
       "        vertical-align: middle;\n",
       "    }\n",
       "\n",
       "    .dataframe tbody tr th {\n",
       "        vertical-align: top;\n",
       "    }\n",
       "\n",
       "    .dataframe thead th {\n",
       "        text-align: right;\n",
       "    }\n",
       "</style>\n",
       "<table border=\"1\" class=\"dataframe\">\n",
       "  <thead>\n",
       "    <tr style=\"text-align: right;\">\n",
       "      <th></th>\n",
       "      <th>Category</th>\n",
       "      <th>Lyrics</th>\n",
       "      <th>category_id</th>\n",
       "    </tr>\n",
       "  </thead>\n",
       "  <tbody>\n",
       "    <tr>\n",
       "      <th>0</th>\n",
       "      <td>Feminist</td>\n",
       "      <td>Red One Sugababes Girls bring the fun of life ...</td>\n",
       "      <td>0</td>\n",
       "    </tr>\n",
       "    <tr>\n",
       "      <th>1</th>\n",
       "      <td>Feminist</td>\n",
       "      <td>I guess it was yourself you were involved with...</td>\n",
       "      <td>0</td>\n",
       "    </tr>\n",
       "    <tr>\n",
       "      <th>2</th>\n",
       "      <td>Feminist</td>\n",
       "      <td>Bill collectors at my door What can you do for...</td>\n",
       "      <td>0</td>\n",
       "    </tr>\n",
       "    <tr>\n",
       "      <th>3</th>\n",
       "      <td>Feminist</td>\n",
       "      <td>I ain't cooking all day (I ain't your mama!) I...</td>\n",
       "      <td>0</td>\n",
       "    </tr>\n",
       "    <tr>\n",
       "      <th>4</th>\n",
       "      <td>Feminist</td>\n",
       "      <td>All hands on deck All in front all in the back...</td>\n",
       "      <td>0</td>\n",
       "    </tr>\n",
       "  </tbody>\n",
       "</table>\n",
       "</div>"
      ],
      "text/plain": [
       "   Category                                             Lyrics  category_id\n",
       "0  Feminist  Red One Sugababes Girls bring the fun of life ...            0\n",
       "1  Feminist  I guess it was yourself you were involved with...            0\n",
       "2  Feminist  Bill collectors at my door What can you do for...            0\n",
       "3  Feminist  I ain't cooking all day (I ain't your mama!) I...            0\n",
       "4  Feminist  All hands on deck All in front all in the back...            0"
      ]
     },
     "execution_count": 7,
     "metadata": {},
     "output_type": "execute_result"
    }
   ],
   "source": [
    "train_lyrics_dataframe.columns = ['Category', 'Lyrics']\n",
    "train_lyrics_dataframe['category_id'] = train_lyrics_dataframe['Category'].factorize()[0]\n",
    "category_id_df = train_lyrics_dataframe[['Category', 'category_id']].drop_duplicates().sort_values('category_id')\n",
    "category_to_id = dict(category_id_df.values)\n",
    "print(category_to_id)\n",
    "id_to_category = dict(category_id_df[['category_id', 'Category']].values)\n",
    "print(id_to_category)\n",
    "train_lyrics_dataframe.head()\n"
   ]
  },
  {
   "cell_type": "markdown",
   "metadata": {},
   "source": [
    "#### Disclaimer:  The following code is heavily inspired by Susan Li's article  <a href=\"https://towardsdatascience.com/multi-class-text-classification-with-scikit-learn-12f1e60e0a9f\">\"Multi-Class Text Classification with Scikit-Learn\"</a>. Similar functions are used, but parameters are carefully tuned to maximize accuracy with our dataset. \n"
   ]
  },
  {
   "cell_type": "code",
   "execution_count": 8,
   "metadata": {},
   "outputs": [],
   "source": [
    "# create tf-idf vectors to better represent text data\n",
    "\n",
    "tfidf = TfidfVectorizer(sublinear_tf=True, min_df=2, norm='l2', encoding='latin-1', ngram_range=(1, 2), stop_words='english')\n",
    "tfidf_train = TfidfVectorizer(sublinear_tf=True, min_df=2, norm='l2', encoding='latin-1', ngram_range=(1, 2), stop_words='english')\n",
    "features = tfidf.fit_transform(final_lyrics.Lyrics).toarray()\n",
    "features_train = tfidf_train.fit_transform(train_lyrics_dataframe.Lyrics).toarray()\n",
    "labels = train_lyrics_dataframe.category_id\n"
   ]
  },
  {
   "cell_type": "code",
   "execution_count": 9,
   "metadata": {},
   "outputs": [
    {
     "name": "stdout",
     "output_type": "stream",
     "text": [
      "# 'Feminist':\n",
      "  . Most correlated unigrams:\n",
      ". speak\n",
      ". stronger\n",
      ". uh\n",
      ". fix\n",
      ". river\n",
      ". mess\n",
      ". respect\n",
      ". woman\n",
      ". boys\n",
      ". girls\n",
      "# 'Neutral':\n",
      "  . Most correlated unigrams:\n",
      ". breeze\n",
      ". em\n",
      ". remember\n",
      ". singing\n",
      ". wanna\n",
      ". lord\n",
      ". bitch\n",
      ". girls\n",
      ". girl\n",
      ". river\n",
      "# 'Sexist':\n",
      "  . Most correlated unigrams:\n",
      ". bitches\n",
      ". baby\n",
      ". body\n",
      ". butt\n",
      ". ass\n",
      ". fuck\n",
      ". bitch\n",
      ". pussy\n",
      ". nigga\n",
      ". dick\n"
     ]
    }
   ],
   "source": [
    "N = 10\n",
    "for Category, category_id in sorted(category_to_id.items()):\n",
    "    features_chi2 = chi2(features_train, labels == category_id)\n",
    "    indices = np.argsort(features_chi2[0])\n",
    "    feature_names = np.array(tfidf_train.get_feature_names())[indices]\n",
    "    unigrams = [v for v in feature_names if len(v.split(' ')) == 1]\n",
    "    print(\"# '{}':\".format(Category))\n",
    "    print(\"  . Most correlated unigrams:\\n. {}\".format('\\n. '.join(unigrams[-N:])))\n"
   ]
  },
  {
   "cell_type": "code",
   "execution_count": 10,
   "metadata": {},
   "outputs": [
    {
     "data": {
      "image/png": "[encoded data removed]",
      "text/plain": [
       "<Figure size 432x288 with 1 Axes>"
      ]
     },
     "metadata": {
      "needs_background": "light"
     },
     "output_type": "display_data"
    }
   ],
   "source": [
    "# Try 4 Machine Learning models \n",
    "models = [\n",
    "    RandomForestClassifier(n_estimators=200, max_depth=3, random_state=0),\n",
    "    LinearSVC(),\n",
    "    MultinomialNB(),\n",
    "    LogisticRegression(random_state=42),    \n",
    "]\n",
    "\n",
    "#\n",
    "CV = 5\n",
    "cv_df = pd.DataFrame(index=range(CV * len(models)))\n",
    "entries = []\n",
    "\n",
    "#features[0:532] are training data\n",
    "#Use cross validation to improve accuracy\n",
    "for model in models:\n",
    "    model_name = model.__class__.__name__\n",
    "    accuracies = cross_val_score(model, features[0:532], labels, scoring='accuracy', cv=CV)\n",
    "    for fold_idx, accuracy in enumerate(accuracies):\n",
    "        entries.append((model_name, fold_idx, accuracy))\n",
    "    cv_df = pd.DataFrame(entries, columns=['model_name', 'fold_idx', 'accuracy'])\n",
    "    \n",
    "    sns.boxplot(x='model_name', y='accuracy', data=cv_df).set_title('An Accuracy Comparison Between ML Models')\n",
    "    sns.stripplot(x='model_name', y='accuracy', data=cv_df, \n",
    "                  size=8, jitter=True, edgecolor=\"gray\", linewidth=2)\n",
    "plt.show()"
   ]
  },
  {
   "cell_type": "code",
   "execution_count": 11,
   "metadata": {},
   "outputs": [
    {
     "data": {
      "text/plain": [
       "model_name\n",
       "LinearSVC                 0.633368\n",
       "LogisticRegression        0.451013\n",
       "MultinomialNB             0.420929\n",
       "RandomForestClassifier    0.406010\n",
       "Name: accuracy, dtype: float64"
      ]
     },
     "execution_count": 11,
     "metadata": {},
     "output_type": "execute_result"
    }
   ],
   "source": [
    "# Print mean accuracy\n",
    "cv_df.groupby('model_name').accuracy.mean()"
   ]
  },
  {
   "cell_type": "code",
   "execution_count": 12,
   "metadata": {},
   "outputs": [
    {
     "name": "stdout",
     "output_type": "stream",
     "text": [
      "0.7383177570093458\n"
     ]
    },
    {
     "data": {
      "image/png": "[encoded data removed]",
      "text/plain": [
       "<Figure size 432x288 with 2 Axes>"
      ]
     },
     "metadata": {
      "needs_background": "light"
     },
     "output_type": "display_data"
    }
   ],
   "source": [
    "model = LinearSVC()\n",
    "X_train, X_test, y_train, y_test = train_test_split(features[0:532], labels, test_size=0.2, random_state=42)\n",
    "model.fit(X_train, y_train)\n",
    "y_pred = model.predict(X_test)\n",
    "\n",
    "acc = 0\n",
    "for i, j in zip(y_test, y_pred):\n",
    "    if (i == j):\n",
    "        acc += 1\n",
    "\n",
    "print(acc/len(y_test))\n",
    "        \n",
    "conf_mat = confusion_matrix(y_test, y_pred)\n",
    "#fig, ax = plt.subplot()#figsize=(10,10))\n",
    "sns.heatmap(conf_mat, annot=True, fmt='d',\n",
    "            xticklabels=category_id_df.Category.values, yticklabels=category_id_df.Category.values)\n",
    "\n",
    "plt.title('Confusion Matrix')\n",
    "plt.ylabel('Actual')\n",
    "plt.xlabel('Predicted')\n",
    "plt.show()"
   ]
  },
  {
   "cell_type": "code",
   "execution_count": 13,
   "metadata": {},
   "outputs": [
    {
     "name": "stdout",
     "output_type": "stream",
     "text": [
      "              precision    recall  f1-score   support\n",
      "\n",
      "    Feminist       0.76      0.82      0.79        51\n",
      "      Sexist       0.81      0.59      0.68        22\n",
      "     Neutral       0.67      0.71      0.69        34\n",
      "\n",
      "   micro avg       0.74      0.74      0.74       107\n",
      "   macro avg       0.75      0.71      0.72       107\n",
      "weighted avg       0.74      0.74      0.74       107\n",
      "\n"
     ]
    }
   ],
   "source": [
    "print(metrics.classification_report(y_test, y_pred, target_names=train_lyrics_dataframe['Category'].unique()))"
   ]
  },
  {
   "cell_type": "code",
   "execution_count": 14,
   "metadata": {},
   "outputs": [
    {
     "name": "stdout",
     "output_type": "stream",
     "text": [
      "(442653,)\n",
      "# 'Feminist':\n",
      "  . Top unigrams:\n",
      "       . girls\n",
      "       . woman\n",
      "       . boys\n",
      "       . uh\n",
      "       . cause\n",
      "       . say\n",
      "       . girl\n",
      "       . respect\n",
      "       . ladies\n",
      "       . mess\n",
      "  . Top bigrams:\n",
      "       . don need\n",
      "       . oh girls\n",
      "       . woman woman\n",
      "       . uh uh\n",
      "       . girls wanna\n",
      "       . yes yes\n",
      "       . don wanna\n",
      "       . uh huh\n",
      "       . lady lady\n",
      "       . pretend dead\n",
      "(442653,)\n",
      "# 'Neutral':\n",
      "  . Top unigrams:\n",
      "       . remember\n",
      "       . river\n",
      "       . child\n",
      "       . lord\n",
      "       . blue\n",
      "       . singing\n",
      "       . jammin\n",
      "       . somebody\n",
      "       . soul\n",
      "       . trouble\n",
      "  . Top bigrams:\n",
      "       . jammin jammin\n",
      "       . want yeah\n",
      "       . peace mind\n",
      "       . somebody loved\n",
      "       . day lovely\n",
      "       . road jack\n",
      "       . saints marching\n",
      "       . softly leave\n",
      "       . stay woke\n",
      "       . body want\n",
      "(442653,)\n",
      "# 'Sexist':\n",
      "  . Top unigrams:\n",
      "       . baby\n",
      "       . bitch\n",
      "       . girl\n",
      "       . body\n",
      "       . wanna\n",
      "       . butt\n",
      "       . pussy\n",
      "       . dick\n",
      "       . night\n",
      "       . ass\n",
      "  . Top bigrams:\n",
      "       . make love\n",
      "       . used boy\n",
      "       . boy used\n",
      "       . satisfaction satisfaction\n",
      "       . baby don\n",
      "       . punching bag\n",
      "       . know want\n",
      "       . bag woman\n",
      "       . lie lie\n",
      "       . hands hands\n"
     ]
    }
   ],
   "source": [
    "model.fit(features[0:532], labels)\n",
    "N = 10\n",
    "for Product, category_id in sorted(category_to_id.items()):\n",
    "    indices = np.argsort(model.coef_[category_id])\n",
    "    print(indices.shape)\n",
    "    feature_names = np.array(tfidf.get_feature_names())[indices]\n",
    "    unigrams = [v for v in reversed(feature_names) if len(v.split(' ')) == 1][:N]\n",
    "    bigrams = [v for v in reversed(feature_names) if len(v.split(' ')) == 2][:N]\n",
    "    print(\"# '{}':\".format(Product))\n",
    "    print(\"  . Top unigrams:\\n       . {}\".format('\\n       . '.join(unigrams)))\n",
    "    print(\"  . Top bigrams:\\n       . {}\".format('\\n       . '.join(bigrams)))"
   ]
  },
  {
   "cell_type": "code",
   "execution_count": 15,
   "metadata": {},
   "outputs": [],
   "source": [
    "# Uncomment this if you want to predict again\n",
    "\n",
    "# DANGER ! May kill your kernel if you don't have enough memory\n",
    "\n",
    "# y_pred = model.predict(features[532:])"
   ]
  },
  {
   "cell_type": "code",
   "execution_count": 16,
   "metadata": {},
   "outputs": [
    {
     "data": {
      "text/plain": [
       "51343"
      ]
     },
     "execution_count": 16,
     "metadata": {},
     "output_type": "execute_result"
    }
   ],
   "source": [
    "temp = open( data_dir + \"/all_y_preds.txt\", \"r\")\n",
    "y_pred = temp.read().split('\\n')[:-1] # splitting by new line means last element is new line \n",
    "\n",
    "\n",
    "y_pred = [elem[:5] for elem in y_pred]\n",
    "y_pred = list(map(float, y_pred))\n",
    "y_pred = list(map(int, y_pred))\n",
    "y_pred[0:5]\n",
    "\n",
    "# y_pred = labels.append(y_pred)\n",
    "\n",
    "len(y_pred)"
   ]
  },
  {
   "cell_type": "code",
   "execution_count": 17,
   "metadata": {},
   "outputs": [
    {
     "data": {
      "text/html": [
       "<div>\n",
       "<style scoped>\n",
       "    .dataframe tbody tr th:only-of-type {\n",
       "        vertical-align: middle;\n",
       "    }\n",
       "\n",
       "    .dataframe tbody tr th {\n",
       "        vertical-align: top;\n",
       "    }\n",
       "\n",
       "    .dataframe thead th {\n",
       "        text-align: right;\n",
       "    }\n",
       "</style>\n",
       "<table border=\"1\" class=\"dataframe\">\n",
       "  <thead>\n",
       "    <tr style=\"text-align: right;\">\n",
       "      <th></th>\n",
       "      <th>Artists</th>\n",
       "      <th>Titles</th>\n",
       "      <th>Lyrics</th>\n",
       "      <th>labels</th>\n",
       "      <th>Class</th>\n",
       "    </tr>\n",
       "  </thead>\n",
       "  <tbody>\n",
       "    <tr>\n",
       "      <th>0</th>\n",
       "      <td>albert king</td>\n",
       "      <td>can't you see what you're doing to me</td>\n",
       "      <td>Hey baby can't you see what you're doin' to me...</td>\n",
       "      <td>-1</td>\n",
       "      <td>Sexist</td>\n",
       "    </tr>\n",
       "    <tr>\n",
       "      <th>1</th>\n",
       "      <td>ann peebles</td>\n",
       "      <td>i still love you</td>\n",
       "      <td>Baby I'm feeling sort of lonely I heard the ne...</td>\n",
       "      <td>-1</td>\n",
       "      <td>Sexist</td>\n",
       "    </tr>\n",
       "    <tr>\n",
       "      <th>2</th>\n",
       "      <td>atomic rooster</td>\n",
       "      <td>and so to bed</td>\n",
       "      <td>Want Me Take Me Need Me -It's All In Your Mind...</td>\n",
       "      <td>0</td>\n",
       "      <td>Neutral</td>\n",
       "    </tr>\n",
       "    <tr>\n",
       "      <th>3</th>\n",
       "      <td>atomic rooster</td>\n",
       "      <td>banstead</td>\n",
       "      <td>Crane-Palmer-Graham Please take me out of this...</td>\n",
       "      <td>1</td>\n",
       "      <td>Feminist</td>\n",
       "    </tr>\n",
       "    <tr>\n",
       "      <th>4</th>\n",
       "      <td>bad company</td>\n",
       "      <td>can't get enough</td>\n",
       "      <td>One Two One Two Three Well I take whatever I w...</td>\n",
       "      <td>0</td>\n",
       "      <td>Neutral</td>\n",
       "    </tr>\n",
       "  </tbody>\n",
       "</table>\n",
       "</div>"
      ],
      "text/plain": [
       "          Artists                                 Titles  \\\n",
       "0     albert king  can't you see what you're doing to me   \n",
       "1     ann peebles                       i still love you   \n",
       "2  atomic rooster                          and so to bed   \n",
       "3  atomic rooster                               banstead   \n",
       "4     bad company                       can't get enough   \n",
       "\n",
       "                                              Lyrics  labels     Class  \n",
       "0  Hey baby can't you see what you're doin' to me...      -1    Sexist  \n",
       "1  Baby I'm feeling sort of lonely I heard the ne...      -1    Sexist  \n",
       "2  Want Me Take Me Need Me -It's All In Your Mind...       0   Neutral  \n",
       "3  Crane-Palmer-Graham Please take me out of this...       1  Feminist  \n",
       "4  One Two One Two Three Well I take whatever I w...       0   Neutral  "
      ]
     },
     "execution_count": 17,
     "metadata": {},
     "output_type": "execute_result"
    }
   ],
   "source": [
    "msd_lyrics_dataframe['labels'] = y_pred\n",
    "\n",
    "msd_lyrics_dataframe['Class'] = msd_lyrics_dataframe.apply(label_lyrics, axis=1)\n",
    "\n",
    "msd_lyrics_dataframe.head()"
   ]
  },
  {
   "cell_type": "code",
   "execution_count": 18,
   "metadata": {},
   "outputs": [
    {
     "data": {
      "text/html": [
       "<div>\n",
       "<style scoped>\n",
       "    .dataframe tbody tr th:only-of-type {\n",
       "        vertical-align: middle;\n",
       "    }\n",
       "\n",
       "    .dataframe tbody tr th {\n",
       "        vertical-align: top;\n",
       "    }\n",
       "\n",
       "    .dataframe thead th {\n",
       "        text-align: right;\n",
       "    }\n",
       "</style>\n",
       "<table border=\"1\" class=\"dataframe\">\n",
       "  <thead>\n",
       "    <tr style=\"text-align: right;\">\n",
       "      <th></th>\n",
       "      <th>year</th>\n",
       "      <th>artist_name</th>\n",
       "      <th>title</th>\n",
       "      <th>genre</th>\n",
       "      <th>Artists</th>\n",
       "      <th>Titles</th>\n",
       "      <th>Lyrics</th>\n",
       "      <th>labels</th>\n",
       "      <th>Class</th>\n",
       "    </tr>\n",
       "  </thead>\n",
       "  <tbody>\n",
       "    <tr>\n",
       "      <th>0</th>\n",
       "      <td>1970</td>\n",
       "      <td>albert king</td>\n",
       "      <td>can't you see what you're doing to me</td>\n",
       "      <td>Blues</td>\n",
       "      <td>albert king</td>\n",
       "      <td>can't you see what you're doing to me</td>\n",
       "      <td>Hey baby can't you see what you're doin' to me...</td>\n",
       "      <td>-1</td>\n",
       "      <td>Sexist</td>\n",
       "    </tr>\n",
       "    <tr>\n",
       "      <th>1</th>\n",
       "      <td>1970</td>\n",
       "      <td>ann peebles</td>\n",
       "      <td>i still love you</td>\n",
       "      <td>RnB</td>\n",
       "      <td>ann peebles</td>\n",
       "      <td>i still love you</td>\n",
       "      <td>Baby I'm feeling sort of lonely I heard the ne...</td>\n",
       "      <td>-1</td>\n",
       "      <td>Sexist</td>\n",
       "    </tr>\n",
       "    <tr>\n",
       "      <th>2</th>\n",
       "      <td>1970</td>\n",
       "      <td>atomic rooster</td>\n",
       "      <td>and so to bed</td>\n",
       "      <td>Rock</td>\n",
       "      <td>atomic rooster</td>\n",
       "      <td>and so to bed</td>\n",
       "      <td>Want Me Take Me Need Me -It's All In Your Mind...</td>\n",
       "      <td>0</td>\n",
       "      <td>Neutral</td>\n",
       "    </tr>\n",
       "    <tr>\n",
       "      <th>3</th>\n",
       "      <td>1970</td>\n",
       "      <td>atomic rooster</td>\n",
       "      <td>and so to bed</td>\n",
       "      <td>Rock</td>\n",
       "      <td>atomic rooster</td>\n",
       "      <td>and so to bed</td>\n",
       "      <td>Want Me Take Me Need Me -It's All In Your Mind...</td>\n",
       "      <td>0</td>\n",
       "      <td>Neutral</td>\n",
       "    </tr>\n",
       "    <tr>\n",
       "      <th>4</th>\n",
       "      <td>1970</td>\n",
       "      <td>atomic rooster</td>\n",
       "      <td>banstead</td>\n",
       "      <td>Rock</td>\n",
       "      <td>atomic rooster</td>\n",
       "      <td>banstead</td>\n",
       "      <td>Crane-Palmer-Graham Please take me out of this...</td>\n",
       "      <td>1</td>\n",
       "      <td>Feminist</td>\n",
       "    </tr>\n",
       "  </tbody>\n",
       "</table>\n",
       "</div>"
      ],
      "text/plain": [
       "   year     artist_name                                  title  genre  \\\n",
       "0  1970     albert king  can't you see what you're doing to me  Blues   \n",
       "1  1970     ann peebles                       i still love you    RnB   \n",
       "2  1970  atomic rooster                          and so to bed   Rock   \n",
       "3  1970  atomic rooster                          and so to bed   Rock   \n",
       "4  1970  atomic rooster                               banstead   Rock   \n",
       "\n",
       "          Artists                                 Titles  \\\n",
       "0     albert king  can't you see what you're doing to me   \n",
       "1     ann peebles                       i still love you   \n",
       "2  atomic rooster                          and so to bed   \n",
       "3  atomic rooster                          and so to bed   \n",
       "4  atomic rooster                               banstead   \n",
       "\n",
       "                                              Lyrics  labels     Class  \n",
       "0  Hey baby can't you see what you're doin' to me...      -1    Sexist  \n",
       "1  Baby I'm feeling sort of lonely I heard the ne...      -1    Sexist  \n",
       "2  Want Me Take Me Need Me -It's All In Your Mind...       0   Neutral  \n",
       "3  Want Me Take Me Need Me -It's All In Your Mind...       0   Neutral  \n",
       "4  Crane-Palmer-Graham Please take me out of this...       1  Feminist  "
      ]
     },
     "execution_count": 18,
     "metadata": {},
     "output_type": "execute_result"
    }
   ],
   "source": [
    "Final_with_track_id = pd.merge(year_artist_name_title_genre, msd_lyrics_dataframe,  how='inner', left_on=['artist_name','title'], \n",
    "                 right_on = ['Artists','Titles'])\n",
    "Final_with_track_id.head()"
   ]
  },
  {
   "cell_type": "code",
   "execution_count": 19,
   "metadata": {},
   "outputs": [
    {
     "data": {
      "text/plain": [
       "(51767, 6)"
      ]
     },
     "execution_count": 19,
     "metadata": {},
     "output_type": "execute_result"
    }
   ],
   "source": [
    "Final_with_track_id = Final_with_track_id.drop(columns=['Artists','Titles', 'Lyrics'])#,inplace=True)\n",
    "Final_with_track_id.shape"
   ]
  },
  {
   "cell_type": "code",
   "execution_count": 20,
   "metadata": {},
   "outputs": [],
   "source": [
    "Final_with_track_id.to_csv('Final_With_Track_ID.csv')"
   ]
  },
  {
   "cell_type": "code",
   "execution_count": null,
   "metadata": {},
   "outputs": [],
   "source": []
  }
 ],
 "metadata": {
  "kernelspec": {
   "display_name": "Python 3",
   "language": "python",
   "name": "python3"
  },
  "language_info": {
   "codemirror_mode": {
    "name": "ipython",
    "version": 3
   },
   "file_extension": ".py",
   "mimetype": "text/x-python",
   "name": "python",
   "nbconvert_exporter": "python",
   "pygments_lexer": "ipython3",
   "version": "3.6.6"
  }
 },
 "nbformat": 4,
 "nbformat_minor": 2
}
