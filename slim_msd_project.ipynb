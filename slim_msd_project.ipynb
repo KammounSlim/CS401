{
 "cells": [
  {
   "cell_type": "code",
   "execution_count": 53,
   "metadata": {},
   "outputs": [],
   "source": [
    "#As always, we import everything\n",
    "import pandas as pd\n",
    "import os\n",
    "import re\n",
    "import hdf5_getters as getters\n",
    "import requests\n",
    "from bs4 import BeautifulSoup\n",
    "import numpy as np\n",
    "from collections import OrderedDict\n",
    "from tqdm import tqdm\n",
    "\n",
    "import nltk\n",
    "from nltk import word_tokenize\n",
    "from nltk.corpus import stopwords as stop_words\n",
    "from textblob import Word\n",
    "import pycountry\n",
    "from textblob import TextBlob\n",
    "from textblob.sentiments import NaiveBayesAnalyzer\n",
    "from gensim import corpora, models\n",
    "import matplotlib as plt\n",
    "import json\n",
    "\n",
    "import re\n",
    "import lyricfetcher\n",
    "\n",
    "import warnings\n",
    "warnings.filterwarnings('ignore')"
   ]
  },
  {
   "cell_type": "markdown",
   "metadata": {},
   "source": [
    "# Introduction"
   ]
  },
  {
   "cell_type": "markdown",
   "metadata": {},
   "source": [
    "# Data Collection and Descriptive Analysis"
   ]
  },
  {
   "cell_type": "code",
   "execution_count": 4,
   "metadata": {},
   "outputs": [],
   "source": [
    "data_dir = './' + 'data'"
   ]
  },
  {
   "cell_type": "markdown",
   "metadata": {},
   "source": [
    "Using an additional dataset obtained from the million song website that contains genre information, we created genre_dataset. This dataset contains genre information for 191401 songs. The cell below contains code for putting this data into a proper-formatted dataframe. Another helpful dataset obtained from the website of million song dataset is one that contains year the track was released. In addition to year, it also contains track_id, the name of the artist, and title of the track. This dataset contains 515576 data points. Since we wanted to analyze the progression of feminism through lyrics over time, and we were also interested in how women were portrayed in different genres of music, we decided to take the intersection of these datasets (inner join on track ID), and the resulting data frame contains 152793 data points. We save it to a csv file for accessing in the future. "
   ]
  },
  {
   "cell_type": "code",
   "execution_count": 5,
   "metadata": {},
   "outputs": [
    {
     "data": {
      "text/html": [
       "<div>\n",
       "<style scoped>\n",
       "    .dataframe tbody tr th:only-of-type {\n",
       "        vertical-align: middle;\n",
       "    }\n",
       "\n",
       "    .dataframe tbody tr th {\n",
       "        vertical-align: top;\n",
       "    }\n",
       "\n",
       "    .dataframe thead th {\n",
       "        text-align: right;\n",
       "    }\n",
       "</style>\n",
       "<table border=\"1\" class=\"dataframe\">\n",
       "  <thead>\n",
       "    <tr style=\"text-align: right;\">\n",
       "      <th></th>\n",
       "      <th>year</th>\n",
       "      <th>artist_name</th>\n",
       "      <th>title</th>\n",
       "      <th>genre</th>\n",
       "    </tr>\n",
       "    <tr>\n",
       "      <th>track_id</th>\n",
       "      <th></th>\n",
       "      <th></th>\n",
       "      <th></th>\n",
       "      <th></th>\n",
       "    </tr>\n",
       "  </thead>\n",
       "  <tbody>\n",
       "    <tr>\n",
       "      <th>TRSGHLU128F421DF83</th>\n",
       "      <td>1922</td>\n",
       "      <td>alberta hunter</td>\n",
       "      <td>don't pan me</td>\n",
       "      <td>Blues</td>\n",
       "    </tr>\n",
       "    <tr>\n",
       "      <th>TRRAHXQ128F42511FF</th>\n",
       "      <td>1922</td>\n",
       "      <td>barrington levy</td>\n",
       "      <td>looking my love</td>\n",
       "      <td>Reggae</td>\n",
       "    </tr>\n",
       "    <tr>\n",
       "      <th>TRFAFTK12903CC77B8</th>\n",
       "      <td>1922</td>\n",
       "      <td>barrington levy</td>\n",
       "      <td>warm and sunny day</td>\n",
       "      <td>Reggae</td>\n",
       "    </tr>\n",
       "    <tr>\n",
       "      <th>TRTRKSF12903CFEDD7</th>\n",
       "      <td>1924</td>\n",
       "      <td>vernon dalhart</td>\n",
       "      <td>wreck of the old 97</td>\n",
       "      <td>Country</td>\n",
       "    </tr>\n",
       "    <tr>\n",
       "      <th>TRQYSYF128F935F350</th>\n",
       "      <td>1925</td>\n",
       "      <td>bessie smith</td>\n",
       "      <td>careless love blues</td>\n",
       "      <td>Blues</td>\n",
       "    </tr>\n",
       "  </tbody>\n",
       "</table>\n",
       "</div>"
      ],
      "text/plain": [
       "                    year      artist_name                title    genre\n",
       "track_id                                                               \n",
       "TRSGHLU128F421DF83  1922   alberta hunter         don't pan me    Blues\n",
       "TRRAHXQ128F42511FF  1922  barrington levy      looking my love   Reggae\n",
       "TRFAFTK12903CC77B8  1922  barrington levy   warm and sunny day   Reggae\n",
       "TRTRKSF12903CFEDD7  1924   vernon dalhart  wreck of the old 97  Country\n",
       "TRQYSYF128F935F350  1925     bessie smith  careless love blues    Blues"
      ]
     },
     "execution_count": 5,
     "metadata": {},
     "output_type": "execute_result"
    }
   ],
   "source": [
    "# Resulting Dataset\n",
    "year_artist_name_title_genre = pd.read_csv(os.path.join(data_dir + \"/year_artist_name_title_genre.csv\")).set_index('track_id')\n",
    "year_artist_name_title_genre.head()"
   ]
  },
  {
   "cell_type": "markdown",
   "metadata": {},
   "source": [
    "We are interested in seeing how many songs are present in each genre. "
   ]
  },
  {
   "cell_type": "code",
   "execution_count": 6,
   "metadata": {},
   "outputs": [
    {
     "name": "stdout",
     "output_type": "stream",
     "text": [
      "Rock          62344\n",
      "Electronic    18043\n",
      "Pop           11058\n",
      "Jazz          10662\n",
      "Rap            8156\n",
      "Metal          8035\n",
      "RnB            7692\n",
      "Country        6652\n",
      "Reggae         5475\n",
      "Blues          4228\n",
      "Folk           3484\n",
      "Punk           2739\n",
      "Latin          1954\n",
      "World          1384\n",
      "New Age         887\n",
      "Name: genre, dtype: int64\n"
     ]
    },
    {
     "data": {
      "text/plain": [
       "<matplotlib.axes._subplots.AxesSubplot at 0x1927311ae80>"
      ]
     },
     "execution_count": 6,
     "metadata": {},
     "output_type": "execute_result"
    }
   ],
   "source": [
    "print(year_artist_name_title_genre['genre'].value_counts())\n",
    "\n",
    "# Visualizing the count using bar graph\n",
    "value_count_by_genre = year_artist_name_title_genre['genre'].value_counts().plot(kind = 'bar')\n",
    "value_count_by_genre"
   ]
  },
  {
   "cell_type": "markdown",
   "metadata": {},
   "source": [
    "We see an abundance of Rock music in this dataset as close to half of the songs present are labelled as Rock music. We wonder why that is. Is Rock Music more likely to get labelled? (<- this is a joke). We suspect that this is due to the fast growth of Rock music during the 1990s and 2000s. We will explore the relationship between year and genre of music further to confirm our hypothesis. \n",
    "\n",
    "Let us first have a look at the count of music by time. Since it is impossible to visualize the count for every single year, we first group years into decades. Upon quick analysis we realize that the dataset contains music up to the year 2010. We consider 2010 a part of the 2000s. "
   ]
  },
  {
   "cell_type": "code",
   "execution_count": 7,
   "metadata": {},
   "outputs": [
    {
     "name": "stdout",
     "output_type": "stream",
     "text": [
      "2000    89699\n",
      "1990    36693\n",
      "1980    13201\n",
      "1970     8340\n",
      "1960     3580\n",
      "1950      944\n",
      "1940      138\n",
      "1930      111\n",
      "1920       87\n",
      "Name: decade, dtype: int64\n"
     ]
    },
    {
     "data": {
      "text/plain": [
       "<matplotlib.axes._subplots.AxesSubplot at 0x192765d9588>"
      ]
     },
     "execution_count": 7,
     "metadata": {},
     "output_type": "execute_result"
    },
    {
     "data": {
      "image/png": "[encoded data removed]",
      "text/plain": [
       "<Figure size 432x288 with 1 Axes>"
      ]
     },
     "metadata": {
      "needs_background": "light"
     },
     "output_type": "display_data"
    }
   ],
   "source": [
    "# create decade column\n",
    "year_artist_name_title_genre['decade'] = (year_artist_name_title_genre['year'] // 10) * 10\n",
    "\n",
    "# include year 2010 in the 2000s decade\n",
    "year_artist_name_title_genre['decade'] = np.where(year_artist_name_title_genre.year.isin(['2010']),'2000', \n",
    "                                                  year_artist_name_title_genre['decade'])\n",
    "\n",
    "# plot count using bar plot\n",
    "value_count_by_year = year_artist_name_title_genre['decade'].value_counts().plot(kind = 'bar')\n",
    "\n",
    "print(year_artist_name_title_genre['decade'].value_counts())\n",
    "value_count_by_year"
   ]
  },
  {
   "cell_type": "markdown",
   "metadata": {},
   "source": [
    "We see that there are very few data points earlier than 1970, which makes analysis over time biased. During the next few steps as we explore the relationship between genre and decade further, we only consider the time period of 1970 to 2010. "
   ]
  },
  {
   "cell_type": "code",
   "execution_count": 33,
   "metadata": {},
   "outputs": [
    {
     "data": {
      "text/plain": [
       "<matplotlib.legend.Legend at 0x19273a4f400>"
      ]
     },
     "execution_count": 33,
     "metadata": {},
     "output_type": "execute_result"
    },
    {
     "data": {
      "image/png": "[encoded data removed]",
      "text/plain": [
       "<Figure size 432x288 with 1 Axes>"
      ]
     },
     "metadata": {
      "needs_background": "light"
     },
     "output_type": "display_data"
    }
   ],
   "source": [
    "decade_genre = year_artist_name_title_genre[['decade', 'genre']].reset_index()\n",
    "\n",
    "decade_genre = decade_genre.loc[decade_genre['decade'].isin(['1970','1980','1990','2000'])]\n",
    "\n",
    "#print(decade_genre.groupby(['decade', 'genre']).size())\n",
    "plot_decade_genre = decade_genre.groupby(['decade', 'genre']).size().unstack().plot(kind='bar', stacked = True)\n",
    "plot_decade_genre.legend(bbox_to_anchor=(1.1, 1.05) )\n"
   ]
  },
  {
   "cell_type": "markdown",
   "metadata": {},
   "source": [
    "We see that Rock music grew significantly in 40 years. Rock, Electronic, and Pop are the most popular music during the 2000s, followed by metal and Rap. The next plot considers the genres individually, and illustrates their share in the music market over the period of 1970 to 2010. "
   ]
  },
  {
   "cell_type": "code",
   "execution_count": 34,
   "metadata": {},
   "outputs": [
    {
     "data": {
      "text/plain": [
       "<matplotlib.axes._subplots.AxesSubplot at 0x19273d91f98>"
      ]
     },
     "execution_count": 34,
     "metadata": {},
     "output_type": "execute_result"
    },
    {
     "data": {
      "image/png": "[encoded data removed]",
      "text/plain": [
       "<Figure size 432x288 with 1 Axes>"
      ]
     },
     "metadata": {
      "needs_background": "light"
     },
     "output_type": "display_data"
    }
   ],
   "source": [
    "#print(decade_genre.groupby(['genre', 'decade']).size())\n",
    "decade_genre.groupby(['genre', 'decade']).size().unstack().plot(kind='bar', stacked = True)"
   ]
  },
  {
   "cell_type": "markdown",
   "metadata": {},
   "source": [
    "# Trying to understand BOW model... :/ "
   ]
  },
  {
   "cell_type": "code",
   "execution_count": 40,
   "metadata": {},
   "outputs": [
    {
     "ename": "ParserError",
     "evalue": "Error tokenizing data. C error: Expected 2 fields in line 12, saw 4\n",
     "output_type": "error",
     "traceback": [
      "\u001b[1;31m---------------------------------------------------------------------------\u001b[0m",
      "\u001b[1;31mParserError\u001b[0m                               Traceback (most recent call last)",
      "\u001b[1;32m<ipython-input-40-63b5d0c2a64d>\u001b[0m in \u001b[0;36m<module>\u001b[1;34m\u001b[0m\n\u001b[1;32m----> 1\u001b[1;33m \u001b[0mtrain_bow\u001b[0m \u001b[1;33m=\u001b[0m \u001b[0mpd\u001b[0m\u001b[1;33m.\u001b[0m\u001b[0mread_table\u001b[0m\u001b[1;33m(\u001b[0m\u001b[0mos\u001b[0m\u001b[1;33m.\u001b[0m\u001b[0mpath\u001b[0m\u001b[1;33m.\u001b[0m\u001b[0mjoin\u001b[0m\u001b[1;33m(\u001b[0m\u001b[0mdata_dir\u001b[0m\u001b[1;33m,\u001b[0m \u001b[1;34m'mxm_dataset_train.txt'\u001b[0m\u001b[1;33m)\u001b[0m\u001b[1;33m,\u001b[0m \u001b[0mdelimiter\u001b[0m \u001b[1;33m=\u001b[0m \u001b[1;34m','\u001b[0m\u001b[1;33m)\u001b[0m\u001b[1;33m[\u001b[0m\u001b[1;36m17\u001b[0m\u001b[1;33m:\u001b[0m\u001b[1;33m]\u001b[0m\u001b[1;33m\u001b[0m\u001b[0m\n\u001b[0m\u001b[0;32m      2\u001b[0m                               \u001b[1;31m#delimiter ='\\t', names=('track_id', 'genre'), index_col = 'track_id')\u001b[0m\u001b[1;33m\u001b[0m\u001b[1;33m\u001b[0m\u001b[0m\n",
      "\u001b[1;32m~\\Anaconda3\\lib\\site-packages\\pandas\\io\\parsers.py\u001b[0m in \u001b[0;36mparser_f\u001b[1;34m(filepath_or_buffer, sep, delimiter, header, names, index_col, usecols, squeeze, prefix, mangle_dupe_cols, dtype, engine, converters, true_values, false_values, skipinitialspace, skiprows, nrows, na_values, keep_default_na, na_filter, verbose, skip_blank_lines, parse_dates, infer_datetime_format, keep_date_col, date_parser, dayfirst, iterator, chunksize, compression, thousands, decimal, lineterminator, quotechar, quoting, escapechar, comment, encoding, dialect, tupleize_cols, error_bad_lines, warn_bad_lines, skipfooter, doublequote, delim_whitespace, low_memory, memory_map, float_precision)\u001b[0m\n\u001b[0;32m    676\u001b[0m                     skip_blank_lines=skip_blank_lines)\n\u001b[0;32m    677\u001b[0m \u001b[1;33m\u001b[0m\u001b[0m\n\u001b[1;32m--> 678\u001b[1;33m         \u001b[1;32mreturn\u001b[0m \u001b[0m_read\u001b[0m\u001b[1;33m(\u001b[0m\u001b[0mfilepath_or_buffer\u001b[0m\u001b[1;33m,\u001b[0m \u001b[0mkwds\u001b[0m\u001b[1;33m)\u001b[0m\u001b[1;33m\u001b[0m\u001b[0m\n\u001b[0m\u001b[0;32m    679\u001b[0m \u001b[1;33m\u001b[0m\u001b[0m\n\u001b[0;32m    680\u001b[0m     \u001b[0mparser_f\u001b[0m\u001b[1;33m.\u001b[0m\u001b[0m__name__\u001b[0m \u001b[1;33m=\u001b[0m \u001b[0mname\u001b[0m\u001b[1;33m\u001b[0m\u001b[0m\n",
      "\u001b[1;32m~\\Anaconda3\\lib\\site-packages\\pandas\\io\\parsers.py\u001b[0m in \u001b[0;36m_read\u001b[1;34m(filepath_or_buffer, kwds)\u001b[0m\n\u001b[0;32m    444\u001b[0m \u001b[1;33m\u001b[0m\u001b[0m\n\u001b[0;32m    445\u001b[0m     \u001b[1;32mtry\u001b[0m\u001b[1;33m:\u001b[0m\u001b[1;33m\u001b[0m\u001b[0m\n\u001b[1;32m--> 446\u001b[1;33m         \u001b[0mdata\u001b[0m \u001b[1;33m=\u001b[0m \u001b[0mparser\u001b[0m\u001b[1;33m.\u001b[0m\u001b[0mread\u001b[0m\u001b[1;33m(\u001b[0m\u001b[0mnrows\u001b[0m\u001b[1;33m)\u001b[0m\u001b[1;33m\u001b[0m\u001b[0m\n\u001b[0m\u001b[0;32m    447\u001b[0m     \u001b[1;32mfinally\u001b[0m\u001b[1;33m:\u001b[0m\u001b[1;33m\u001b[0m\u001b[0m\n\u001b[0;32m    448\u001b[0m         \u001b[0mparser\u001b[0m\u001b[1;33m.\u001b[0m\u001b[0mclose\u001b[0m\u001b[1;33m(\u001b[0m\u001b[1;33m)\u001b[0m\u001b[1;33m\u001b[0m\u001b[0m\n",
      "\u001b[1;32m~\\Anaconda3\\lib\\site-packages\\pandas\\io\\parsers.py\u001b[0m in \u001b[0;36mread\u001b[1;34m(self, nrows)\u001b[0m\n\u001b[0;32m   1034\u001b[0m                 \u001b[1;32mraise\u001b[0m \u001b[0mValueError\u001b[0m\u001b[1;33m(\u001b[0m\u001b[1;34m'skipfooter not supported for iteration'\u001b[0m\u001b[1;33m)\u001b[0m\u001b[1;33m\u001b[0m\u001b[0m\n\u001b[0;32m   1035\u001b[0m \u001b[1;33m\u001b[0m\u001b[0m\n\u001b[1;32m-> 1036\u001b[1;33m         \u001b[0mret\u001b[0m \u001b[1;33m=\u001b[0m \u001b[0mself\u001b[0m\u001b[1;33m.\u001b[0m\u001b[0m_engine\u001b[0m\u001b[1;33m.\u001b[0m\u001b[0mread\u001b[0m\u001b[1;33m(\u001b[0m\u001b[0mnrows\u001b[0m\u001b[1;33m)\u001b[0m\u001b[1;33m\u001b[0m\u001b[0m\n\u001b[0m\u001b[0;32m   1037\u001b[0m \u001b[1;33m\u001b[0m\u001b[0m\n\u001b[0;32m   1038\u001b[0m         \u001b[1;31m# May alter columns / col_dict\u001b[0m\u001b[1;33m\u001b[0m\u001b[1;33m\u001b[0m\u001b[0m\n",
      "\u001b[1;32m~\\Anaconda3\\lib\\site-packages\\pandas\\io\\parsers.py\u001b[0m in \u001b[0;36mread\u001b[1;34m(self, nrows)\u001b[0m\n\u001b[0;32m   1846\u001b[0m     \u001b[1;32mdef\u001b[0m \u001b[0mread\u001b[0m\u001b[1;33m(\u001b[0m\u001b[0mself\u001b[0m\u001b[1;33m,\u001b[0m \u001b[0mnrows\u001b[0m\u001b[1;33m=\u001b[0m\u001b[1;32mNone\u001b[0m\u001b[1;33m)\u001b[0m\u001b[1;33m:\u001b[0m\u001b[1;33m\u001b[0m\u001b[0m\n\u001b[0;32m   1847\u001b[0m         \u001b[1;32mtry\u001b[0m\u001b[1;33m:\u001b[0m\u001b[1;33m\u001b[0m\u001b[0m\n\u001b[1;32m-> 1848\u001b[1;33m             \u001b[0mdata\u001b[0m \u001b[1;33m=\u001b[0m \u001b[0mself\u001b[0m\u001b[1;33m.\u001b[0m\u001b[0m_reader\u001b[0m\u001b[1;33m.\u001b[0m\u001b[0mread\u001b[0m\u001b[1;33m(\u001b[0m\u001b[0mnrows\u001b[0m\u001b[1;33m)\u001b[0m\u001b[1;33m\u001b[0m\u001b[0m\n\u001b[0m\u001b[0;32m   1849\u001b[0m         \u001b[1;32mexcept\u001b[0m \u001b[0mStopIteration\u001b[0m\u001b[1;33m:\u001b[0m\u001b[1;33m\u001b[0m\u001b[0m\n\u001b[0;32m   1850\u001b[0m             \u001b[1;32mif\u001b[0m \u001b[0mself\u001b[0m\u001b[1;33m.\u001b[0m\u001b[0m_first_chunk\u001b[0m\u001b[1;33m:\u001b[0m\u001b[1;33m\u001b[0m\u001b[0m\n",
      "\u001b[1;32mpandas\\_libs\\parsers.pyx\u001b[0m in \u001b[0;36mpandas._libs.parsers.TextReader.read\u001b[1;34m()\u001b[0m\n",
      "\u001b[1;32mpandas\\_libs\\parsers.pyx\u001b[0m in \u001b[0;36mpandas._libs.parsers.TextReader._read_low_memory\u001b[1;34m()\u001b[0m\n",
      "\u001b[1;32mpandas\\_libs\\parsers.pyx\u001b[0m in \u001b[0;36mpandas._libs.parsers.TextReader._read_rows\u001b[1;34m()\u001b[0m\n",
      "\u001b[1;32mpandas\\_libs\\parsers.pyx\u001b[0m in \u001b[0;36mpandas._libs.parsers.TextReader._tokenize_rows\u001b[1;34m()\u001b[0m\n",
      "\u001b[1;32mpandas\\_libs\\parsers.pyx\u001b[0m in \u001b[0;36mpandas._libs.parsers.raise_parser_error\u001b[1;34m()\u001b[0m\n",
      "\u001b[1;31mParserError\u001b[0m: Error tokenizing data. C error: Expected 2 fields in line 12, saw 4\n"
     ]
    }
   ],
   "source": [
    "train_bow = pd.read_table(os.path.join(data_dir, 'mxm_dataset_train.txt'), delimiter = ',')[17:]\n",
    "                              #delimiter ='\\t', names=('track_id', 'genre'), index_col = 'track_id')"
   ]
  },
  {
   "cell_type": "code",
   "execution_count": 44,
   "metadata": {},
   "outputs": [
    {
     "data": {
      "text/plain": [
       "dtype('O')"
      ]
     },
     "execution_count": 44,
     "metadata": {},
     "output_type": "execute_result"
    }
   ],
   "source": [
    "train_bow.head(40)"
   ]
  },
  {
   "cell_type": "code",
   "execution_count": 10,
   "metadata": {},
   "outputs": [
    {
     "data": {
      "text/plain": [
       "'\\n\\n# Create genre dataframe\\ngenre_dataset = pd.read_table(os.path.join(data_dir, \\'tagtraum_genre_annotations/genre_dataset.txt\\'),\\n                              delimiter =\\'\\t\\', names=(\\'track_id\\', \\'genre\\'), index_col = \\'track_id\\')\\n\\n\\n# remove first row \\ngenre_dataset = genre_dataset.iloc[1:]\\n# remove comma\\ngenre_dataset[\\'genre\\'] = genre_dataset[\\'genre\\'].str[:-1]\\n\\nprint(genre_dataset.shape)\\ngenre_dataset.head()\\n\\n# Another helpful dataset obtained from the website of million song dataset is one that contains year the track was released. In addition to year, it also contains track_id, the name of the artist, and title of the track. This dataset contains 515576 data points. \\n\\n# Create year dataframe \\nyear_dataset = pd.read_table(os.path.join(data_dir, \\'tracks_per_year.txt\\'),delimiter =\\'<SEP>\\',\\n                             names=(\\'year\\',\\'track_id\\', \\'artist_name\\',\\'title\\'), index_col = \\'track_id\\')\\n\\nprint(year_dataset.shape)\\nyear_dataset.head()\\n\\nyear_artist_name_title_genre = pd.merge(year_dataset, genre_dataset, left_index=True, right_index=True)\\nyear_artist_name_title_genre[[\\'artist_name\\',\\'title\\']] = year_artist_name_title_genre[[\\'artist_name\\',\\'title\\']].apply(lambda x: x.str.lower())\\n\\nprint(year_artist_name_title_genre.shape)\\nyear_artist_name_title_genre.head()\\n\\nyear_artist_name_title_genre.year.unique()\\n\\nyear_artist_name_title_genre.genre.unique()\\n\\n# End of Genre/ Year Intersection. Number of Data points available: 152793\\n\\n# The next two cells takes about 5min to run. It takes all the .h5 files from million songs dataset and extracts the track_id, title and artist_name. It then puts all of it into a dataframe. \\n\\nMerge with \\nlo_track_id = []\\nlo_title = []\\nlo_artist_name = []\\nfor file_name in all_files:\\n    track_id = get_track_id(file_name)\\n    lo_track_id.append(track_id.decode(\"utf-8\"))\\n    title = get_title(file_name)\\n    lo_title.append(title.lower())\\n    artist_name = get_artist_name(file_name)\\n    lo_artist_name.append(artist_name.lower())\\n\\nmillion_song = pd.DataFrame(\\n    {\\'track_id\\': lo_track_id,\\n     \\'artist_name\\': lo_artist_name,\\n     \\'title\\': lo_title\\n    })\\n'"
      ]
     },
     "execution_count": 10,
     "metadata": {},
     "output_type": "execute_result"
    }
   ],
   "source": [
    "'''\n",
    "\n",
    "# Create genre dataframe\n",
    "genre_dataset = pd.read_table(os.path.join(data_dir, 'tagtraum_genre_annotations/genre_dataset.txt'),\n",
    "                              delimiter ='\\t', names=('track_id', 'genre'), index_col = 'track_id')\n",
    "\n",
    "\n",
    "# remove first row \n",
    "genre_dataset = genre_dataset.iloc[1:]\n",
    "# remove comma\n",
    "genre_dataset['genre'] = genre_dataset['genre'].str[:-1]\n",
    "\n",
    "print(genre_dataset.shape)\n",
    "genre_dataset.head()\n",
    "\n",
    "# Another helpful dataset obtained from the website of million song dataset is one that contains year the track was released. In addition to year, it also contains track_id, the name of the artist, and title of the track. This dataset contains 515576 data points. \n",
    "\n",
    "# Create year dataframe \n",
    "year_dataset = pd.read_table(os.path.join(data_dir, 'tracks_per_year.txt'),delimiter ='<SEP>',\n",
    "                             names=('year','track_id', 'artist_name','title'), index_col = 'track_id')\n",
    "\n",
    "print(year_dataset.shape)\n",
    "year_dataset.head()\n",
    "\n",
    "year_artist_name_title_genre = pd.merge(year_dataset, genre_dataset, left_index=True, right_index=True)\n",
    "year_artist_name_title_genre[['artist_name','title']] = year_artist_name_title_genre[['artist_name','title']].apply(lambda x: x.str.lower())\n",
    "\n",
    "print(year_artist_name_title_genre.shape)\n",
    "year_artist_name_title_genre.head()\n",
    "\n",
    "year_artist_name_title_genre.year.unique()\n",
    "\n",
    "year_artist_name_title_genre.genre.unique()\n",
    "\n",
    "# End of Genre/ Year Intersection. Number of Data points available: 152793\n",
    "\n",
    "# The next two cells takes about 5min to run. It takes all the .h5 files from million songs dataset and extracts the track_id, title and artist_name. It then puts all of it into a dataframe. \n",
    "\n",
    "Merge with \n",
    "lo_track_id = []\n",
    "lo_title = []\n",
    "lo_artist_name = []\n",
    "for file_name in all_files:\n",
    "    track_id = get_track_id(file_name)\n",
    "    lo_track_id.append(track_id.decode(\"utf-8\"))\n",
    "    title = get_title(file_name)\n",
    "    lo_title.append(title.lower())\n",
    "    artist_name = get_artist_name(file_name)\n",
    "    lo_artist_name.append(artist_name.lower())\n",
    "\n",
    "million_song = pd.DataFrame(\n",
    "    {'track_id': lo_track_id,\n",
    "     'artist_name': lo_artist_name,\n",
    "     'title': lo_title\n",
    "    })\n",
    "'''"
   ]
  },
  {
   "cell_type": "code",
   "execution_count": 11,
   "metadata": {},
   "outputs": [
    {
     "data": {
      "text/plain": [
       "'\\n# Create year dataframe and saving it to csv \\nyear_dataset = pd.read_table(os.path.join(data_dir, \\'tracks_per_year.txt\\'),delimiter =\\'<SEP>\\',\\n                             names=(\\'year\\',\\'track_id\\', \\'artist_name\\',\\'title\\'), index_col = \\'track_id\\')\\n\\nyear_dataset.to_csv(os.path.join(data_dir + \"/year_dataset.csv\"), encoding=\\'utf-8\\')\\nprint(year_dataset.shape)\\nyear_dataset.head()\\n'"
      ]
     },
     "execution_count": 11,
     "metadata": {},
     "output_type": "execute_result"
    }
   ],
   "source": [
    "'''\n",
    "# Create year dataframe and saving it to csv \n",
    "year_dataset = pd.read_table(os.path.join(data_dir, 'tracks_per_year.txt'),delimiter ='<SEP>',\n",
    "                             names=('year','track_id', 'artist_name','title'), index_col = 'track_id')\n",
    "\n",
    "year_dataset.to_csv(os.path.join(data_dir + \"/year_dataset.csv\"), encoding='utf-8')\n",
    "print(year_dataset.shape)\n",
    "year_dataset.head()\n",
    "'''"
   ]
  },
  {
   "cell_type": "markdown",
   "metadata": {},
   "source": [
    "# Notes from meeting:\n",
    "Question for TA: \n",
    "\n",
    "Current situation: Using the genre dataset (200k +) and year dataset (500k+) from Million song website, we were able to have a dataframe with 150k + data points with trackID, title, genre, artist, and year information. And using the million song subset (10000), we were able to find all 10000 in the 150k+ dataframe. \n",
    "\n",
    "We are currently in the process of obtaining the lyrics for all of these songs using an existing API. \n",
    "\n",
    "0. Do you think it's necessary for us to download the entire dataset to maybe get more data to work with? \n",
    "\n",
    "Some quick descriptive analysis shows that we have predominantly songs in Rock, and by decades, since the dataset only contains songs from 1920s to the year 2010. \n",
    "\n",
    "\n",
    "1. about feminism playlist: how many training points do we need to have classified ourselves (either manual labelling or scraping the internet) for us to train a valid model to start classifying our dataset (pro, neutral, anti)?\n",
    "\n",
    "next step?\n",
    "\n",
    "1. get the lyrics (see how many we get) \n",
    "2. check the year distribution of the 10000 data points \n",
    "3. Narrower timeframe (1970s to 2000s, 2010) \n",
    "\n",
    "Next step for this weekend (milestone2): \n",
    "separate year and genre data\n",
    "for year, work with 500k points and see point distribution. Consider working with a narrower timeframe (eg. 1970s to 2010, and maybe take subsets from 2000s). \n",
    "for genre, work with subsets of rock, and pop, electronic, jazz, rap etc. \n",
    "_____\n",
    "\n",
    "lyrics: \n",
    "scrape lyrics for the 500k+ points now from year \n",
    "in addition to the genre/ year intersection\n",
    "\n",
    "look for \"bad\" key words to classify songs: use bag of word\n",
    "use RAP lyrics as a reference (see the most frequently occurring words) \n",
    "=> find corpus of words related to women, and classify them as positive, neutral, negative \n",
    "\n",
    "\n",
    "Milestone 2: \n",
    "- we still need the lyrics \n",
    "simply analysis: \n",
    "correlation between year and genre \n",
    "\n",
    "-# of bad words per genre, and find out which genre is disrepecting the ladies the most (counting the bad words) \n",
    "bag of words \n"
   ]
  },
  {
   "cell_type": "markdown",
   "metadata": {},
   "source": [
    "# Arthur's code here"
   ]
  },
  {
   "cell_type": "code",
   "execution_count": 59,
   "metadata": {},
   "outputs": [],
   "source": [
    "\n",
    "def scrape_lyrics(artists_list,songs_list):\n",
    "    '''\n",
    "    \n",
    "    '''\n",
    "    lyrics_not_found = []\n",
    "    if (len(artists_list) == 0 or len(songs_list) == 0):\n",
    "        raise ListError('The provided artists list or songs list is empty')\n",
    "        \n",
    "    elif (len(artists_list) != len(songs_list)):\n",
    "        raise ListError('The provided artists and songs lists have different lenghts')\n",
    "        \n",
    "    else:\n",
    "        lyrics = []\n",
    "        \n",
    "        for i in range(len(artists_list)):\n",
    "            try:\n",
    "                lyrics_metro = str(lyricfetcher.get_lyrics('metrolyrics',artists_list[i],songs_list[i]))\n",
    "                lyrics_metro = re.sub(r'[\\[].*?[\\]]', '', lyrics_metro.replace('\\n', ' '))\n",
    "                lyrics_metro = re.sub(',', '', lyrics_metro)\n",
    "\n",
    "                if (lyrics_metro == \"\" or len(lyrics_metro.split())<3):\n",
    "                    lyrics_az = str(lyricfetcher.get_lyrics('azlyrics',artists_list[i],songs_list[i]))\n",
    "                    lyrics_az = re.sub(r'[\\[].*?[\\]]', '', lyrics_az.replace('\\n', ' '))\n",
    "                    lyrics_az = re.sub(',', '', lyrics_az)\n",
    "\n",
    "                    if (lyrics_az == \"\" or len(lyrics_az.split())<3):\n",
    "                        lyrics.append(\"\")\n",
    "                        raise ValueError('No lyrics OR lyrics smaller or equal to 2 words found')\n",
    "\n",
    "                    else:\n",
    "                        lyrics.append(lyrics_az)\n",
    "\n",
    "                else:\n",
    "                    lyrics.append(lyrics_metro)\n",
    "                    \n",
    "            except ValueError:\n",
    "                lyrics_not_found.append([artists_list[i],songs_list[i]])\n",
    "                continue\n",
    "    return lyrics, lyrics_not_found"
   ]
  },
  {
   "cell_type": "code",
   "execution_count": 63,
   "metadata": {},
   "outputs": [
    {
     "name": "stdout",
     "output_type": "stream",
     "text": [
      "[\"Love me leave me Take my possessions and go Wine me dine me Wreck all the things that I know I'm enchanted I've fallen under your spell How can I resist when you cast them so well Baby Lee I'm only trying to remind you They had me in mind oh yeah when they designed you And Baby Lee I'm always watching from a distance Oh marry marry me oh baby now I am insisting Wake me shake me Put my emotions on show Make me suffer Tell everyone that you know I'm enchanted I've fallen under your spell How can I resist when you cast them so well Baby Lee I'm only trying to remind you They had me in mind oh yeah when they designed you And Baby Lee I'm always watching from a distance Oh marry marry me oh baby now I am insisting\", '', \"We are we are we're caught in the in between  Of who we already are and who we are yet to be And we're looking for love but finding we're still in need  It's only what we have lost will we be allowed to keep  And we're waiting but our eyes are wandering  To all this earth holds dear Look at all the pretty things That steal my heart away  I can feel I'm fading  'Cause Lord I love so many things That keep me from Your face  Come and save me  We run we run to finally be set free  But we're fighting fighting for what we've already received  So we're waiting but our eyes are wandering  To all this earth holds dear Look at all the pretty things That steal my heart away  I can feel I'm fading  'Cause Lord I love so many things That keep me from Your face  Come and save me  We are we are caught in the in between  But we're fighting for what we already have received  We are we are caught in the in between  But we're fighting for what we already have received   Look at all the pretty things That steal my heart away  I can feel I'm fading  'Cause Lord I love so many things That keep me from Your face  Come and save me\", \"VERSE 1: You faught but you were just too weak so you lost all the things you try to keep now you're on your knees you're on your knees But wait everything can change in a moments time you don't have to be afraid cause fear is just a lie open up your eyes CHORUS: And he'll break open the stars to save those who cry out his name throwing the wind and waves at bay He's strong enought to save you VERSE 2: Look now is not too late lift up your head let the rain fall on your face youre not far from grace your not to far from grace CHORUS: And he'll break open the stars to save those who cry out his name throwing the wind and waves at bay He's strong enought to save you (Repeat) BRIDGE: I know the weight of this world can take you down like gravity and I know the current of yourself can take you out out to sea but hold on hold on CHORUS: And he'll break open the stars to save those who cry out his name throwing the wind and waves at bay He's strong enought to save you\", 'You can\\'t seem to see past your own reflection Caught up in the halls of your introspection And you\\'re staring at your mirror on the wall Asking \"Who is the fairest of them all?\" \\'Cause Lord I know it\\'s not me If only you could see That you\\'ve already been set free Come on come on Let\\'s throw our mirrors down Come on come on Let\\'s shatter the glass on the ground But you say \"Hold on if I could just try this one thing. Well I know I can change and that would change everything.\" But a house made of mirrors never helps you see any clearer It\\'s yourself you can\\'t see past And Lord isn\\'t that just like me? If only we could see That He\\'s already set us free Come on come on Let\\'s throw our mirrors down Come on come on Let\\'s shatter the glass on the ground Oh oh Freedom\\'s waiting for you now So come on come on Throw your mirrors down Come on if you\\'re tired take a step outside You might find you can forget about yourself tonight Come on if you\\'re tired of failed attempts to try Freedom\\'s waiting when you look outside Come on come on Let\\'s throw our mirrors down Come on come on Let\\'s shatter the glass on the ground Oh oh Freedom\\'s waiting for you now So come on come on Throw your mirrors down', '', '', \"Running so far ahead just to get back to the end There is something in our way There is something I can't say There's a wind behind everyone It takes us through our lives I wish I could have stayed But this wind takes me away away away One day we began To fly again And now we start To fly & then Running so far ahead just to get back to the end There is something in our way There is something we can't say There's a wind behind everyone It takes us through our lives I wish we could have stayed But this wind takes us away away away Oh where do we go in these days? Oh where will we land?\", '', '', '', '', '', '', '', '', '', '', '', '', '', '', '', '', '', '', '', '', '', '', '', '', '', '', '', '', '', '', '', '', '', '', '', '', '', '', '', '', '', '', '', '', '', '', '', '', 'The sunset through the blinds reminds me of the time we met you were like a ray of sunlight penetrating my apartment as we walked down by the water I remember what you said You said \"We had so much in common.\" You didn\\'t see it coming Oh I was as surprised to find the love inside your eyes as you were to see mine And our friends all laughed and we were warned It was the calm before the storm that comes like it always does like it always does Love of mine Oh my how we have grown We\\'re different now Don\\'t ever want to go back to being alone It\\'s different now And I wouldn\\'t change a thing I recall the times we spent down by the coffee shop We would fight and you would cry because in those days I lied a lot Tried to protect you from the truth I had to learn that never worked I couldn\\'t anything from you couldn\\'t bare to see it hurt you Oh I was so surprised to find forgiveness in your eyes undeserved. But love is blind So we shared our hearts as we drove home It was the calm before the storm that comes Like it always does Love of mine Oh my how we have grown We\\'re different now Don\\'t ever want to go back to being alone It\\'s different now And I wouldn\\'t change a thing After all the mistakes Different now It seems our love never brakes Different now And I wouldn\\'t change a thing Love of mine Oh my how we have grown We\\'re different now Don\\'t ever want to go back to being alone It\\'s different now And I wouldn\\'t change I wouldn\\'t change a thing The sunset through the blinds reminds me of the time we met you were like a ray of sunlight penetrating my apartment', \"I am a happy nihilist no absolute truth does exist* When I decide to shake my fist I only got myself to blame Cause we're all players and life's the game I only take what I need I am so light on my feet I will not stop or concede I am not driven by greed No moral compass for me it's all just natural feelings Existence has no meaning there's no such thing as happy But late at night when I sleep I dream of more than I see There's something burning in me a driving need to be free Why do I sit here and think about the things that I need? There's nothing left to believe oh is it all just a dream? I've taught this to myself piled books up on the shelf But it still hurts like h*ll to trust nobody else but me I used to read everything I used to need nothing Now I can't sleep cause I'm not happy I've taught this to myself piled books up on the shelf But it still hurts like h*ll to trust nobody else but me Whoa oh oh Why am I haunted by the metaphysical? Is it a cosmic lie or is it literal? The books I read that used to free my mind Have made me more blind but the truth I'll find it I was a happy nihilist Now I'm wondering why I exist I've taught this to myself piled books up on the shelf But it still hurts like h*ll to trust nobody else but me\", \"Be good to me As you once were When you pulled me from the brink of death My enemies were frenzied For a taste of my flesh And now I've got the same feeling again (same feeling again) The beasts are closing in  their teeth are dripping with rattlesnake poison So I will run (I will run) Into your open arms (I've got nowhere else to go) Whoa I don't want to live like this anymore Trading truth for the simple things I don't want to live like this anymore Will you give me the will to sing out: When I'm filled with the darkest of doubt? When I'm down for the count? Protect me From Mutiny From those who Miscarried your baby From those who Miscarried the truth So they could selfishly do Whatever they thought was pleasing Protect me from insincerity From between their teeth it's practically oozing Their eyes are hollow and blind And they are wasting my time And it's time that I'm losing So I will run (I will run) Into your open arms (I've got nowhere else to go) Whoa I don't want to live like this anymore Trading truth for the simple things I don't want to live like this anymore Will you give me the will to sing out: When I'm filled with the darkest of doubt? When I'm down for the count? (instrumental) (whooo) Whoa I don't want to live like this anymore Trading truth for the simple things I don't want to live like this anymore Will you give me the will to sing out: When I'm filled with the darkest of doubt? Will you give me the will to sing out? When I'm filled with the darkest of doubt? When I'm down for the count?\", \"She's got a solar powered life She dies without direct sunlight But every morning in the spring She wakes up early And this is what she sings My oh my what a beautiful day outside Hey hey what a beautiful day  My oh my what a beautiful day outside Hey hey what a beautiful day  Yeah My baby gets depressed at night All hope is gone with the twilight But every morning after dawn She sings to me And this is her love song My oh my what a beautiful day outside Hey hey what a beautiful day  My oh my what a beautiful day outside (beautiful day) Hey hey what a beautiful day  Yeah I give you everything you need I give vacations by the sea If that's what you need girl I give you everything you want Sitting sipping smoothies with your sunglasses on My oh my what a beautiful day outside (beautiful day) Hey hey what a beautiful day (beautiful day) My oh my what a beautiful day outside (beautiful day) Hey hey what a beautiful day (beautiful day) My oh my what a beautiful day outside (beautiful day) Hey hey what a beautiful day (beautiful day) Yeah\", \"I have a demon in me It shows its teeth and escapes When I am patient with speak is when I make my mistakes It seems I'm prone to abuse Im just like you (I'm just like you) I keep my mouth shut around The fools and liars of this town They're starting fires with their lips They'll burn it all to the ground You know if you want the truth You'll just end up getting burned too Will the water wash me clean? (Will the water wash me clean?) You can take it all out on me You can take it all out on me So go ahead and spit your poison out Yeah go ahead and take your cheap shots I've never been too proud to sin Why don't you rub my face in it? So go ahead and spit your poison out Yeah go ahead and take your cheap shots I've never been too proud to sin Why don't you rub my face in it? You walk the walk don't you? Talk the talk too? But in your heart you died alone A long long long time ago Will the water was you clean? You can take it all out on me Yeah You can take it all out on me So go ahead and spit your poison out Yeah go ahead and take your cheap shots I've never been too proud to sin Why don't you rub my face in it?So go ahead and spit your poison out Yeah go ahead and take your cheap shots I've never been too proud to sin Why don't you rub my face in it? So go ahead and spit your poison out Yeah go ahead and take your cheap shots I've never been to proud to sin Why don't you rub my face in it? Yeah go ahead and spit your poison out Yeah go ahead and take your cheap shots I've never been to proud to sin Why don't you rub my face in it?  \", \"Ain't no love in the heart of the city Ain't no love in the heart of town Ain't no love sure 'nuff is a pity baby Ain't no love 'cause you ain't around Baby since you been around oh no Ain't no love in the heart of the city Ain't no love in the heart of town Ain't no love sure 'nuff is a pity child Ain't no love 'cause you ain't around Every place that I go Well it seems so strange Without you love baby baby Things have changed Now that you're gone Y'know the sun don't shine From the city hall To the county line that's why Ain't no love in the heart of the city Ain't no love in the heart of town Ain't no love sure 'nuff is a pity Ain't no love 'cause you ain't around Now listen Every place that I go Well it seems so strange Without you love baby baby Things have changed Now that you're gone Y'know the sun don't shine From the city hall Woman to the county line an' that's why Ain't no love in the heart of the city There ain't no love in the heart of town There ain't no love sure 'nuff is a pity Ain't no love 'cause you ain't around woman woman There ain't no love in the heart of the city There ain't no love in the heart of town Ain't no love sure 'nuff is a pity Ain't no love 'cause you ain't around 'Cause you ain't around\", 'I may not have a perfect voice but I\\'ll still sing At the top of my lungs until my days are done I was once a child with a million plans Now all I\\'ve got is what\\'s in my hands I don\\'t leave much to chance these days I may not ever see a dime but I\\'ll be fine Yeah I\\'ll still get by all the time a smile upon my face You might see me on the corner with a cup someday And I\\'ll smile and wave and say \"God bless you for your change today\" Whoa oh oh oh oh oh Whoa oh oh oh oh oh Whoa oh oh oh oh oh Whoa oh oh oh oh oh I may not be a perfect man but I\\'ll still stand Yeah I\\'m counting on grace to win this race for me in the end I may not sing your favorite songs but I don\\'t sing for you \\'Cause if I did I would have been done long ago Whoa oh oh oh oh oh Whoa oh oh oh oh oh Whoa oh oh oh oh oh Whoa oh oh oh oh oh Whoa oh oh oh oh oh Whoa oh oh oh oh oh Whoa oh oh oh oh oh Whoa oh oh oh oh oh Whoa oh oh oh oh oh Whoa oh oh oh oh oh Whoa oh oh oh oh oh Whoa oh oh oh oh oh I may not have a perfect voice But I won\\'t lie I\\'ll sing until I die \\'Cause I may not get the chance another night Whoa oh oh oh oh oh Whoa oh oh oh oh oh Whoa oh oh oh oh oh Whoa oh oh oh oh oh Whoa oh oh oh oh oh Whoa oh oh oh oh oh Whoa oh oh oh oh oh Whoa oh oh oh oh oh', 'I have seen my own gravestone  and worshiped the golden statue Iâ', \"I was once a boy in love with strangers As I watched them smoke their cigarettes I'd wave I was much too young to think of danger I was curious and innocent and brave Now the wrinkles in my face have gotten deeper I'm an old man that's just 25 years young I try to keep myself away from mirrors They remind me of the stupid things I've done Cause after all mans intellect and power All you get is 650 000 hours If you're lucky then you're dead Says the voice inside my head Keeps me moving on Keeps me singing these songs So sing along (oh oh) Here we go (oh oh) We've been down this road About a thousand times before I'm breathing and bored So sing along (oh oh) Here we go (oh oh) Singing songs we wrote About a thousand times before I'm breathing and bored The same four chords The same four chords Now the beard upon my face has gotten thicker To protect me from the storms that come my way Maybe when life's done I'll be the singer In the band that plays outside of Heaven's gate Cause after all mans intellect and power All you get is 650 000 hours If you're lucky then you're dead Says the voice inside my head Keeps me moving on Keeps me singing these songs So sing along (oh oh) Here we go (oh oh) Been down this road About a thousand times before I'm breathing and I'm bored So sing along (oh oh) Here we go (oh oh) Singing songs we wrote About a thousand times before I'm breathing and I'm bored The same four chords The same four chords The same four chords! The same four chords! Even if I die tomorrow I'll be glad my life was filled with songs And even if I die tomorrow these four chords will keep me living on Even if I die tomorrow I'll be glad my life was filled with songs And maybe if I die tomorrow these four chords will keep me living on Even if I die tomorrow be glad my life was filled with songs And even if I die tomorrow these four chords will keep me living on Oh oh the song that we wrote Are playing back on the radio Oh oh even if I die tomorrow These four chords will keep me living on So sing along Oh oh the song that we wrote Are playing back on the radio Oh oh even if I die tomorrow These four chords will keep me living on These four chords will keep me living on These four chords will keep me living on\", \"I can't get enough Of livin' in the city I get off the bus At Dexter and Denny The sun's comin' up Over the lake to my east And I feel the love In the rhythm of the music of the street yeah And no one is gonna take that away from me So I pick up a Real Change paper As I walk on down the street Yeah because Vagabonds and troubadours I built this city on punk rock cores And I for one cannot ignore the facts yeah So we will make music 'Til no one refuses We will take our airwaves back Yeah come on In the jet city of love Northwest in the evergreen state People can't get enough Of living in the darkness and the rain But when the sun comes out The streets are filled with songs And people playing it loud So the whole world can sing along yeah And the cops go screaming by on the 99 There's a man with a smile and his guitar on And he's holdin' a sign And it says Vagabonds and troubadours I built this city on punk rock cores And I for one cannot ignore the facts yeah So we will make music 'Til no one refuses We will take our airwaves back Yeah come on\", '', '', '', '', '', '', '', '', '', '', '', '', '', '', '', '', 'Old Mary full of grease Your heart stops within you Scary are the fruits of your tomb And harsh are the terms of your sentence Old Mary sister of mine Mother to the world carry this burden Now until the moment of your last breath Now until the moment of your last breath Old Mary full of grease Your heart stops within you Scary are the fruits of your tomb And harsh are the terms of your sentence Old Mary sister of mine Mother to the world carry this burden Now until the moment of your last breath Now till the moment of your last breath Now till the moment of your last breath Now till the moment of your last breath Now till the moment of your last breath Now till the moment of your last breath Now till the moment of your last breath Now till the moment of your last breath Now till the moment of your last breath Now till the moment of your last breath', '', '', '', '', '', '', '', '', '', '', '', '', '', '', '', '', '', '', '', '', \"You'll turn away calling back as you run Say it can that it can that it can be done You're the last continental bastard chosen son It may be a while maybe two maybe three Till the chance till the chance till the chance we meet Just to burn all the frames as to not repeat Like anyone anywhere has the time Take a place take a place take a place in line 'Cause I can spot a scab I know my kind I want to say truly say I know this well Look how far look how far look how far we fell You can lie to the liar I know your tell Turn around turn around Say what you want to say Say what you came here for Turn away turn away From everything we want to work And anything that came before You'll turn away calling back as you run Say it can that it can it can be done You're the last continental bastard chosen son Turn around turn around Say what you want to say Say what you came here for Turn away turn away From everything we want to work And everything that came before\", '', '', '', '', '', '', '', '', '', '', '', \"Jessie I'm not joking around I see the crowd you're hanging with and those kids don't seem positive Don't all the cigs make you tired? You know I'd never ask you to change I'll only ask you to try I know you're gonna do what I know you're gonna do But 22 and banging around in restaurants Isn't that much prettier than banging around in bars And why do you keep going to his car? I don't want this to stop I want you to know I don't want you to settle I want you to grow Forget all the boys that you had at the harbor They're too hard already they'll only get harder Jessie let's go for a ride I know a place that we can stop I know a place that we could drink and kiss for awhile I know a place that always makes you smile I know you're gonna say what I know you're gonna say I know you'll look at the ground I know you'll probably cry You're a beautiful girl and you're a pretty good waitress But Jessie I don't think I'm the guy I don't want this to stop I want you to know I don't want you to settle I want you to grow Forget everything that I showed you this summer You're too hard already you'll only get harder But they didn't name her for a saint They named her for a storm So how's she supposed to think about How it's gonna feel in the morning? She said if heaven's hypothetical And if the cigs keep you warm Then how's she supposed to think about How it's gonna move in the morning? About how it's gonna move in the morning About how it's gonna move in the morning Hurricane Jessie's gonna crash into the harbor this summer She don't want to wait 'til she gets older Hurricane Jessie's gonna crash into the harbor this summer She don't want to wait she said it only gets harder\", '', '', \"You should have seem 'em just after midnight When they were down on their luck and still high from a street fight Told it like it wasn't really much of a big thing To be out on the tiles and barely breathing we were barely breathing Showing up at shows like you care about the scene still But where were you when the blood spilled and they almost killed me? It got pretty sketchy We tried to push forward Now we're pointing at the scoreboard and it feels so amazing And the crowd's going crazy Summer '88 was all heat and intensity saw The Youth Of Today at 7th street Entry There were skins in the pit and some of them tried to kill me Same club next summer and now they're called Shelter and after the show I spoke with the singer And he tried to hand me a pamphlet about Hare Krishna I said you gotta be kidding Who the hell is the blue guy? But then he said something special Using only his eyes using only his eyes The kids are all distracted No one wins at violent shows The kids are a distraction No one wins at violent shows The kids are all distracted No one wins at violent shows The kids are a distraction No one wins at violent shows The kids are all distracted No one wins at violent shows The kids are a distraction No one wins at violent shows\", '', '', '', '', '', '', '', '', '', '', '', \"You're broken down inside But won't give up the fight These empty eyes I see Are staring back at me If you pull me out I won't let you down Invisible You're beautiful Walking through this world We call our home Invisible Won't let you go Now I know I'm starting to feel you My failure makes me hate Am I already late And everyday I crave The touch of your embrace But now I see What you mean to me Invisible You're beautiful Walking through this world We call our home Invisible Won't let you go Now I know I'm starting to feel you Invisible You're beautiful I wanna take all of you Invisible You're beautiful Invisible Just like me Invisible You're beautiful Walking through this world We call our home Invisible Won't let you go Now I know I'm starting to feel you Invisible You're beautiful Walking through this world We call our home Invisible Won't let you go Now I know I'm starting to feel you Invisible You're beautiful Invisible You're beautiful\", \"Fire with fire Fire with fire You had to open up that door It's never gonna be the way it was before So what do we fight for? And do we always have to even up that score? I don't know where we went wrong I don't know where we belong Tell me why we are so lost? Will we decide which side we're on? And now it's on we're fighting Fire with fire The flames are burning burning Higher and higher It always has to be an Eye for an eye Justice remains the one And only desire Fighting fire with fire You do to me like I do to you And I do to you like you do to me Fighting fire with fire Fighting fire with fire There's a feeling deep inside It's way to hard to ever push aside It's all that's on your mind I wanna give in but I can't this time I don't know where we went wrong I don't know where we belong Tell me why we are so lost? Will we decide which side we're on? And now it's on we're fighting Fire with fire The flames are burning burning Higher and higher It always has to be an Eye for an eye Justice remains the one And only desire Fighting fire with fire You do to me like I do to you And I do to you like you do to me Fighting fire with fire Fighting fire with fire You aren't backing down backing down And I ain't giving into you There's no more common ground common ground You broke the only golden rule Fire with fire Fire with fire Fire with fire Fire with fire And now it's on we're fighting Fire with fire The flames are burning burning Higher and higher It always has to be an Eye for an eye Justice remains the one And only desire Fighting fire with fire You do to me like I do to you And I do to you like you do to me Fighting fire with fire Fighting fire with fire You do to me like I do to you And I do to you like you do to me Fighting fire with fire Fighting fire with fire Fire with fire\", '', '', \"I'm wide awake and You look perfect next to me This photograph I look so deep Sometimes I hear you breathe I'm here alone Tryin' to hang onto my soul But the distance takes it toll You know you know I'm out here doin' all I can You make me everything I am Give me strength to get through somehow I keep praying that it won't be long now There'll come a day When I can hold you and say It's forever There'll come a day When these broken lives Fade back together There'll come a day When we won't feel like this I'll find my way There'll come a day I've seen enough things That I wish I could erase I shut my eyes and take myself back To a safer place Where I can live the life You left behind But as long as you're still mine All mine all mine I'm out here doin' all I can You make me everything I am Give me strength to get through somehow I keep praying that it won't be long now There'll come a day When I can hold you and say It's forever There'll come a day When these broken lives Fade back together There'll come a day When we won't feel like this I'll find my way There'll come a day I've stood for all that I believe in Time now to start healing And take back the stolen time And take back my life I'm out here doin' all I can You make me everything I am Give me strength to get through somehow I keep praying that it won't be long now There'll come a day When I can hold you and say It's forever There'll come a day When these broken lives Fade back together There'll come a day When we won't feel like this I'll find my way There'll come a day Oh there'll come a day Oh there'll come a day I won't lose faith I'm wide awake and You look perfect next to me\", '', 'Sometimes I feel like I\\'m alone Hoping praying You hear me Screaming inside to ease the pain Save me keep me alive I\\'m not afraid anymore Of what I don\"t know Believe (I put my faith) In the unknown Believe (I put my my hope) In God alone Have faith in what you don\\'t know Sometimes I feel like I have to cry Until my emotions have run dry I\\'m breaking inside to hide the pain Save me keep me alive I\\'m not afraid anymore Of what I don\"t know Believe (I put my faith) In the unknown Believe (I put my my hope) In God alone Have faith in what you don\\'t know I know you\\'re here I can feel you now I know your love embraces me I put my faith in the unknown I put my hope in God alone Believe (I put my faith) In the unknown Believe (I put my my hope) In God alone Have faith in what you don\\'t know (I put my faith in the unknown) Give up all your sorrow Have faith in what you don\\'t know Believe (I put my hope) In God alone Have faith in what you don\\'t know You don\\'t know', '', '', '', '', '', '', '', '', '', '', '', '', '', '', '', '', '', '', '', '', '', '', '', '', '', '', '', '', '', '', \"Take me I'm alive never was a girl with a wicked mind But everything looks better when the sun goes down I had everything opportunities for eternity and I could belong to the night Your eyes your eyes I can see in your eyes your eyes You make me wanna die I'll never be good enough You make me wanna die And everything you love will burn up in the light Every time I look inside your eyes Make me wanna die Taste me drink my soul show me all the things that I shouldn't know when there's a new moon on the rise I had everything opportunities for eternity and I could belong to the night Your eyes your eyes I can see in your eyes your eyes everything in your eyes You make me wanna die I'll never be good enough You make me wanna die And everything you love will burn up in the light Every time I look inside your eyes (I'm running in the light) Make me wanna die I would die for you my love my love I would lie for you my love my love (make me wanna die) I would steal for you my love my love (make me wanna die) I would die for you my love my love We'll burn up in the light... Every time I look inside your eyes (I'm burning in the light) Up inside your eyes (I'm burning in the light) Look inside your eyes You make me wanna die\", '', '', '', '', '', '', '', '', '', '', '', '', '', '', \"All I needed was a light In the darkest place I've ever been in all my life As I try to find my way And the changing seasons of my life And my eyes don't see The things I love have run their course Are they done Are they just beginning And I'm old enough to know That time doesn't move slow enough And young enough to know That I can't ever be too old enough to trust you Higher and higher I wanna go there with you Some say your fire your fire Is through And I don't wanna think that way So you lost your job and lost the girl And you crushed your soul Around you standing out of reach Before you know So you wet your? finger Hold it up But there's no wind there Telling you where you where you should go So you try try to trust While you bear it And I'm old enough to know That time doesn't move slow enough And young enough to know That I can't ever be too old enough to trust you Higher and higher I wanna go there with you Some say your fire your fire Is through But I don't... I am Yours do what You wish I am Yours I am Yours And I know this Whatever happens next Is in Your hands in Your plans Nothing less Every day there is a choice And through the joy Through the pain I will rejoice I am Yours do what You wish I am Yours I am Yours And I know this Save me 'Cause I need it And I can't help but feel desperate My desires they seem Were coming to their endings But I will trust it's not the end But a great beginning\", \"The story of my life I can't quite comprehend So tell me if you know how it ends When everywhere you go feels like a mirror maze And you're not sure how you're stuck in this place And you've got nowhere else to go And you're lost within your own home You're trying so hard to win You keep trying it's embarrassing And how you don't even know But you know you're off the tracks And how did you get in here Thinking how did I get in here I'll help you break the walls down I'll help you break the walls down And bust you out And take you home Believe you me You are not alone I'll help you break the walls down Does anybody know where February went I was hoping that by now it'd be the end of this But when you open up a book and read a thousand lines But you don't really read you just move your eyes And you've got nowhere else to go And you're lost within your own home You're trying so hard to win You keep trying it's embarrassing And how you don't even know But you know you're off the tracks And how did you get in here Thinking how did I get in here I'll help you break the walls down I'll help you break the walls down And bust you out And take you home Believe you me You are not alone I'll help you break the walls down And I know this is random But just this morning I saw the sun reflecting off the lawn and window Oh I dont know why but I thought you should know When you've got nowhere else to go And you're lost within your own home You're trying so hard to win You keep trying its embarrassing And how you dont even know But you know youre off the tracks And how did you get in here Thinking how did I get in here I'll help you break the walls down I'll help you break the walls down And bust you out And take you home Believe you me You are not alone I'll help you break the walls down And all the weight that you carry will disappear And I will willingly embrace your soul you lay ahead So come on home Come on home Come on home Home Yeah\", \"I didn't know Somebody surprised me alarmed alarmed Somebody has made it this far this far I don't wanna let you go  You know it's so it's so hard I don't wanna let you go  (Somebody has waited too far) And if somebody tells you You're not enough If somebody tells you You're not good enough If somebody tells you this It isn't just Yes I'm burning up And I'm calling all the bluffs I don't wanna let you go But the weather changes like your mind And I don't wanna give you up But I just might this time Hope the new grass you seek Is greener than the greenest green And if it's not or if it is I just hope you'll be At peace at least So go ahead Compare the petty issues To all the awesome days Somebody is waiting Too long to stay awake There is a beautiful ending But you're never gonna read the book I know you won't  There's a magical ending But you're never gonna read the book I know you won't  Walk away I know it hurts Don't be afraid And know your worth Just walk away I know it hurts\", \"Can you see the air change? Can you see when a heart breaks? I know that both do happen But all I want is faith Because I can feel this And so much so I believe it But still there is a struggle And all I want is faith And I believe I'll move the mountains I think Or maybe I'll drown in the sea Keep holding on All I got is holding on these roses The thorns keep on digging But my soul believes... please So here I breathe In oxygen I can't see The oxygen that keeps me alive and wary Oh yes I do perceive That like the birds find provision and sanctuary You do this even more so for me But all I want is faith And I believe I'll move the mountains I think Or maybe I'll drown in the sea Keep holding on All I got is holding on these roses The thorns keep on digging But my soul believes Places seasons millions of pieces Together and all alone Needing repeating Living and bleeding Lost in the cohesion Stagnant or will i run? Give up or will i run Into arms that are open? Get rid of all the fear I know that you are here Keep holding on All I got is holding on these roses The thorns keep on digging But my soul believes I see! And it's reminding me That the thorns you wear Is love that we must share\", \"I might as well be a Japanese exchange student Cause' people wouldn't know me right when I show up But then the thrill wears off and then I'm alone until Beyonce rolls through town and I think that I can call and score a ticket When I can't. Cause' I don't know her like you don't know me It's a lonely world when it's all that you see It doesn't matter if I got a good heart in me This gets lonely. I might as well be a Japanese exchange student Cause' people wouldn't know me right when I show up But then the thrill wears off and then I'm alone Until Paul McCartney rolls through town and I think that I can get in on the guest list When I can't. Cause' I don't know him like you don't know me. It's a lonely thing when it's all that you see. It doesn't matter if I got a good heart in me. This gets lonely. Last year I got the cover my phone wouldn't stop ringing and ringing. They called in on my mother and that is saying something Well maybe it's been quiet my phone just picks up dust Cause' it's all about who you know and not about if you really know anyone. So hey be nice to the Japanese exchange students Cause' people wouldn't know them right when they show up And they have found yourself in a similar place Where you found you looked around and just saw loads of empty space. And you were thinking how you don't know them like they don't know you. It's a lonely feeling after all that you do. Got a good heart got a good soul what must I do to prove it anymore? I got friends in high and low places and it's all the same to me. I love the Japanese I love the Japanese those from Japan and overseas. I love the Japanese do you love the Japanese? Those from Japan and overseas Those from Japan and overseas like me.\", \"Sir excuse my rudeness but I believe That I know somethin' that you don't Because you are talkin' down to me Like you think I know nothin' And I won't allow it this promise prowess Though I respect you even through the prejudice You're blind leadin' blind's not hard to see yeah You gotta believe oh yeah Don't fear don't break it You gotta be free I hope your blinded eyes will see You can ask me anythin' I may not know the answers to everythin' Nor I won't before I can do is speak from my heart A vapid sentiment And I won't be clever with your endeavor All tryin' to prove me wrong I will remember You're blind leadin' blind's not hard to see yeah You gotta believe oh yeah Don't fear don't break it You gotta be free I hope your blinded eyes will see You gotta believe Don't don't fear don't break it You gotta be free I hope your blinded eyes will see yeah Whatever the cost whatever I lost Whatever I gained whatever I fought I knew I was tested and I am the furthest From what you think it is worth it You gotta believe oh alright Don't fear don't break it You gotta be free I hoped your blinded eyes will see You gotta believe yeah Don't don't fear don't break it You gotta be free you gotta believe Don't don't let him hold you down Come on come on sing it Yeah oh I hope my eyes will see You gotta believe yeah\", '', 'Back and forth I have come to this So listen if you are interested in this I hope you\\'re not too busy to miss This epiphany I just had... And I know it\\'s not too sexy  That I\\'m singing about the blessings we get When we give up ourselves for something good It would be bigger than a promotion motion motion... Because nothing matters Just tell yourself again and again and again. Nothing matters All of our wealth  Again and again and again. Nothing matters Pride will shatter Our wants will never be enough Because nothing matters but love. Just today my boss came to me said \"No way no way. We don\\'t hear money money money.\" I got so mad walked out The studio and there was a man Cryin and hungry down and out Yeah true story uh huh. And I know it\\'s not too sexy  That I\\'m singing about the blessings we get When we give up ourselves for something good It would be bigger than a promotion So start the motion! That nothing matters Just tell yourself again and again and again. Nothing matters All of our wealth  Again and again and again Nothing matters Pride will shatter Our wants will never be enough Because nothing matters but love. The things that I chase the status I crave It\\'s nothing. It\\'s nothing. We invest in the bankers but not in the Maker. Think about it. And I am the culprit. I am no saint. How long will I stand here obstructing love\\'s way?', \"Pretty mess with a pretty voice Humming in my ear Drowning out the world's noise Such a pretty one such a mixed up one I once was lost then I was found I wanna make things better the second time around What a precious sound Hearing the words a second time around And how will you understand? As if I would back then How will they understand that's who I was not who I am? And I'm not a perfect soul and I'll fall again I know I must pull myself together this is a brand new day Pull myself away from my mistakes Pull myself together it's time to let the waves Take me pull me away And I know for you this must be hard Giving me a second start And I know I'm a little bit late But please don't hate me hate me Don't hate hate me Chain of lies chain of events The keys are in your reach but not in your hands You don't have to be a quote good unquote Person to be let free I'm thinking How will you understand? As if I would back then How will they understand that's who I was not who I am? And I'm not a perfect soul and I'll fall again I know but oh I must pull myself together this is a brand new day Pull myself away from my mistakes Pull myself together it's time to let the waves Just take me pull me away And I know for you this must be hard Giving me a second start And I know I'm a little bit late But please don't hate me hate me Don't hate hate me So pull myself together this is a brand new day Pull myself away from my mistakes Pull myself together it's time to let the waves Just take me pull me away And I know for you this must be hard Giving me a second start And I know I'm a little bit late But please don't hate me hate me Don't hate hate me The crazy new you You're running for Is right here where you're at\", \"Hey! I didn't want to give this up I didn't. Hey! I didn't want to throw it all away. They said I'd forever never go but I didn't. I didn't leave it. Watch from a sinking ship (alright) Hear the record skip (burning airlines) Fearful in my bones Am I alive or am I just dying inside just to get by? I'm so sick and tired Of the liar that's in my life. I'm so sick and tired Of the fire that won't ignite I'm sick of myself for letting you get to me Taking everything that I'm supposed to be Hey! I didn't want to give this up I didn't. Hey! I didn't want to throw it all away. They said I'd forever never go but I didn't. I didn't leave it. The states Europe and to Japan I'm a complicated man. I used to never stand up Now i won't back down Don't try to shut me up. I'm so sick and tired Of the liar that's in my life. I'm so sick and tired Of the fire that won't ignite I'm sick of myself for letting you get to me Taking everything that I'm supposed to be Hey! I didn't want to give this up I didn't. Hey! I didn't want to throw it all away. They said I'd forever never go but I didn't. I didn't leave it. Take that take that out take it out!\", '', \"Stop the press everything a mess You can look alive but you are not at rest And I ideas are flowing through your head A million miles an hour while lying in your bed A lucid life you never thought you'd lead Are you working everyday? Are you working just to bleed? I know I know I know I know I know You're staring at the names of the famed That are dipped in gold The feeling you deserve what you heard But it doesn't go that way Oh the tongues of men and angels I speak but lack love Oh love will it stab you in the back? Working everyday I'm afraid I forgot to show What's most important love Here I am dear Lord tasting hints of fame I don't want it anymore if it's not you that I gain Wanna fall at Your feet don't wanna fall from Your peace I understand Have you ever been the man that just ran When you knew that God was talking? Have you ever heard His voice through the noise But just let it go away? Oh the tongues of men and angels I speak but lack love Oh love will it stab you in the back? How can I go with mine instead of yours When yours is always right I'm sorry just pour into me love Here I am dear Lord tasting hints of fame I don't want it anymore if it's not You that I gain Wanna fall at Your feet don't wanna fall from Your peace I understand A heart at rest is harder now Don't let it go away A hard earned pay a hard earned pain Right now they're just the same What's the use why work so hard When it's not what you crave When what you need is love? Here I am dear Lord tasting hints of fame I don't want it anymore if it's not You that I gain Wanna fall at Your feet don't wanna fall from Your peace I understand oh Lord Here I am dear Lord tasting hints of fame I don't want it anymore if it's not You that I gain Wanna fall at your feet don't wanna fall from Your peace I understand\", \"And talk about me because I've been everyday And talk about me because What you hope you don't know hope about Talk about me because You believe everyday I sing about me because We come undone but they will come home Just wait wait I will wait for you This is a refuge and this is hope This is a refuge and this is love Forget lies that led you away from home 'Cause this is a refuge this is love And stay up all night and day Just waiting on the rain When you come down It's desert dry but I will Wait a second to see Words that you promised me We're seeking diligently Bring the rain bring the rain I will wait wait I will wait for you This is a refuge and this is hope This is a refuge and this is love Forget lies that led you away from home 'Cause this is a refuge this is love It's been a hard month and a week Here we go again It's breaking my heart Looking for peace looking for anything But I will rely I will repeat Just in my everything In you it's in me Yeah yeah yeah This is a refuge and this is hope Forget lies that led you away from home And this is a refuge and this is hope This is a refuge and this is love I don't wanna look back on all my years Of where collecting mistakes that then will be clear That how  my whole life then come aware That I was there I was there\", '', '', '', '', '', '', '', '', '', '', '', '', '', '', '', '', '', '', '', '', '', '', '', '', '', '', '', \"Well I walk upon the river like it's easier than land Evil's in my pocket and your will is in my hand Oh your will is in my hand And I'll throw it in the current that I stand upon so still Love is all from what I've heard but my heart's learned to kill Oh mine has learned to kill Oh I said I could rise from the harness of our ghost Here come the tears but like always I let them go oh oh oh Just let them go Now spikes will keep on falling from the heavens to the floor The future was our skin and now we don't dream any more No we don't dream anymore oh oh oh Like a house that's made from spider webs and the clouds are rolling in You bet this mighty river's both my saviour and my sin Oh my savior and my sin Oh I said I could rise from the harness of our ghost Here come the tears but like always i let them go oh oh oh Just let them go Well I walk upon the river like it's easier than land Evil's in my pocket and your strength is in my hand your strength is in my hand And I've thrown you in the current that I stand upon so still Love is all from what I've heard but my heart's learned to kill Oh mine has learned to kill Oh I said I could rise from the harness of our ghost Here come the tears but like always i let them go oh oh oh Just let them go\", 'Oh when it\\'s god I see in headlights kneeling down on frozen highways And salvation in white knuckles on a wheel And the deer is in the audience by the border of the darkness Where forgiveness grows and slowly winds away Well there\\'s a question somewhere asked with all the answers inside But I\\'ll never find the kid before she\\'s gone Well the day is never done but there\\'s a light on where you\\'re sleeping So I hope somewhere that troubles will be gone But now the ghost is in my jacket and my stairs were built in anger Winding forcefully but end up where I stand But there are no rocks or salt and nails I low my cannons not to kill you SImply lost the words to tell you I\\'m afraid And there\\'s a sign up to a hill to see the far of the land Well the sign will tell you \"Turn if there\\'s a one\" Still the day is never done but there\\'s a light on where you\\'re sleeping So I hope somewhere that troubles will be gone Oh darling when it\\'s you I see in headlights driving down the golden highway And salvation in the beauty of some brace And the deer is gone without me to the valley of surrender There is still another world along it\\'s tracks But there\\'s that sign up to a hill to see the far of the land Well the sign will say \"There\\'s still a higher one\" And now the day is slowly setting and the lights on where you\\'re sleeping So I hope somewhere that troubles will be gone', \"Oh I have lived for ages I'm a thousand turns of tides I'm a thousand wakes of springtime and thousand infant cries Oh a thousand infant cries I got sixteen hundred tigers now tied to silver strings When they plowed in the pastures oh the mighty heart will sing Oh the mighty heart will sing But I'll always be blamed for the sun going down with us all But I'm the light in the middle of every man's fall I bend my arrows now in circles and I shoot around the hill If I don't get you in the morning by the evening I sure will By the evening I sure will Because I'm the fire on the mountain you have lit up in your dream But also water on the fountain you could send myself on me You could send myself on me Because I'll always be blamed for the sun going down with us all But I'm the light in the middle of every man's fall And no I never meant to say these words but yes you ought to know That the dark in what I've always been it will not ever go No it will not ever go And for so I lived a thousand years a thousand turns of tides Just a thousand leaves in autumn and a thousand ways to try Oh a thousand It's just a thousand ways to try Ways to try\", \"There's a palace a-fallin'  There's a smoke in the sky There's a boy running down into the lowlands tonight And he's catching a train to where he's heard you have been He's a fool now among us but a dreamer within Dreamin' of you And on that day there was snowfall in the street yellow light And they cleared the bill and rails just by those dark shimmer eyes In that land there's a winter In that winter's a day In that day there's a moment when it all goes all your way And you know it's a lion's heart That will tumble and tear apart When he's comin' down the hills for you But can you still now remember who's been hiding up there Through his howling at twilight all his songs of despair Do you remember the caller of a black and white crime? Well he lives by that memory and falls through his mind And you know it's a lion's heart That will tumble and tear apart When he's comin' down the hills for you Well he'll walk in the city forever Oh walk in a time to be gone Well there's no real goodbye if you mean it So hey guess I'm forever alone Now he's a stranger among us he will die in the park Where he hides from the statues and the weather remarks In that land there's a winter In that winter's a day In that day there's a moment when it all goes away And you know it's a lion's heart That will tumble and tear apart When it's comin' down the hills for you\", \"She said I cannot tell you why she said I'm in a rush There are softer dreams for you to think about now love Things that you have seen this night that run by that the river's flow I can use you if you're in the flame I'm a growin' old And no this is not the summer dream she said It's just the drying of the lawns I want to leave out there Well I've said I've sailed the frozen corners of the dark Atlantic Sea And I drifted on the waves and the mirage beneath And never have I felt such numb and pointless searchin' true As when I set my eyes and torched the plans on the mark of you And no this is not the summer dream she said It's just the drying of the lawns I want to leave out there She said you follow me like sheep that think this king could do some harm But I tell you boy I'm frightened still with a sister's heart I set my eyes upon the shore whenever you wake up I'm leavin' because you don't feel what you're dreamin' of And no this is not the summer dream she said It's just the drying of the lawns I want to leave out there But I will stand down in the hallway with no thought to leave the set Of a movie I will sure as hell not end just yet If pain and awful romance then this mornin' is for us It will never ran and our last dream will leave this house And no this is not the summer dream I said It's just the drying of the lawns that want to leave us here Oh it's the drying of the lawns that want to leave us here\", \"I never knew I was a lover Just cause I steal the things you hide Just cause I focus while we're dancing Just cause I offered you a ride. Still I am not from Barcelona I am not even from Madrid. I am a native of the North Pole And that can mess up any kid. Well if you could reinvent my name Well if you could redirect my day I wanna be the King of Spain. And I will settle in Pamplona And I'll provoke the bulls with words And then I'll send a man to meet them all But he's fake so I have heard. And all the senoritas sighing Will be the fountain of my lies. But while we're floating in siestas You search for bottles and for knives. Well if you could reinvent my name Well if you could redirect my day I wanna be the King of Spain. And I wear my boots of Spanish leather Oh while I'm tightening my crown. I'll disappear in some flamenco Perhaps I'll reach the other side. Why are you stabbing my illusion? Just cause I stole some eagle's wings Because you named me as your lover Well I thought I could be anything. Well if you could reinvent my name Well if you could redirect my day I wanna be the King of Spain.\", '', \"Oh I was sent to find the lonesome place Where I was lost but left to trace By carving riddles on the lonesome vine. Oh but rumor has it that I wasn't born I just walked in one frosty morn. Into the vision of some vacant mind. Oh once I held a pony by its flying mane And once I called the shadow in the turning game But I will fight this stranger that you should fear So I won't be a burden of tomorrow dear Aww Xavier's on the border of the sun Swings on the chambers of your guns. And tries to shoot the chord and light the path. Aww but hell I'm just a blind man on the plains I drink my water when it rains And live by chance among the lightning strikes. Oh once I held a glacier to an open flame And once I felt like wildcat in the fallen game. But I will fight this stranger that you should fear So I won't be a burden of tomorrow dear. Oh the singers on the edge to feed the canyons mouth They will go on forever til they sing you out of time. But I will fight this stranger that you should fear So I won't be a burden of tomorrow dear.\", '', '', '', '', '', '', '', '', '', '', \"Midnight is calling The moon is up above And I can hear you calling Those sad eyes looking for love Tied up by your memories It's quarter to four And you always have the upper hand I always come back for more Careful what you wish for I know the score You go no no no no no no no no no You know no no no no no no no no no You go no no no no no no no no no no You're no good Afraid to see the sunrise Cause darkness come to end Dreams that rest upon you Faintly feel that sentiment Careful what you wish for I know the score You go no no no no no no no no no You know no no no no no no no no no You go no no no no no no no no no no no no You're no good\", '', '', \"Talking to you talking to me across the satellite The star of modern man but this old-fashioned girl stands still in time Ohhh oh oh There's nothing to cure I've been this way for centuries Hard to believe that anything so pure could kill with such ease Ohhh oh oh We've been surrounding ahh Ohhh oh oh And terrorizing ahh Talking to you talking to me across the satellite Oh now the star of modern man but this old-fashioned girl stands still in time Ohhh oh oh\", '', '', '', '', '', '', '', '', '', '', '', '', '', 'Some of these trees have been growing for years The leaves on the floor must be five metres deep The paths are a labyrinth or even a trap Some tides don\\'t turn some things never come back. Secret recordings were made in the marsh I bore a hole in the tree just to see Knights dance in molecules here\\'s Gallahad They\\'re rising back up they\\'re rising back up. Shadows dance back up it\\'s happening again If you listen carefully you might hear them whisper: \"We hold all the secrets we hold all the words; But they\\'re scrambled and broken so you\\'ll never know\" (And that the Thames flows beneath the grass) Can\\'t you see them floating like black ash? Can\\'t you feel them crawling down your back? Can\\'t you feel them breathing down your neck? Sea breeze sea breeze.', '', '', '', '', '', '', '', '', '', '', '', '', '', '', '', '', '', '', '', '', '', '', '', '', '', '', \"You have got a lot of nerve to behave the way that you do Making me listen to all of your carrying on You are not the only one who thinks that life is so cruel Me I have got problems of my own If you talk and nobody's listening It's almost like being alone So it's alright the way you piss and moan It's alright the way you piss and moan Like the time traveler who killed his grandfather These cycles are bringing me down We could build a nice life together If we don't kill each other first Are you just too fucked up to understand me Or is it the other way around? Maybe it's both And I just don't know which is worse So you better thank your lucky stars You don't know half what I know is true But it's alright if you think that you do It's alright if you think that you do Was it the Devil Or was it the Lord Who gave you those words The ones I never heard? That it's alright to kill and it's alright to steal If you're willing to hold up your part of the deal There are plenty of things that are worth dying for But you'll never know until you open that door And reasons for living are seldom and few When you see one you better stick to it like glue Yes it's true It is true it's true If I were there to keep satisfied all of your carnal desires Then it might be my place to say what is or isn't forbid So how can I hold it against you if you answer the call of the wild? No matter how brilliant a woman you're only a kid But if you know that nobody is ever going to suffer for you like I did Then it's alright the way that you live It's alright the way that you live It's alright the way that you live It's alright the way that you live It's alright the way that you live It's alright the way that you live It's alright the way that you live It's alright the way that you live It's alright now\", '(Whispered) Are we ready to go? \"From whence shall we expect the approach of danger? Shall some transatlantic giant step the earth and crush us at a blow? Never! All the armies of Europe and Asia could not by force take a drink from the Ohio River or set a track on the Blue Ridge in the trial of a thousand years. If destruction be our lot we ourselves must be its author and finisher. As a nation of free men we will live forever or die by suicide.\" (-Lincoln) There\\'ll be no more counting the cars on the garden state parkway Nor waiting for the Fung Wah bus to carry me to who-knows-where And when I stand tonight \\'neath the lights of the Fenway Will I not yell like hell for the glory of the Newark Bears? \\'Cause where I\\'m going to now no one can ever hurt me Where the well of human hatred is shallow and dry No I never wanted to change the world but I\\'m looking for a new New Jersey \\'Cause tramps like us baby we were born to die I\\'m doing 70 on 17 I\\'m doing 80 over 84 And I never let the Meritt Parkway magnetize me no more Give me a brutal Somerville summer give me a cruel New England winter Give me the great Pine Barrens so I can see them turned into splinters \\'Cause if I come in on a donkey Let me go out on a gurney I want to realize too late I never should have left New Jersey I sense the enemy They\\'re rustling around in the trees Oh I thought I had gotten away But they followed me to 02143 Woe oh woe is me No one knows the trouble I see When they hang Jeff Davis from a sour apple tree I\\'ll sit beneath the leaves and weep None of us shall be saved Every man will be a slave For John Brown\\'s body lies a\\'mouldring in the grave And there\\'s rumblings down in the cave So if it\\'s time for choosing sides And to show this dirty city how we do the Jersey Slide And if it deserves a better class of criminal Then I\\'m\\'a give it to them tonight So we\\'ll rally around the flag rally around the flag Rally around the flag boys rally once again shouting the Battle Cry of Freedom Rally around the flag rally around the flag Glory glory hallelujah His truth is marching on \"I will be as harsh as truth and as uncompromising as justice. On this subject I do not wish to think or speak or write with moderation. I am in earnest. I will not equivocate I will not excuse I will not retreat a single inch and I will be heard.\"', '', \"You have got a lot of nerve to behave the way that you do Making me listen to all of your carrying on You are not the only one who thinks that life is so cruel Me I have got problems of my own If you talk and nobody's listening It's almost like being alone So it's alright the way you piss and moan It's alright the way you piss and moan Like the time traveler who killed his grandfather These cycles are bringing me down We could build a nice life together If we don't kill each other first Are you just too fucked up to understand me Or is it the other way around? Maybe it's both And I just don't know which is worse So you better thank your lucky stars You don't know half what I know is true But it's alright if you think that you do It's alright if you think that you do Was it the Devil Or was it the Lord Who gave you those words The ones I never heard? That it's alright to kill and it's alright to steal If you're willing to hold up your part of the deal There are plenty of things that are worth dying for But you'll never know until you open that door And reasons for living are seldom and few When you see one you better stick to it like glue Yes it's true It is true it's true If I were there to keep satisfied all of your carnal desires Then it might be my place to say what is or isn't forbid So how can I hold it against you if you answer the call of the wild? No matter how brilliant a woman you're only a kid But if you know that nobody is ever going to suffer for you like I did Then it's alright the way that you live It's alright the way that you live It's alright the way that you live It's alright the way that you live It's alright the way that you live It's alright the way that you live It's alright the way that you live It's alright the way that you live It's alright now\", 'The enemy is everywhere the enemy is everywhere The enemy is everywhere the enemy is everywhere But nobody seems to be worried or care That the enemy is everywhere The enemy is everywhere the enemy is everywhere The enemy is everywhere the enemy is everywhere But no one seems to be worried or care That the enemy is everywhere The enemy is everywhere the enemy is everywhere The enemy is everywhere the enemy is everywhere But no one seems to be worried or care That the enemy is everywhere The enemy is everywhere the enemy is everywhere The enemy is everywhere the enemy is everywhere But no one seems to be worried or care That the enemy is everywhere ', '', \" \\r Turn those fans away from me They only dry my eyes out Ever since I was born I couldn't see Ever since I could see I couldn't find Why you close your lips so tight When I try to kiss you off goodbye  Ohh Ohh  I never wanted to be never understanding Learning comprehension leaving everyone Wondering where you went Doesn't matter does it not? Doesn't matter does it not? Doesn't matter does it not? Doesn't matter does it not? Doesn't matter does it not? Doesn't matter does it not? Doesn't matter does it not? Doesn't matter does it not? Doesn't matter does it not? Doesn't matter does it not? Doesn't matter does it? \", '', \"Ohh I believe there's someone watching over you They're watching every single thing you say And when you die they'll set you down and take you through You'll realise one day Ahhh... That the grass is always greener on the other side The neighbour's got a new car that you wanna drive And when time is running out you wanna stay alive... We all live under the same sky We all will live we all will die There is no wrong there is no right The circle only has one side Side... Side... We all try hard to live our lives in harmony For fear of falling swiftly overboard But life is both a major and a minor key Just open up the chord Ahhh... But the grass is always greener on the other side The neighbour's got a new car that you wanna drive And when time is running out you wanna stay alive... We all live under the same sky We all will live we all will die There is no wrong there is no right The circle only has one side Side... Side... Side... But the grass is always greener on the other side The neighbour's got a new car that you wanna drive And when time is running out you wanna stay alive... We all live under the same sky We all will live we all will die There is no wrong there is no right Ahhh... But the grass is always greener on the other side The neighbour's got a new car that you wanna drive And when time is running out you wanna stay alive... We all live under the same sky We all will live we all will die There is no wrong there is no right The circle only has one side... Side... Side... Side... Side... Side...\", '', '', '', '', '', '', '', '', '', '', '', '', '', '', '', '', '', \"Trick of the light turn of the tide A rift in a valley full moon in July Red summer sun mourning a cold April sky That lonely October so cruel to deny A wish for a fountain lost in the winds A kick from a new life about to begin A south facing island that floods in the spring Will call to October new life it will bring It will bring it will bring it will bring A drop in the ocean short of the line Cursing a feeling caught up by the night Repairing the ruin reducing the sting That falling October will bring Hope that is dreaming love that is torn Dancing like dust in the eye of the storm Truth will be lost when the mocking bird dies October returns with its cold winter skies Awe can't be touched faith can be blind Fooled by a past that the world left behind Hidden in rocks that are lost to the shore Of silent October you choose to ignore\", '', '', '', '', '', '', '', '', '', '', '', '', '', '', '', \"You're too young you're never gonna know what hit me When I fell down in silence No one thinks what I'm doing is the right way forward You'll see it's not just a dream now You think you know you don't know You're too young you're never gonna know what hit me When I fell down in silence No one thinks what I'm doing is the right way forward You'll see it's not just a dream now You think you know you don't know You think you know you don't know You think you know you don't know You think you know you don't Know oh oh oh It's what you get when you try to educate a black sheep You can't you won't you never will I'm gonna show you what it takes to see the future It's hard but not impossible You think you know you don't know You think you know you don't know You think you know you don't know You think you know you don't Know oh oh oh You think you know oh oh oh Know oh oh oh Know oh oh oh Know oh... Oh oh oh ohhhh (repeat) And I believe this costume party is over Before it gets started And I believe this costume party is over And I believe this costume party is over Before it gets started And I believe this costume party is over over over now\", \"In a few weeks I will get time To realise it's right before my eyes And I can take it if it's what I want to do I am leaving this is starting to feel like It's right before my eyes And I can taste it it's my sweet beginning And I can tell just what you want You don't want to be alone You don't want to be alone And I can't say it's what you know But you've known it the whole time Yeah you've known it the whole time Maybe next year I'll have no time To think about the questions to address Am I the one to try to stop the fire? I wouldn't test you I'm not the best you could have attained Why try anything? I will get there just remember I know And I can tell just what you want You don't want to be alone You don't want to be alone And I can't say it's what you know But you've known it the whole time Yeah you've known it the whole time And I can tell just what you want You don't want to be alone You don't want to be alone And I can't say it's what you know But you've known it the whole time Yeah you've known it the whole time\", \"You won't believe what I tell you White coats and clever minds will choose You get a lot from this Loose tongue and arrogance It's not appropriate Don't think that this is it Now I can talk no one gets off (I know how you like to) Now I can talk no one gets off Now I can talk no one gets off (I know how you like to) Now I can talk no one gets off A longer sentence brings no more Than one that I had said before It's hard to compromise When I see through your eyes It's just a common view I guess it's lost on you Now I can talk no one gets off (I know how you like to) Now I can talk no one gets off Now I can talk no one gets off (I know how you like to) Now I can talk no one gets off ... Now I can talk no one gets off (I know how you like to) Now I can talk no one gets off Now I can talk no one gets off (I know how you like to) Now I can talk no one gets off\", \" \\r Love makers tremble with fear Backstabbers probably hear  Walk Walk  Backstabbers tremble with fear Love makers 'll probably hear  Walk Walk Walk Walk  Why must the people cry Why must the people cry for me Why must the people cry Why must the people cry for me Why must the people cry Why must the people cry for me Why must the people cry Why must the people cry for me Why must the people cry Why must the people cry for me Why must the people cry Why must the people cry for me \", '', '', '', '', '', '', '', '', '', \" \\r There is a man that live next door In my neighborhood In my neighborhood And he gets me down...  He gets in so late at night Always a fuss and fight Always a fuss and fight All through the night  I've got to get away from here This is not a place for me to stay I've got to take my family We'll find a quiet place  Hear the pots and pans they fall Bang against my wall Bang against my wall No rest at all  He gets in so late at night Always a fuss and fight Always a fuss and fight All through the night  I've got to get away from here This is not a place for me to stay I've got to take my family We'll find a quiet place \", '', '', \"You're my heavy drug* You're my heavy drug You're my heavy drug You're my heavy drug. I need your love I need your love I need your love.\", \"I got somethin' MCs Can Kiss I got somethin' MCs Can Kiss When I start to rap I start to rap I sta-sta-sta-sta-start l-li-like this I got somethin' MCs Can Kiss I got somethin' MCs Can Kiss When I start to rap I start to rap I sta-sta-sta-sta-start l-li-like this I got somethin' MCs Can Kiss I got somethin' MCs Can Kiss Now don't say don't say don't say this I got somethin' MCs Can Kiss Yeah I got something MCs Can Kiss It's a nice bum cheek and it goes like this You fuck with the wrong bitch (Is the battle over here?) I don't care I quit There's two kinds of MCs out there There's the ones who rap and the ones who don't care And frankly I don't give a fuck You might be dope on the mic but your music sucks (uh!) Not me I got some dope beats I'm an entertainer not a lyricist I'm so far from all you girls out there If I get popular I know that ain't fair I got 9 million plays and 12 hundred friends Don't hate the player man hate the game I never force anyone to listen my music Never send a bulletin never post the shit I'm a musical youth and I rules the nation Something is wrong with this generation They just want to play games like GTA Eating some junk food smoke weed all day And when the freaks come out at night They dancing hot and they getting high Guess who's making big bucks on this? I got something MCs Can Kiss I got somethin' MCs Can Kiss I got somethin' MCs Can Kiss When I start to rap I start to rap I start st-start st-start l-li-like this Now for all the girls who got work out there I wanna see you wave your hands like you just don't care You're looking all dressed up in your fancy clothes We got you dancing as the music goes The club is spinning round to the cowbell sound (?) Stomp your feet and shake the ground Make way for the ladies who are ready to play We gonna party like it's Saturday I got somethin' MCs Can Kiss I got somethin' MCs Can Kiss When I start to rap I start to rap I sta-sta-sta-sta-start l-li-like this I got somethin' MCs Can Kiss I got somethin' MCs Can Kiss When I start to rap I start to rap I sta-sta-sta-sta-start l-li-like this Yeah Uffie's going just a little higher Jump jump 'til you get tired One for the ladies two for my DJ Three to get ready we gotta let the beat play Four to the floor you can kiss my ass I'm the least working girl in showbusiness Yeah and I come home at six Well you're sleepy don't quit let's do this on the beat (?) I don't have any job to attend in the morning No boss on my shoulders to check how I'm doing And maybe that's why I don't do so much Unless I go too early cause I was on the rush Of making my own dough of doing my homework To travel the whole world to try all kinds of stuff I even tried out to play saxophone And you'll be the first one to hear how it sound\", '', '', '', '', '', \"There goes my baby (oo girl look at you) You don't know how good it feels to call you my girl There goes my baby Loving everything you do Oo girl look at you Bet you ain't know that I be checking you out When you be putting your heels on I swear your body's so perfect baby How you work it baby yea I love the way that you be poking it out Girl give me something to feel on So please believe we gone be twerking it out By the end of the night baby I've been waiting all day to wrap my hands Around your waist and kiss your face Wouldn't trade this feeling for nothing Not even for a minute And I'll sit here long as it takes To get you all alone But as soon as you come walking my way You gon hear me say There goes my baby (oo girl look at you) You don't know how good it feels to call you my girl There goes my baby Loving everything you do Oo girl look at you I get the chills whenever I see your face And you in the place girl Feel like I'm in a movie baby I'm like oowee baby oh Like waterfalls your hair falls down to your waist Can I get a taste girl No need to keep this baby I ain't ashamed of calling your name girl I've been waiting all day to wrap my hands Around your waist and kiss your face Wouldn't trade this feeling for nothing Not even for a minute And I'll sit here long as it takes To get you all alone But as soon as you come walking my way You gon hear me say There goes my baby (oo girl look at you) You don't know how good it feels to call you my girl There goes my baby Loving everything you do Oo girl look at you And girl I feel like it's our first time Everytime we get together Baby loving you feels better than Everything anything Put on my heart you don't need a ring And I promise our time away won't change my love There goes my baby (oo girl look at you) You don't know how good it feels to call you my girl There goes my baby Loving everything you do Oo girl look at you There goes my baby (oo girl look at you) You don't know how good it feels to call you my girl There goes my baby Loving everything you do Oo girl look at you\", \"Usher Baby I just wanna get your attention I really wanna be your love in your head Coz when I got you don't wanna get some yeah But girl that's only if you ain't scared And I won't knock or ring no bells You just float bottom up in the air I'll get you hot I know you oh so well And when I'm walking all that I wanna hear Is you say Daddy's home home for me And I know you've been waiting for this love in your day You know your daddy's home (daddy's home) And it's time to play (so it's time to play) So you ain't got to give my loving away So all my ladies say hey hey hey daddy Hey hey hey daddy So all my ladies say hey hey hey daddy Hey hey hey daddy I ain't gotta do a lot of flexin Shorty you already know what it is And girl tonight we'll gonna do a lot of sexin' Can't nobody do your body like this Ohh I won't knock or ring no bells You just float bottom up in the air Said I'll get you hot I know you oh so well And when I'm walking all that I wanna hear Is you say Daddy's home home for me And I know you've been waiting for this love in your day You know your daddy's home (daddy's home) It's time to play (so it's time to play) So you ain't got to give my loving away So all my ladies say hey hey hey daddy (daddy know what you like) Hey hey hey daddy So all my ladies say hey hey hey daddy Hey hey hey daddy Poke it on out poke it out right there I'm a fall back while you work that chair Do that damn thing let the neighbors hear Poke it on out poke it out right there I'm a fall back let you work that chair Do that damn thing all I wanna hear Is you say Daddy's home home for me And I know you've been waiting for this love in your day You know your daddy's home (daddy's home) It's time to play (so it's time to play) So you ain't got to give my loving away Daddy's home home for me And I know you've been waiting for this love in your day You know your daddy's home (daddy's home) It's time to play (so it's time to play) So you ain't got to give my loving away So all my ladies say hey hey hey daddy Hey hey hey daddy (call me daddy babe) So all my ladies say hey hey hey daddy Hey hey hey daddy Hey daddy know what you like yeah\", \"Just tell me where to go and I'll take off my clothes for you (Yeah) (You know we had to do it again right?) You're in total control and you're running the show I'll do whatever you tell me baby Baby I can come by and pick you up We'll make love into the night it's never enough Oh babe I know what you like And I would make love to you forever and ever Into the night (forever and ever we'll make love into the night) Your wish is my command so I'll cancel my plans tonight (Yeah) (Oh baby yeah) I'll make you understand that I'm the only one who can handle your body right And I'm a show you tonight (Ooh wee baby I'm coming) Baby I can come by and pick you up We'll make love into the night it's never enough Oh babe I know what you like And I would make love to you forever and ever Into the night (forever and ever we'll make love into the night) If you ever wanna know (if you ever wanna know) Who I love (who I love) That's you (that's you) that's you (that's you) It's you (it's you) yes you (Yes you) Oh and I ain't never leaving baby you gotta believe me You're the one I love and girl ask who I love Cause that's you (that's you) that's you (that's you) Yes you (Yes you) yeah you Baby I can come by and pick you up We'll make love into the night it's never enough Oh babe I know what you like And I would make love to you forever and ever Into the night (forever and ever we'll make love into the night) (Ay jill) You gonna wanna tell everybody Bout how I got you all coming when I call You know I break you off And if these walls could talk they would tell everybody Bout how I put it down You know I shut you down Got you up off the ground yes I can't be wasted And if I let you on my spaceship You'll have to let me taste it Hop on it I'm a give you a ride Cause we gonna make love all through the night\", '   The game bout to change Usher Woah man (yall are somethin else) Yeah A lotta women You know they say yall do it better than us (and I learned from the best man) Because we only see what youre doin But I see ya. Where we at? This right here is for my triple Gs with the double DDs Go get em girls (haha yeah man) You know who you are Where we at? (Over here lookin how we lookin) Aint that right? (Huh yeah) Go get em girls (I see you)   I profess Im a lover minor scholar of anatomy Doctor of feminine chemistry Got a healthy fascination for a multitude relation with plenty women thats ? And it happens every once in a while I go too deep that I gotta shut it down She keep on comin by wont quit on callin its safe to say that shes fallin She pleadin she dont want me to leave I had to tell her   No no no She keep on begging for more No no no She said you dont love me no more Thats when I be like   Lovin me baby thats a no-no (no-no) Im better when I touch and go Im trying to add yo name to my hall of fame Not just a player Im a pro lover (lover)   As a quick pro call we can both come and go This aint about fidelity (uh-uh) Thought I was a pimp player hustler baller (huh) Woah man she a G (yeah) and do it better than me (do it better than us man) When it happens then every once in awhile She gon cook just to hook you for a while Cant escape take your pick either way youre a trip cause Man if she layin for it that means you payin for it   No no no She keep on begging for more No no no She said you dont love me no more Thats when I be like   Lovin me baby thats a no-no (no-no) Im better when I touch and go Im trying to add yo name to my hall of fame Not just a player Im a pro lover (lover)   Tick-tock better hurry times runnin out So you better be sure before we lay down Knock-knock Daddys home open up girl I can tell that its been awhile youve been waiting Come through it so many times (with women that I do it) Aint tryin to make you mine (but I like the feeling) Thats gon be honest baby we dont go through drama here baby Cause when you give it up you gon get addicted and go crazy and lose your mind   How many of you like that (keep on asking me for more) (More more more)   Lovin me baby thats a no-no (no-no) Im better when I touch and go Im trying to add yo name to my hall of fame Not just a player Im a pro lover (lover)  Not just a player Im a pro lover (lover) Not just a player Im a pro lover (lover)   Better ask somebody (Players real Gs feel me on this one) Aint that right girl yeah (Not just a player Im a pro lover) Lover (not just a player Im a pro) I know you got it baby Biggest player in the world Yeah you know who you are ', \"I can't believe my eyes Connects your sexiness body The way you do it with your hands up I just wanna be all over Let me rock with you Don't let nothin' interrupt this groove Goin' at it like we 'bout to She know when you like you're my girl You probably sayin' that's a damn shame I don't even know your name I know it won't probably matter tonight 'Cause you been all on me I'm like okay So guess we can take this here home So we can make a love song I can be the best part of you wakin' up Shawdy now how that you hear that sound okay Ah ha yeah I see you wanna take it slow Go in drop it to the floor real low ooh You know I want you back 'cause I been all on that ass And you ain't lookin' at me sideways And the DJ is playin' the last song And it's comin' down to our last call baby This slow jam is specially dedicated We've been away for the night to end come on You probably sayin' that's a damn shame I don't even know your name I know it won't probably matter tonight You been all on me I'm like okay So guess we can take this here home So we can make a love song I can be the best part of you wakin' up Shawdy now how that you hear that sound okay Ooh yeah 'cause outside with maybe if you ready to run Ooh love that I got you opened up Curious of mine to know what's on your mind girl Girl we been at it so long I can't wait just want to make sure were on the same page Come on come on come on I be on some other shit when I look at talk And I know you You probably sayin' that's a damn shame I don't even know your name I know it won't probably matter tonight You been all on me I'm like okay So guess we can take this here home So we can make a love song I can be the best part of you wakin' up Shawdy now how that you hear that sound okay You probably say that's a damn shame I don't even know your name I know it won't probably matter tonight You been all on me I'm like okay So guess we can take this here home So we can make a love song I can be the best part of you wakin' up Shawdy now how that you hear that sound okay\", '', ' \\r Unsentimental Traveling around Sure of myself Sure of it now You were standing so close to me Like the future was supposed to be In the aisles of the grocery In the blocks uptown  I remember Remember well But if I\\'d forgotten Could you tell  In the shadow of your first attack I was questioning and looking back You said \"Baby we don\\'t speak of that.\" Like a real aristocrat.  Compound to compound Lazy and safe Wanted to leave it Wanted to wait When the taxi door was open wide I pretended I was horrified By the uniform and gloves outside Of the courtyard gate  You\\'re not a victim But neither am I Nostalgic for garbage Desperate for time I could blame it on your mother\\'s hair Or the colors that your father wears But I know that I was never fair You were always fine  Unsentimental Traveling around Sure of myself Sure of it now You were standing so close to me Like the future was supposed to be In the aisles of the grocery In the blocks uptown  I remember Remember it well And if I\\'d forgotten Could you tell  In the shadow of your first attack I was questioning and looking back You were standing on another track Like a real aristocrat ', ' \\r Holiday O A Holiday! And the best one of the year Dozing off underneath my sheets While I cover both my ears  But if I wait for a holiday could it stop my fear? To go away on a summer’s day never seemed so clear  Holiday still so far away Our republic on the beach I can’t forget just how bad it gets When I’m counting on my teeth  But if I wait for a holiday Could it stop my fear? To go away on a summer’s day Never seemed so clear  A vegetarian since the invasion She’d never seen the word BOMBS She’d never seen the word BOMBS blown up To 96 point Futura She’d never seen an AK In a yellowy Day Glo display A t-shirt so lovely it turned all the history books grey  I’ve got wheels I’ve got cutter spray And a healthy sense of worth Half of me is the gasoline But the other half’s the surf  So if I wait for a holiday could it stop my fear? To go away on a summer’s day never seemed so clear ', 'Every dollar counts And every morning hurts We mostly work to live Until we live to work She said \"You know There\\'s nowhere else to go\" But changing roles It struck me that the two of us could run Worlds away from cars And all the stars and bars Where a little bit of condensation means so much And a little bit of change is all your little fingers touch I said \"You know There\\'s nowhere else to go\" But changing roles It struck me that the two of us could run Honey with you Is the only honest way to go And I could take two But I really couldn\\'t ever know Honey with you And a little battered radio We could try So lead my feet away Cuz all they\\'ll do is stay And I don\\'t think your eyes Have ever looked surprised She said \"You know There\\'s nowhere else to go\" But with her fund It struck me that the two of us could run Honey with you Is the only honest way to go And I could take two But I really couldn\\'t ever know Honey with you And a little battered radio We could try', ' \\r I had a feeling once That you and I Could tell each other everything For two months  But even with an oath With truth on our side When you turn away from me It\\'s not right  I think you\\'re a Contra I think you\\'re a Contra I think you\\'re a Contra I think you\\'re a Contra  My revolution thoughts Your little arrows of desire I want to trace them to the source And the wire  But it\\'s not useful now Since we\\'ve both made up our minds You\\'re going to watch out for yourself And so will I  I think you\\'re a Contra And I think that you\\'ve lied Don\\'t call me a Contra Til you\\'ve tried  You wanted good schools And friends with pools You\\'re not a Contra  You wanted Rock and Roll Complete control Well I don\\'t know  Never pick sides Never choose between two But I just wanted you I just wanted you  You said \"Never pick sides Never choose between two\" But I just wanted you I just wanted you  I think you\\'re a Contra And I think that you\\'ve lied Don\\'t call me a Contra Til you\\'ve tried ', \" \\r Your sword's grown old and rusty Burnt beneath the rising sun It's locked up like a trophy Forgetting all the things it's done  And though it's been a long time You're right back where you started from I see it in your eyes That now you're giving up the gun  When I was 17 I had wrists like steel And I felt complete  And now my body fades Behind a brass charade And I'm obsolete  But if the chance remained To see those better days I'd cut the cannons down  My ears are blown to bits From all the rifle hits But still I crave that sound  Your sword's grown old and rusty Burnt beneath the rising sun It's locked up like a trophy Forgetting all the things it's done  And though it's been a long time You're right back where you started from I see it in your eyes That now you're giving up the gun  I heard you play guitar Down at a seedy bar Where skinheads used to fight  Your Tokugawa smile And your garbage style Used to save the night  You felt the coming wave Told me we'd all be brave You said you wouldn't flinch  But in the years that passed Since I saw you last You haven't moved an inch  Your sword's grown old and rusty Burnt beneath the rising sun It's locked up like a trophy Forgetting all the things it's done  And though it's been a long time You're right back where you started from I see it in your eyes That now you're giving up the gun  I see you shine in your way Go on go on go on I see you shine in your way Go on go on go on I see you shine in your way Go on go on go on I see you shine in your way Go on go on go on I see you shine in your way Go on go on go on I see you shine in your way Go on go on go on I see you shine in your way Go on go on go on I see you shine in your way Go on go on go on  Your sword's grown old and rusty Burnt beneath the rising sun It's locked up like a trophy Forgetting all the things it's done  And though it's been a long time You're right back where you started from I see it in your eyes That now you're giving up the gun \", 'An ancient business a modern piece of glasswork Down on the corner that you walk each day in passing The elderly sales clerk won\\'t eye us with suspicion The whole immortal corporation\\'s given its permission The little stairway a little piece of carpet A pair of mirrors that are facing one another Out in both directions a thousand little Julias That come together in the middle of Manhattan You waited since lunch It all comes at once Around the corner the house that modern art built I ask for modern art to keep it out the closets The people who might own it the sins of pride and envy And on the second floor the Richard Serra skatepark You waited since lunch It all comes at once Sit on the park wall ask all the right questions \"Why are the horses racing taxis in the winter?\" Look up at the buildings imagine who might live there Imagining your Wolfords in a bowl upon the sink there You waited since lunch It all comes at once', \"Wouldn't ever gag you with a spoon my only true love Never really heard you speak that way it's unworthy of... Funny how that little college girl called language corrupt Funny how the other private schools had no Hapa Club Someone took a trip before you came to ski in the Alps Your father moved across the country Just to sunburn his scalp Contra Costa Contra Mundum contradict what I say Living like the French Connection but we'll die in LA Blasted from a disconnected light switch Through the condo that they'll never finish Bounced across a Saudi satellite dish And through your brain to California English No one sits inside a freezing flat and stays there 'til May Leafing through a stack of A-Zs to surf the UK Waiting with the wind against your face And gel in your hair Shivering in little undershirts but don't seem to care Blasted from a disconnected light switch Through the condo that they'll never finish Bounced across a Saudi satellite dish And through your brain to California English Sweet carob rice cake She don't care how the sweets taste Fake Philly cheese steak But she use real toothpaste Cuz if that Tom's don't work If it just makes you worse Would you loose all of you faith in the good Earth And if it's all a curse And we're just getting worse Baby please don't lose your faith in the good earth Blasted from a disconnected light switch Through the condo that they'll never finish Bounced across a Saudi satellite dish And through your brain to California English\", \"Sur le radeau t'es seul t'es beau tu rames au fil de l'eau. À quatre la vie est plus belle l'amour l'amitié c'est tout pareil. On t'aimait Scarabée on t'aimait Scarabée. Au fil de l'eau on croit que la vie est éternelle. On meurt parfois de chanter seul À quatre à quatre les murs font prison. On t'aimait Scarabée on t'aimait Scarabée. (Cordes solo) Au fil du temps t'es seul t'es grand et tu souris aux gens. Du ciel la vie est plus belle l'amour l'amitié c'est tout pareil. On t'aimait Scarabée on t'aimait Scarabée. (Cordes solo) Dans le soleil tu sais que la vie est éternelle. Y'a plus de combat on n'est plus seul on n'est plus seul au ciel. Ça fait rien il fait beau.\", ' \\r In the night I have traveled All alone just to see Where I left all the memories I had grown to count as me  Through the days though uncertain I can live secretly Just for you just for you Just for you  And I strain to see Will it ever be you and me?  Singing oh oh We sing oh oh  It was cold on the last day I was trying not to see In a place so familiar Yet resisting all of me  I am one I am only Who I hope that I can be All for you all for you All for you  And I strain to see Will it ever be you and me?  Singing oh oh We sing oh oh Singing oh oh We sing oh oh  If you could only see how good I could be in your arms tonight If you could only see how good We could be moving on  We sing oh oh We sing oh oh We sing oh oh We sing oh oh  We sing oh oh We sing oh oh We sing oh oh We sing oh oh  We sing oh oh We sing oh oh ', \"Here in a box I hide the letters Written postmarked with your name Secrets I wish I could only share With a heart that feels feels the same And here we fall to pieces In front of each other but we know Somehow we're greater Than our lonely fears Here's where the notes were torn and crumbled Before feelings could reach the page Try to replace some sober thought From emotion fists held up with rage And here we fall to pieces In front of each other but we know Somehow we're so much greater Than Here we fall to pieces In front of each other but we know Somehow we're greater Than our lonely fears Though I'm a simple mind I know I can see the picture drawn out here You are the reason I have found To keep believing in these years And though the road is long The trying keeps us holding on this way And make no mistake this is love Love love love this is love love And here we fall to pieces In front of each other but we know Somehow we're so much greater Than Here we fall to pieces In front of each other but we know Somehow we're greater Than our lonely fears\", \"It's on this road that I'm drawn back to you As the miles remember me as I go It's in the silence of a night's dream That I recall the words of devotion we spoke And I can't remember where our bodies roamed I can't remember all alone How our love got lost out in the cold But you're the only song I hear In this great wandering mess of my years You're the only one I know Who brings me back to the middle You're the only song I hear In this great wandering mess of my years You're the only one I know Who brings me back to the middle I separated all I thought I knew In a pile of books collapsed upon my floor I memorized the words in code and true But I can't carry them with me no more And I can't remember where our bodies roamed I can't remember all alone How our love got lost out in the cold But you're the only song I hear In this great wandering mess of my years You're the only one I know Who brings me back to the middle You're the only song I hear In this great wandering mess of my years You're the only one I know Who brings me back to the middle Don't tell me you've been swept away I can't believe it about you I won't believe it about you no Don't tell me you've been swept away I can't believe it about you I won't believe it about you 'Cause you're the only song I hear In this great wandering mess of my years You're the only one I know Who brings me back to the middle You're the only song I hear In this great wandering mess of my years You're the only one I know Who brings me back to the middle And you will draw me near When the sky opens and we appear You'll bring me once again Back to the middle\", \"I don't wanna notice I don't wanna see Even I don't give up Even I won't give up You're breaking the surface So what's left of me? Tell me when is enough Tell me I should give up It's not the way you move It's your words Though they soothe They're not telling the truth Didn't I know you? Didn't I try to carry on While just believing in you? Didn't I give up everything? Tell me now if there's A reason for anything My heart it was open You stepped through the door It is tearing me up Giving in giving up Left here always hoping One day there'd be more Even I don't give up But tell me when is enough I see the strings you pull I'm not blind And I'm not fooled Well you know it's true Didn't I know you? Didn't I try to carry on While just believing in you? Didn't I give up everything? Tell me now if there's A reason for anything And here we are one glance away I wanted you you couldn't stay Every part of me Still reaching out reaching in And will I be here till the day You've found another To back away from? I won't make the same mistake again no Didn't I know you? Didn't I try to carry on While just believing in you? Didn't I give up everything? Tell me now if there's A reason for anything Didn't I know you? Didn't I try to carry on While just believing in you? Didn't I give up everything? Tell me now if there's A reason for anything 'Cause even I don't give up Even I don't give up Even I don't give up Even I don't give up I don't wanna notice I don't wanna see Even I don't give up Even I won't give up\", '', '', '', '', '', '', '', '', '', '', '', '', '', '', '', '', '', \"If you listen to me then you know my father was G And the apple don't fall too far from the tree Me and you is different as we could possibly be Me and you is just different philosophically I don't think it's anybody as obnoxious as me I don't think that anybody else could parted the sea I don't think that you wanna discuss the horror with me If I was you I'd move a little bit more farther from me It ain't nobody living more of a sergeant than me It ain't nobody alive more of a prophet than me It ain't nobody living possibly rocking with me On the stage in the studio or boxing with me Every second I'm awake there is a toxin in me Anti-depressants Suboxone Oxycontin in me Only a stupid motherfucker have a problem with me Cause he don't know I got the fucking problem-solver with me  I was washed in the blood of the lamb Whoever touches my hand gonna leave enough blood in the sand I was washed in the blood of the lamb Whoever fuck with my fam suffering a motherfucker should scram I was washed in the blood of the lamb Whoever touches my hand gonna leave enough blood in the sand I was washed in the blood of the lamb Whoever fuck with my fam suffering a motherfucker should scram  I slaughter anything I get my hands on Inside the Church of Anton with bloody pants on I was in the land of Israel and heard ram's horn I was in the sand with Ishmael and fought the sandstorm I'm just waiting for the raven to thaw Cause I don't argue with Mesopotamian law I submit my will and faith into the grace of Allah And the Mayan calendar say it's erasing us all The four-fifth you should see this thing it's berserk And y'all are royalty inside a fucking kingdom of dirt How are y'all original when y'all ain't think of it first? I just wish I could put everything I think into verse But instead I decide to drink in a Russian bar I'm Rasputin I'm influencing a Russian Tsar I'm Dave Lombardo on drums leave the percussion scarred I drink the bottle to the bottom put my trust in God \", \"Some people wake up late I wake up mad late All the time hungover it's a sad state I love liquor she my bitch and her ass great But I don't remember anything from our last date I wipe the sleep from my eyes and I peep my phone Twenty texts thirty calls just leave me alone My head pounding like crazy I need some Patron That's the hair of the dog god need a bone Kiss my mama on the cheek she look beautiful (Vinnie you're a mess what I'm gonna do with you?) I know you cooking something (Yeah I made some food for you Managut bragol and some brigutte too) I told you wild times ma I don't fuck with pork Please pass the lucatelli and a bunch of salt The phone ring it's the police but who would've thought? This motherfucking pig telling me I'm due in court Every time I feel this shit is going my way Something come along and fuck up my day I had a rhyme in my mind now there's nothing to say And cousin that just fucked up my day Driving down the block someone cut in my way That shit went and fucked up my day Rap critics they always got something to say I would never let that fuck up my day I don't know where the fuck I'm at today I drank a couple of bottles I guess I have to pay This bitch laying next me she look like Cassius Clay Gotta get outta here before she asks me to stay I don't know how I got here in the first place She had a banging body but she had the worst face I guess I act like an animal I deserve hate She must've lured me in with white like she was third base It ain't hard to convince me to do some dumb shit Especially when I'm on that get high and drunk shit That's why Vinnie always end up with a dumb bitch The only thing I'm never on is on some punk shit I'm on the other side of town and I'm walking dolo Panerai watch Gucci kicks lots of Polo Goons ran up on the kid put the gat to my dome I was caught slipping I left the ratchet at home\", '', 'I feel reinvigorated don\\'t fuck with the boss I\\'d rather cut my own throat before suffering loss Anybody fucking with me get hung on the cross I have anger in me don\\'t make me summon the source I go to war with the Glock I go to war with anybody motherfucker I\\'m a sorcerer ock Fucking everything whether the bitch is gorgeous or not I murder everything that\\'s just some of my torturous plot If you righteous and you under attack Like the Anbar Awakening and Sons of Iraq The fifty cal is like a thunderous clap If you think that you safe and nothing wrong that\\'s a presumptuous act It ain\\'t no tomorrow I don\\'t got a dime saved And if you did it\\'s in the Wall Street crime wave It ain\\'t nothing worse in the world than a mind slave Going to war with my people how I define brave  I\\'m a monster Ain\\'t no one can fuck with the kid I\\'m a monster My jail brothers stuck with a bid I\\'m a monster Everything I do is precise I\\'m a monster Pazienza ruin your life I\\'m a monster Ain\\'t no one can fuck with the kid I\\'m a monster My jail brothers stuck with a bid I\\'m a monster Everything I do is precise I\\'m a monster Pazienza ruin your life  Yeah you know that Vinnie he been nice Y\\'all don\\'t belong inside of the ring like you Kimb\\' Slice I ain\\'t gonna take all of your skin just a thin slice They call me John \"The Beast\" Mugabi when Vin fights Vin Laden Taliban Hamas and Al-Qaeda You a snitch cop lover you fuck with a traitor I\\'m a motherfucking brick you constructed of paper I dumped the motherfucking clip now you dust and you vapour I was there when all the planets was born Before the Continental Drift and when Atlantis was formed When Gandhi told the Indians to stand and be strong And took the British out with intellect in spite of their brawn   Everything Pazienza do is hard body I don\\'t care if you Blood Ñeta or Godbody I was devilish before the power of God got me I just think I let the fucking sword of Allah chop em Mossberg nine thirty-five is amazing The Prada high-tops the same colour as raisin He a rat not even his mother can save him That\\'s what you get for being brothers with Satan The thirty-eight practical the Glock is for fair And this for jail brothers something they can knock on the tier Yeah I\\'ll stick a knife in your esophagus queer I\\'m an animal every rhyme will demolish you queers Gas high but you can get the D for a real price This Sig Sauer 1911 is real nice I\\'ll stick through the wrist with a steel spike And now maybe you\\'ll overstand the pain of the real Christ ', \"(*Prod. by Bronze Nazareth) Life this role of life*  This is Rock of Gibraltar rap The Springfield M14 show you where the coffin's at You motherfuckers don't belong in rap Fuck with me you got a better chance taking an abortion back You lack flavour put some sauce on that I went to the Great Wall put my fist through and walked through that Where this motherfucker's fortune at? I'm a levitate his body make it spin like a Laundromat Motherfucker I was born to rap I've been making records wild long never did a song that's whack How many have accomplished that? I was wild as a young boy shouldn't have put moms through that Vinnie Paz been to Nam and back I ain't never put the guns down cousin so my palms is black You a bitch I ain't involved with that I got a big trunk and that's where Vinnie keep all of his corpses at  Life this role of life  Silverback Gorilla walk through the minefield We don't see eye to eye how you define real Y'all are wondering if I'm out of my mind still I just need some liquor and pills and I'm chill I run with Puerto Rocks Morenos and vagabonds And Paz will shoot this motherfucker up like Barrie Bonds I'm like a military doctor Vinnie carry arms I kick in the door like BI did And the automatic weapons look like TI crib Vinnie fat you'll never see my ribs I don't call it loading bullets I refer to it as feed my kids All I think about is slaughtering y'all This little motherfucker named Charles Hamilton is harder than y'all It's in the garbage with y'all Listen to all you Myspace rappers I'm a father to y'all   I write in the rain turn beautiful night into pain I turn life into a frightening game I don't have love in me it's just ice in my veins My fist Hammer of Thor I Tyson the game This rap shit deep in my heart Y'all was sleep from the start But that just led to unbelievable art And on top of that the god is unbelievably smart My bare fists turn trees into bark Y'all don't want any improvement at all Y'all are devils y'all are torturing the rule of law My mind is a computer of war And it's typically the biggest motherfucker that'll usually fall Give me one take cousin the god out A forty of  and I ride out The forty Glock popping your eyes out Now you never get a chance to see what the god 'bout \", '', '', '', '', \" I'm taking my own life I might as well Guess where I'm going cause the Devil's inside I'm taking my own life that's where I'm going Except they might not sell weed in Hell  See I always have respect cause I always talk fact The .38 and the 50 caliber hot black I always left with nothing but I always brought back I always been a hustler I probably go off that Y'all don't wanna go to work with the boy There's only two words that describe me: search and destroy I don't think you wanna get murked by the boy My shit is military y'alls is like a nursery toy It's hurting you boys My team ain't even hungry we famished I murder everybody fuck collateral damage I'm animal savage with Hannibal's habits I'll mangle your cabbage I walked into the parish and I strangled the faggots I hang with the baddest brothers put their trust into Jesus Run with brothers who's forty guzzlers Islamic extremists Ugly and ignorant is how they perceive us I don't care I'm trying to deal with my personal demons   Y'all don't wanna go that route Broke motherfucker need to throw his throwback out If you see me drinking something good I stole that stout If you see me drinking in the hood then roll back out On the real I don't want no one to bother me cousin Rapping just a little fucking bit of part of me cousin I'm just trying to have a drink at the bar with my cousin I ain't mean to be rude god pardon me cousin I stay strapped lord gun in the tuck Young boys act wild lord funny as fuck I scrap southpaw sonning you fucks Look at you lord on the floor bummy as fuck what? My life been defined by death So I guess if everybody dead mine is next My father dropped a jewel on me time forgets It's not as easily the mind forgets Y'all know what I mean?   Drag you to Hell I'm evil dead you can call me Sam Raimi These motherfuckers want a verse but they can't pay me Fuck a funeral home put em in the sand maybe Y'all are acting like you're big like you're mad gravy Y'all don't wanna beef with the god Don't have the brain power to compete with the god Y'all should retreat from the god before you get turned to meat Something to eat for the god peace to the gods I carry heavy shit big guns John Rambo I'mma spot Russia like Pakistani commandos How you go to war when you're standing in sandals? Now you're dead and your family handling candles Don't even call for a truce I'm about to end this Whole motherfucker when I call for the troops Reservoir dog walk with the troops And I burn this motherfucker down to the ground down to its roots \", '', '', '', \" He's a fighter and fighter... You don't make fighters. Vinnie's a born fighter and I could see that when he was a kid he was little he was different from other kids.  Yeah Pazienza I'm here baby. The Way of the Assassin is found in death. Meditation on inevitable death should be performed daily. Every day when one's body and mind are at peace one should meditate upon being ripped apart by arrows rifles spears and swords being carried away by surging waves being thrown into the midst of a great fire being struck by lightning being shaken to death by a great earthquake falling from thousand-foot cliffs dying of disease or committing seppuku at the death of one's master. And every day without fail one should consider himself as dead. This is the substance of the Way of the Assassin.\", \"I'm out for whatever you wanna call it cash or paper My only purpose to kill perfect assassinator I'm on the path of Islam you on the path of Vader My nickname Buck 50 cousin pass the razor The 750i turn you from a fan to hater Feeling myself like I'm a chronic masturbator I ain't the type of motherfucker you should ask a favour I'm the type of motherfucker that'll blast my neighbour I look at anybody as weak that has a saviour The Israeli Galil will turn your ass to vapour I got an Ingram MAC-11 and it has a laser I got a thing for MAC-11s not a passive nature Everything I write is war on the pad and paper I don't listen to rap no more my passion's Slayer My heart is cold as the temperature of a massive glacier I put a giant hole inside you like a massive crater  Everywhere I go to ball Paz is strapped I be loading it up I be cocking it back I ain't in my right mind I ain't stopping at that I will hit his lifeline in the back of his cap See I'm faster than a motherfucker grabbing his gat Beating me is just illogical imagining that I'm a G you is just a pacifist rat I make bodies disappear like a magical act Yeah I'm just giving the fans another anthem This is just another example of my expansion I make your top drop like the new Phantom I like to pop shots with my new cannon The left hook wild vicious I'm a champion You ain't wilding out cousin that's a tantrum Wild assault rifles thirty fucking handguns I'm holding all of you motherfuckers for ransom\", 'I\\'m a fucking thunderstorm you\\'s a light shower You a bitch you shoot and miss like Dwight Howard You can\\'t battle the god I\\'m too precise coward That\\'s like Khalid Muhammad saying he\\'s White Power This the machete that your organs getting sliced out with The blind motherfucker in the village Bryce Howard My brain only function proper in the night hours You might own a fucking label but the mic ours My shit hi-tech lord like a plastic bomb An asshole I punch people with glasses on Anybody disagreeable we mashing on I only fuck with green and gold god magic wand An encore is the only thing that you clapping on I\\'m a pitbull pussy you a papillon A bitch get a 40 from me not a glass of Dom I\\'m the G-29 in the assassin\\'s palm  All I hear is danger all I see is danger All you hear is \"run run here come danger\" Shatter dreams like Freddy your thoughts rearrange ya Stare death dead in the eyes it\\'ll change ya All I hear is danger all I see is danger All you hear is \"run run here come danger\" Shatter dreams like Freddy your thoughts rearrange ya Stare death dead in the eyes it\\'ll change ya  It\\'s a righteous kill I don\\'t do nothing but write and kill Drink 40s smoke el push the white and krill I move strong and fast I have a bison\\'s will I\\'m the motherfucking champ I\\'m the fightin\\' Phils I\\'m from the city of the syrup and Vicodin pills From the city the most fearless of fighters was filmed The city where we have the most street veterans still The Moors Nuwaubians Five Percenters will build I\\'m from Philly motherfucker the rawest it comes I make your body disappear I\\'m a sorcerer\\'s tongue You live your whole life in fear that the torture will come I hope my music is revered like a portrait of Pun I\\'m paranoid god here in my fortress with guns I had a void god filled it with whores and with blunts I ain\\'t have a choice god I was born in the slums I ain\\'t have a voice god till I slaughtered the drums   Yeah the four-fifth is a melon popper Hollow tips spin your body like a helicopter Anything can move god if you sell it proper And I\\'ve been through more viewings than a teleprompter This is horrorcore beat got hella monsters My team\\'s got more Gs than a spelling proctor Y\\'all ain\\'t never moved D y\\'all are petty choppers I got a vicious left hook call me Eddie Thomas But I\\'m raw with the right hand Like Jack Johnson fighting against the white man Yeah I\\'m about to shorten your life span Evil shit can be good if it\\'s in the right hands I make motherfuckers burn you a slight tan I keep a motherfucking urn on my nightstand So wait your motherfucking turn like a hype man I bury you with the snitches under the white sand ', \"My fist enters in your temple like an obelisk It's blackness darkness abyss of joblessness Everything you do is small my shit is monstrous I murder devils and any of their accomplices My brain function on other levels of consciousness My brain function on other levels of pompousness You're listening to the bass and treble of godlessness My thirty-eight will spit hate and level the populous My esophogus breed the evil that just demolishes Whether or not you're a believer in the Apocalypse Y'all shit is sweeter than two faggots that's locking lips It ain't a rapper competing with my obnoxiousness It ain't nobody that's equal to my accomplishments The Desert Eagle is legal and it astonishes The AR15 diesel and blow your mom to bits It's hard to catch me I'm Thurman Munson and Carlton Fisk  Music is motivation for me to just go insane Man I see it on paper I know that I should be caged And I'm trapped but I escaped it By trapping in that trap for that paper Music is motivation for me to just go insane Man I see it on paper I know that I should be caged And I'm trapped but I escaped it By trapping in that trap for that paper  Y'all know the flow is precise You don't owe me your life But that could change one roll of the dice And then money try to go for his knife I'mma levitate his body to the sky until he's homies with Christ Don't even fuck around son is a goon Son is bipolar alcoholic son is consumed I breathe life into the sun and the moon I breathe life into the most barren bloodiest womb Y'all don't know y'all getting stalked in the shower Populism is rebellion over corporate power Politics is just the talk of the hour It's a matter of time before they hit another office or tower I don't care I put the gun to your ribs And the Desert E big it'll separate mothers from kids I walked around from Philly slums to the bridge Been around the world eighty times nobody can fuck with the kid Yeah\", \" \\r Rally your daughters We'll end it all now Kick down the door sons Fill the street with our blood yeah  So you want to get higher I am your one Happy tune the parents And kick me kick me I'm bored  You don't want it Teenage riot in you You don't see it Teenage riot in you  You can't hear it Teenage riot in you Don't stop it Teenage riot in you  Save the sheep from perfume Give them your heart Kiss them they want it And tear down their cheap house  You don't want it Teenage riot in you You don't see it Teenage riot in you  You can't hear it Teenage riot in you So don't stop it Teenage riot in you  Fear the Gospel yeah Fear the Gospel Fear the Gospel yeah Fear the Gospel  I got to stop it I don't need it I can't bleed it I can't see it  Nut I feel it I can't stop it I got to have it Teenage riot in you  Don't stop the Teenage riot in you You can't stop the Teenage riot in you  Don't want the Teenage riot in you Can't stop the Teenage riot in you \", \" \\r Fucked up And the system falls Shut up You're nothing but a whore I say go yeah  I never knew you could be anything But a fiend boy Cry anarchy The devil's coming for you it's true  Try and run away Fuck the system I never knew you could be anybody  Try and run away Start the riots I never knew you could be anybody yeah  Lights out We ain't gonna stay here Left out You're not one of them I say go yeah  I never knew you could be anything But the scene boy You ain't gonna win You're such a fool it's true yeah  Try and run away Fuck the system I never knew you could be anybody  Try and run away Start the riots I never knew you could be anybody  Run away Fuck the system That's all it is That's all it is yeah  Run away Fuck the system That's all it is Animosity  Red light Skyscrapers Panic stricken You're all falling  C'mon let's go You're not innocent C'mon let's go You're not innocent  C'mon let's go You're not innocent C'mon let's go Yeah  C'mon let's go you're not innocent C'mon let's go yeah C'mon let's go you're not innocent C'mon let's go yeah  Run away Fuck the system That's all it is That's all it is  Run away Fuck the system That's all it is Animosity  Animosity animosity Animosity animosity \", \" \\r Butterflies in the sky I feel just like that Thirty five thousand feet I feel just like that  Skydivin' freefallin' I feel just like that I feel just like that I feel just like that  One across the first car I feel just like that Ferris wheel at the top I feel just like that  Carousel spinnin' round I feel just like that I feel just like that I feel just like that  I can't catch my breath It's too intense tense I need just a minute Give me just a minute It's out of control This is out of control  Got me thinkin' 'bout the future I feel just like that Wanna trust lose control I feel just like that  Apprehension out the door I feel just like that I feel just like that I feel just like that  Don't care what anybody says I feel just like that Let's run away together now I feel just like that  Whatever you wanna do I feel just like that I feel just like that I feel just like that  I can't catch my breath It's too intense tense I need just a minute Give me just a minute It's out of control This is out of control  Tell me if you feel   (Just like that that) On top of the world   (Just like that that)  Higher Now I can get higher Just look at me now Nothing can bring me down  Butterflies in the sky I feel just like that Thirty five thousand feet I feel just like that  Skydivin' freefallin' I feel just like that I feel just like that I feel just like that  One across the first car I feel just like that Ferris wheel at the top I feel just like that  Carousel spinnin' round I feel just like that I feel just like that I feel just like that  I can't catch my breath It's too intense tense I need just a minute Give me just a minute It's out of control This is out of control baby  It's out of control It's out of control baby Ooh ooh yeah ooh ooh It's out of control baby It's out of control baby  I can't catch my breath It's too intense tense I need just a minute Give me just a minute It's out of control This is out of control  I can't catch my breath It's too intense tense I need just a minute Give me just a minute It's out of control This is out of control  Butterflies in the sky I feel just like that Thirty five thousand feet I feel just like that  Skydivin' freefallin' I feel just like that I feel just like that I feel just like that \", \" \\r I don't want to waste an entire album on you I've been there done that (yeah) I don't want to put all the anger you caused me back on you Though I know I'd be justified but I'm in another place I don't want to put any negative vibes into this universe I've done it enough (oh ooo) And I don't want to tell who what when where why and how  Cause who cares No nobody cares  But I hope you soon find out how to love Once upon a time you wanted to learn I thought I could teach you but you were more afraid  than willing So when it comes don't push it away One day you will find it is the greatest gift  And I hope you don't take advantage of it again  Hold her when she wants to be held Don't yell at her when she's only trying to love you  Take her to her favorite place  more often than not Don't take her kindness for weakness 'Cause I'm sure she'll love you alot Support her in all that she does Don't tear her down lift her up 'Cause that is the worst thing you can do to someone you love Put her high on a pedestal and tell her when she looks beautiful Tell her when she looks beautiful  I used to think that I could not bear you to be with anyone but me But I been there done that (yeah) And since then I have come to think silly of that whole mentality I still want to find love too No it won't be with you I wish for everyone to one day find happiness and love Including you (yeah) And I don't want to go into details 'cause I've said enough And its not my intent to hurt you no  But I hope you soon find out how to love Once upon a time you wanted to learn I thought I could teach you but you were more afraid  than willing So when it comes don't push it away One day you will find it is the greatest gift (gift) And I hope you don't take advantage of it again  Hold her when she wants to be held Don't yell at her when she's only trying to love you  Take her to her favorite place  more often than not Don't take her kindness for weakness 'Cause I'm sure she'll love you alot Support her in all that she does Don't tear her down lift her up 'Cause that is the worst thing you can do to someone you love Put her high on a pedestal and tell her when she looks beautiful Tell her when she looks beautiful  Tell her when she looks beautiful  Tell her when she looks beautiful \", '', '', '', '', \" \\r Failure to include an explanation Our lives breathe no excuse of this It's our fault if we don't amount to anything How frequently we point the blame to our failures Is this what we call freedom or liberation? A distance far too great for words Our focus is based off of what we say I had it all As actions are a footnote of the past I wanted something real Hoping you would stay As our voices fade We'll find out what this means I hear your calling reveal your heart When pride fades You need no explanation here's my heart And I am yours There is no greater gift then this Our anger flows in every breath When man made passion starts to fade In fear will you be standing here? When voices fade on passion Will your hearts still burn through failure? \", '', '', '', \"Don't be alarmed It's not the end of the world If we're breaking the rules it's fine I disregard this kind of problem all the time It's not as if it's gonna kill anyone If there's no victim then there's no crime Just draw another if you think we've crossed the line Rules don't stop me Forget about it Rules don't stop me We'll get around it Rules don't stop me Forget about it Don't stop me don't stop me Although it may seem unconventional sometimes Indiscretion is worth a try If you just play along I promise we'll be fine So leave your hang-ups back at the door When you and I are down on the floor Will you know what to do about it You know what to do about it Rules don't stop me Forget about it Rules don't stop me We'll get around it Rules don't stop me Forget about it Don't stop me don't stop me It's not as bad as they say If this is such a mistake Why does it seem to make you so damn happy? This is no time to behave Let's both get carried away If there's a price to be paid It won't stop me Rules don't stop me Forget about it Rules don't stop me We'll get around it Rules don't stop me Forget about it Don't stop me don't stop me They don't stop me they don't stop me\", '', '', \"It won't go away These aching memories still dance around me Spilling over everything with beauty I see your face in everything before me Your voice is hunting me. Oh I belong with you now Oh please give in to me And stay forever Don't leave me behind. So afraid of dreaming The story is repeating screaming Monsters I'm bleeding I'm losing light in myself Come back into me 'cause only you can save me. I belong with you now Oh please give in to me And stay forever Don't leave me behind. I belong with you now Oh please give in to me And stay forever Don't leave me behind.\", \"Memories fade into the silence Haunting me tonight With hopes last breath I take this moment in It will be the last When morning breaks and sunlight takes the pain away Ever after never came and I'm still waiting For a life that never was And all the dreams that I laid to rest Are ghosts that keep me After all that I've become I am only one I am only one I close my eyes And bleed this empty heart Of all that longs to die When faces lie and love will falter I'm left with only time And time will break the dreams that take the pain away Ever after never came and I'm still waiting For a love I'll never have And all the dreams that I laid to rest Are ghosts that keep me After all that I've become I am only one I am only one I'm on my own here and No one's left to be the hero This fairy tale got wrong As night will fall My heart will die alone Ever after never came and I'm still waiting For my heart to beat again And all the dreams I've laid to rest Are ghosts that keep me After all that I've become I am only one I am only one I am only one\", \" \\r Do you see me I stand before your eyes here in pieces let me in your mind when did love fade why are we at war where did we fall where did we go wrong have we lost it all?  Oh I let you go to feel the light outside Oh I without you I just feel I just feel so alive  I can define where the well ran dry I remember every tear I cried memories of lies wasted all this time now we've lost it all  Oh I let you go to feel the light outside Oh I without you I just feel so alive There must be more to life Than I just left behind Oh I without you I just feel I just feel so alive  I step into sunlight fueled by rage and delight There's no place for weakness Ill forget your sweet kiss  Oh I let you go to feel the light outside Oh I without you I just feel so alive There must be more to life Than I just left behind Oh I without you I just feel I just feel so alive. \", '', \"Tonight I'll wait for you The raindrops are falling The kindle is burning For you I'll be waiting here. If all of the days have no more light And all of our dreams are lost tonight The stars cannot fall And everything turns to grey I will stay. Graceful and loving Tearful and soothing Can't breathe without you There's no life without you here. If all of the days have no more light And all of our dreams are lost tonight The stars cannot fall And everything turns to grey I will stay. Oh oh oh. Oh oh oh. If all of our days have no more light And all of our dreams to lost tonight The stars cannot fall And everything turns to grey If all of our days have turned to night And all of our dreams are lost in lies The stars cannot fall And everything turns to grey I will stay.\", \"I've fought another day Lose another chance to break away From all I cannot bear. I suffer through the shame Wishing hope would just abandon me Till this is over. My loveless life I'm lost in you tonight Waiting for you to turn around Only to tear the whole world down. Time and time again Take it all and take the fall for you. Fear is all I hold Bound and beaten down All the pain I can't escape today Is always with me My loveless life I'm lost in you tonight Waiting for you to turn around Only to tear the whole world down. My darkest night Your arms that hold me tight Waiting for you to turn around Only to tear the whole world down. All my love is lost All my hope is gone All my love is lost All my hope is gone My loveless life I'm lost in you tonight Waiting for you to turn around Only to tear the whole world down. My darkest night Your arms that hold me tight Waiting for you to turn around Only to tear the whole world down.\", '', \"There's no use in crying All my tears won't drown my pain Streaming from your sorrow I can't grieve you again I watched you let yourself die And now it's too late to save you this time You bury me alive And everybody's gotta breath somehow Don't leave me die Too consumed by your own emptiness and lies All I did was love you Now I hate the nightmare you've become I can't let you fool me I won't need you again I watched you let yourself die And now it's too late to save you this time You bury me alive And everybody's gotta breath somehow Don't leave me die Too consumed by your own emptiness and lies You bury me alive And everybody's gotta breath somehow Don't leave me die Too consumed by your own emptiness and lies I can't feel this love we used to hold All I see is black and cold As I try to pull you down To the ground the ground Everybody's gotta breath somehow Don't leave me die You're too consumed by all your emptiness You bury me alive And everybody's gotta breath somehow Don't leave me die Too consumed by your own emptiness and lies You bury me alive And everybody's gotta breath somehow Don't leave me die Too consumed by your own emptiness and lies\", \"Are we alone? Is there more than we believe in? Haunting these walls Shadows crawling out revealing Fear in me Stays in me The nightmares inside here My dark fears All in my head again The nightmares I might hear All my tears pull me through hell again I wake in the night And I pray that I've been dreaming There's nowhere to hide From this nightmare calling to me Fear in me Stays in me The nightmares inside here My dark fears All in my head again The nightmares I might hear All my tears pull me through hell again The nightmares inside here My dark fears All in my head again The nightmares I might hear All my tears pull me through hell again The nightmares inside here My dark fears All in my head again The nightmares I might hear All my tears pull me through hell again\", '', '', \"What do you want? Deep underground Hear the mice make a sound As they scramble around Gathering ground Of the seasons abound All the things that you found Calvary fall And artillery fall And then infantry fall Do you think the battles won? (When on the road) Are the Spartans overcome? (What did you see?) Are they sighing in their sleep? (Why wont you tell tell me?) This is not a dry run Howl of the hound Leaving thoughts to be proud Through the feet of the crowd Deep underground Mice make a sound Scramble around March as before We are here we applaud Want you want we adore Do you think the battles won? (When on the road) Are the Spartans overcome? (What did you see?) Are they sighing in their sleep? (Why wont you tell tell me?) This is not a dry run (We're on a rock) (And it's gonna roll) Do you think the battles won? (It gathers pace) (It's all you stole) Are the Spartans overcome? (And when they rise) (What did you see?) Are they sighing in their sleep? (Why wont you tell tell me?) This is not a dry run\", \"We made band With our own hands To expand To touch the sand Let me hear it in the cans Sitting down here with an empty box (Answers for everyone) Plug goes in the hole (Derailed onto a final path) Still don't know if it's going to work Guess everyone's got a goal (Been in these shoes? We made these shoes) Swimming away with an idea (What makes the ball roll?) Pin it down (We really really don't know) Pin that tail on the donkey (We were thrown together) Pin him down to the ground We made band With our own hands To expand To touch the sand Let me hear it in the cans Stop and let's think for a moment (Answers for everyone) Where do we go from here? (Derailed onto a final path) All this consternation Might just turn to fear (Been in these shoes? We made these shoes) Chipping away at the routine (What makes the ball roll?) Take it down (We really really don't know) Need to get some focus Need to make some sound (We were thrown together) We made band With our own hands To expand To touch the sand Let me hear it in the cans\", \"We won't We won't stay where there's no one We won't play ring-a-rose son We're not here for duration We've no patience Don't Baby please don't With away the dark days They're the ones that make it all worthwhile Hero know We'll survive If he lays Down his life From the birth To the grave One by one We'll be saved We won't We won't stay where there's no one We won't play ring-a-rose son We're not here for duration We've no patience Don't Baby please don't With away the dark days They're the ones that make it all worthwhile Looking out the window Thinking for a while now Barking dog lie down Please come come and find me When you know what we know When you've been we're we've been We you've seen what we saw When you see what we've seen Hero knows We're released Heading on Go in peace\", '', \"We came from nowhere with a certain dedication and devotion We were beholden to the way in which we lived with such emotion And so we mingled with the people you'll no see us you'll not know us On and on On and on until the end On and on On and on until the end On and on On and on they'll be no end We have band So we go now Come with us now So we go now Come with us\", \"We wanna know We wanna know We wanna know What it's all about We wanna know What it's all about We wanna know Know now We wanna know What it's all about Does it all add up? When we're out of love And you're done talking And I'm done talking And you're done talking And I'm done talking Will we find something? Will we find something? We wanna know\", \"We're coming for you we sail on a sea of hope We'll come find you we see by your guiding light No other feeling no other needed to stick with a feeling That we'll be up close and warm with you when the day gets dark Crossing borders as we move forwards The swaying actions a motion circular All upon a suspended moment As we move close a resounding chorus rings out That steady rhythm's the sound of our beating hearts No other feeling no other needed to stick with a feeling That we'll be up close and warm with you when the day gets dark Crossing borders as we move forwards The swaying actions a motion circular All upon a suspended moment As we move close a resounding chorus rings out Come on grab it stir up for us we're on fire Come on grab it stir up for us we're on fire Come on grab it stir up for us we're on fire Come on grab it stir up for us we're on fire Come on grab it stir up for us we're on fire Come on grab it stir up for us we're on fire Come on grab it stir up for us we're on fire Come on grab it stir up for us we're on fire Come on grab it stir up for us we're on fire\", '', '', '', \"Out on desert sands The race it shall begin To the death and locked in Wheels start to spin The checkered flag will fall As death may come to all Mechanical beasts in battle Road warriors to the end The engine's thrust into the night Battle royal the ultimate fight Bullets and octane start to fly Every man but one shall die Gasoline and flames Across the sandy plains Rockets start to fly In the desert sky Exploding overload On the crimson killing road Tonight there are no rules In the final bloody duel A race to the death For the power and the glory oh oh oh  Road villains in black Charging the attack Steel beasts enraged There's no turning back Blades slice into skulls The armored saint shall fall Swinging chains and swords A deadly free for all The engine's thrust into the night Battle royal the ultimate fight Bullets and octane start to fly Every man but one shall die Gasoline and flames Across the sandy plains Rockets start to fly In the desert sky Exploding overload On the crimson killing road Tonight there are no rules In the final bloody duel A race to the death For the power and the glory oh oh oh Oh oh oh oh oh ooohh\", \"Forged in flames Of devils fire A bond in demons blood Iron melts In sun and steel Await the crimson flood Raining blood Shall wash the skies Foreseeing her return Crushing all False prophets' lies The crosses start to burn Into the sun\", \"Out in the city âE' On streets of fire I feel the power of the night Fire and octane âE' Leather and metal I'm burning under neon lights I'm shifting gears to ride the sky My metal heart will never die Forged in the fires of hell âE' My pistons fly 40 deuces running high Dark dirty women âE' Whiskey and cold gin Getting high and never coming down My engines fire âE' Fueled by desire Like lightning striking all around  Set 'em up and knock 'em down Rock the night away Deal the cards âE' Roll the bones Lady luck will find her way Buy the ticket âE' Take the ride âE' Pedal to the floor Gonzo lust for life âE' Kick ass! Alive forever more! Out on the pavement âE' I'm burning rubber Good Time Overdriving to the sky Into the sunrise âE' I'm riding shotgun Devil driving âE' Never gonna die\", \"Rock on live free or die Rock on live free or die Patriots of freedoms fight We the people shining the light Illuminate our dreams in neon nights Free to be who you want to be From sea to shining sea United force in truth and destiny Rock on and live to fly free And you'll be Fly high high in the sky Live free or die Fly high high in the sky Live free or die Yeah live free or die Yeah live free or die Yeah live free or die Yeah live free or die Fly the flag and fly it proud Scream for freedom shout it out loud We are the keepers of the dream Land of the brave home of the free The light of lady liberty A beacon of hope  to you and me Rock on and live to fly free And you'll be Fly high high in the sky Live free or die Fly high high in the sky Live free or die Yeah live free or die Yeah live free or die Yeah live free or die Yeah live free or die Fly high high in the sky Live free or die Fly high high in the sky Live free or die Yeah live free or die Yeah live free or die Yeah live free or die Yeah live free or die\", \"White Wizzard's here to rock you all In a raging metal storm Riding on the second wave Of a new electric storm Rebel souls and rivet heads Will make the hammer fall Break the chains and go insane Heavy metal is the law Let's go Hail rock and roll Metallic overload We're gonna spin your soul Out of control In '79 we were left for dead A new movement was born Neal Kay saved the day Air guitar's in a crazy swarm Lightning strikes the same place twice It's coming back again The earth will quake to make your ear ache Now crank the amps to ten Let's go Hail rock and roll Metallic overload We're gonna spin your soul Out of control The anthems sound a new rebirth A sonic blast across the earth Motorbikes and muscle cars Will own the roads again Leather spiked denim warriors Dirty women dressed to sin So get on your feet and march in the street Shout at the devil proud Storm the gates in a bloody rage Stand up and scream out loud Let's go Hail rock and roll Metallic overload We're gonna spin your soul Let's go Hail rock and roll Metallic overload We're gonna spin your soul Out of control\", \" \\r You speak in tongues I can't resist You run me 'round I cannot think We're driving to your parent's house just for a visit and I'm sleeping in your brother's bed Won't you sneak into my room and crawl under the covers talk nonsense in your sleep  You come unguarded once again And I can't wait to let you in We're driving to your parent's house just for a visit and I'm sleeping in your brother's bed Won't you sneak into my room and crawl under the covers talk nonsense in your sleep  You've got some charm I must admit Don't let me wreck myself again I'm driving to your parent's house just for a visit and I'm sleeping in your brother's bed Won't you sneak into my room and crawl under the covers talk nonsense in your sleep \", ' \\r Touch my face wipe my cheek Talk to her go to sleep Dream of nothing wake up tired Talk to no one not today  I feel like drifting now I’m going to drift into your eye  Touch my face wipe my cheek Talk to her go to sleep Dream of nothing wake up tired Talk to no one not today  I feel like drifting now I’m going to drift into your eye ', \" \\r Innocent love I need to go somewhere I need somewhere to come down I need some way to make you smile Innocent love I need to go somewhere I need somewhere to come down I need some way to make you smile   We're not happy 'til we're running away Clouds in your eyes With nothing but the foggiest day  One of a kind I need to keep you here I need to picture you still I need to clear the fog One of a kind I need to keep you here I need to picture you still I need to clear the fog   \", \" \\r Boys don't cry they just want to die Stumbling coughing grin or lie Will you look into my eyes? Will you be my new dress?  Box up all of your things with tape Write your address hope it won't be late Can I still be your pessimist?  Boys don't cry they just want to die Stumbling coughing grin or lie Will you look into my eyes? Will you be my new dress? \", \" \\r The street light won't stop shining through the window By the pullout couch where I've been sleeping I don't know what you've been told but I'm alright You signed your name a million times in cursive On the cover of every book you own Miss me more miss me less I never know Your parents kept on with the poems you wrote When you were eight years old in the garage I did too and when I think of you I'm like a child The street light won't stop shining through the window By the pullout couch where I've been sleeping I don't care if I sleep again it's okay \", \" \\r You don't know I've got nothing to say anymore It's a shame I know we're both perfectly in loathe Lets not say you never give me anything I don't care I was what I was right there Do I really need to tell you That I've got a twisted twin soul for you I've got a palm I'm reaching for you Do I really need to tell you That I've got a twisted twin soul for you I've got a palm I'm reaching for you In your eyes I've got nothing to see anymore To convince me enough to compromise my heart Let's not say its just a game again Cause we both know we're both perfectly in loathe Do I really need to tell you That I've got a twisted twin soul for you I've got a palm I'm reaching for you Do I really need to tell you That I've got a twisted soul for you I've got a palm I'm reaching for you \", \" \\r Lilac I miss you were my little lilac O lilac I trust you can't remember most so rest your head now Your head now Lilac i feel your last you last lies come straight from her eyes To my eyes Tonight should you rise above I regret love I regret love And you have ghost hands on that can't hold you up And you have ghost hands on I can't hold you up I gotta let you live I gotta let you... I gotta let you live I gotta let you... Lilac I miss you were my little my lilac My lilac I trust you can't remember most so rest your head now Your head now And you have ghost hands on that can't hold you up And you have ghosts hands on I can't hold you up I can't hold you up... \", \" \\r Where are you going? Can I come with you? I don't feel right when you're not here  Where are you going Can I come with you? It just don't feel right when you're not here  I know you're bad That's why I like you That's why I like you  Where are you going? Can I come with you? I don't feel right when you're not here  Where are you going? Can I come with you? It just don't feel right when you're not here  I know you're bad That's why I like you That's why I like you  I know you're bad That's why I like you That's why I like you \", \" \\r Calming down with my hand in the sand Come away come away To begin let's get closer Doesn't he love me? Just you wait by the withered trees Glass in my knees Because I'm losing comfort Doesn't it feel right? Just to be close When you're blowing your hair in the perfect waves You're trying your best just to push me away I can't ever tell since you were never there to begin My angel in loneliness My angel lonely My angel in loneliness My angel lonely Passing by I should have known  White glow Step in the white glow Make me make me  Just to be close When you're blowing your hair in the perfect waves You're trying your best just to push me away I can't ever tell since you were never there to begin My angel in loneliness My angel lonely My angel in loneliness My angel lonely \", ' \\r Sitting on the cigarette butt front porch I could ask you \"are you dead like me?\" Call me what you will but call me again It\\'s true I don\\'t talk too much  Because our lips won\\'t last forever And that\\'s exactly why I\\'d rather live in dreams and I\\'d rather die Because our lips won\\'t last forever And that\\'s exactly why I\\'d rather live in dreams and I\\'d rather die  Pretty face could you make the jump with me? I\\'m dying just to let things go Do you remember the lightening storm? It was the first time that I really felt you  Because our lips won\\'t last forever And that\\'s exactly why I\\'d rather live in dreams and I\\'d rather die Because our lips won\\'t last forever And that\\'s exactly why I\\'d rather live in dreams and I\\'d rather die  We\\'ve got eyes on the back of our heads We\\'ve got eyes on the back of our heads We\\'ve got eyes on the back of our heads We\\'ve got eyes on the back of our heads ', \" \\r I'll be in heaven when I walk out of my door tonight Driving to nowhere I'm slipping through a tunnel of light I'll be your school boy but the music's far too loud and I'm afraid of it So we scream as loud as we can now just to hear a funny sound a funny sound Driving home at daylight Or is the witching hour trying to take me there? Or is the witching hour trying to take me away now? Driving home at daylight Or is the witching hour trying to take me there? Or is the witching hour trying to take me away now? I'll be in heaven when I walk out of my door tonight Driving to nowhere I'm slipping through a tunnel of light Driving home at daylight Or is the witching hour trying to take me there? Or is the witching hour trying to take me away now? Driving home at daylight Or is the witching hour trying to take me there? Or is the witching hour trying to take me away now? Oh if I could only get to you Oh if I could only get to you Oh if I could only get to you Oh if I could only get to you Oh if I could only get to you Oh if I could only get to you Oh if I could only get to you Oh if I could only get to you \", '', \"Some people drink champagne out under the stars While others drink wine leaning over a bar But all that I need dear to make me feel fine Is to know that your love will forever be mine I'd give an ocean of diamonds or a world filled with flowers To hold you closely for just a few hours Hear you whisper softly that you love me too Would change all the dark clouds to the bluest of blue Well I don't drink their champagne I don't drink their wine So if you refuse me my poor heart will pine And I'll be so lonely till the day that I die And as long as I live dear you'll still hear me cry I'd give an ocean of diamonds or a world filled with flowers To hold you closely for just a few hours Hear you whisper softly that you love me too Would change all the dark clouds to the bluest of blue Would change all the dark clouds to the bluest of blue\", '', \"Yeah what up taylor gang? Star power Star year you know what it is? Ink my whole body I don't give a motherfuck Ink my ink my whole body I don't give a motherfuck Ink ink my whole body I don't give a motherfuck Ink ink my whole body ink ink my whole body Got so many tats you can't even count 'em up In the shop every week I can't seem to get enough My aunt said my skin to clean to mark it up But I'ma ink my whole body I don't give a motherfuck I'm blowin' purp no shirt Windows down screamin' cash rules showin' off my tattoos Hoes spazzin' when they see me Run up on me star struck askin' can they read me ? See nothin' told 'em sleazy Hear you man gotta a star tat and tried to be me I make it look easy people say I'm crazy Body marked up like the walls in the 80's Speakers scream loud like a car full of babies Chain so sick they think my charm came with rabies All I hear these days is I think you goin' overboard with it I ain't addicted I'm committed it's wizzle man Ink my whole body I don't give a motherfuck Ink my ink my whole body I don't give a motherfuck Ink ink my whole body I don't give a motherfuck Ink ink my whole body ink ink my whole body Got stars over here little star over there Stars everywhere cause nigga it's star year The name star power my jewelry star bright Tat on my face say I'm livin the star life And by the way you know it's taylor gang Soon as you see us I'm inked up from my feet up I keep blunts flickin' new tats itchin' Black chuck coppin' new shit droppin' Star power I'm the one they call young Body marked up like a subway in Harlem Niggas say that's hard white people think it's awesome Chest neck tatted whole sleeve on my arm done Sleeve on my arm done they say I look like tiger man I put some lime in the swisher sweet and twist it all up Can't wear a shirt the bitches lift it up I'm tattin' my body 'til I filled it all up Ink my whole body I don't give a motherfuck Ink my ink my whole body I don't give a motherfuck Ink ink my whole body I don't give a motherfuck Ink ink my whole body ink ink my whole body Ink my whole body I don't give a motherfuck Ink my ink my whole body I don't give a motherfuck Ink ink my whole body I don't give a motherfuck Ink ink my whole body ink ink my whole body\", '', '', '', '', '', '', '', \"I wanna be in Wonderland I wanna get down in the sand She's got that magic touch I don't need to mess around Could you lend a hand? 'Cause people don't understand She lives on her own Down in Wonderland I fell down a hole Into another town Living underground Looking for that sound She got everything on a string And everything else in between It don't matter which way or how Gonna have to get there somehow Could you lend a hand? 'Cause people don't understand She lives on her own Down in Wonderland I fell down a hole Into another town Living underground Looking for that sound Oh oh she's got every little thing Hanging from a string Oh she got every little thing Hanging from a string Oh she got every little thing Hanging from a string Oh she got every little thing Hanging from a string Could you lend a hand? 'Cause people don't understand She lives on her own Down in Wonderland I fell down a hole Into another town Living underground Looking for that sound\", '', '', '', '', '', '', '', '', '', '', '', '', '', '', '', '', \"What is she covering up? What is she lying about? She's hesitating... And she's using slow words I know But she's moving fast. Why is this happening now Why does this happen to me - all the time? Don't give up on me (Love) And I won't give up on you. (Love) Squeeze me 'til I can't breathe. And lets just lie here In oblivion. I can't believe in one of us I can't know - how long This love will last. Stay up in bed with me Stay up and play with me All day long. Don't give up on me (Love) And I won't give up on you. (Love) I get to wait for the baby (Love me girl) Nothing is wrong what are you scared of? Squeeze me 'til I can't breathe. And lets just lie here In oblivion. I can't believe in one of us I can't know - how long This love will last. Stay up in bed with me Stay up and play with me All day long. Don't give up on me (Love) And I won't give up on you (Love) I get to wait for the baby (Love me girl) Love me girl.\", \"Too much too much is never enough I had you and I gave you up No idea where my mind was for months I woke up I cashed in all of my luck Walked hand and hand with your trust And everybody was kissing on fire And we all got burnt It'd be safer to hate her Than to love her and to lose her It'd be safer to hate her all around Caught you having a laugh Did you catch me have the last? I've been smiling like this for days Just to make up for my mistakes In the dark I watch everyone disappear And I am beginning to let myself down I am pushing everyone that was in out It'd be safer to hate her Than to love her and to lose her It'd be safer to hate her all around And nobody knows what it's like To live and die on the inside Nobody knows what it's like To be one of a kind When we die do we feel alive? When we die do we feel alive? It'd be safer to hate her Than to love her and to lose her It'd be safer to hate her all around And nobody knows what it's like To live and die on the inside And nobody knows\", \"So this is the end of you and me We had a good run and I'm setting you free To do as you want to do as you please Without me Remember when you were my boat and I was your sea? Together we'd float so delicately But that was back when we could talk about anything 'Cause I don't know who I am When you're running circles in my head And I don't know just who you are When you're sleeping in someone else's bed Three whole words and eight letters late And that would have worked on me yesterday We're not the same I wish that could change But it can't And I'll say your name and in the same breath I'll say something that I'll grow to regret So keep your hands on your chest and sing with me That we don't wanna believe 'Cause I don't know who I am When you're running circles in my head And I don't know just who you are When you're sleeping in someone else's bed So it's true what they say If you love someone you should set them free Oh it's true what they say When you throw it away I don't know who you are I don't know who you are Oh 'cause I don't know who you are When you sleep with somebody else 'Cause I don't know who I am When you're sleeping with him It's true what they say when you throw it away\", \"If one drink can make tonight slip my mind then I Should drink up so I can forget that I have lived my life You are an example of better things to come So I'll wait on some other escape that leads me nowhere fast I've gotta ask You've got nothing to lose Except for me and you And I don't want that attitude When you know I can do I'll do better than you If one can drink can make tonight slip your mind then you Should drink up so you can convince yourself that I'm cute We are an example of why not to fall in love It takes a turn and then it hurts More than you could dream of When you've got nothing to lose Except for me and you And I don't want that attitude When you know I can do I'll do better than you And you've got nothing to prove Oh no wait yes you do You wear it so well that we think it's true You can't stay I want you gone You're pulling the carpet I was standing on You can't stay I want you gone You're pulling the carpet I was standing on You can't stay I want you gone You're pulling the carpet I was standing on Here's the exits exits exits You've got nothing to lose Except for me and you And I don't want that attitude When you know I can do I'll do better than you We are an example of (Why not to fall in why not to fall in love) We are an example of (Why not to fall in why not to fall in love)\", \"It's worse worse than you think If truth be told I'll tell you that you're lovesick I am sweet so everybody takes a bite Dig in I'm the catalyst of your demise. Words are cheap so I'll sell you a line Like the way you acted that night Second best is what what you want then It won't cost that much but me. I've got you hanging on every word I say But that don't mean a thing And you love the way I take your breath away So I'll take your breath away. Have you had had your day? Move close and I'll push you away. Play it safe For the sake of keeping some face Play it safe In the name of keeping your place. Do what what I tell you to With arms we'll carry this through Can't wait can't wait to see you. I've got you hanging on every word I say But that don't mean a thing And you love the way I take your breath away So I'll take take take. Oh I only have eyes for you And it's so true. Oh I only have eyes for you It's the truth it's the truth. So true. So true. So true. So true. And I only have eyes for you And I only have eyes for you. I've got you hanging on every word I say But that don't mean a thing And you love the way I take your breath away So I'll take take take. Oh I only have eyes for you And it's so true. Oh I only have eyes for you It's the truth it's the truth. So true.\", \"If I could have a minute please Then I'd bring you to your knees This contagious chemistry is killing me Oh you'll never disappear Until I give permission dear 'Cause you're always gonna always be needy to please Dearest enemy I fear that You will just rush me along the way Somewhere between the fake smiles and your free drinks Please don't smother me I swear that I need some room to breathe while with you All up down and over me You're not a name you're just a face It's contagious so catch it This love is dirtier than you think Don't believe your eyes Believe your ears trust me This'll sink lower than you think Don't believe your eyes Believe your ears trust me Dearest Enemy you should listen to the streets Because they tell you all you need to know 'Bout who and what you are No smoke without a fire With that I'll name drop you a liar It suits your skin and bones You've known all along It's exactly what you are It's contagious so catch it This love is dirtier than you think Don't believe your eyes Believe your ears trust me This'll sink lower than you think Don't believe your eyes Believe your ears trust me This is the first and the last time I swear There's more where that came from She said do you know what that means? 'Cause I know what that means This is the first and the last time I swear It's a numbers game and you were there Do you know what this means? 'Cause we know what this means No (Oh!) Who'd you think I was? Yeah And oh (Oh!) This leads to the only lead you were working on And oh (Oh!) And you were hopeless at best yeah And oh forget the rest Hotel rooms cheap thrill dress Lack of common sense Could make this happen If I could have a minute please Then I'd being you to your knees This contagious contagious chemistry Dearest Enemy You should have never trusted me You bitch\", \"You're not on my list of things to do 'cause I've already done you. And I am protective it's so cute but only when it suits you. Is this all in vain? Can these words explain Desperate minds mean desperate measures You've got to get this one together You're young and in love That should be enough. At least you'll have nice thoughts of me when I am cheating on you In your dreams. I've told you before my closet's clean and that these bones don't belong to me. Try this one for size try me one more time. You hold me down by keeping me around. Desperate minds mean desperate measures You've got to get this one together You're young and in love That should be enough. Desperate minds mean desperate measures You've got to get this one together You're young and in love That should be enough. You hold me down by keeping me around. And no one takes me home. no one takes me home. You hold me down by keeping me around. And no one takes me home. no one takes me home. Desperate minds mean desperate measures You've got to get this one together You're young and in love That should be enough. (Young and in love that should be enough.)\", \"You've got a lot to say For the one that walked away I give you take It's the way it's always been Oh how do I know If I should stay or just go? The bottom line is this way That I'll never know Stay with me Stay with me stay with me Stay with me oh Whoa whoa whoa Whoa whoa whoa You've got a lot to say For the one that pushed me away I give you take Some things they never change Just change Stay with me Stay with me stay with me Stay with me I never knew that I could be this way I never knew that I could walk away These things take time to grow It's been said that time heals wounds But no I won't be controlled And so the story goes Stay with me Stay with me stay with me Stay with me And now I know that I can be this way And now I know that I can walk away\", \"Is this hard to swallow You keep your thoughts by your pillow Just so you can adore them Just so we can ignore them I'd rather lead not follow I'd rather stay and not go home My moves have got so old or so I've been told But now you've lost it all We're running out of time We've got things on our mind And things we just don't like Who do you want to see? Who do you want to be tonight? Forgetting the promises you make Is how your your promises easily break Oh you sit on your fence And I'll dig under it I'll count my losses And I'll count my sins I hope you've cleared your mind We're running out of time We've got things on our mind And things we just don't like Who do you want to see? Who do you want to be tonight? We're running out of time We've got things on our mind And things we just don't like Who do you want to see? Who do you want to be tonight? We were young and we were blind We ignored the warning signs How were we to know? How were we to know? We were close but still so far We grew apart and out of touch All I wanted was... All I wanted was to say... We're running out of time We've got things on our mind And things we just don't like Who do you want to see? Who do you want to be tonight? We're running out of time We've got things on our mind And things we just don't like Who do you want to see? Who do you want to be tonight? Tonight tonight tonight tonight\", \"Calm down she said Consider this a warning A souvenir for the morning A headache that you can't fix I said I can talk my my way out of anything But I am struggling in this emergency This one's on your side I said this one's on your Ambulance I'm calling you now Accidents bring the house down Come on come on you don't know me Come on come on you owe me nothing Dry your eyes and stick them on ice Give your chest a rest it's been cold your whole life I'll have you know the tables are about to turn And you're going to get what what what you deserve Ambulance I'm calling you now Accidents bring the house down Come on come on you don't know me Come on come on you owe me nothing Is this in it my love? Turn it up turn it up I want to hear you scream Oh is this in it my love? Turn it up turn it up I want to hear you scream So sing I am my own worst enemy That's what she said to me And I am living out your dream So sing I am my own worst enemy So we can just breathe a little more safely Ambulance I'm calling you now Accidents bring the house down Come on come on you don't know me Come on come on you owe me nothing Is this in it my love? Turn it up turn it up I want to hear you scream Oh is this in it my love? Turn it up turn it up I want to hear you scream sing I've got real big plans and such bad thoughts I've got real big plans and such bad thoughts I've got real big plans and such bad thoughts I've got real big plans Real big plans and such bad thoughts I've got real big plans and such bad thoughts I've got real big plans and such bad thoughts I've got real big plans I've got real big plans and such bad thoughts I've got real big plans and such bad thoughts I've got real big plans and such bad thoughts I've got real big plans and such bad thoughts I've got real big plans and such bad thoughts I've got real big plans and such bad thoughts I've got real big plans and such bad thoughts I've got real big plans and such bad thoughts I've got real big plans and such bad thoughts I've got real big plans and such bad thoughts I've got real big plans and such bad thoughts I've got real big plans and such bad thoughts\", '', '', \"I'm tired of playing on the team It seems I don't get time out anymore What a change if we set the pace face to face No one even trying to score Oh oh I can feel the magic of your touch And when you move in close a little bit means so much Ooh yeah you've got to understand baby Time out is what I'm here for One on one I wanna play that game tonight One on one I know I wanna play that One on one I wanna play that game tonight One on one so slow You can't tell me you don't miss me girl I think I might know you too well Wonder what you'd say if you knew that I was coming tonight Want to? I want you can't you tell One on one I wanna play that game tonight One on one I know I wanna play that One on one I wanna play that game tonight One on one so slow That's all you need to know now 'Cause if it's really right there's nothing else One on one I want to play that game tonight...\", \"Everybody's high on consolation Everybody's trying to tell me what is right for me yeah My daddy tried to bore me with a sermon But it's plain to see that they can't comfort me Sorry Charlie for the imposition I think I got (it got it) I got the strength to carry on yeah I need a drink and a quick decision Now it's up to me ooh what will be She's gone she's gone Oh I oh I I better learn how to face it She's gone she's gone Oh I oh I I'd pay the devil to replace her She's gone and she's gone Oh why what went wrong? Get up in the morning look in the mirror I'm worn as a toothbrush hanging in the stand yeah My face ain't looking any younger Now I can see love's taken a toll on me She's gone she's gone Oh I oh I I better learn how to face it She's gone and she's gone Oh I oh I I'd pay the devil to replace her She's gone she's gone Oh why what went wrong? Think I'll spend eternity in the city Let the carbon and monoxide choke my thoughts away yeah And pretty bodies help dissolve the memories They can never be what she was (was) to me She's gone she's gone Oh I oh I I better learn how to face it She's gone she's gone Oh I oh I I'd pay the devil to replace her She's gone and she's gone Oh I what went wrong? She's gone Oh I I better learn how to face that She's gone she's gone I can't believe that she's gone Oh I I'd pay the devil to replace her She's gone Oh I I I better learn how to face that She's gone she's gone I can't believe that she's gone Oh I I pay the devil to replace her She's gone she's gone She's gone she's gone She's gone she's gone She's gone she's gone She's gone she's gone She's gone she's gone She's gone she's gone She's gone she's gone\", \"When we first met it wasn't what you said And still I loved you like mad I loved you like mad When we first met they were playing that song And then it stuck into my head stuck into my head When we first kissed it made it to my list And I couldn't stop myself think of nothing else When we parked the car they were playing that song And we turned it up to ten and started up again Every time I hear it play I think of you and those summer days Oh I can still remember When I heard it on the radio Oh but now we are September Come on forget what we know When you broke my heart there was nothing you could say And still I loved you like mad I loved you like mad Now that I think back it wasn't what we had They were just playing that song made it last so long Every time I hear it play I think of you and those summer days Oh I can still remember When I heard it on the radio Oh but now we are September Come on forget what we know Oh I can still remember When I heard it on the radio Oh but now we are September Come on forget what we know Oh I can still remember When I heard it on the radio Oh but now we are September Come on forget what we know\"]"
     ]
    },
    {
     "name": "stdout",
     "output_type": "stream",
     "text": [
      "\n"
     ]
    },
    {
     "name": "stdout",
     "output_type": "stream",
     "text": [
      "[['tensnake', 'get it right'], ['the 5 royales', \"i ain't getting caught\"], ['the acorn', 'slippery when wet'], ['the apples in stereo', 'dignified dignitary'], ['the apples in stereo', 'dream about the future'], ['the apples in stereo', 'no one in the world'], ['the apples in stereo', 'nobody but you'], ['the apples in stereo', 'no vacation'], ['the audition', 'final adventure'], ['the audition', 'never heard again'], ['the audition', 'you ruined this'], ['the audition', 'let me know'], ['the audition', 'the art of living'], ['the audition', 'honest mistake'], ['the automatic', 'something else'], ['the automatic', 'race to the heart of the sun'], ['the automatic', 'insides'], ['the automatic', 'list'], ['the automatic', 'tear it down'], ['the automatic', 'can i take you home'], ['the automatic', 'high time'], ['the automatic', 'sweat heat noise'], ['the automatic', 'cannot be saved'], ['the automatic', 'interstate'], ['the automatic', 'run and hide'], [\"the bear that wasn't\", 'headphones'], ['the besnard lakes', 'chicago train'], ['the besnard lakes', 'light up the night'], ['the besnard lakes', 'like the ocean_ like the innocent pt. 2: the innocent'], ['the besnard lakes', 'land of living skies pt. 2: the living skies'], ['the besnard lakes', 'the lonely moan'], ['the besnard lakes', 'four long lines'], ['the besnard lakes', 'albatross'], ['the besnard lakes', 'land of living skies pt. 1: the land'], ['the besnard lakes', 'glass printer'], ['the besnard lakes', 'and this is what we call progress'], ['the black box revelation', 'do i know you'], ['the black dog', 'empty seat calculations'], ['the black dog', 'future delay thinking'], ['the black keys', 'never gonna give you up'], ['the black keys', 'sinister kid'], ['the black keys', 'the only one'], ['the black keys', 'too afraid to love'], ['the bloody beetroots', 'domino'], ['the brian jonestown massacre', 'this is the one thing we did not want to have happen'], ['the candle thieves', 'the sunshine song'], ['the chap', 'few horoscope'], ['the chap', 'obviously'], ['the chap', 'we work in bars'], ['the chap', 'even your friend'], ['the classic crime', 'everything & nothing'], ['the courteeners', 'revolver'], ['the courteeners', 'take over the world'], ['the courteeners', 'the rest of the world has gone home'], ['the courteeners', 'last of the ladies'], ['the courteeners', 'sycophant'], ['the courteeners', 'the opener'], ['the courteeners', 'will it be this way forever?'], ['the courteeners', 'lullaby'], ['the courteeners', 'bojangles'], ['the courteeners', 'good times are calling'], ['the courteeners', 'cross my heart & hope to fly'], ['the courteeners', 'scratch your name upon my lips'], ['the courteeners', 'you overdid it doll'], ['the crookes', 'bloodshot days'], ['the crystal ark', 'the city never sleeps'], ['the dandy warhols', 'scientist'], ['the depreciation guild', 'trace'], ['the depreciation guild', 'crucify you'], ['the dillinger escape plan', 'crystal morning'], ['the dillinger escape plan', 'widower'], ['the dillinger escape plan', 'endless endings'], ['the dillinger escape plan', 'chinese whispers'], ['the dillinger escape plan', 'room full of eyes'], ['the flatliners', 'the calming collection'], ['the flatliners', 'filthy habits'], ['the futureheads', 'dart at the map'], ['the futureheads', 'heartbeat song'], ['the futureheads', 'this is the life'], ['the futureheads', 'the connector'], ['the futureheads', 'the baron'], ['the futureheads', 'sun goes down'], ['the futureheads', 'stop the noise'], ['the futureheads', 'i can do that'], ['the futureheads', 'the chaos'], ['the futureheads', 'jupiter'], ['the futureheads', 'struck dumb'], ['the get up kids', 'tommy gentle'], ['the golden filter', \"frejya's ghost\"], ['the golden filter', 'stardust'], ['the high wire', \"it's no secret\"], ['the high wire', 'letting in the light'], ['the high wire', 'new lovers'], ['the high wire', 'bodyclocks'], ['the high wire', 'pump your little heart'], ['the high wire', 'sleep tape'], ['the high wire', 'a future ending'], ['the high wire', 'honeycomb'], ['the hold steady', 'a slight discomfort'], ['the hold steady', 'the weekenders'], ['the hundred in the hands', 'tom tom'], ['the hundred in the hands', 'ghosts'], ['the hundred in the hands', 'sleepwalkers'], ['the imagined village', 'byker hill'], ['the infamous stringdusters', 'taking a chance on the truth'], ['the infamous stringdusters', 'all the same'], ['the infamous stringdusters', 'not tonight'], ['the last electro-acoustic space jazz & percussion ensemble', 'derf (for derf reklaw)'], ['the last electro-acoustic space jazz & percussion ensemble', 'mystic voyage (for roy ayers)'], ['the letter black', 'wounded'], ['the letter black', 'care too much'], ['the letter black', 'all i want'], ['the letter black', 'my disease'], ['the letter black', \"i'm just fine\"], ['the lonesome pine fiddlers', 'pain in my heart'], ['the maccabees', 'bag of bones'], ['the magic numbers', 'the pulse'], ['the morning benders', 'cold war'], ['the morning benders', 'mason jar'], ['the morning benders', 'promises'], ['the morning benders', 'wet cement'], ['the morning benders', 'pleasure sighs'], ['the morning benders', 'excuses'], ['the morning benders', 'hand me downs'], ['the morning benders', 'all day day light'], ['the new pornographers', 'sweet talk_ sweet talk'], ['the new pornographers', 'valkyrie in the roller disco'], ['the new pornographers', 'my shepherd'], ['the new pornographers', 'daughters of sorrow'], ['the new pornographers', 'we end up together'], ['the new pornographers', 'silver jenny dollar'], ['the new pornographers', 'a bite out of my bed'], ['the new pornographers', 'your hands (together)'], ['the ocean', 'the first commandment of the luminaries'], ['the ocean', 'epiphany'], ['the ocean', 'catharsis of a heretic'], ['the ocean', 'the origin of god'], ['the ocean', 'swallowed by the earth'], ['the ocean', 'the origin of species'], ['the ocean', 'firmament'], ['the ocean', 'metaphysics of the hangman'], ['the penguins', 'earth angel (will you be mine?)'], ['the pine', 'shovelglove'], ['the pipettes', 'our love was saved by spacemen'], ['the q4', 'darker days'], ['the radio dept.', \"heaven's on fire\"], ['the radio dept.', 'this time around'], ['the radio dept.', 'a token of gratitude'], ['the radio dept.', 'the video dept.'], ['the radio dept.', 'domestic scene'], ['the radio dept.', 'never follow suit'], ['the radio dept.', 'memory loss'], ['the reasoning', 'diamonds and leather'], ['the reasoning', 'through the now'], ['the reasoning', 'the nobody effect'], ['the reasoning', '14'], ['the reasoning', 'the thirteenth hour'], ['the robert cray band', \"i can't fail\"], ['the rocket summer', \"i need a break...but i'd rather have a breakthrough\"], ['the rocket summer', \"tara_ i'm terrible\"], ['the rolling stones', 'good time women'], ['the rolling stones', 'following the river'], ['the ruby suns', 'haunted house'], ['the ruby suns', 'cranberry'], ['the ruby suns', 'closet astrologer'], ['the sight below', 'unforetold'], ['the sight below', 'fervent'], ['the slackers', 'sabina'], ['the slackers', 'the tv dinner song'], ['the soft pack', 'pull out'], ['the soft pack', 'tides of time'], ['the soft pack', 'more or less'], ['the soft pack', 'move along'], ['the soft pack', 'down on loving'], ['the soft pack', 'flammable'], ['the subs', 'mitsubitchi'], ['the subs', 'bang bang bang'], ['the sunshine underground', 'any minute now'], ['the sunshine underground', 'one by one'], ['the sunshine underground', 'here it comes'], ['the sunshine underground', \"we've always been your friends\"], ['the sunshine underground', 'coming to save you'], ['the sunshine underground', 'a warning sign'], ['the sunshine underground', 'spell it out'], ['the sunshine underground', 'in your arms'], ['the sunshine underground', 'the messiah'], ['the sunshine underground', 'change your mind'], ['the tallest man on earth', \"you're going back\"], ['the thrillseekers', 'savanna'], ['the unwinding hours', 'knut'], ['the unwinding hours', 'there are worse things than being alone'], ['the unwinding hours', 'annie jane'], ['the unwinding hours', 'solstice'], ['the unwinding hours', 'the final hour'], ['the unwinding hours', 'peaceful liquid shell'], ['the van jets', 'the future'], ['the watson twins', 'calling out'], ['the watson twins', 'harpeth river'], ['the watson twins', 'snow canyons'], ['the watson twins', 'forever me'], ['the watson twins', 'tell me why'], ['the watson twins', 'u n me'], ['the watson twins', \"savin' you\"], ['the weepies', 'i was made for sunny days'], ['the white stripes', 'seven nation army (live)'], ['the white stripes', 'jolene [live]'], ['the white stripes', \"i'm slowly turning into you [live]\"], ['the white stripes', 'black math (live)'], ['the white stripes', 'fell in love with a girl (live)'], ['the white stripes', 'little ghost (live)'], ['the white stripes', 'the union forever (live)'], ['the white stripes', 'blue orchid (live)'], ['the xx', 'islands (delorean remix)'], ['these new puritans', 'white chords'], ['these new puritans', 'attack music'], ['these new puritans', '5'], ['these new puritans', 'three thousand'], ['these new puritans', 'orion'], ['these new puritans', 'canticle'], ['these new puritans', 'hologram'], ['these new puritans', 'time xone'], ['thieves like us', 'love saves'], ['thieves like us', 'silence'], ['thieves like us', 'one night with you'], ['thieves like us', 'never known love'], ['thieves like us', 'shyness'], ['thieves like us', 'lover lover'], ['thieves like us', 'so clear'], ['this is head', '0003'], ['this is head', '0008'], ['through the eyes of the dead', 'no haven'], ['through the eyes of the dead', 'defaced reality'], ['through the eyes of the dead', 'insomnium'], ['through the eyes of the dead', 'dementia'], ['through the eyes of the dead', 'the manifest'], ['tindersticks', 'falling down a mountain'], ['tindersticks', 'keep you beautiful'], ['tindersticks', 'factory girls'], ['title tracks', 'black bubblegum'], ['titus andronicus', 'no future part three: escape from no future'], ['tony sly', 'the shortest pier'], ['toyan', 'how the west was won'], ['tre allegri ragazzi morti', 'so che presto finirã'], ['treat', 'papertiger'], ['treat', 'we own the night'], ['treat', 'skies of mongolia'], ['treat', 'no way without you'], ['treat', 'all for love'], ['treat', 'the war is over'], ['treat', 'a life to die for'], ['treat', 'roar'], ['treat', 'tangled up'], ['treat', 'all in'], ['treat', 'heaven can wait'], ['treat', \"i'm not runnin'\"], ['treaty of paris', 'colleen'], ['triangulo de amor bizarro', 'la malicia de las especies protegidas'], ['trilucid', 'departures'], ['tunng', 'hustle'], ['tunng', 'it breaks'], ['turbostaat', 'fraukes ende'], ['turbostaat', 'bossbax'], ['turbostaat', 'fã¼nfwã¼rstchengriff'], ['turbostaat', 'tã¤ufers modell'], ['turbostaat', 'kussmaul'], ['turbostaat', 'ufos im moor'], ['turbostaat', 'pennen bei glufke'], ['turbostaat', 'strandgut'], ['turbostaat', 'oz antep'], ['turin brakes', 'radio silence'], ['turin brakes', 'paper heart'], ['turin brakes', 'will power'], ['turin brakes', 'mirror'], ['turin brakes', 'the invitation'], ['twin tigers', 'feathers'], ['twin tigers', 'gray waves'], ['twin tigers', 'red fox run'], ['u-n-i', 'the grudge'], ['u-n-i', 'land of the kings'], ['u-n-i', 'black sky'], ['u-n-i', 'halftime'], ['u-n-i', 'hammertime'], ['u-n-i', 'supreme 2.0'], ['u-n-i', 'hollywood hiatus'], ['ub40', 'close to me'], ['ub40', 'a love i can feel'], ['ub40', \"easy snappin'\"], ['ub40', \"you're gonna need me\"], ['unicorn kid', 'dreamcatcher'], ['unnatural helpers', 'sunshine / pretty girls'], ['unter null', 'godless (hard dance remix by studio-x)'], ['unter null', 'obligatory club hit to appease the masses'], ['usher', 'mars vs. venus'], ['usher featuring will.i.am', 'omg'], ['velvet acid christ', 'zombie sex'], ['veronica falls', 'found love in a graveyard'], [\"vex'd\", 'shinju bridge'], [\"vex'd\", 'disposition (feat. jest)'], [\"vex'd\", 'out of the hills'], [\"vex'd\", 'heart space (feat. anneka)'], [\"vex'd\", 'slug trawl depths'], ['villa nah', 'running on'], ['villa nah', 'emerald hills'], ['villa nah', 'way of the future'], ['villa nah', 'autumn gone'], ['villa nah', 'all the days'], ['villa nah', 'remains of love'], ['villa nah', 'ways to be'], ['villa nah', 'envelope'], ['villa nah', 'kiss and tell'], ['vince neil', 'tattoos & tequila'], ['vinnie paz', 'pistolvania feat. freeway & jakk frost'], ['vinnie paz', 'nosebleed feat. r.a. the rugged man'], ['vinnie paz', 'brick wall feat. ill bill & demoz'], ['vinnie paz', 'end of days feat. block mccloud'], ['vinnie paz', 'same story (my dedication) feat. liz fullerton'], ['vinnie paz', 'paul and paz feat. paul wall & block mccloud'], ['vinnie paz', 'no spiritual surrender feat. sick jacken'], ['vinnie paz', 'street wars feat. clipse & block mccloud'], ['vivian green', \"when we're apart\"], ['voodoo circle', 'spewing lies'], ['vulgaires machins', \"l'escorte\"], ['war of ages', 'instrumental'], ['washington', '80 miles'], ['wayne fontana / the mindbenders', 'pamela pamela'], ['wayne shorter', 'endangered species'], ['we are standard', 'the present'], ['we are standard', 'bye bye bye'], ['we are the fallen', 'sleep well_ my angel'], ['we are the fallen', 'st. john'], ['we are the fallen / bethanie', 'burn'], ['we are the ocean', 'look alive'], ['we have band', 'centrefolds & empty screens'], ['we were promised jetpacks', 'with the benefit of hindsight'], ['weezer', \"i swear it's true\"], ['white belt yellow tag', \"you're not invincible\"], ['william orbit', 'g155'], ['willie nelson', \"seaman's blues\"], ['wizack twizack', 'slow budget'], ['wizack twizack', 'spirit molecule'], ['woe of tyrants', 'venom eye'], ['woe of tyrants', 'tempting the wretch'], ['woe of tyrants', 'lightning over atlantis'], ['woe of tyrants', 'singing surrender'], ['woe of tyrants', 'the venus orbit'], ['woodhands', 'i should have gone with my friends'], ['write this down', 'redemption'], ['write this down', 'alarm the alarm'], ['write this down', 'renegade'], ['write this down', 'citadel'], ['write this down', 'kings and councilors'], ['write this down', 'despite your valor'], ['write this down', 'hand grenades'], ['write this down', 'i never said that i was through with you'], ['write this down', 'heaven and hell'], ['xiu xiu', 'apple for a brain'], ['xiu xiu', 'chocolate makes you happy'], ['xenia beliayeva', 'analog effekt'], ['year long disaster', 'stranger in my room'], ['year long disaster', 'she told us all'], ['year long disaster', 'cyclone'], ['zpu', 'revoluciã³n'], ['the bird and the bee', 'maneater'], ['the bird and the bee', 'private eyes']]\n"
     ]
    },
    {
     "name": "stdout",
     "output_type": "stream",
     "text": [
      "Count of not found lyrics : 364\n"
     ]
    }
   ],
   "source": [
    "# Test on subset\n",
    "\n",
    "lyrics, lyrics_not_found_list = scrape_lyrics(year_artist_name_title_genre['artist_name'].tail(500),year_artist_name_title_genre['title'].tail(500))\n",
    "\n",
    "print(lyrics)\n",
    "print(lyrics_not_found_list)\n",
    "print('Count of not found lyrics : ' + str(len(lyrics_not_found_list)))\n",
    "\n",
    "import csv\n",
    "\n",
    "with open(os.path.join(data_dir + \"/lyrics.csv\"), \"w\", newline='') as f:\n",
    "    writer = csv.writer(f)\n",
    "    writer.writerows([year_artist_name_title_genre.index.values.tolist(),lyrics])"
   ]
  },
  {
   "cell_type": "code",
   "execution_count": null,
   "metadata": {},
   "outputs": [],
   "source": []
  },
  {
   "cell_type": "code",
   "execution_count": null,
   "metadata": {},
   "outputs": [],
   "source": []
  },
  {
   "cell_type": "markdown",
   "metadata": {},
   "source": [
    "This function links gets the genres for a single track given its id."
   ]
  },
  {
   "cell_type": "code",
   "execution_count": null,
   "metadata": {},
   "outputs": [],
   "source": [
    "def get_song_genres(track_id):\n",
    "    \"\"\"\n",
    "    Get's the genres of a song given it's ID in a single string, separated by &.\n",
    "    \"\"\"\n",
    "    if track_id in genre_dataset.index:\n",
    "        return \"&\".join(genre_dataset.loc[[track_id]].values[0][0].split(' and '))\n",
    "    else:\n",
    "        return None"
   ]
  },
  {
   "cell_type": "markdown",
   "metadata": {},
   "source": [
    "Before starting our data collection, we make sure that all files correspond to only one song as they should."
   ]
  },
  {
   "cell_type": "code",
   "execution_count": null,
   "metadata": {},
   "outputs": [],
   "source": [
    "for filename in tqdm(all_files): # tqdm for a nice progress bar\n",
    "    assert get_num_songs(filename) == 1 # check whether each file correctly corresponds to a single song."
   ]
  },
  {
   "cell_type": "markdown",
   "metadata": {},
   "source": [
    "The following snippet reads the Million Song dataset in its entirety and uses the genre dataset to link the two. It gets all the fields we need as we discussed above and also gets the genres of each track. This information is then put into a dataframe. \n",
    "\n",
    "For convenience, we save this data in a new `.csv` file."
   ]
  },
  {
   "cell_type": "code",
   "execution_count": null,
   "metadata": {},
   "outputs": [],
   "source": [
    "# The dataframe is saved into a file for convenience.\n",
    "\"\"\"\n",
    "data = pd.DataFrame([])\n",
    "\n",
    "for filename in tqdm(all_files):\n",
    "    track_id = get_track_id(filename).decode()\n",
    "    genres = get_song_genres(track_id)\n",
    "    if genres:\n",
    "        to_add = [('track_id', track_id), ('genres', genres), ('artist_name', get_artist_name(filename)), ('title', get_title(filename)), ('year', get_year(filename)), ('lyrics', \"\")]\n",
    "        data = data.append(pd.DataFrame(OrderedDict(to_add), index=[0]))\n",
    "\n",
    "data.set_index('track_id', inplace=True)\n",
    "data.to_csv('data/data.csv')\n",
    "\"\"\"\n",
    "\n",
    "data = pd.read_csv('data/data.csv').set_index('track_id')"
   ]
  },
  {
   "cell_type": "markdown",
   "metadata": {},
   "source": [
    "Finally, we need to obtain lyrics data for our tracks. For this, we have found two datasets. Both of these contain artist, track title and lyrics data which we read in the following code snippets. We try to get the lyrics from both datasets, but it's possible that neither of them contains the lyrics for some on our tracks. For this reason, we will also look at genius.com which is a website containing many lyrics."
   ]
  },
  {
   "cell_type": "code",
   "execution_count": null,
   "metadata": {},
   "outputs": [],
   "source": [
    "lyrics_df1 = pd.read_csv('lyrics/songdata1.csv')\n",
    "lyrics_df1.set_index(['artist', 'song'], inplace=True)"
   ]
  },
  {
   "cell_type": "code",
   "execution_count": null,
   "metadata": {},
   "outputs": [],
   "source": [
    "lyrics_df2_raw = pd.read_csv('lyrics/songdata2.csv', na_filter=False)\n",
    "lyrics_df2 = lyrics_df2_raw[['song', 'artist', 'lyrics']].set_index(['artist', 'song'])"
   ]
  },
  {
   "cell_type": "code",
   "execution_count": null,
   "metadata": {},
   "outputs": [],
   "source": [
    "def get_lyrics_csv1(artist_name, title):\n",
    "    \"\"\"\n",
    "    Gets lyrics for an artist and title pair from the first dataset.\n",
    "    \"\"\"\n",
    "    if (artist_name, title) in lyrics_df1.index:\n",
    "        return lyrics_df1.loc[artist_name, title].values[0][1]\n",
    "    else:\n",
    "        return None"
   ]
  },
  {
   "cell_type": "code",
   "execution_count": null,
   "metadata": {},
   "outputs": [],
   "source": [
    "def get_lyrics_csv2(artist_name, title):\n",
    "    \"\"\"\n",
    "    Gets lyrics for an artist and title pair from the second dataset.\n",
    "    In this file, the artist and title fields have hyphens instead of spaces\n",
    "    and are exclusively in lower case, so we change our data to match this\n",
    "    format when looking for songs.\n",
    "    \"\"\"\n",
    "    index_artist_name = artist_name.lower().replace(' ', '-')\n",
    "    index_title = title.lower().replace(' ', '-')\n",
    "    if (index_artist_name, index_title) in lyrics_df2.index:\n",
    "        lyrics = lyrics_df2.loc[index_artist_name, index_title].values[0][0]\n",
    "        if len(lyrics) == 0:\n",
    "            return None\n",
    "        else:\n",
    "            return lyrics\n",
    "    else:\n",
    "        return None"
   ]
  },
  {
   "cell_type": "code",
   "execution_count": null,
   "metadata": {},
   "outputs": [],
   "source": [
    "def get_lyrics(artist_name, title):\n",
    "    \"\"\"\n",
    "    Gets the lyrics for an artist name and title from both datasets.\n",
    "    If lyrics are not found in either of them, returns an empty string.\n",
    "    \"\"\"\n",
    "    lyrics = get_lyrics_csv1(artist_name, title)\n",
    "    if lyrics:\n",
    "        return lyrics\n",
    "    \n",
    "    lyrics = get_lyrics_csv2(artist_name, title)\n",
    "    if lyrics:\n",
    "        return lyrics\n",
    "    \n",
    "    return \"\""
   ]
  },
  {
   "cell_type": "markdown",
   "metadata": {},
   "source": [
    "We make a new dataframe that contains lyrics information for our previous data. If the lyrics are not found in either of the lyrics datasets, we generate the genius.com url to search for that song's lyrics."
   ]
  },
  {
   "cell_type": "code",
   "execution_count": null,
   "metadata": {},
   "outputs": [],
   "source": [
    "#Match lyrics\n",
    "data_lyrics = data.copy()\n",
    "urls = {}\n",
    "i = 1\n",
    "for index, row in data.iterrows():\n",
    "    lyrics = get_lyrics(row['artist_name'], row['title'])\n",
    "    \n",
    "    # We generate an URL to lookup in Genius if we haven't found any lyrics\n",
    "    # in the first two datasets.\n",
    "    if lyrics == \"\":\n",
    "        # To create the URL to find the song on genius, the title and artist names\n",
    "        # need to be processed to match the general format of Genius' songs URL.\n",
    "        # For instance, spaces are replaced by hyphens and additional information\n",
    "        # between parenthesis is removed.\n",
    "        url = (row['artist_name'].lower().replace(' ', '-') + '-' + re.sub(r'\\([^)]*\\)', '', row['title']).rstrip().lower().replace(' ', '-') + '-lyrics').capitalize().replace(\"'\", '')\n",
    "        urls[index] = 'https://genius.com/' + url\n",
    "        \n",
    "    print(i, end='\\r')\n",
    "    i += 1\n",
    "    data_lyrics.loc[index, 'lyrics'] = re.sub(r'[\\[].*?[\\]]', '', lyrics.replace('\\n', ' '))"
   ]
  },
  {
   "cell_type": "markdown",
   "metadata": {},
   "source": [
    "The genius.com URLs are collected in a file so that they can be fed into a scrapper."
   ]
  },
  {
   "cell_type": "code",
   "execution_count": null,
   "metadata": {},
   "outputs": [],
   "source": [
    "with open('data/urls', 'w') as urls_files:\n",
    "    for index, url in urls.items():\n",
    "        print(index, url, file=urls_files)"
   ]
  },
  {
   "cell_type": "markdown",
   "metadata": {},
   "source": [
    "At this point, we run our scrapper which is using `scrapy`. This is not done in this notebook but instead you can find the scrapper code in the `scrapper` folder in this repository. We obtain a file that contains the track ids as well as their lyrics found on genius.com.\n",
    "\n",
    "The resulting file is then read and its data is added to our data."
   ]
  },
  {
   "cell_type": "code",
   "execution_count": null,
   "metadata": {},
   "outputs": [],
   "source": [
    "import json\n",
    "with open('data/missing_lyrics.json') as lyrics_file:\n",
    "    lyrics_json = json.load(lyrics_file)\n",
    "    for item in lyrics_json:\n",
    "        for index, lyrics in item.items():\n",
    "            # Returned lyrics are modified to remove newline cahracters as well as some\n",
    "            # special lyrics structures as we have seen before.\n",
    "            data_lyrics.loc[index, 'lyrics'] = re.sub(r'[\\[].*?[\\]]', '', lyrics.replace('\\n', ' '))"
   ]
  },
  {
   "cell_type": "markdown",
   "metadata": {},
   "source": [
    "We then detect the language of the lyrics if any. It is possible that some of the lyrics do not contain any features that allow language detection, in this case we do not assign a language to that lyrics."
   ]
  },
  {
   "cell_type": "code",
   "execution_count": null,
   "metadata": {},
   "outputs": [],
   "source": [
    "#Find the corresponding language for the lyrics\n",
    "from langdetect import detect\n",
    "\n",
    "for index, row in data_lyrics.iterrows():\n",
    "    lyrics = data_lyrics.loc[index, 'lyrics']\n",
    "    language = None\n",
    "    if lyrics.strip() != \"\":\n",
    "        try:\n",
    "            language = detect(lyrics)\n",
    "        except:\n",
    "            language = \"\"\n",
    "    if language != \"\":\n",
    "        data_lyrics.loc[index, 'lang'] = language"
   ]
  },
  {
   "cell_type": "markdown",
   "metadata": {},
   "source": [
    "Now let's see how many songs are there with lyrics in the Million Song Subset."
   ]
  },
  {
   "cell_type": "code",
   "execution_count": null,
   "metadata": {},
   "outputs": [],
   "source": [
    "data_lyrics = data_lyrics[data_lyrics.lyrics != '']"
   ]
  },
  {
   "cell_type": "code",
   "execution_count": null,
   "metadata": {},
   "outputs": [],
   "source": [
    "data_lyrics.shape"
   ]
  },
  {
   "cell_type": "code",
   "execution_count": null,
   "metadata": {},
   "outputs": [],
   "source": [
    "data_lyrics"
   ]
  },
  {
   "cell_type": "markdown",
   "metadata": {},
   "source": [
    "We save the resulting data in a file for convenience. This is the final state of our data and contains verything we need."
   ]
  },
  {
   "cell_type": "code",
   "execution_count": null,
   "metadata": {},
   "outputs": [],
   "source": [
    "data_lyrics.to_csv('data/data_lyrics.csv')"
   ]
  },
  {
   "cell_type": "markdown",
   "metadata": {},
   "source": [
    "# Analysis"
   ]
  },
  {
   "cell_type": "markdown",
   "metadata": {},
   "source": [
    "To obtain our analysis, we will follow the following steps."
   ]
  },
  {
   "cell_type": "markdown",
   "metadata": {},
   "source": [
    "### Lyrics Processing"
   ]
  },
  {
   "cell_type": "markdown",
   "metadata": {},
   "source": [
    "We would like to be able to extract different themes from our lyrics. Other than being able to see the evolution of some words over time and depending of the genres of the song, it's interesting to see the themes or sentiments that the song's lyrics portray. For this, we will use Natural Language Processing (NLP) libraries to extract this information about each track."
   ]
  },
  {
   "cell_type": "markdown",
   "metadata": {},
   "source": [
    "From the lyrics that we have, we apply the bag-of-words model and only keep the interesting (meaningful) words. That is, we remove the stop words and lemmatize each word to avoid, for instance, having both 'sleep' and 'sleeping'."
   ]
  },
  {
   "cell_type": "markdown",
   "metadata": {},
   "source": [
    "We start by downloading `nltk` packages that will be of use for us. [ntlk](http://www.nltk.org/) is a well known framework for natural language processing in Python."
   ]
  },
  {
   "cell_type": "code",
   "execution_count": null,
   "metadata": {},
   "outputs": [],
   "source": [
    "nltk.download('stopwords')\n",
    "nltk.download('punkt')\n",
    "nltk.download('averaged_perceptron_tagger')\n",
    "nltk.download('wordnet')"
   ]
  },
  {
   "cell_type": "markdown",
   "metadata": {},
   "source": [
    "Now, we define a few functions to do all our natural language analysis steps."
   ]
  },
  {
   "cell_type": "markdown",
   "metadata": {},
   "source": [
    "First, we define a function that tokenizes lyrics. As we have seen in class, working on a list of tokens instead of a string of characters is much better for machine learning and natural language processing techniques that we will use. For this we use TextBlob which we will also use later on for sentiment analysis since it gives a nice way to obtain tagged tokens."
   ]
  },
  {
   "cell_type": "code",
   "execution_count": null,
   "metadata": {},
   "outputs": [],
   "source": [
    "def tokenize(text):\n",
    "    return TextBlob(text)"
   ]
  },
  {
   "cell_type": "markdown",
   "metadata": {},
   "source": [
    "Next we will define a function that removes stopwords from our tokens. This function uses standard stop words list from `nltk`."
   ]
  },
  {
   "cell_type": "code",
   "execution_count": null,
   "metadata": {},
   "outputs": [],
   "source": [
    "def get_language_full_name(isocode):\n",
    "    return pycountry.languages.get(alpha_2=isocode).name.lower()"
   ]
  },
  {
   "cell_type": "code",
   "execution_count": null,
   "metadata": {},
   "outputs": [],
   "source": [
    "stop_words_languages = {}\n",
    "# Other than the stopwords for a given language which we obtain from\n",
    "# nltk, we also add a list of common first names which we remove from\n",
    "# the lyrics to ease topic detection later on. This list was found in\n",
    "# https://www.cs.cmu.edu/Groups/AI/areas/nlp/corpora/names/.\n",
    "names_pd = pd.read_csv('data/common_names.csv')\n",
    "\n",
    "names = []\n",
    "for name in names_pd.values:\n",
    "    names.append(name[0])"
   ]
  },
  {
   "cell_type": "markdown",
   "metadata": {},
   "source": [
    "Even if we only have English lyrics, the code below can support the stopwords from multiple languages. "
   ]
  },
  {
   "cell_type": "code",
   "execution_count": null,
   "metadata": {},
   "outputs": [],
   "source": [
    "def remove_stopwords(blob, language):\n",
    "    if language not in stop_words_languages:\n",
    "        stop_words_languages[language] = set(stop_words.words(get_language_full_name(language)))\n",
    "        if language == 'en':\n",
    "            # Additional stopwords not caught by nltk's list.\n",
    "            stop_words_languages[language] |= set(['na', 'gon', 'la', 'nt', 'i', '', \"'\"])\n",
    "            stop_words_languages[language] |= set(names)\n",
    "        \n",
    "    tokens = []\n",
    "    for word, tag in blob.tags:\n",
    "        lower = word.lower().replace(\"'\", '')\n",
    "        if lower not in stop_words_languages[language]:\n",
    "            tokens.append((lower, tag))\n",
    "    return tokens"
   ]
  },
  {
   "cell_type": "markdown",
   "metadata": {},
   "source": [
    "In the next function, we lemmatize the tokens that are left so that words that variants of words that are essentially the same (conjugated verbs for examples) are counted as the same token."
   ]
  },
  {
   "cell_type": "code",
   "execution_count": null,
   "metadata": {},
   "outputs": [],
   "source": [
    "def lemmatize(tokens):\n",
    "    lemmas = []\n",
    "    lemma = None\n",
    "    for token, tag in tokens:\n",
    "        if tag[0] == \"V\": #if the word is a verb\n",
    "            lemma = Word(token).lemmatize(\"v\")\n",
    "        else:\n",
    "            lemma = Word(token).lemmatize()\n",
    "        lemmas.append(lemma)\n",
    "    return lemmas"
   ]
  },
  {
   "cell_type": "markdown",
   "metadata": {},
   "source": [
    "The next function combines the functions defined above to get the final tokens that we will consider for our topic detection task."
   ]
  },
  {
   "cell_type": "code",
   "execution_count": null,
   "metadata": {},
   "outputs": [],
   "source": [
    "def get_final_tokens(lyrics):\n",
    "    \"\"\"\n",
    "    Combines our functions to get the final list of tokens.\n",
    "    \"\"\"\n",
    "    texts = []\n",
    "    for lyric in lyrics:\n",
    "        texts.append(lemmatize(remove_stopwords(tokenize(lyric), 'en')))\n",
    "    return texts"
   ]
  },
  {
   "cell_type": "markdown",
   "metadata": {},
   "source": [
    "For our data visualisation, we also need to have raw frequencies of the words that we use. While later on we will use different ways to obtain such information for our ML techniques, here for the visualisation we want a quick and simple count of the appearence of our tokens over the whole corpus passed as parameters. This way we can easily obtain the frequency of words appearing in all the lyrics for a given genre in a given year for example. The function defined below does precisely that."
   ]
  },
  {
   "cell_type": "code",
   "execution_count": null,
   "metadata": {},
   "outputs": [],
   "source": [
    "def get_word_freq(texts):\n",
    "    \"\"\"\n",
    "    Gets the raw word count of each word appearing in\n",
    "    the lyrics given by texts.\n",
    "    \"\"\"\n",
    "    word_count = {}\n",
    "    for text in texts:\n",
    "        for token in text:\n",
    "            if token not in word_count:\n",
    "                word_count[token] = 1\n",
    "            else:\n",
    "                word_count[token] += 1\n",
    "    return word_count"
   ]
  },
  {
   "cell_type": "markdown",
   "metadata": {},
   "source": [
    "To find the general sentiment of a song's lyrics, we use [TextBlob](https://textblob.readthedocs.io/en/dev/). This library has already a built-in sentiment analyser, which gives us inforation whether the song is 'positive' or 'negative'. The following function is used to do just that and takes as parameter a single lyrics string."
   ]
  },
  {
   "cell_type": "code",
   "execution_count": null,
   "metadata": {},
   "outputs": [],
   "source": [
    "def get_sentiment(lyrics):\n",
    "    \"\"\"\n",
    "    Gets the sentiment polarity of a lyrics given as string.\n",
    "    \"\"\"\n",
    "    blob = TextBlob(lyrics)\n",
    "    return blob.sentiment.polarity"
   ]
  },
  {
   "cell_type": "markdown",
   "metadata": {},
   "source": [
    "Now that we have everything needed defined, we begin by getting our data (from the file written to in the previous section) into a dataframe. We only keep the lyrics that we detected to be in english since all our NLP and ML techniques wouldn't work on lyrics from different languages.\n",
    "\n",
    "We construct a genres list that will be used later in our data visualisation as well as a dictionary that links the genres to a list of indices of particular songs."
   ]
  },
  {
   "cell_type": "code",
   "execution_count": null,
   "metadata": {},
   "outputs": [],
   "source": [
    "lyrics_df = pd.read_csv('data/data_lyrics.csv')\n",
    "lyrics_df.set_index(['track_id'], inplace=True)\n",
    "\n",
    "lyrics_df = lyrics_df[lyrics_df.lang == 'en']\n",
    "genres_list = ['all'] # Added a special genre, 'all' which will capture all songs\n",
    "genres_indices = {}\n",
    "for index, row in lyrics_df.iterrows():\n",
    "    genre = row['genres']\n",
    "    genre = genre.replace('&', ',') # Replaced for later on when we use it in HTML\n",
    "    genres_indices.setdefault(genre, []).append(index)\n",
    "    genres_indices.setdefault('all', []).append(index)\n",
    "    if genre not in genres_list:\n",
    "        genres_list.append(genre)"
   ]
  },
  {
   "cell_type": "markdown",
   "metadata": {},
   "source": [
    "We call our functions on the lyrics of each song and insert these tokens as a new column in the dataframe."
   ]
  },
  {
   "cell_type": "code",
   "execution_count": null,
   "metadata": {},
   "outputs": [],
   "source": [
    "lyrics_df['tokens'] = get_final_tokens(lyrics_df.lyrics.values)"
   ]
  },
  {
   "cell_type": "markdown",
   "metadata": {},
   "source": [
    "Now we add yet another column that is the sentiment of the lyrics of a particular song, obtained using the method described above. We scale the sentiment between 0 and 1 for our final visualisation. "
   ]
  },
  {
   "cell_type": "code",
   "execution_count": null,
   "metadata": {},
   "outputs": [],
   "source": [
    "all_lyrics = lyrics_df.lyrics.values\n",
    "sentiments = []\n",
    "for lyric in all_lyrics:\n",
    "    sentiment = get_sentiment(lyric)\n",
    "    sentiment = (sentiment + 1) / 2.0\n",
    "    sentiments.append(sentiment)\n",
    "lyrics_df['sentiment'] = sentiments"
   ]
  },
  {
   "cell_type": "markdown",
   "metadata": {},
   "source": [
    "Now we collect all our remaining data and output it into files that we will use for our visualisation. We first begin by aggregating the word frequencies by genre and year of release (songs without a year of release are dropped). Each word results in a file where each datapoint corresponds to a year and the frequency of the word in the particular genre and the particular year.\n",
    "\n",
    "The sentiment files are done in the same way, except that there is one file per genre.\n",
    "\n",
    "Moreover, a list of all words appearing for every genre is also created for our final data visualisation."
   ]
  },
  {
   "cell_type": "code",
   "execution_count": null,
   "metadata": {},
   "outputs": [],
   "source": [
    "# We will collect here a list of words for each genre\n",
    "# for our visualisation's autocomplete feature.\n",
    "genres_words = {}\n",
    "to_save = {}\n",
    "for genre, indices in genres_indices.items():\n",
    "    curr_df = lyrics_df.loc[indices]\n",
    "    genres_words[genre] = []\n",
    "    \n",
    "    # create the directory for words in each genre\n",
    "    directory_words = 'data/final_data/words/' + genre\n",
    "    if not os.path.exists(directory_words):\n",
    "        os.makedirs(directory_words)\n",
    "    \n",
    "    # create the directory for sentiments\n",
    "    directory_sentiments = 'data/final_data/sentiments'\n",
    "    if not os.path.exists(directory_sentiments):\n",
    "        os.makedirs(directory_sentiments)\n",
    "    \n",
    "    for year in curr_df[curr_df.year != 0].year.sort_values().unique():\n",
    "        curr_year_df = curr_df[curr_df.year == year]\n",
    "        # get the frequencies of words in the current genre and year\n",
    "        freqs = get_word_freq(curr_year_df.tokens.values)\n",
    "        # get the word count over this data for proportion calculation\n",
    "        word_count = sum(freqs.values())\n",
    "        \n",
    "        # get the sentiment values and calculate the proportion\n",
    "        sentiments = curr_year_df.sentiment.values\n",
    "        sentiment_avg = sum(sentiments) / float(len(sentiments))\n",
    "        filepath = directory_sentiments + '/' + genre + '.csv'\n",
    "        if not os.path.exists(filepath):\n",
    "            with open(filepath, 'a') as output_file:\n",
    "                print('year,value', file=output_file)\n",
    "        with open(filepath, 'a') as output_file:\n",
    "            print(str(year) + ',' + str(sentiment_avg), file=output_file)\n",
    "            \n",
    "        # save word data (proportions as well)\n",
    "        for word, freq in freqs.items():\n",
    "            # remove undesirable characters from filenames\n",
    "            for ch in ['/', '*', '\"', ':', '\\\\']:\n",
    "                word = word.replace(ch, '-')\n",
    "            if word != \"\":\n",
    "                filepath = directory_words + '/' + word + '.csv'\n",
    "                # saved in a directory to later output in a file\n",
    "                # this is done so that we don't append to the file\n",
    "                # before we know that there is more than one value.\n",
    "                # having a single value in our visualisation doesn't\n",
    "                # show anything but potentially makes other graphs \n",
    "                # look bad because of scaling.\n",
    "                to_save.setdefault((filepath, word, genre), []).append(str(year) + ',' + str(freq/float(word_count)))\n",
    "\n",
    "# save word data to files\n",
    "for filepath_word, lines in to_save.items():\n",
    "    filepath, word, genre = filepath_word\n",
    "    if len(lines) > 1: # save only if more than one datapoint\n",
    "        if word not in genres_words[genre]:\n",
    "            genres_words[genre].append(word)\n",
    "        with open(filepath, 'w') as output_file:\n",
    "            print('year,value', file=output_file)\n",
    "            for line in lines:\n",
    "                print(line, file=output_file)"
   ]
  },
  {
   "cell_type": "markdown",
   "metadata": {},
   "source": [
    "Finnaly, the list of genres that we created earlier will be of use for our data visualisation as an auto-complete feature when searching for genres. The same is the case for the lists of words per genre. This information is saved in files as defined below."
   ]
  },
  {
   "cell_type": "code",
   "execution_count": null,
   "metadata": {},
   "outputs": [],
   "source": [
    "for genre, words in genres_words.items():\n",
    "    with open('data/final_data/words/' + genre + '/allWords.json', 'w') as output_file:\n",
    "        json.dump(words, output_file)"
   ]
  },
  {
   "cell_type": "code",
   "execution_count": null,
   "metadata": {},
   "outputs": [],
   "source": [
    "with open('data/final_data/allGenres.json', 'w') as output_file:\n",
    "    json.dump(genres_list, output_file)"
   ]
  },
  {
   "cell_type": "markdown",
   "metadata": {},
   "source": [
    "### Topics Analysis"
   ]
  },
  {
   "cell_type": "markdown",
   "metadata": {},
   "source": [
    "And finally, to find the topics of our songs we use [Mallet](http://mallet.cs.umass.edu/topics.php).\n",
    "\n",
    "This method doesn't create a list of themes with clear names, but rather assumes that a topic is a collection of words, thus we will need to manually assign a name for each topic.\n",
    "\n",
    "The LDA model will output, for each song, a list of topics with different weights.\n",
    "\n",
    "The following code just outputs the collection of tokens with corresponding track ids."
   ]
  },
  {
   "cell_type": "code",
   "execution_count": null,
   "metadata": {},
   "outputs": [],
   "source": [
    "path = r'mallet/lyrics' \n",
    "if not os.path.exists(path):\n",
    "    os.makedirs(path)"
   ]
  },
  {
   "cell_type": "code",
   "execution_count": null,
   "metadata": {},
   "outputs": [],
   "source": [
    "for index, row in lyrics_df.iterrows():\n",
    "    with open(path + '/' + index + '.txt', \"w\") as text_file:\n",
    "        tokens = ''\n",
    "        for token in row.tokens:\n",
    "            tokens += token + ' '\n",
    "        text_file.write(tokens)"
   ]
  },
  {
   "cell_type": "code",
   "execution_count": null,
   "metadata": {},
   "outputs": [],
   "source": [
    "#if the number of topics is modified, you need to change it as well in the second command below\n",
    "num_topics = 20"
   ]
  },
  {
   "cell_type": "markdown",
   "metadata": {},
   "source": [
    "To process the output, just run the following command in Mallet's directory:\n",
    "\n",
    "`bin/mallet import-dir --input mallet/* --output lyrics.mallet --remove-stopwords --keep-sequence`\n",
    "\n",
    "We keep the `--remove-stopwords` just to be sure to remove all the stopwords."
   ]
  },
  {
   "cell_type": "markdown",
   "metadata": {},
   "source": [
    "And then this command :\n",
    "\n",
    "\n",
    "`bin/mallet train-topics --input lyrics.mallet --num-topics 20 --num-iterations 1000 --optimize-interval 10 --output-topic-keys topics_composition.txt --output-doc-topics songs_composition.txt?`\n",
    "\n",
    "The output should be in the folder `data` for the next operations."
   ]
  },
  {
   "cell_type": "markdown",
   "metadata": {},
   "source": [
    "We then load the prediction of the LDA model on the lyrics and add it to the lyrics dataset."
   ]
  },
  {
   "cell_type": "code",
   "execution_count": null,
   "metadata": {},
   "outputs": [],
   "source": [
    "songs_composition = pd.read_csv('data/songs_composition.txt', header=None, sep='\\t')"
   ]
  },
  {
   "cell_type": "code",
   "execution_count": null,
   "metadata": {},
   "outputs": [],
   "source": [
    "def df_get_id(filenames):\n",
    "    \"\"\"\n",
    "    Get the id of a song from the corresponding filename.\n",
    "    We need this because Mallet outputs the filepath and not the original ID.\n",
    "    \"\"\"\n",
    "    ids = []\n",
    "    for filename in filenames:\n",
    "        id_ = filename[1].split('/')[-1].split('.')[0]\n",
    "        ids.append(id_)\n",
    "    return ids\n",
    "\n",
    "def df_get_topics(df_topics):\n",
    "    \"\"\"\n",
    "    Get a single list of topics from the topics columns from\n",
    "    Mallets output file.\n",
    "    \"\"\"\n",
    "    list_topics = []\n",
    "    for row in df_topics:\n",
    "        topics = {}\n",
    "        for i in range(num_topics):\n",
    "            topics[i] = row[i + 2]\n",
    "        list_topics.append(topics)\n",
    "    return list_topics"
   ]
  },
  {
   "cell_type": "code",
   "execution_count": null,
   "metadata": {
    "scrolled": true
   },
   "outputs": [],
   "source": [
    "songs_composition['track_id'] = df_get_id(songs_composition.values)\n",
    "songs_composition['topics'] = df_get_topics(songs_composition.values)\n",
    "id_topics = songs_composition[['track_id', 'topics']]\n",
    "\n",
    "id_topics = id_topics.set_index('track_id')\n",
    "# We add the topics column to the lyrics dataset and name it result\n",
    "result = pd.concat([id_topics, lyrics_df], axis=1, join='inner')"
   ]
  },
  {
   "cell_type": "markdown",
   "metadata": {},
   "source": [
    "Now that we have the topics coefficient for each song, we can retrieve interesting information.\n",
    "The goal is to have for a given genre, the coefficient of a given topic for a given year.\n",
    "For instance to kown what is the importance of the Gangsta topics in the pop genre in the year 2007."
   ]
  },
  {
   "cell_type": "markdown",
   "metadata": {},
   "source": [
    "# Visualization"
   ]
  },
  {
   "cell_type": "markdown",
   "metadata": {},
   "source": [
    "As we have planned, we have a data visualisation website that displays our data as plots over the time of different distributions of topics, words or sentiments, separated by genre or not. The visualisation is available at the end of our data story [here](http://adelamare.eu/ADA/Project/). It is also available standalone [here](http://adelamare.eu/ADA/Project/fullViz.html)."
   ]
  }
 ],
 "metadata": {
  "kernelspec": {
   "display_name": "Python [default]",
   "language": "python",
   "name": "python3"
  },
  "language_info": {
   "codemirror_mode": {
    "name": "ipython",
    "version": 3
   },
   "file_extension": ".py",
   "mimetype": "text/x-python",
   "name": "python",
   "nbconvert_exporter": "python",
   "pygments_lexer": "ipython3",
   "version": "3.6.6"
  }
 },
 "nbformat": 4,
 "nbformat_minor": 2
}
