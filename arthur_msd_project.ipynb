{
 "cells": [
  {
   "cell_type": "markdown",
   "metadata": {},
   "source": [
    "<h1 style=\"font-size:60px; text-align: center;\" markdown=\"1\">Feminism in lyrics: How women are depicted in recent music</h1>\n",
    "<h3 style=\"text-align: center;\" markdown=\"1\">A project by X, Y and Z, <it markdown=\"1\">Automn 2018</it></h3>"
   ]
  },
  {
   "cell_type": "markdown",
   "metadata": {},
   "source": [
    "# 0. Imports and data folder"
   ]
  },
  {
   "cell_type": "code",
   "execution_count": 2,
   "metadata": {},
   "outputs": [
    {
     "name": "stdout",
     "output_type": "stream",
     "text": [
      "[nltk_data] Downloading package stopwords to C:\\Users\\Arthur\n",
      "[nltk_data]     Parmentier\\AppData\\Roaming\\nltk_data...\n",
      "[nltk_data]   Package stopwords is already up-to-date!\n",
      "[nltk_data] Downloading package punkt to C:\\Users\\Arthur\n",
      "[nltk_data]     Parmentier\\AppData\\Roaming\\nltk_data...\n",
      "[nltk_data]   Package punkt is already up-to-date!\n"
     ]
    },
    {
     "name": "stderr",
     "output_type": "stream",
     "text": [
      "C:\\ProgramData\\Anaconda3\\lib\\site-packages\\gensim\\utils.py:1212: UserWarning: detected Windows; aliasing chunkize to chunkize_serial\n",
      "  warnings.warn(\"detected Windows; aliasing chunkize to chunkize_serial\")\n"
     ]
    }
   ],
   "source": [
    "#As always, we import everything\n",
    "import pandas as pd\n",
    "import os\n",
    "import re\n",
    "import hdf5_getters as getters\n",
    "import requests\n",
    "from bs4 import BeautifulSoup\n",
    "import numpy as np\n",
    "from collections import OrderedDict\n",
    "from tqdm import tqdm\n",
    "import nltk\n",
    "nltk.download('stopwords')\n",
    "nltk.download('punkt')\n",
    "from nltk import word_tokenize\n",
    "from nltk.stem import PorterStemmer\n",
    "from nltk.corpus import stopwords\n",
    "from collections import Counter\n",
    "from textblob import Word\n",
    "import pycountry\n",
    "from textblob import TextBlob\n",
    "from textblob.sentiments import NaiveBayesAnalyzer\n",
    "from gensim import corpora, models\n",
    "import matplotlib.pyplot as plt\n",
    "import json\n",
    "import pickle\n",
    "import lyricfetcher\n",
    "import csv\n",
    "import urllib\n",
    "from urllib.request import urlopen, HTTPError\n",
    "import random\n",
    "\n",
    "import warnings\n",
    "warnings.filterwarnings('ignore')"
   ]
  },
  {
   "cell_type": "code",
   "execution_count": 3,
   "metadata": {},
   "outputs": [],
   "source": [
    "data_dir = './' + 'data'"
   ]
  },
  {
   "cell_type": "markdown",
   "metadata": {},
   "source": [
    "# 1. Milestone 1: Readme"
   ]
  },
  {
   "cell_type": "markdown",
   "metadata": {},
   "source": [
    "For the data collection, we have based ourselves on the Million Song Dataset. From this huge data, we are only interested in four attributes:\n",
    "- The track id\n",
    "- The artist name\n",
    "- The year\n",
    "- The title\n",
    "\n",
    "In addition to that, we are also interested in the genre of the songs. Luckily, in the Million Song Dataset website, there is already a dataset with the track id and the genre. Thus, we downloaded the corresponding file. We have the genre information for around 191'000 songs. Moreover, we have direct access to the 4 attributes through an additional dataset of around 500'000 songs provided in the Million song website. \n",
    "\n",
    "We decide to limit our analysis on this dataset for two reasons. First, manipulating the whole million songs dataset is both time consuming and would require the use of the cluster. Second, after a fast and simple instruction, we discovered that around 150'000 of the genre id are already in the subset we have found.\n",
    "\n",
    "Next, we use some APIs to scrap and collect the lyrics on several websites. However, we could not scrape all of our dataset so far, as one scraping operation takes more than 1 second. The whole scraping of the full set would take more than 55 hours, so we will have to find a method to perform it. The success rate of the scraping code on the 200 more recent songs of the data set was 129/200, which is fair but can still be raised by doing more string processing, for instance removing the \"(live)\" or \"(album version)\" strings. For the oldest songs, the success of the scraping is near 0, as the old songs are not usually found in the lyrics websites. This is not a major problem since as shown in our analysis later, the vast majority of the songs are recent ones.\n",
    "Alternatively, we can use an additional dataset from the million song website containing bag of words data. We would like to avoid this alternative as it is a simple count of words in the songs and it removes them from the context in the songs.\n",
    "\n",
    "In our notebook, we have performed a first descriptive analysis of the merged datasets. The big proportion ( 41%) of the songs' genre is rock. Moreover, although the values of the year attribute range from 1920 to 2010, 91% of the tracks are from the 1980 to 2010. We believe this is due to the rapid growth of Rock from its birth in the fifties to achieve more than 50% of the music industry in the 70s to 80s. In our notebook, we have a plot showing this evolution. In our analysis, due to the genre unbalance, we will use a random subset of the rock music ( or the decade) to balance out the classes."
   ]
  },
  {
   "cell_type": "markdown",
   "metadata": {},
   "source": [
    "# 2. Data Collection and Descriptive Analysis"
   ]
  },
  {
   "cell_type": "markdown",
   "metadata": {},
   "source": [
    "Using an additional dataset obtained from the million song website that contains genre information, we created genre_dataset. This dataset contains genre information for 191401 songs. The cell below contains code for putting this data into a proper-formatted dataframe. Another helpful dataset obtained from the website of million song dataset is one that contains year the track was released. In addition to year, it also contains track_id, the name of the artist, and title of the track. This dataset contains 515576 data points. Since we wanted to analyze the progression of feminism through lyrics over time, and we were also interested in how women were portrayed in different genres of music, we decided to take the intersection of these datasets (inner join on track ID), and the resulting data frame contains 152793 data points. We save it to a csv file for accessing in the future. "
   ]
  },
  {
   "cell_type": "code",
   "execution_count": 4,
   "metadata": {},
   "outputs": [
    {
     "data": {
      "text/html": [
       "<div>\n",
       "<style scoped>\n",
       "    .dataframe tbody tr th:only-of-type {\n",
       "        vertical-align: middle;\n",
       "    }\n",
       "\n",
       "    .dataframe tbody tr th {\n",
       "        vertical-align: top;\n",
       "    }\n",
       "\n",
       "    .dataframe thead th {\n",
       "        text-align: right;\n",
       "    }\n",
       "</style>\n",
       "<table border=\"1\" class=\"dataframe\">\n",
       "  <thead>\n",
       "    <tr style=\"text-align: right;\">\n",
       "      <th></th>\n",
       "      <th>year</th>\n",
       "      <th>artist_name</th>\n",
       "      <th>title</th>\n",
       "      <th>genre</th>\n",
       "    </tr>\n",
       "    <tr>\n",
       "      <th>track_id</th>\n",
       "      <th></th>\n",
       "      <th></th>\n",
       "      <th></th>\n",
       "      <th></th>\n",
       "    </tr>\n",
       "  </thead>\n",
       "  <tbody>\n",
       "    <tr>\n",
       "      <th>TRSGHLU128F421DF83</th>\n",
       "      <td>1922</td>\n",
       "      <td>alberta hunter</td>\n",
       "      <td>don't pan me</td>\n",
       "      <td>Blues</td>\n",
       "    </tr>\n",
       "    <tr>\n",
       "      <th>TRRAHXQ128F42511FF</th>\n",
       "      <td>1922</td>\n",
       "      <td>barrington levy</td>\n",
       "      <td>looking my love</td>\n",
       "      <td>Reggae</td>\n",
       "    </tr>\n",
       "    <tr>\n",
       "      <th>TRFAFTK12903CC77B8</th>\n",
       "      <td>1922</td>\n",
       "      <td>barrington levy</td>\n",
       "      <td>warm and sunny day</td>\n",
       "      <td>Reggae</td>\n",
       "    </tr>\n",
       "    <tr>\n",
       "      <th>TRTRKSF12903CFEDD7</th>\n",
       "      <td>1924</td>\n",
       "      <td>vernon dalhart</td>\n",
       "      <td>wreck of the old 97</td>\n",
       "      <td>Country</td>\n",
       "    </tr>\n",
       "    <tr>\n",
       "      <th>TRQYSYF128F935F350</th>\n",
       "      <td>1925</td>\n",
       "      <td>bessie smith</td>\n",
       "      <td>careless love blues</td>\n",
       "      <td>Blues</td>\n",
       "    </tr>\n",
       "  </tbody>\n",
       "</table>\n",
       "</div>"
      ],
      "text/plain": [
       "                    year      artist_name                title    genre\n",
       "track_id                                                               \n",
       "TRSGHLU128F421DF83  1922   alberta hunter         don't pan me    Blues\n",
       "TRRAHXQ128F42511FF  1922  barrington levy      looking my love   Reggae\n",
       "TRFAFTK12903CC77B8  1922  barrington levy   warm and sunny day   Reggae\n",
       "TRTRKSF12903CFEDD7  1924   vernon dalhart  wreck of the old 97  Country\n",
       "TRQYSYF128F935F350  1925     bessie smith  careless love blues    Blues"
      ]
     },
     "execution_count": 4,
     "metadata": {},
     "output_type": "execute_result"
    }
   ],
   "source": [
    "# Resulting Dataset\n",
    "year_artist_name_title_genre = pd.read_csv(os.path.join(data_dir + \"/year_artist_name_title_genre.csv\")).set_index('track_id')\n",
    "year_artist_name_title_genre.head()"
   ]
  },
  {
   "cell_type": "code",
   "execution_count": 15,
   "metadata": {},
   "outputs": [
    {
     "data": {
      "text/plain": [
       "year           0\n",
       "artist_name    0\n",
       "title          0\n",
       "genre          0\n",
       "dtype: int64"
      ]
     },
     "execution_count": 15,
     "metadata": {},
     "output_type": "execute_result"
    }
   ],
   "source": [
    "year_artist_name_title_genre.isna().sum()"
   ]
  },
  {
   "cell_type": "markdown",
   "metadata": {},
   "source": [
    "No missing values !"
   ]
  },
  {
   "cell_type": "markdown",
   "metadata": {},
   "source": [
    "We are interested in seeing how many songs are present in each genre. "
   ]
  },
  {
   "cell_type": "code",
   "execution_count": 16,
   "metadata": {},
   "outputs": [
    {
     "name": "stdout",
     "output_type": "stream",
     "text": [
      "Rock          62344\n",
      "Electronic    18043\n",
      "Pop           11058\n",
      "Jazz          10662\n",
      "Rap            8156\n",
      "Metal          8035\n",
      "RnB            7692\n",
      "Country        6652\n",
      "Reggae         5475\n",
      "Blues          4228\n",
      "Folk           3484\n",
      "Punk           2739\n",
      "Latin          1954\n",
      "World          1384\n",
      "New Age         887\n",
      "Name: genre, dtype: int64\n"
     ]
    },
    {
     "data": {
      "text/plain": [
       "<matplotlib.axes._subplots.AxesSubplot at 0x1851b265668>"
      ]
     },
     "execution_count": 16,
     "metadata": {},
     "output_type": "execute_result"
    }
   ],
   "source": [
    "print(year_artist_name_title_genre['genre'].value_counts())\n",
    "\n",
    "# Visualizing the count using bar graph\n",
    "value_count_by_genre = year_artist_name_title_genre['genre'].value_counts().plot(kind = 'bar')\n",
    "value_count_by_genre"
   ]
  },
  {
   "cell_type": "code",
   "execution_count": 8,
   "metadata": {},
   "outputs": [
    {
     "data": {
      "text/plain": [
       "40.803"
      ]
     },
     "execution_count": 8,
     "metadata": {},
     "output_type": "execute_result"
    }
   ],
   "source": [
    "# Percentage of rock songs in the dataset\n",
    "\n",
    "round(100*year_artist_name_title_genre['genre'].value_counts()['Rock']/year_artist_name_title_genre['genre'].value_counts().sum(),3)"
   ]
  },
  {
   "cell_type": "markdown",
   "metadata": {},
   "source": [
    "We see an abundance of Rock music in this dataset as close to half of the songs (40.8 %) present are labelled as Rock music. We wonder why that is. Is Rock Music more likely to get labelled? (<- this is a joke). We suspect that this is due to the fast growth of Rock music during the 1990s and 2000s. We will explore the relationship between year and genre of music further to confirm our hypothesis. \n",
    "\n",
    "Let us first have a look at the count of music by time. Since it is impossible to visualize the count for every single year, we first group years into decades. Upon quick analysis we realize that the dataset contains music up to the year 2010. We consider 2010 a part of the 2000s. "
   ]
  },
  {
   "cell_type": "code",
   "execution_count": 9,
   "metadata": {},
   "outputs": [],
   "source": [
    "# create decade column\n",
    "year_artist_name_title_genre['decade'] = (year_artist_name_title_genre['year'] // 10) * 10\n",
    "\n",
    "# include year 2010 in the 2000s decade\n",
    "year_artist_name_title_genre['decade'] = np.where(year_artist_name_title_genre.year.isin(['2010']),'2000', \n",
    "                                                  year_artist_name_title_genre['decade'])"
   ]
  },
  {
   "cell_type": "code",
   "execution_count": 10,
   "metadata": {},
   "outputs": [
    {
     "data": {
      "text/plain": [
       "91.361"
      ]
     },
     "execution_count": 10,
     "metadata": {},
     "output_type": "execute_result"
    }
   ],
   "source": [
    "round(100*(year_artist_name_title_genre['decade'].value_counts()['2000'] + \\\n",
    "year_artist_name_title_genre['decade'].value_counts()['1990'] + \\\n",
    "year_artist_name_title_genre['decade'].value_counts()['1980']) / \\\n",
    "year_artist_name_title_genre['decade'].value_counts().sum(),3)"
   ]
  },
  {
   "cell_type": "markdown",
   "metadata": {},
   "source": [
    "91% of the tracks are from the eighties to 2010"
   ]
  },
  {
   "cell_type": "code",
   "execution_count": 11,
   "metadata": {},
   "outputs": [
    {
     "name": "stdout",
     "output_type": "stream",
     "text": [
      "2000    89699\n",
      "1990    36693\n",
      "1980    13201\n",
      "1970     8340\n",
      "1960     3580\n",
      "1950      944\n",
      "1940      138\n",
      "1930      111\n",
      "1920       87\n",
      "Name: decade, dtype: int64\n"
     ]
    },
    {
     "data": {
      "text/plain": [
       "<matplotlib.axes._subplots.AxesSubplot at 0x2b37dfb1c18>"
      ]
     },
     "execution_count": 11,
     "metadata": {},
     "output_type": "execute_result"
    },
    {
     "data": {
      "image/png": "[encoded data removed]",
      "text/plain": [
       "<Figure size 432x288 with 1 Axes>"
      ]
     },
     "metadata": {
      "needs_background": "light"
     },
     "output_type": "display_data"
    }
   ],
   "source": [
    "# plot count using bar plot\n",
    "value_count_by_year = year_artist_name_title_genre['decade'].value_counts().plot(kind = 'bar')\n",
    "\n",
    "print(year_artist_name_title_genre['decade'].value_counts())\n",
    "value_count_by_year"
   ]
  },
  {
   "cell_type": "markdown",
   "metadata": {},
   "source": [
    "We see that there are very few data points earlier than 1970, which makes analysis over time biased. During the next few steps as we explore the relationship between genre and decade further, we only consider the time period of 1970 to 2010. "
   ]
  },
  {
   "cell_type": "code",
   "execution_count": 12,
   "metadata": {},
   "outputs": [
    {
     "data": {
      "text/plain": [
       "<matplotlib.legend.Legend at 0x2b37dfaffd0>"
      ]
     },
     "execution_count": 12,
     "metadata": {},
     "output_type": "execute_result"
    },
    {
     "data": {
      "image/png": "[encoded data removed]",
      "text/plain": [
       "<Figure size 432x288 with 1 Axes>"
      ]
     },
     "metadata": {
      "needs_background": "light"
     },
     "output_type": "display_data"
    }
   ],
   "source": [
    "decade_genre = year_artist_name_title_genre[['decade', 'genre']].reset_index()\n",
    "\n",
    "decade_genre = decade_genre.loc[decade_genre['decade'].isin(['1970','1980','1990','2000'])]\n",
    "\n",
    "#print(decade_genre.groupby(['decade', 'genre']).size())\n",
    "plot_decade_genre = decade_genre.groupby(['decade', 'genre']).size().unstack().plot(kind='bar', stacked = True)\n",
    "plot_decade_genre.legend(bbox_to_anchor=(1.1, 1.05) )\n"
   ]
  },
  {
   "cell_type": "markdown",
   "metadata": {},
   "source": [
    "We see that Rock music grew significantly in 40 years. Rock, Electronic, and Pop are the most popular music during the 2000s, followed by metal and Rap. The next plot considers the genres individually, and illustrates their share in the music market over the period of 1970 to 2010. "
   ]
  },
  {
   "cell_type": "code",
   "execution_count": 13,
   "metadata": {},
   "outputs": [
    {
     "data": {
      "text/plain": [
       "<matplotlib.axes._subplots.AxesSubplot at 0x2b37c71f0f0>"
      ]
     },
     "execution_count": 13,
     "metadata": {},
     "output_type": "execute_result"
    },
    {
     "data": {
      "image/png": "[encoded data removed]",
      "text/plain": [
       "<Figure size 432x288 with 1 Axes>"
      ]
     },
     "metadata": {
      "needs_background": "light"
     },
     "output_type": "display_data"
    }
   ],
   "source": [
    "#print(decade_genre.groupby(['genre', 'decade']).size())\n",
    "decade_genre.groupby(['genre', 'decade']).size().unstack().plot(kind='bar', stacked = True)"
   ]
  },
  {
   "cell_type": "markdown",
   "metadata": {},
   "source": [
    "# TODO: improve this graph"
   ]
  },
  {
   "cell_type": "code",
   "execution_count": 14,
   "metadata": {},
   "outputs": [
    {
     "data": {
      "text/plain": [
       "<matplotlib.axes._subplots.AxesSubplot at 0x2b300083630>"
      ]
     },
     "execution_count": 14,
     "metadata": {},
     "output_type": "execute_result"
    },
    {
     "data": {
      "image/png": "[encoded data removed]",
      "text/plain": [
       "<Figure size 432x288 with 1 Axes>"
      ]
     },
     "metadata": {
      "needs_background": "light"
     },
     "output_type": "display_data"
    }
   ],
   "source": [
    "# Evolution of Rock\n",
    "\n",
    "decade_rock = year_artist_name_title_genre.groupby(['genre','decade']).size()\n",
    "(100*decade_rock['Rock']/(year_artist_name_title_genre.groupby('decade').size())).plot()\n"
   ]
  },
  {
   "cell_type": "markdown",
   "metadata": {},
   "source": [
    "The plot is a bitt hard to read. The curve represents the percentage of rock tracks in our dataset through time. We can clearly see that it has increased drastically from the 60s to 2010. We believe that the slight decrease from 90s is due to the increasing success of RNB, rap, pop and Electronic music during that period."
   ]
  },
  {
   "cell_type": "code",
   "execution_count": 15,
   "metadata": {},
   "outputs": [
    {
     "data": {
      "text/plain": [
       "decade\n",
       "1920          NaN\n",
       "1930          NaN\n",
       "1940          NaN\n",
       "1950    16.313559\n",
       "1960    33.659218\n",
       "1970    51.762590\n",
       "1980    53.435346\n",
       "1990    38.936582\n",
       "2000    39.383940\n",
       "dtype: float64"
      ]
     },
     "execution_count": 15,
     "metadata": {},
     "output_type": "execute_result"
    }
   ],
   "source": [
    "100*decade_rock['Rock']/(year_artist_name_title_genre.groupby('decade').size())"
   ]
  },
  {
   "cell_type": "markdown",
   "metadata": {},
   "source": [
    "# 3. Getting the lyrics: Bag of words model from musicXmatch"
   ]
  },
  {
   "cell_type": "markdown",
   "metadata": {},
   "source": [
    "The million songs dataset contains no lyrics. To conduct our study, we have the choice of either scraping the lyrics from the internet for each of the songs of the MSD or to use the ready-to-use bag of words model from musicXmatch.\n",
    "\n",
    "We first wanted to scrape the lyrics from the internet, using the functions shown below in the notebook.\n",
    "However, the MSD is too big and scraping the lyrics for our \"year_artist_neame_title_genre\" dataframe, which contains \"only\" 152793 tracks, would take us a few days. Moreover, we realized that the NLP would be difficult to handle for this project and decided to do simple statistics and models based on the bag of words provided by musicXmatch, that allowed for very easy processing of the data.\n",
    "\n",
    "Therefore, the main lyrics dataset we use is the BOW from musicXmatch.\n",
    "However, we will still use later the scrapping features, as explained later.\n",
    "\n",
    "This section shows how we read and extract the words from the BOW."
   ]
  },
  {
   "cell_type": "code",
   "execution_count": 21,
   "metadata": {},
   "outputs": [],
   "source": [
    "# We read the text file line by line \n",
    "\n",
    "with open(os.path.join(data_dir + '/mxm_dataset_train.txt')) as f:\n",
    "    lines = f.readlines()"
   ]
  },
  {
   "cell_type": "code",
   "execution_count": 22,
   "metadata": {},
   "outputs": [],
   "source": [
    "# The 5'000 most used words sorted by overall occurences are in the 18th line. \n",
    "# We split the words by ',' to have a list of words\n",
    "\n",
    "words = lines[17][1:]\n",
    "words = words.split(',')"
   ]
  },
  {
   "cell_type": "markdown",
   "metadata": {},
   "source": [
    "Now, for the rest of the file, we have, for each line, a track id and a list of tuplets. A tuplet ( key:value) consists of:\n",
    " - a key ( a number ) which represents the identifier of the word ( 1 means the 1st word in our words list etc ).\n",
    " - a value which is the occurences of the word in the track.\n",
    " \n",
    "In the following cells, we extract this information and we change the numbered keys to \"word keys\""
   ]
  },
  {
   "cell_type": "code",
   "execution_count": 23,
   "metadata": {},
   "outputs": [],
   "source": [
    "# First, we split to have a list of tracks\n",
    "\n",
    "bow = lines[18:]\n",
    "for i in range(0,len(bow)):\n",
    "    bow[i] = bow[i].split(',')"
   ]
  },
  {
   "cell_type": "markdown",
   "metadata": {},
   "source": [
    "For each track in bow and for each tuplet in the track, extract the key ( the numbers before ':') then replace it by the corresponding word"
   ]
  },
  {
   "cell_type": "code",
   "execution_count": 24,
   "metadata": {},
   "outputs": [],
   "source": [
    "for i in range(0,len(bow)):\n",
    "    for j in range(2,len(bow[i])):\n",
    "        '''\n",
    "        For each track in bow and for each tuplet in the track, extract the key ( the numbers before ':')\n",
    "        then replace it by the corresponding word\n",
    "        '''\n",
    "        key = bow[i][j][ 0 : bow[i][j].find(':') ]\n",
    "        bow[i][j] = bow[i][j].replace(key,words[int(key)-1])\n",
    "        \n",
    "    # The last tuplet in each track has a line skip special character.\n",
    "    # The next code will take the last tuplet with the special character\n",
    "    bow[i][len(bow[i])-1] = bow[i][len(bow[i])-1][0:len(bow[i][len(bow[i])-1])-1]"
   ]
  },
  {
   "cell_type": "code",
   "execution_count": 25,
   "metadata": {},
   "outputs": [],
   "source": [
    "# Extract the track id \n",
    "\n",
    "track_id = []\n",
    "for i in range(0, len(bow)):\n",
    "    track_id.append(bow[i][0])"
   ]
  },
  {
   "cell_type": "markdown",
   "metadata": {},
   "source": [
    "Now that we have been able to extract and format the BOW information in an useful way, we can start building a model to associate each song with a degree of \"positiveness\" or \"sexism\" with respect to the image of women."
   ]
  },
  {
   "cell_type": "markdown",
   "metadata": {},
   "source": [
    "# 4. Building a simple model for feminism"
   ]
  },
  {
   "cell_type": "markdown",
   "metadata": {},
   "source": [
    "## TODO: COMPLETE THE EXPLANATION\n",
    "\n",
    "We want to build a simple model for feminism. Our method is the following:\n",
    "\n",
    "1. First we find user defined playlists of **feminist** - or at least positive with respect to women -, **sexist** and **neutral** - with no mention of women or without any positive or negative image of women in the lyrics - songs from the internet.\n",
    "\n",
    "2. Then, we manually (and painfully) list these songs in this notebook (in the \"XXX_to_scrape\" lists) and use some custom combination of scraping code to scrape the lyrics associated with these songs. _Note that the songs from the user-defined playlist were not all in the BOW dataset. We wanted to get as many user-defined songs as possible that would no be in the BOW model, to later train our model and apply it to the BOW set._\n",
    "\n",
    "3. Afterwards, we save the BOW lyrics of the positive, sexist and neutral songs into dataframes. Then, we manually take a look at the BOWs and we identify ourselves what postive or sexist \"keywords\" are appearing often in the corresponding BOWs. We make sure the identified keywords are relevant for discriminating sexists songs from positive ones, by removing the keywords that appear too often or too sparsely. The result of this operation is a list of positive keywords and a list of sexist keywords, that are manually input into this notebook.\n",
    "\n",
    "4. Then, we create a feature list from the lists of keywords by adding the positive and sexist keywords lists. For each feature (positive or negative keyword), we count the number of occurences in the user-labeled (positive, sexist or neutral) songs BOWs. This allows us to build a training set on this model, where each song from the training set is labeled as either positive, sexist or neutral with respect to the image of women it depicts, and has a count of the number of occurences of specific keywords.\n",
    "\n",
    "5. Using your training set, we train a SVM, XXXXX model that can identify feminist, neutral and sexists songs based on their BOWs.\n",
    "\n",
    "6. Then, we try to train again SVM, XXX and XXX not based on the counts of occurences of keywords but rather on the whole lyrics sentences themselves.\n",
    "\n",
    "7. After discussing each method, we will be able to label the whole MSD with our trained classifier, identifying feminist, neutral of sexist songs.\n",
    "\n"
   ]
  },
  {
   "cell_type": "markdown",
   "metadata": {},
   "source": [
    "## 4.1. Coding some efficient scraping tool"
   ]
  },
  {
   "cell_type": "markdown",
   "metadata": {},
   "source": [
    "The function \"scrape_lyrics\" is the main function that allow us to scrape the lyrics from several lyrics websites."
   ]
  },
  {
   "cell_type": "code",
   "execution_count": 26,
   "metadata": {},
   "outputs": [],
   "source": [
    "def scrape_lyrics(artists_list,songs_list):\n",
    "    '''\n",
    "    Main scrapping function\n",
    "    Input: lists of songs and their artists names \n",
    "    Output: list of lyrics of the songs and list of songs for which the scrapping did not succeed\n",
    "    In case the scrapping failed, lyrics are returned as empty strings\n",
    "    \n",
    "    The lyrics are scrapped from several websites:\n",
    "    - metrolyrics\n",
    "    If failed:\n",
    "    -azlyrics\n",
    "    If failed also:\n",
    "    - lyricswikia\n",
    "    And if it also failed:\n",
    "    - through the herokuapp online API (unknown source)\n",
    "    \n",
    "    '''\n",
    "    \n",
    "    # Initialize and raise error in case the lists lenghts do not match\n",
    "    \n",
    "    lyrics_not_found = []\n",
    "    if (len(artists_list) == 0 or len(songs_list) == 0):\n",
    "        raise ValueError('The provided artists list or songs list is empty')\n",
    "        \n",
    "    elif (len(artists_list) != len(songs_list)):\n",
    "        print(\"artist list has len: \", len(artists_list))\n",
    "        print(\"songs list has len: \", len(songs_list))\n",
    "        raise ValueError('The provided artists and songs lists have different lenghts')\n",
    "        \n",
    "    # If everything is fine\n",
    "        \n",
    "    else:\n",
    "        lyrics = []\n",
    "        \n",
    "        for i in tqdm(range(len(artists_list))):\n",
    "            \n",
    "            try:\n",
    "                \n",
    "                # First try with metro lyrics\n",
    "                \n",
    "                lyrics_metro = str(lyricfetcher.get_lyrics('metrolyrics',artists_list[i],songs_list[i]))\n",
    "                lyrics_metro = re.sub(r'[\\[].*?[\\]]', '', lyrics_metro.replace('\\n', ' '))\n",
    "                lyrics_metro = re.sub(',', '', lyrics_metro)\n",
    "                \n",
    "                # If metro lyrics did not find anything, change to AZ lyrics\n",
    "\n",
    "                if (lyrics_metro == \"\" or len(lyrics_metro.split())<3):\n",
    "                    lyrics_az = str(lyricfetcher.get_lyrics('azlyrics',artists_list[i],songs_list[i]))\n",
    "                    lyrics_az = re.sub(r'[\\[].*?[\\]]', '', lyrics_az.replace('\\n', ' '))\n",
    "                    lyrics_az = re.sub(',', '', lyrics_az)\n",
    "                    \n",
    "                    # If AZ lyrics did not find anything, change to lyrics wikia\n",
    "\n",
    "                    if (lyrics_az == \"\" or len(lyrics_az.split())<3):\n",
    "                        lyrics_wikia = str(lyricfetcher.get_lyrics('lyricswikia',artists_list[i],songs_list[i]))\n",
    "                        lyrics_wikia = re.sub(r'[\\[].*?[\\]]', '', lyrics_wikia.replace('\\n', ' '))\n",
    "                        lyrics_wikia = re.sub(',', '', lyrics_wikia)\n",
    "                        \n",
    "                        # If lyrics wikia did not find anything, change to the herokuapp API\n",
    "                        \n",
    "                        if (lyrics_wikia == \"\" or len(lyrics_wikia.split())<3):\n",
    "                            try:\n",
    "                                lyrics_herokuapp = json.load(urllib.request.urlopen('http://lyric-api.herokuapp.com/api/find/' \n",
    "                                                                                + artists_list[i].replace(' ', '%20') + '/' \n",
    "                                                                                + songs_list[i].replace(' ', '%20') + '.html'))['lyric']\n",
    "                            except HTTPError:\n",
    "                                lyrics_herokuapp = ''\n",
    "                                \n",
    "                            lyrics_herokuapp = re.sub(r'[\\[].*?[\\]]', '', lyrics_herokuapp.replace('\\n', ' '))\n",
    "                            lyrics_herokuapp = re.sub(',', '', lyrics_herokuapp)\n",
    "                            \n",
    "                            # If everything failed, return empty string\n",
    "                            \n",
    "                            if (lyrics_herokuapp == \"\" or len(lyrics_herokuapp.split())<3):\n",
    "                                lyrics.append(\"\")\n",
    "                                raise ValueError('No lyrics OR lyrics smaller or equal to 2 words found')\n",
    "                                \n",
    "                                \n",
    "                            # If it worked fine, we simply append the lyrics to the list\n",
    "                            else:\n",
    "                                lyrics.append(lyrics_herokuapp)\n",
    "                        else:\n",
    "                            lyrics.append(lyrics_wikia)\n",
    "                    else:\n",
    "                        lyrics.append(lyrics_az)\n",
    "                else:\n",
    "                    lyrics.append(lyrics_metro)\n",
    "                    \n",
    "            # If the lyrics were not found, we append to the lyrics_not_found list the tuples of artists and titles that could not be found\n",
    "                    \n",
    "            except ValueError:\n",
    "                lyrics_not_found.append([artists_list[i],songs_list[i]])\n",
    "                continue\n",
    "    return lyrics, lyrics_not_found"
   ]
  },
  {
   "cell_type": "markdown",
   "metadata": {},
   "source": [
    "## 4.2. Structure the data from the scrapping"
   ]
  },
  {
   "cell_type": "markdown",
   "metadata": {},
   "source": [
    "Now, we code the \"create_BOW_dataframe\" to create in practice the BOW dataframe from the artists and titles lists. It calls the \"scrape_lyrics\" functions, tokenize and stems the words in order to create the BOW."
   ]
  },
  {
   "cell_type": "code",
   "execution_count": 28,
   "metadata": {},
   "outputs": [],
   "source": [
    "def create_BOW_lyrics_dataframe(artists_to_scrape, titles_to_scrape, dataframe_csv_file_name):\n",
    "\n",
    "    if any(\",\" in s for s in titles_to_scrape):\n",
    "        s.replace(\",\", \"\")\n",
    "    \n",
    "    if any(\",\" in s for s in artists_to_scrape):\n",
    "        s.replace(\",\", \"\")\n",
    "    \n",
    "    # The line below calls the scrapping function\n",
    "    lyrics, lyrics_not_found_list = scrape_lyrics(artists_to_scrape, titles_to_scrape)\n",
    "\n",
    "    # Prints relevant information\n",
    "    print(lyrics_not_found_list)\n",
    "    print('Count of not found lyrics : ' + str(len(lyrics_not_found_list)))\n",
    "    \n",
    "    # Tokenize and stem the lyrics\n",
    "    from nltk.stem import PorterStemmer\n",
    "    ps = PorterStemmer()\n",
    "    \n",
    "    tokenized_lyrics = []\n",
    "    \n",
    "    for lyrics in lyrics:\n",
    "        tokens = nltk.word_tokenize(lyrics)\n",
    "        stemmed_tokens = [ps.stem(token) for token in tokens] \n",
    "        tokenized_lyrics.append(stemmed_tokens)\n",
    "\n",
    "    lyrics_df = pd.DataFrame({'Artists': artists_to_scrape,\n",
    "                                    'Titles': titles_to_scrape,\n",
    "                                    'Lyrics(BOW)': tokenized_lyrics\n",
    "                                   })\n",
    "\n",
    "    # Save the stemmed version of the lyrics with title and artist to csv\n",
    "\n",
    "    lyrics_df.to_csv(os.path.join(data_dir + dataframe_csv_file_name)) # Comment/uncomment when saving is needed\n",
    "    \n",
    "    return tokenized_lyrics, lyrics_df"
   ]
  },
  {
   "cell_type": "code",
   "execution_count": 35,
   "metadata": {},
   "outputs": [],
   "source": [
    "# Define here the name of the dataframe csv in the data folder\n",
    "\n",
    "sexist_csv = \"/sexist_lyrics_dataframe.csv\"\n",
    "positive_csv = \"/positive_lyrics_dataframe.csv\"\n",
    "neutral_csv = \"/neutral_lyrics_dataframe.csv\""
   ]
  },
  {
   "cell_type": "markdown",
   "metadata": {},
   "source": [
    "## 4.3. Create the positive, neutral and sexist lyrics dataframes"
   ]
  },
  {
   "cell_type": "markdown",
   "metadata": {},
   "source": [
    "### 4.3.1 From user defined positive (feminist) songs"
   ]
  },
  {
   "cell_type": "code",
   "execution_count": 30,
   "metadata": {},
   "outputs": [],
   "source": [
    "#Provide BELOW the full set of tracks you would like to get in final (XXX_to_scrape)\n",
    "#-----------------------------------------------------------------------------\n",
    "positive_artists_to_scrape = [\"Sugababes\",\"Helen Reddy\",\"Gwen Guthrie\",\"Jennifer Lopez\",\"Tinashe\",\"Sheryl Crow\",\"Lisa Stansfield\",\n",
    "                     \"Ethel Merman\", \"Hole\", \"Geri Halliwell\",\"Hole\",\"Christina Aguilera\",\"Shakira\",\"Cardi B\",\"Destiny's Child\",\n",
    "                    \"Meredith Brooks\",\"Lupe Fiasco\",\"Little Mix\",\"Iggy Azalea\",\"Lady Gaga\",\"Fifth Harmony\",\"Kelis\",\"Peaches\",\n",
    "                   \"Ariana Grande\",\"Tupac Shakur\",\"Alexandra Burke\",\"La Roux\"]\n",
    "positive_titles_to_scrape = [\"About a Girl\", \"Ain't No Way to Treat a Lady\",\"Ain't Nothin' Goin' On but the Rent\",\"Ain't Your Mama\",\n",
    "                    \"All Hands on Deck\", \"All I Wanna Do\", \"All Woman\",\"Anything You Can Do (I Can Do Better)\",\n",
    "                    \"Asking for It\"]\n",
    "\n",
    "positive_titles_to_scrape += [\"Bag It Up\",\n",
    "\"Be a Man\",\n",
    "\"Beautiful\",\n",
    "\"Beautiful Liar\",\n",
    "\"Bickenhead\",\n",
    "\"Bills Bills Bills\",\n",
    "\"Bitch\",\n",
    "\"Bitch Bad\",\n",
    "\"Black Magic\",\n",
    "\"Black Widow\",\n",
    "\"Born This Way\",\n",
    "\"Boss\",\n",
    "\"Bossy\",\n",
    "\"Boys Wanna Be Her\",\n",
    "\"Break Free\",\n",
    "\"Brenda's Got a Baby\",\n",
    "\"Broken Heels\",\n",
    "\"Bulletproof\"]\n",
    "\n",
    "positive_artists_to_scrape += [\"Blondie\",\"Christina Aguilera\",\"Kelly Clarkson\",\"All Saints\",\n",
    "                      \"i5\",\"Kelly Rowland\", \"Remy Ma\",\"Demi Lovato\",\"Janet Jackson\",\"Tori Amos\",\n",
    "                     \"TLC\",]\n",
    "positive_titles_to_scrape += [\"Call Me\", \n",
    "\"Can't Hold Us Down\",\n",
    "\"Catch My Breath\",\n",
    "\"Chick Fit\",\n",
    "\"Cinderella\", \n",
    "\"Commander\",\n",
    "\"Conceited\", \n",
    "\"Confident\", \n",
    "\"Control\", \n",
    "\"Cornflake Girl\",\n",
    "\"Creep\"]\n",
    "\n",
    "positive_artists_to_scrape += [\"Patti Smith\",\"2Pac\",\"Hole\",\"Beyonce\",\"Janelle Monae\",\"Jessie J\",\"Aretha Franklin\",\n",
    "                     \"Mary J. Blige\",\"Chris Janson\",\"Babes in Toyland\", \"Janelle Monae\", \"Madonna\",\"Christina Aguilera\",\n",
    "                     \"Drake\",\"Janet Jackson\",\"Shane McAnally\",\"Bomshel\",\"Christina Aguilera\",\n",
    "                     \"Beyonce\",\"Queenadreena\",\"Kacey Musgraves\",\"Nina Simone\"]\n",
    "positive_titles_to_scrape += [\"Dancing Barefoot\",\"Dear Mama\",\"Dicknail\",\"Diva\",\"Django Jane\",\n",
    "                    \"Do It like a Dude\",\n",
    "                    \"Do Right Woman Do Right Man\",\"Doubt\",\"Drunk Girl\",\"Dust Cake Boy\",\"Electric Lady\", \n",
    "                    \"Express Yourself\", \"Fall in Line\",\"Fancy\",\"Feedback\",\"Female\",\"Fight Like a Girl\",\n",
    "                     \"Fighter\",\"Flawless\",\"FM Doll\",\"Follow Your Arrow\",\"Four Women\"]\n",
    "\n",
    "positive_artists_to_scrape += [\"Lady Gaga\",\"Lykke Li\",\"Destiny's Child\",\"Maddie & Tae\",\"Alicia Keys\",\n",
    "                     \"Cyndi Lauper\",\"Mary Chapin Carpenter\",\"Ariana Grande\",\"Ashanti\",\"Little Mix\",\n",
    "                     \"Robyn\",\"Lily Allen\",\"Mary Chapin Carpenter\", \"Katy Perry\",\n",
    "                     \"David Guetta\", \"Blu Cantrell\", \"Gwen Stefani\", \"Madonna\", \"Pussycat Dolls\",\n",
    "                     \"Jordin Sparks\",\"Kelly Clarkson\",\"Kelly Clarkson\",\"Amil\",\"Christina Aguilera\",\n",
    "                     \"Icona Pop\", \"Gloria Gaynor\",\"Diana Ross\",\"Chaka Khan\", \"Beyonce\",\"Martina McBride\",\n",
    "                     \"Destiny's Child\",\"Beyonce\",\"Whitney Houston\",\"Little Mix\",\"Madonna\",\"No Doubt\",\"2Pac\",\"Christina Aguilera\",\n",
    "                     \"TLC\",\"Sonic Youth\",\"Vera Blue\",\"Lush\"]\n",
    "positive_titles_to_scrape += [\"G.U.Y.\",\"Get Some\",\"Girl\",\"Girl in a Country Song\",\n",
    "                     \"Girl on Fire\",\"Girls Just Want to Have Fun\",\"Girls with Guitars\",\n",
    "                     \"God Is a Woman\",\"Good Good\",\"Hair\",\"Handle Me\",\"Hard out Here\",\n",
    "                     \"He Thinks He'll Keep Her\",\"Hey Hey Hey\",\"Hey Mama\", \n",
    "                     \"Hit 'Em Up Style (Oops!)\",\"Hollaback Girl\",\"Human Nature\",\"Hush Hush; Hush Hush\",\n",
    "                     \"I Am Woman\",\"I Do Not Hook Up\",\n",
    "                     \"I Don't Think About You\",\"I Got That\",\"I Hate Boys\",\n",
    "                     \"I Love It\", \"I Will Survive\",\"I'm Coming Out\",\"I'm Every Woman\",\n",
    "                     \"If I Were a Boy\",\"Independence Day\",\"Independent Women\",\n",
    "                     \"Irreplaceable\",\n",
    "                     \"It's Not Right but It's Okay\",\"Joan of Arc\",\"Jump\",\n",
    "                     \"Just a Girl\",\"Keep Ya Head Up\", \"Keeps Gettin' Better\", \"Kick Your Game\",\"Kool Thing\",\n",
    "                    \"Lady Powers\",\"Ladykillers\"]\n",
    "\n",
    "positive_artists_to_scrape += [\"Kesha\", \"Sugarcubes\",\"Idina Menzel\",\"Miley Cyrus\",\"Ciara\",\"Alesha Dixon\",\"Beyonce\",\n",
    "                      \"Manic Street Preachers\", \"Little Mix\",\"Jennifer Lopez\",\"Nicki Minaj\",\"K.Michelle\",\n",
    "                     \"Hailee Steinfeld\",\"Zara Larsson\",\"Shania Twain\",\"Cicely Hamilton\",\"Selena Gomez\",\"Beyonce\",\n",
    "                      \"Kelly Clarkson\",\"Hailee Steinfeld\",\"Janet Jackson\",\"Dua Lipa\",\"Drake\",\"Meghan Trainor\",\n",
    "                      \"Lil B\",\"Barbra Streisand\",\"TLC\",\"Franz Ferdinand\",\"Salt-n-Pepa\",\"Doubleclicks\",\"Mariah Carey\",\n",
    "                      \"X-Ray Spex\",\"Tweet\",\"Madonna\",\"Brooke Candy\",\"Katy Perry\",\"Jodi Benson\",\"Beyonce\",\"Nervo\",\n",
    "                      \"Taylor Swift\",\"Loretta Lynn\",\"Nirvana\",\"Little Mix\",\"L7\",\"Maggie Lindemann\",\"Keri Hilson\",\n",
    "                      \"Britney Spears\",\"Beyonce\",\"Marina and the Diamonds\",\"Janelle Monae\"\n",
    "                     ]\n",
    "positive_titles_to_scrape += [\"Learn to Let Go\",\"Leash Called Love\",\"Let It Go\",\"Liberty Walk\",\"Like a Boy\",\n",
    "                     \"Lipstick\",\"Listen\",\"Little Baby Nothing\",\"Little Me\",\"Live It Up\",\"Lookin Ass\",\n",
    "                     \"Love 'Em All\",\"Love Myself\",\"Lush Life\",\"Man! I Feel Like a Woman!\",\"The March of the Women\",\n",
    "                     \"Me & My Girls\",\"Me Myself and I\",\"Miss Independent\",\"Most Girls\",\n",
    "                    \"Nasty\",\"New Rules (song)\",\"Nice for What\",\"No\",\"No Black Person Is Ugly\",\n",
    "                     \"No More Tears (Enough Is Enough)\",\"No Scrubs\",\"No You Girls\",\"None of Your Business\",\n",
    "                     \"Nothing to Prove\",\"Obsessed\", \"Oh Bondage Up Yours!\",\"Oops (Oh My)\",\n",
    "                     \"Papa Don't Preach\",\"Paper or Plastic\",\"Part of Me\",\"Part of Your World\",\"Partition\",\n",
    "                     \"People Grinnin'\",\"Picture to Burn\",\"The Pill\",\"Polly\",\"Power\",\"Pretend We're Dead\",\n",
    "                     \"Pretty Girl\",\"Pretty Girl Rock\",\"Pretty Girls\",\"Pretty Hurts\",\"Primadonna\",\"Pynk\"]\n",
    "\n",
    "positive_artists_to_scrape += [\"Janelle Monae\",\"Javine\",\"Demi Lovato\",\"Bikini Kill\",\"Sugababes\",\"Aretha Franklin\",\"Katy Perry\",\n",
    "                     \"All Saints\",\"Lauryn Hill\",\"Beyonce\",\"Little Mix\",\"Spice Girls\",\"Alessia Cara\",\"The Gits\",\"Mary Lambert\",\n",
    "                     \"Green Day\",\"Cyndi Lauper\",\"Camila Cabello\",\"Donna Summer\",\"the Ramones\",\"Lily Allen\",\"Beyonce\",\n",
    "                     \"Yoko Ono\",\"Daya\",\"Eliza Doolittle\",\"Demi Lovato\",\"Fifth Harmony\",\"Miley Cyrus\",\"P!nk\",\"Madonna\",\n",
    "                     \"Cher\",\"Britney Spears\",\"Kelly Clarkson\",\"P!nk\",\"Alicia Keys\",\"Karyn White\",\"Destiny's Child\",\n",
    "                     \"Ava Max\",\"P!nk\",\"Queen Latifah\",\"Fantasia\",\"G.R.L\",\"TLC\",\"Sia\",\"Natasha Bedingfield\",\"Beyonce\",\n",
    "                     \"Hole\"]\n",
    "\n",
    "positive_titles_to_scrape += [\"Q.U.E.E.N.\",\"Real Things\",\"Really Don't Care\",\"Rebel Girl\",\"Red Dress\",\n",
    "                     \"Respect\",\"Roar\",\"Rock Steady\",\"A Rose Is Still a Rose\",\n",
    "                     \"Run the World (Girls)\",\"Salute\",\"Say You'll Be There\",\"Scars to Your Beautiful\",\"Second Skin\",\n",
    "                     \"Secrets\",\"She\",\"She Bop\",\"She Loves Control\",\"She Works Hard for the Money\",\"Sheena Is a Punk Rocker\",\n",
    "                     \"Sheezus\",\"Single Ladies (Put a Ring on It)\",\"Sisters O Sisters\",\"Sit Still Look Pretty\",\n",
    "                    \"Skinny Genes\",\"Skyscraper\",\"Sledgehammer\",\"SMS (Bangerz)\",\"So What\",\"Sorry\",\"Strong Enough\",\n",
    "                    \"Stronger\", \"Stronger (What Doesn't Kill You)\",\"Stupid Girls\",\"Superwoman\",\"Superwoman\",\"Survivor\", \n",
    "                    \"Sweet but Psycho\",\"U + Ur Hand\",\"U.N.I.T.Y.\",\"Ugly\",\"Ugly Heart\",\"Unpretty\",\"Unstoppable\", \n",
    "                     \"Unwritten\",\"Upgrade U\",\"Violet\"]\n",
    "\n",
    "positive_artists_to_scrape += [\"Spice Girls\",\"Nina Sublatti\",\"Madonna\",\"Gwen Stefani\",\"The Pussycat Dolls\",\"Jody Watley\",\n",
    "                     \"The Pussycat Dolls\",\"Vanessa Carlton\",\"Baha Men\",\"Selena Gomez\",\"Robyn\",\"Kelly Clarkson\",\n",
    "                     \"Alessia Cara\",\"Gwen Stefani\",\"Kesha\",\"John Lennon\",\"Cher\",\"Britney Spears\",\"Alicia Keys\",\n",
    "                     \"Amanda Lear\",\"Fifth Harmony\",\"Yoko Ono\",\"Jax Jones\",\"Lesley Gore\",\"Alanis Morissette\"]\n",
    "\n",
    "positive_titles_to_scrape += [\"Wannabe\",\"Warrior\",\"What It Feels Like for a Girl\",\"What You Waiting For?\",\n",
    "                     \"Whatcha Think About That\",\"When a Man Loves a Woman\",\"When I Grow Up\",\n",
    "                     \"White Houses\",\"Who Let the Dogs Out?\",\"Who Says\",\"Who's That Girl\",\"Whole Lotta Woman\",\n",
    "                     \"Wild Things\",\"Wind It Up\",\"Woman\",\"Woman Is the Nigger of the World\",\"Woman's World\",\n",
    "                     \"Womanizer\",\"A Woman's Worth\",\"Women\", \"Worth It\",\"Yang Yang\",\"You Don't Know Me\",\"You Don't Own Me\",\n",
    "                     \"You Oughta Know\"]\n",
    "#-----------------------------------------------------------------------------"
   ]
  },
  {
   "cell_type": "code",
   "execution_count": 31,
   "metadata": {},
   "outputs": [
    {
     "name": "stderr",
     "output_type": "stream",
     "text": [
      "100%|████████████████████████████████████████████████████████████████████████████████| 224/224 [00:54<00:00,  4.11it/s]\n"
     ]
    },
    {
     "name": "stdout",
     "output_type": "stream",
     "text": [
      "[['Shane McAnally', 'Female'], ['Mary Chapin Carpenter', 'Girls with Guitars'], ['K.Michelle', \"Love 'Em All\"], ['Cicely Hamilton', 'The March of the Women'], ['Beyonce', 'Me Myself and I'], ['Doubleclicks', 'Nothing to Prove'], ['Lauryn Hill', 'A Rose Is Still a Rose'], ['G.R.L', 'Ugly Heart'], ['Amanda Lear', 'Women']]\n",
      "Count of not found lyrics : 9\n"
     ]
    }
   ],
   "source": [
    "positive_tokens, positive_lyrics = create_BOW_lyrics_dataframe(positive_artists_to_scrape, positive_titles_to_scrape, positive_csv)"
   ]
  },
  {
   "cell_type": "markdown",
   "metadata": {},
   "source": [
    "### 4.3.2. From the user defined sexist songs"
   ]
  },
  {
   "cell_type": "code",
   "execution_count": 32,
   "metadata": {},
   "outputs": [],
   "source": [
    "sexist_artists_to_scrape = [\"Foreigner\",\n",
    "                     \"Cyndi Lauper\",\n",
    "                     \"Ray J\",\n",
    "                     \"Adina Howard\",\n",
    "                     \"Cassie\",\n",
    "                    \"Tone-Loc\",\n",
    "                    \"George Michael\",\n",
    "                     \"Donna Summer\",\n",
    "                     \"Prince\", \n",
    "                       \"Johnny Gill\",\n",
    "                       \"Juvenile\",\n",
    "                       \"Roberta Flack\",\n",
    "                       \"Sylvia\",\n",
    "                       \"Def Leppard\",\n",
    "                       \"R. Kelly\",\n",
    "                       \"Poison\",\n",
    "                       \"Marvin Gaye\",\n",
    "                       \"Donna Summer\",\n",
    "                       \"Labelle\",\n",
    "                       \"Peter Gabriel\",\n",
    "                       \"Missy Elliott\",\n",
    "                       \"The Pointer Sisters\",\n",
    "                       \"Heart\",\n",
    "                       \"Usher\",\n",
    "                       \"Karyn White\",\n",
    "                       \"Akon\",\n",
    "                       \"R. Kelly\",\n",
    "                       \"Bell Biv Devoe\",\n",
    "                       \"Silk\",\n",
    "                       \"Gregory Abbott\",\n",
    "                       \"Starland Vocal Band\",\n",
    "                       \"50 Cent\" ,\n",
    "                        \"Monica\",\n",
    "                        \"Anita Ward\",\n",
    "                        \"Nelly Furtado\",\n",
    "                        \"Toni Braxton\",\n",
    "                        \"Color Me Badd\",\n",
    "                        \"Donna Summer\",\n",
    "                        \"Lil Wayne\",\n",
    "                        \"The Rolling Stones\",\n",
    "                        \"Rod Stewart\",\n",
    "                        \"Exile\",\n",
    "                        \"Madonna\",\n",
    "                        \" Captain & Tennille\",\n",
    "                        \"Donna Summer\",\n",
    "                        \"Marvin Gaye\",\n",
    "                        \"Next\",\n",
    "                        \"Boyz II Men\",\n",
    "                        \"Rod Stewart\",\n",
    "                        \"Olivia Newton-John\",\n",
    "                        \"Lil Wayne\",\n",
    "                        \"The Dead Exs\",\n",
    "                        \"Major Lazer\",\n",
    "                        \"Young Money\",\n",
    "                        \"Enrique Iglesias\",\n",
    "                        \"Robin Thicke\",\n",
    "                        \"Kiss\",\n",
    "                        \"Britney Spears\",\n",
    "                        \"Lil Wayne\",\n",
    "                        \"Dr. Dre\",\n",
    "                        \"David Guetta\",\n",
    "                        \"Nicki Minaj\",\n",
    "                        \"Whitesnake\",\n",
    "                        \"Anal Cunt\",\n",
    "                        \"Chris Brown\",\n",
    "                        \"Prince\",\n",
    "                        \"Falco\",\n",
    "                        \"The Mentors\",\n",
    "                        \"The Prodigy\",\n",
    "                        \"Eminem\",\n",
    "                        \"Eminem\",\n",
    "                        \"Dierks Bentley\",\n",
    "                        \"Nickelback\",\n",
    "                        \"Young Money\",\n",
    "                        \"Van Halen\",\n",
    "                        \"Robert Hazard\",\n",
    "                        \"Demi Lovato\",\n",
    "                        \"Bon Jovi\",\n",
    "                        \"Alannah Myles\",\n",
    "                        \"Prince\",\n",
    "                        \"Manika\",\n",
    "                        \"Christina Aguilera\",\n",
    "                        \"Rihanna\",\n",
    "                        \"Maroon 5\",\n",
    "                        \"Fetty Wap\",\n",
    "                        \"Akon\",\n",
    "                        \"Raelynn\",\n",
    "                        \"Sir Mix A Lot\",\n",
    "                        \"Notorious BIG\",\n",
    "                        \"Tyler Farr\",\n",
    "                        \"Usher\",\n",
    "                        \"Syd\",\n",
    "                        \"The Citrus Cloud\",\n",
    "                        \"Ro James\",\n",
    "                        \"SiR\",\n",
    "                        \"Miguel\",\n",
    "                        \"Charlie Puth\",\n",
    "                        \"Miguel\",\n",
    "                        \"Nao\",\n",
    "                        \"Harry Styles\",\n",
    "                        \"Lana Del Rey\",\n",
    "                        \"Lana Del Rey\",\n",
    "                        \"Shaggy\",\n",
    "                        \"The Crystals\",\n",
    "                        \"One Direction\",\n",
    "                        \"Beatles\",\n",
    "                        \"The Weeknd\",\n",
    "                        \"Alex Gaudino\",\n",
    "                        \"Bob Sinclar\",\n",
    "                        \"Vleger\",\n",
    "                        \"Sasha Lopez\",\n",
    "                        \"David Guetta\",\n",
    "                        \"Pitbull\",\n",
    "                        \"Eric Prydz\",\n",
    "                        \"Madonna\",\n",
    "                        \"Fedde Le Grand\",\n",
    "                        \"Black Eyed Peas\",\n",
    "                        \"Eminem\",\n",
    "                        \"Frank Loesser\",\n",
    "                        \"Jason Derulo\",\n",
    "                        \"YG\",\n",
    "                        \"Tyler The Creator\",\n",
    "                        \"Dr. Dre\",\n",
    "                        \"Outkast\",\n",
    "                        \"Eminem\",\n",
    "                        \"Waka Flocka Flame\",\n",
    "                        \"Lil Wayne\",\n",
    "                        \"Ying Yang Twins\",\n",
    "                        \"Common\",\n",
    "                        \"Ghostface Killah\",\n",
    "                        \"Eminem\",\n",
    "                        \"Eminem\",\n",
    "                        \"Eminem\",\n",
    "                        \"Eminem\",\n",
    "                        \"Snoop Dog\",\n",
    "                        \"Eminem\",\n",
    "                        \"Jeremih\",\n",
    "                        \"Chris Brown\",\n",
    "                        \"Timbaland\",\n",
    "                        \"Milow\",\n",
    "                        \"Chris Brown\",\n",
    "                        \"Akon\",\n",
    "                        \"Akon\",\n",
    "                        \"Pitbull\",\n",
    "                        \"Pitbull\",\n",
    "                        \"Rocko\",\n",
    "                        \"Rocko\",\n",
    "                        \"Asap Rocky\",\n",
    "                        \"Benny Benassi\"]\n",
    "\n",
    "\n",
    "sexist_titles_to_scrape = [\"Urgent\", \n",
    "                    \"She bop\",\n",
    "                    \"Sexy Can I\",\n",
    "                    \"Freak Like Me\",\n",
    "                    \"Me & U\", \n",
    "                    \"Wild Thing\", \n",
    "                    \"I Want Your Sex\",\n",
    "                    \"Dim All The Lights\",\n",
    "                    \"Raspberry Beret\",\n",
    "                    \"Rub you the Right Way\",\n",
    "                    \"Slow Motion\",\n",
    "                    \"Feel Like Makin' Love\",\n",
    "                    \"Pillow Talk\",\n",
    "                    \"Pour Some Sugar on Me\",\n",
    "                    \"Bump N' Grind\",\n",
    "                    \"Unskinny Bop\",\n",
    "                    \"Sexual Healing\",\n",
    "                    \"Love To Love You Baby\",\n",
    "                    \"Lady Marmalade\",\n",
    "                    \"Slegehammer\",\n",
    "                    \"Work It\",\n",
    "                    \"Slow Hand\",\n",
    "                    \"All I Want To Do Is Make Love To You\",\n",
    "                    \"Love In This Club\",\n",
    "                    \"Romantic\",\n",
    "                    \"Smack That\",\n",
    "                    \"Ignition\",\n",
    "                    \"Do Me!\",\n",
    "                    \"Freak Me\",\n",
    "                    \"Shake You Down\",\n",
    "                    \"Afternoon Delight\",\n",
    "                    \"Candy Shop\",\n",
    "                    \"The First Night\",\n",
    "                    \"Ring My Bell\",\n",
    "                    \"Promiscuous\",\n",
    "                    \"You're Makin' Me High\",\n",
    "                    \"I Wanna Sex You Up\",\n",
    "                    \"Bad Girls\",\n",
    "                    \"Lollipop\",\n",
    "                    \"Honky Tonk Women\",\n",
    "                    \"Da Ya Think I'm Sexy\",\n",
    "                    \"Kiss You All Over\",\n",
    "                    \"Like A Virgin\",\n",
    "                    \"Do That To Me One More Time\",\n",
    "                    \"Hot Stuff\",\n",
    "                    \"Let's Get It On\",\n",
    "                    \"Too Close\",\n",
    "                    \"I'll Make Love To You\",\n",
    "                    \"Tonight's The Night\",\n",
    "                    \"Physical\",\n",
    "                    \"Love Me\",\n",
    "                    \"Shut Up and Love Me\",\n",
    "                    \"Bubble Butt\",\n",
    "                    \"Lookin' Ass\",\n",
    "                    \"Tonight (I'm Fuckin' You)\",\n",
    "                    \"Blurred Lines\",\n",
    "                    \"I Just Wanna\",\n",
    "                    \"I'm a Slave 4 U\",\n",
    "                    \"How to Love\",\n",
    "                    \"Bitches Ain't Shit\",\n",
    "                    \"Hey Mama\",\n",
    "                    \"Anaconda\",\n",
    "                    \"Slow An' Easy\",\n",
    "                    \"Woman: Nature's Punching Bag\",\n",
    "                    \"Loyal\",\n",
    "                    \"Cream\",\n",
    "                    \"Jeanny\",\n",
    "                    \"Golden Shower\",\n",
    "                    \"Smack My Bitch Up\",\n",
    "                    \"Superman\",\n",
    "                    \"Love the Way You Lie\",\n",
    "                    \"Different for Girls\",\n",
    "                    \"Something in Your Mouth\",\n",
    "                    \"Every Girl\",\n",
    "                    \"Drop Dead Legs\",\n",
    "                    \"Girls Just Want to Have Fun\",\n",
    "                    \"Body Say\",\n",
    "                    \"Let's Make It Baby\",\n",
    "                    \"Black Velvet\",\n",
    "                    \"Kiss\",\n",
    "                    \"I Might Go Lesbian\",\n",
    "                    \"Dirrty \",\n",
    "                    \"S&M\",\n",
    "                    \"Animals\",\n",
    "                    \"679\",\n",
    "                    \"I Wanna Fuck You\",\n",
    "                    \"God Made Girls\",\n",
    "                    \"Baby Got Back\",\n",
    "                    \"Nasty Girl\",\n",
    "                    \"Redneck Crazy\",\n",
    "                    \"Love In This Club\",\n",
    "                    \"Smile More\",\n",
    "                    \"Lost Wolves\",\n",
    "                    \"Burn Slow\",\n",
    "                    \"Ooh Nah Nah\",\n",
    "                    \"Pussy Is Mine\",\n",
    "                    \"Suffer\",\n",
    "                    \"...goingtohell\",\n",
    "                    \"Bad Blood\",\n",
    "                    \"Feels Like\",\n",
    "                    \"Love\",\n",
    "                    \"Lust For Life\",\n",
    "                    \"It Wasn't Me\",\n",
    "                    \"He Hit Me\",\n",
    "                    \"What Makes You Beautiful\",\n",
    "                    \"Run For Your Life\",\n",
    "                    \"High For This\",\n",
    "                    \"Destination Calabria\",\n",
    "                    \"What I Want\",\n",
    "                    \"After Night In Ibiza\",\n",
    "                    \"Beautiful Life\",\n",
    "                    \"Play Hard\",\n",
    "                    \"International Love\",\n",
    "                    \"Call On Me\",\n",
    "                    \"Hung Up\",\n",
    "                    \"Put Your Hands Up For Detroit\",\n",
    "                    \"My Humps\",\n",
    "                    \"Kill You\",\n",
    "                    \"Baby It's Cold Outside\",\n",
    "                    \"Wiggle\",\n",
    "                    \"Toot it and Boot it\",\n",
    "                    \"Translyvania\",\n",
    "                    \"Bitches Ain't Shit\",\n",
    "                    \"Hootie Hoo\",\n",
    "                    \"Shake That\",\n",
    "                    \"No Hands\",\n",
    "                    \"Alphabet Bitches\",\n",
    "                    \"Wait Til Ya See My Dick\",\n",
    "                    \"Heidi Hoe\",\n",
    "                    \"Wildflower\",\n",
    "                    \"Ass Like That\",\n",
    "                    \"Guilty Conscience\",\n",
    "                    \"Cleaning Out My Closet\",\n",
    "                    \"The Warning\",\n",
    "                    \"Step Yo Game Up\",\n",
    "                    \"Without Me\",\n",
    "                    \"Birthday Sex\",\n",
    "                    \"Wet The Bed\",\n",
    "                    \"Carry Out\",\n",
    "                    \"Ayo Technology\",\n",
    "                    \"Ayo\",\n",
    "                    \"Sexy Bitch\",\n",
    "                    \"I Just Had Sex\",\n",
    "                    \"Hotel Room\",\n",
    "                    \"Hey Baby\",\n",
    "                    \"You Don't Even Know It\",\n",
    "                    \"U.O.E.N.O.\",\n",
    "                    \"Fuckin' Problems\",\n",
    "                    \"Satisfaction\"]"
   ]
  },
  {
   "cell_type": "code",
   "execution_count": 33,
   "metadata": {},
   "outputs": [
    {
     "name": "stderr",
     "output_type": "stream",
     "text": [
      "100%|████████████████████████████████████████████████████████████████████████████████| 149/149 [00:42<00:00,  4.39it/s]\n"
     ]
    },
    {
     "name": "stdout",
     "output_type": "stream",
     "text": [
      "[['Peter Gabriel', 'Slegehammer'], ['The Dead Exs', 'Shut Up and Love Me'], ['The Citrus Cloud', 'Lost Wolves'], ['SiR', 'Ooh Nah Nah'], ['Harry Styles', 'Feels Like'], ['Vleger', 'After Night In Ibiza'], ['Tyler The Creator', 'Translyvania']]\n",
      "Count of not found lyrics : 7\n"
     ]
    }
   ],
   "source": [
    "sexist_tokens, sexist_lyrics = create_BOW_lyrics_dataframe(sexist_artists_to_scrape, sexist_titles_to_scrape, sexist_csv)"
   ]
  },
  {
   "cell_type": "markdown",
   "metadata": {},
   "source": [
    "### 4.3.3. From the user-defined \"neutral\" songs"
   ]
  },
  {
   "cell_type": "code",
   "execution_count": null,
   "metadata": {},
   "outputs": [],
   "source": [
    "neutral_titles_to_scrape =  [\"these arms of mine\", \"she\", \"green garden\", \"hotline bling\", \"three little birds\", \"masterblaster\", \"inner city blues\", \"move on up\", \"use me\", \"papa was a rolling stone\", \"richman poorman\", \"Is It Because I'm Black\", \"feeling good\", \"weird fishes\", \"all i need\", \"no room for doubt\", \"close to you\", \"how deep is your love\", \"if i ain't got you\", \"better in tune with the infinite\", \"comfortably numb\", \"shine on your crazy diamond\", \"wish you were here\", \"stairway to heaven\", \"space oddity\", \"california dreamin'\", \"hotel california\", \"an other brick in the wall\", \"lose yourself to dance\", \"don't stop 'til you get enough\", \"mr. tambourine man\", \"blackbird\", \"breathe\" , \"time\", \"school\", \"sultans of swing\", \"dreams\", \"brothers in arms\", \"the sound of silence\", \"a horse with no name\", \"riders on the storm\", \"the look\", \"bohemian rhapsody\",\"stuck in the middle with you\", \"superstition\", \"blame it on the boogie\", \"september\", \"celebration\", \"virtual insanity\", \"englishman in new york\", \"message in a bottle\", \"wonderwall\", \"creep\", \"no surprises\", \"zombie\", \"cold little heart\",\"wasting my young years\", \"three little birds\", \"overcome\", \"redbone\", \"It Runs Through Me\", \"i need a dollar\", \"crazy\", \"this world\", \"i won't go for more\", \"Didn't Cha Know\", \"never gonna catch me\", \"them changes\", \"show you the way\", \"lovely day\", \"i wish\", \"sir duke\", \"living for the city\", \"don't let me down\", \"better together\", \"let it be\", \"river\", \"deathless\", \"let it happen\", \"kids\", \"parachute\", \"life on mars\", \"changes\", \"friendly fire\", \"deat meat\", \"no one knows\", \"lonely boy\", \"clint eastwood\", \"feel good inc.\", \"bittersweet symphony\", \"come together\", \"don't worry be happy\", \"stand by me\", \"happy\", \"get lucky\", \"let's grovve\", \"boogie wonderland\", \"i can't go for that (no can do)\", \"owner of a lonely heart\", \"the logical song\", \"lady d'arbanville\", \"unstoppable\", \"the lung\", \"jekyll\", \"breathing underwater\", \"walking on the moon\", \"change\", \"that's the spirit\", \"wild world\", \"father and son\", \"piano man\", \"hallelujah\", \"the curse\", \"taro\", \"breezeblocks\", \"in cold blood\", \"i like that\", \"tightrope\", \"come over\", \"fitzpleasure\", \"peace of mind\", \"reason\", \"video killed the radio star\", \"once in a lifetime\", \"the block\", \"afro blue\", \"i try\", \"you don't know my name\", \"disco yes\", \"i will survive\", \"the bare necessities\", \"what a wonderful world\", \"when the saints go marching in\", \"everybody need somebody\", \"hit the road jack\", \"in the summertime\", \"born to be wild\", \"all along the watchower\", \"piece of my heart\", \"son of a preacher man\", \"mercy\", \"lumberjack soul\", \"tum rakak\", \"my world\", \"shoes\", \"people make the workd go round\", \"gold\", \"chicken in the corn\",\"skin teeth\", \"welcome to machine\", \"us and them\", \"brain damage\", \"have a cigar\", \"money\", \"learning to fly\", \"high hopes\", \"lost for words\", \"simple man\", \"free bird\", \"sweet home alabama\", \"smoke on tha water\", \"lazy\", \"child in time\", \"perfect strangers\", \"riverside\", \"just so\", \"blue lights\", \"jammin\", \"so much trouble in the world\", \"satisfy my soul\", \"crazy baldhead\", \"pimper's paradise\", \"what's going on\", \"have a talk with god\", \"don't you worry 'bout a thing\", \"ordinary pain\", \"knocks me off my feet\", \"summer soft\", \"too young to die\", \"strange fruit\", \"cry me a river\", \"I put a spell on you\", \"clocks\", \"paradise\", \"viva la vida\", \"titanium\", \"hello\", \"losing my religion\", \"in the air tonight\", \"proud mary\", \"time of the season\", \"a whiter shade of pale\", \"money for nothing\", \"walk of life\", \"brothers in arms\", \"private investigations\", \"telegraph road\", \"preacheman\", \"same to you\", \"your heart is as black as night\", \"who will comfort me\"]\n",
    "neutral_artists_to_scrape = [\"otis redding\", \"laura mvula\", \"laura mvula\", \"drake\", \"bob marley\", \"stevie wonder\",                \"marvin gaye\", \"curtis mayfield\", \"bill withers\", \"the temptations\",    \"clinton fearon\", \"Tiken Jah Fakoly\", \"nina simone\", \"radiohead\", \"radiohead\", \"lianne la havas\", \"carpenters\",                  \"bee gees\",              \"alicia keys\",        \"ibeyi\",                            \"pink floyd\",       \"pink floyd\",                  \"pink floyd\",         \"led zeppelin\",       \"david bowie\",  \"the mamas and the papas\", \"eagles\", \"pink floyd\",                       \"daft punk\",              \"michael jackson\",                \"bob dylan\", \"the beatles\", \"pink floyd\", \"pink floyd\", \"supertramp\", \"dire straits\", \"fleetwood mac\", \"dire straits\", \"paul simon\", \"america\", \"the doors\",                             \"metronomy\", \"queen\",           \"stealers wheel\",               \"stevie wonder\", \"the jackson five\", \"earth wind & fire\", \"kool & the gang\", \"jamiroquai\", \"sting\", \"the police\", \"oasis\", \"radiohead\", \"radiohead\",                             \"the cranberries\", \"Michael Kiwanuka\", \"london grammar\", \"bob marley\", \"laura mvula\", \"childish gambino\", \"tom misch\", \"aloe blacc\", \"gnarls barkley\", \"selah sue\", \"selah sue\",            \"erykah badu\", \"flying lotus\",             \"thundercat\", \"thundercat\", \"bill withers\", \"stevie wonder\", \"stevie wonder\", \"stevie wonder\", \"the beatles\", \"jack johnson\",          \"the beatles\", \"ibeyi\", \"ibeyi\", \"tame impala\", \"mgmt\", \"sean lennon\", \"davie bowie\", \"davie bowie\", \"sean lennon\", \"sean lennon\", \"queens of the stone age\", \"the black keys\", \"gorillaz\", \"gorillaz\", \"the verve\", \"the beatles\",          \"bobby mcferrin\",      \"ben e king\", \"pharrell williams\", \"daft punk\", \"earth wind & fire\", \"earth wind & fire\", \"hall & oates\", \"yes\",                        \"supertramp\", \"cat stevens\", \"lianne la havas\", \"hiatus kaiyote\", \"hiatus kaiyote\", \"hiatus kaiyote\", \"the police\", \"sandra nkake\", \"lady bazaar\", \"cat stevens\", \"cat stevens\", \"billy joel\", \"jeff buckley\", \"agnes obel\", \"alt j\", \"alt j\", \"alt j\",                    \"janelle monae\", \"janelle monae\", \"the internet\", \"alt j\", \"selah sue\", \"selah sue\", \"the bugges\", \"talking heads\",                       \"akua naru\", \"erykah badu\", \"macy gray\", \"alicia keys\", \"tom misch\", \"gloria gaynor\", \"louis armstrong\", \"louis armstrong\", \"louis armstrong\",                                  \"blues brothers\", \"ray charles\", \"mungo jerry\", \"steppenwolf\"                          , \"the jimi hendrix experience\", \"janis joplin\", \"dusty springfield\", \"duffy\", \"miles bonny\", \"deluxe\",            \"deluxe\", \"deluxe\", \"michael jackson\", \"andreya triana\", \"brushy one string\", \"brushy one string\", \"pink floyd\",\"pink floyd\",         \"pink floyd\", \"pink floyd\", \"pink floyd\", \"pink floyd\", \"pink floyd\", \"pink floyd\",            \"lynyrd skynyrd\", \"lynyrd skynyrd\", \"lynyrd skynyrd\", \"deep purple\", \"deep purple\", \"deep purple\", \"deep purple\", \"agnes obel\", \"agnes obel\", \"jorja smith\", \"bob marley\", \"bob marley\", \"bob marley\",                  \"bob marley\", \"bob marley\", \"marvin gaye\", \"stevie wonder\", \"stevie wonder\",                                       \"stevie wonder\", \"stevie wonder\", \"stevie wonder\", \"jamiroquai\", \"billie holiday\", \"Ella Fitzgerald\", \"nina simone\", \"coldplay\", \"coldplay\", \"coldplay\",                      \"david guetta\", \"erykah badu\", \"REM\", \"phil collins\", \"tina turner\", \"Zombies\",                      \"procol harum\", \"dire straits\" ,               \"dire straits\", \"dire straits\", \"dire straits\", \"dire straits\",                 \"melody gardot\", \"melody gardot\", \"melody gardot\", \"melody gardot\"]"
   ]
  },
  {
   "cell_type": "code",
   "execution_count": null,
   "metadata": {},
   "outputs": [],
   "source": [
    "neutral_tokens, neutral_lyrics = create_BOW_lyrics_dataframe(neutral_artists_to_scrape, neautral_titles_to_scrape, neutral_csv)"
   ]
  },
  {
   "cell_type": "code",
   "execution_count": null,
   "metadata": {},
   "outputs": [],
   "source": [
    "positive_lyrics = pd.read_csv(os.path.join(data_dir + positive_csv))\n",
    "neutral_lyrics = pd.read_csv(os.path.join(data_dir + neutral_csv))\n",
    "sexist_lyrics = pd.read_csv(os.path.join(data_dir + sexist_csv))"
   ]
  },
  {
   "cell_type": "markdown",
   "metadata": {},
   "source": [
    "## 4.4. Manually find keywords for modeling the image of women"
   ]
  },
  {
   "cell_type": "markdown",
   "metadata": {},
   "source": [
    "### 4.4.1 Positive keywords"
   ]
  },
  {
   "cell_type": "code",
   "execution_count": null,
   "metadata": {},
   "outputs": [],
   "source": [
    "positive_words = [\"woman\",'women','pretti','beauti','mama','ladi','better','live','life','worth',\n",
    "                          'friend','strong','stronger','power','believ','learn','fire','star','best','fight',\n",
    "                          'free','respect','human','queen','grow','dream','truth','liberti','boss','shine',\n",
    "                          'sister','flawless','perfect','confid','independ','superwoman']"
   ]
  },
  {
   "cell_type": "markdown",
   "metadata": {},
   "source": [
    "### 4.4.2 Negative keywords"
   ]
  },
  {
   "cell_type": "code",
   "execution_count": null,
   "metadata": {},
   "outputs": [],
   "source": [
    "negative_words = ['bitch','bubbl','fuck','nigga','butt','feel','littl','hot','ass',\n",
    "                   'bodi','shit','hoe','man','sex','shake','bad','hard','dick','touch',\n",
    "                   'fuckin','pussi','lick','sexi','damn','money']"
   ]
  },
  {
   "cell_type": "markdown",
   "metadata": {},
   "source": [
    "### 4.4.3 Create a feature list from the identified keywords"
   ]
  },
  {
   "cell_type": "code",
   "execution_count": null,
   "metadata": {},
   "outputs": [],
   "source": [
    "feature_list = ['Title','BOW']\n",
    "feature_list = feature_list + positive_words + negative_words"
   ]
  },
  {
   "cell_type": "markdown",
   "metadata": {},
   "source": [
    "## 4.5 Count the occurences of each keyword in the scraped BOW"
   ]
  },
  {
   "cell_type": "markdown",
   "metadata": {},
   "source": []
  },
  {
   "cell_type": "markdown",
   "metadata": {},
   "source": [
    "# TODO: add this section with final code"
   ]
  },
  {
   "cell_type": "markdown",
   "metadata": {},
   "source": [
    "## 4.X Degrading terms : statistics and insights into the bag of words"
   ]
  },
  {
   "cell_type": "code",
   "execution_count": null,
   "metadata": {},
   "outputs": [],
   "source": [
    "# From https://www.telegraph.co.uk/women/life/hag-harridan-crone-16-words-use-describe-older-women/\n",
    "\n",
    "degrading_terms = [\"battleaxe\",\"bint\",\"cougar\",\"crone\",\"frump\",\n",
    "                   \"hag\",\"harridan\",\"hormonal\",\"matronly\",\"milf\",\n",
    "                   \"mutton\",\"bag\",\"shrill\",\"spinster\",\"wench\",\"witch\"]\n",
    "\n",
    "# From https://en.wikipedia.org/wiki/Category:Misogynistic_slurs\n",
    "\n",
    "degrading_terms = degrading_terms + [\"becky\",\"bitch\",\"boseulachi\",\"cock\",\"crone\",\"cunt\",\"doenjang\",\n",
    "                                     \"poop\",\"dyke\",\"hag\",\"harpy\",\"slut\",\"slut-shaming\",\"squaw\",\n",
    "                                     \"termagant\",\"tranny\",\"twat\",\"virago\",\"zhyd\"]\n",
    "\n",
    "# From https://en.wikipedia.org/wiki/Category:Slang_terms_for_women\n",
    "\n",
    "degrading_terms = degrading_terms + [\"yummy\",\"trixie\",\"butch\",\"skintern\",\"kitten\",\"ratchet\",\"moll\"]\n",
    "\n",
    "# From https://www.macmillandictionary.com/thesaurus-category/british/insulting-words-for-a-woman\n",
    "\n",
    "degrading_terms = degrading_terms + [\"witch\",\"virago\",\"frump\",\"harridan\",\"bird\",\"candy\",\"wench\",\"girly\"]\n",
    "\n",
    "# Inspiration from https://sites.google.com/site/hiphopmusiclyrics/top-10-degrading-songs-towards-women\n",
    "\n",
    "degrading_terms = degrading_terms + [\"vagina\",\"ass\",\"shit\",\"hole\",\"dick\",\"pussy\"]\n",
    "\n",
    "# From http://onlineslangdictionary.com/lists/most-vulgar-words/\n",
    "\n",
    "degrading_terms = degrading_terms + [\"cock-juggling\",\"sucker\",\"cumdump\",\"assmucus\",\"fucktoy\",\"cuntee\",\n",
    "                                     \"gangbang\",\"fugly\",\"fubugly\",\"puppet\",\"fuck-bitch\"]\n",
    "\n",
    "# From https://en.wiktionary.org/wiki/Appendix:English_sexual_slurs\n",
    "\n",
    "degrading_terms = degrading_terms + [\"ballbreaker\",\"ballbuster\",\"beef\",\"clientapollas\",\"changa\",\"crow\",\n",
    "                                     \"dog\",\"dyke\",\"fag\",\"fish\",\"minger\",\"muffdiver\",\"munter\",\"pillow-biter\",\n",
    "                                     \"skank\",\"streetwalker\",\"swallower\",\"tabby\",\"teaser\",\"thais\",\n",
    "                                     \"thespian\",\"third-legger\",\"thot\",\"tickle-tail\",\"whore\"]\n",
    "\n",
    "# From https://ht.ac.uk/category/?type=search&word=women#id=39814\n",
    "\n",
    "degrading_terms = degrading_terms + [\"carline\",\"female\",\"rib\",\"biddy\",\"judy\",\"heifer\",\"hay-bag\",\"bint\",\"tart\",\n",
    "                                     \"babe\",\"muff\",\"lubra\"]\n",
    "\n",
    "# From https://www.huffingtonpost.ca/2013/09/10/offensive-words_n_3581599.html\n",
    "\n",
    "degrading_terms = degrading_terms + [\"buttaface\",\"fashionista\",\"mompreneut\",\"wifey\",\"sidebook\",\"booty\",\"feisty\",\n",
    "                                     \"shrill\",\"sweetie\",\"honey-bun\"]\n",
    "\n",
    "# From https://www.telegraph.co.uk/women/life/ambitious-frigid-and-frumpy-25-words-we-only-use-to-describe-wom/\n",
    "\n",
    "degrading_terms = degrading_terms + [\"bombshell\",\"bossy\",\"bridezilla\",\"bubbly\",\"silly\",\"ditsy\",\"frigid\",\"hormonal\",\n",
    "                                    \"high-maintenance\",\"hysterical\",\"sassy\",\"shrill\",\"whinging\"]\n",
    "\n",
    "# From http://onlineslangdictionary.com/thesaurus/words%2Bmeaning%2Bwoman%2C%2Bwomen%2C%2Bfemale.html\n",
    "\n",
    "degrading_terms = degrading_terms + [\"candy\",\"beast\",\"beav\",\"biddie\",\"biddy\",\"bimbo\",\"bimho\",\"bint\",\"bisnotch\",\n",
    "                                     \"breezie\",\"breezy\",\"bushpig\",\"butterface\",\"butterhead\",\"chank\",\"chica\",\"chicadee\",\"hoochie\",\n",
    "                                     \"cow\",\"crockadillapig\",\"cronk\",\"ditz\",\"doll\",\"dudette\",\"fem-fetale\",\"filly\",\n",
    "                                     \"flange\",\"flipper\",\"floozie\",\"floozy\",\"foxy\",\"gilf\",\"heina\",\"gyal\",\"hoe\",\"hogbeast\",\"homegirl\",\n",
    "                                     \"hooch\",\"girl\",\"hoochie\",\"hoss\",\"hunny\",\"hussy\",\"huzzie\",\"savage\",\"jumper\",\"jumpoff\",\"karena\",\"lass\",\n",
    "                                     \"lolita\",\"lumberjack\",\"ma'am\",\"mami\",\"manizer\",\"manster\",\"mif\",\"millihelen\",\"minger\",\"mole\",\"moll\",\n",
    "                                     \"mudpout\",\"poon\",\"poontang\",\"prostitot\",\"pyt\",\"queenpin\",\"ragamuffin\",\"rasp\",\"rat\",\"rub\",\"sauerkraut\",\"scud\",\n",
    "                                     \"kitten\",\"mama\",\"shwaty\",\"sheila\",\"sista\",\"skank\",\"sorostitute\",\"split-tail\",\"toots\",\"tramp\",\"whooty\",\"womyn\",\"yak\"]\n",
    "\n",
    "# From https://www.thesaurus.com/browse/slut\n",
    "\n",
    "degrading_terms = degrading_terms + [\"harlot\",\"prostitue\",\"hooker\",\"tart\",\"floozy\",\"vamp\",\"escort\",\"strumpet\",\"hustler\"]\n",
    "\n",
    "degrading_terms = list(set(degrading_terms))"
   ]
  },
  {
   "cell_type": "code",
   "execution_count": null,
   "metadata": {},
   "outputs": [],
   "source": [
    "negative_score = []\n",
    "\n",
    "for i in range(0,len(bow)):\n",
    "    neg_song=0\n",
    "    for j in range(2,len(bow[i])):\n",
    "        word = bow[i][j]\n",
    "        key = word[ 0 : word.find(':') ]\n",
    "        if(key in degrading_terms):\n",
    "            occurence = word[word.find(':')+1:]\n",
    "            neg_song += int(occurence)\n",
    "    negative_score = negative_score + [bow[i][0],neg_song]\n",
    "    \n",
    "\n",
    "dist = []\n",
    "for i in range(1,len(negative_score),2):\n",
    "    dist.append(negative_score[i])\n",
    "\n",
    "pd.Series(dist).plot(kind='hist', bins = 100)\n",
    "\n",
    "for i in range(0,len(words)):\n",
    "    if(words[i] in degrading_terms):\n",
    "        print(words[i])"
   ]
  },
  {
   "cell_type": "markdown",
   "metadata": {},
   "source": [
    "# Result analysis"
   ]
  },
  {
   "cell_type": "code",
   "execution_count": 23,
   "metadata": {},
   "outputs": [],
   "source": [
    "df = year_artist_name_title_genre"
   ]
  },
  {
   "cell_type": "code",
   "execution_count": 38,
   "metadata": {},
   "outputs": [],
   "source": [
    "df['labels'] = [random.randint(-1,1) for i in range(len(df['title']))]"
   ]
  },
  {
   "cell_type": "code",
   "execution_count": 39,
   "metadata": {},
   "outputs": [],
   "source": [
    "def label_lyrics (row):\n",
    "    if row['labels'] == 1 :\n",
    "        return 'feminist'\n",
    "    elif row['labels'] == 0:\n",
    "        return 'neutral'\n",
    "    else :\n",
    "        return 'sexist'"
   ]
  },
  {
   "cell_type": "code",
   "execution_count": 40,
   "metadata": {},
   "outputs": [],
   "source": [
    "df['category'] = df.apply(label_lyrics, axis=1)\n"
   ]
  },
  {
   "cell_type": "code",
   "execution_count": 41,
   "metadata": {},
   "outputs": [
    {
     "data": {
      "text/plain": [
       "([<matplotlib.patches.Wedge at 0x228b0932278>,\n",
       "  <matplotlib.patches.Wedge at 0x228b0932978>,\n",
       "  <matplotlib.patches.Wedge at 0x228b09280b8>],\n",
       " [Text(1.698365123442771, 2.945429664322885, 'sexist'),\n",
       "  Text(-3.3999958489165087, -0.005312941794665533, 'feminist'),\n",
       "  Text(1.702965666475536, -2.94277215203718, 'neutral')],\n",
       " [Text(0.9490863925121367, 1.6459754006510237, '33.4%'),\n",
       "  Text(-1.8999976802768719, -0.0029689968852542677, '33.3%'),\n",
       "  Text(0.951657284206917, -1.644490320256071, '33.3%')])"
      ]
     },
     "execution_count": 41,
     "metadata": {},
     "output_type": "execute_result"
    },
    {
     "data": {
      "image/png": "[encoded data removed]",
      "text/plain": [
       "<Figure size 432x288 with 1 Axes>"
      ]
     },
     "metadata": {},
     "output_type": "display_data"
    }
   ],
   "source": [
    "# first start with basic feminist, sexist and neutral proportion labels = ['Feminist','Neutral','Sexist']\n",
    "     \n",
    "plt.pie(df['category'].value_counts(), autopct='%1.1f%%', labels = df['category'].value_counts().index.tolist(), explode= [0.1]*len(df['labels'].value_counts()), radius = 3)"
   ]
  },
  {
   "cell_type": "code",
   "execution_count": 42,
   "metadata": {},
   "outputs": [
    {
     "data": {
      "text/plain": [
       "<matplotlib.axes._subplots.AxesSubplot at 0x228b0928e48>"
      ]
     },
     "execution_count": 42,
     "metadata": {},
     "output_type": "execute_result"
    },
    {
     "data": {
      "image/png": "[encoded data removed]",
      "text/plain": [
       "<Figure size 432x288 with 1 Axes>"
      ]
     },
     "metadata": {
      "needs_background": "light"
     },
     "output_type": "display_data"
    }
   ],
   "source": [
    "# then, the evolution of the feminist, sexist and neutral count per year\n",
    "df.groupby(['year','category']).size().unstack().plot()"
   ]
  },
  {
   "cell_type": "code",
   "execution_count": 43,
   "metadata": {},
   "outputs": [
    {
     "data": {
      "text/plain": [
       "Text(0.5, 0, 'x label')"
      ]
     },
     "execution_count": 43,
     "metadata": {},
     "output_type": "execute_result"
    },
    {
     "data": {
      "image/png": "[encoded data removed]",
      "text/plain": [
       "<Figure size 720x720 with 1 Axes>"
      ]
     },
     "metadata": {
      "needs_background": "light"
     },
     "output_type": "display_data"
    }
   ],
   "source": [
    "ax = df.loc[df['category'] == 'feminist'].groupby(['year','genre']).size().unstack().plot(figsize = (10,10), kind = 'area', stacked = True) #, use_index = False)\n",
    "ax.set_xlabel(\"x label\")"
   ]
  },
  {
   "cell_type": "code",
   "execution_count": 44,
   "metadata": {},
   "outputs": [
    {
     "data": {
      "text/plain": [
       "<matplotlib.axes._subplots.AxesSubplot at 0x228b0d22ac8>"
      ]
     },
     "execution_count": 44,
     "metadata": {},
     "output_type": "execute_result"
    },
    {
     "data": {
      "image/png": "[encoded data removed]",
      "text/plain": [
       "<Figure size 432x288 with 1 Axes>"
      ]
     },
     "metadata": {
      "needs_background": "light"
     },
     "output_type": "display_data"
    }
   ],
   "source": [
    "# Now cumulative sum (battle sexism/feminism)\n",
    "\n",
    "df.groupby(['year'])['labels'].sum().cumsum().plot()"
   ]
  },
  {
   "cell_type": "code",
   "execution_count": null,
   "metadata": {},
   "outputs": [],
   "source": [
    "(df.groupby(['year','category']).size().unstack()/df.groupby(['year','category']).size().unstack().sum(axis = 1)"
   ]
  },
  {
   "cell_type": "code",
   "execution_count": 53,
   "metadata": {},
   "outputs": [
    {
     "data": {
      "text/plain": [
       "<matplotlib.axes._subplots.AxesSubplot at 0x228b14402e8>"
      ]
     },
     "execution_count": 53,
     "metadata": {},
     "output_type": "execute_result"
    },
    {
     "data": {
      "image/png": "[encoded data removed]",
      "text/plain": [
       "<Figure size 432x288 with 1 Axes>"
      ]
     },
     "metadata": {
      "needs_background": "light"
     },
     "output_type": "display_data"
    }
   ],
   "source": [
    "# Proportions over time\n",
    "\n",
    "(df.groupby(['year','category']).size().unstack()/df.groupby(['year','category']).size().unstack().sum(axis = 1)).plot(kind = 'bar', stacked = True)"
   ]
  },
  {
   "cell_type": "code",
   "execution_count": null,
   "metadata": {},
   "outputs": [],
   "source": []
  },
  {
   "cell_type": "code",
   "execution_count": null,
   "metadata": {},
   "outputs": [],
   "source": []
  },
  {
   "cell_type": "code",
   "execution_count": null,
   "metadata": {},
   "outputs": [],
   "source": []
  }
 ],
 "metadata": {
  "kernelspec": {
   "display_name": "Python 3",
   "language": "python",
   "name": "python3"
  },
  "language_info": {
   "codemirror_mode": {
    "name": "ipython",
    "version": 3
   },
   "file_extension": ".py",
   "mimetype": "text/x-python",
   "name": "python",
   "nbconvert_exporter": "python",
   "pygments_lexer": "ipython3",
   "version": "3.6.7"
  }
 },
 "nbformat": 4,
 "nbformat_minor": 2
}
